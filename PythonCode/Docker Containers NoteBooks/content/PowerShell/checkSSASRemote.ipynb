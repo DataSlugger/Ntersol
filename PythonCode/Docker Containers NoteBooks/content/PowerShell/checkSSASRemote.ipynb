{
    "metadata": {
        "kernelspec": {
            "name": "powershell",
            "display_name": "PowerShell",
            "language": "powershell"
        },
        "language_info": {
            "name": "powershell",
            "codemirror_mode": "shell",
            "mimetype": "text/x-sh",
            "file_extension": ".ps1"
        },
        "extensions": {
            "azuredatastudio": {
                "version": 1,
                "views": []
            }
        }
    },
    "nbformat_minor": 2,
    "nbformat": 4,
    "cells": [
        {
            "cell_type": "markdown",
            "source": [
                "***\n",
                "# **Checking SSAS Instance Status on Remote Computer**"
            ],
            "metadata": {
                "azdata_cell_guid": "d605872d-29a2-483c-b5b1-3354504c893b"
            }
        },
        {
            "cell_type": "code",
            "source": [
                "#Local Variables\r\n",
                "$ServerName = 'SSASDB'\r\n",
                "$servicestatus = get-service -ComputerName $ServerName | Select-Object status, name | Where-Object { $_.Name -like \"*ssasdb*\" }\r\n",
                "$Message = \"The SSAS Service is down\"\r\n",
                "if ($servicestatus.status -eq \"Stopped\") {\r\n",
                "    Write-Host $Message\r\n",
                "}"
            ],
            "metadata": {
                "azdata_cell_guid": "8158b1d7-c23f-4db8-8dfd-fa4f8124312b"
            },
            "outputs": [],
            "execution_count": null
        }
    ]
}