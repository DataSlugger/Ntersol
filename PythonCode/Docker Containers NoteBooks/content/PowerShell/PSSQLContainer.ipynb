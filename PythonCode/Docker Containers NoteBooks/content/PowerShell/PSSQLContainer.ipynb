{
    "metadata": {
        "kernelspec": {
            "name": "powershell",
            "display_name": "PowerShell",
            "language": "powershell"
        },
        "language_info": {
            "name": "powershell",
            "codemirror_mode": "shell",
            "mimetype": "text/x-sh",
            "file_extension": ".ps1"
        },
        "extensions": {
            "azuredatastudio": {
                "version": 1,
                "views": []
            }
        }
    },
    "nbformat_minor": 2,
    "nbformat": 4,
    "cells": [
        {
            "cell_type": "markdown",
            "source": [
                "# **PowerShell&nbsp;NoteBooks**\r\n",
                "\r\n",
                "**Repository&nbsp;for&nbsp;PowerShell&nbsp;Jupyter&nbsp;Notebooks**\r\n",
                "\r\n",
                "  \r\n",
                "\r\n",
                "| RHEL Path                 | Ubuntu Path                   |\r\n",
                "| ------------------------- | ----------                    |\r\n",
                "| name: mssql/rhel/server   | name: mssql/server            |\r\n",
                "|                           |                               |"
            ],
            "metadata": {
                "azdata_cell_guid": "bd38763f-b7dc-434d-a853-95179c1028ec"
            },
            "attachments": {}
        },
        {
            "cell_type": "code",
            "execution_count": 1,
            "source": [
                "docker pull mcr.microsoft.com/mssql/server:2019-latest"
            ],
            "outputs": [
                {
                    "output_type": "stream",
                    "name": "stdout",
                    "text": []
                }
            ],
            "metadata": {
                "azdata_cell_guid": "93904ff8-817a-4cc3-806f-5a53ead01218"
            }
        },
        {
            "cell_type": "markdown",
            "source": [
                "### For SQL Server Enterprise Version Add --> \r\n",
                "```powershell\r\n",
                "-e \"MSSQL_PID=Enterprise\"\r\n",
                "```"
            ],
            "metadata": {}
        },
        {
            "cell_type": "code",
            "execution_count": 2,
            "source": [
                "docker run -e 'ACCEPT_EULA=Y' -e 'SA_PASSWORD=C0nta!ners2021' `\r\n",
                "-p 11433:1433 --name staging -h staging `\r\n",
                "-d mcr.microsoft.com/mssql/server:2019-latest"
            ],
            "outputs": [
                {
                    "output_type": "stream",
                    "name": "stdout",
                    "text": [
                        "2019-latest: Pulling from mssql/server\n",
                        "35807b77a593: Pulling fs layer\n",
                        "be2aa0ec326c: Pulling fs layer\n",
                        "912596dfeaeb: Pulling fs layer\n",
                        "84a6a587b3fb: Pulling fs layer\n",
                        "a0ceb3206273: Pulling fs layer\n",
                        "84a6a587b3fb: Waiting\n",
                        "a0ceb3206273: Waiting\n",
                        "be2aa0ec326c: Verifying Checksum\n",
                        "be2aa0ec326c: Download complete\n",
                        "35807b77a593: Verifying Checksum\n",
                        "35807b77a593: Download complete\n",
                        "35807b77a593: Pull complete\n",
                        "be2aa0ec326c: Pull complete\n",
                        "912596dfeaeb: Download complete\n",
                        "a0ceb3206273: Verifying Checksum\n",
                        "a0ceb3206273: Download complete\n",
                        "912596dfeaeb: Pull complete\n",
                        "84a6a587b3fb: Download complete\n",
                        "84a6a587b3fb: Pull complete\n",
                        "a0ceb3206273: Pull complete\n",
                        "Digest: sha256:925bb075b5715b20c2acfbc244db857c92afbdfbaefbe27257a4b97817906bef\n",
                        "Status: Downloaded newer image for mcr.microsoft.com/mssql/server:2019-latest\n",
                        "mcr.microsoft.com/mssql/server:2019-latest\n"
                    ]
                }
            ],
            "metadata": {
                "azdata_cell_guid": "66cb0894-e1de-4852-97eb-a89e0b0a9ba9"
            }
        },
        {
            "cell_type": "code",
            "execution_count": 3,
            "source": [
                "# docker images\r\n",
                "docker ps -a"
            ],
            "outputs": [
                {
                    "output_type": "stream",
                    "name": "stdout",
                    "text": [
                        ". {\n",
                        ">> docker run -e 'ACCEPT_EULA=Y' -e 'SA_PASSWORD=C0nta!ners2021' `\n",
                        ">> -p 11433:1433 --name staging -h staging `\n",
                        ">> -d mcr.microsoft.com/mssql/server:2019-latest\n",
                        ">> }\n",
                        ">> \n",
                        "c7173231df84731eea4d0b65a6b0a75c5123dd6532b7597f812458e16e4d82f6\n",
                        ". {\n",
                        ">> # docker images\n",
                        ">> docker ps -a\n",
                        ">> }\n",
                        ">> \n"
                    ]
                }
            ],
            "metadata": {
                "azdata_cell_guid": "6c93033a-cbc9-49ed-b7db-b178fcc1e6e7"
            }
        },
        {
            "cell_type": "code",
            "execution_count": null,
            "source": [
                "# Get First Docker ID\r\n",
                "\r\n",
                "docker logs 36011f284271"
            ],
            "outputs": [],
            "metadata": {
                "azdata_cell_guid": "e0d75fe5-0ec4-4789-b651-02992ae4b087"
            }
        },
        {
            "cell_type": "code",
            "execution_count": null,
            "source": [
                "# I can use Docker container ID or machine name\r\n",
                "docker start <docker id or name>\r\n",
                "docker run <docker id or name>"
            ],
            "outputs": [],
            "metadata": {
                "azdata_cell_guid": "d9bf1f41-924f-4c7d-aaf5-8ffcbdeb3c50"
            }
        },
        {
            "cell_type": "code",
            "execution_count": null,
            "source": [
                "# How to stop and unload a docker container\r\n",
                "docker stop 4a2c06173172\r\n",
                "\r\n",
                "docker rm 4a2c06173172"
            ],
            "outputs": [],
            "metadata": {
                "azdata_cell_guid": "9d7fddb3-e285-44d3-a3a0-c050bd5f2cdf"
            }
        }
    ]
}