{
 "cells": [
  {
   "cell_type": "code",
   "execution_count": 24,
   "source": [
    "docker build -t mssql:develop ."
   ],
   "outputs": [
    {
     "output_type": "stream",
     "name": "stdout",
     "text": [
      "#1 [internal] load build definition from Dockerfile\n",
      "#1 sha256:86c56ede1de957b30355ec4d7cd98e1fc2a42b073e69902f30a7bdeecfc6fb6d\n",
      "#1 transferring dockerfile: 32B done\n",
      "#1 DONE 0.0s\n",
      "\n",
      "#2 [internal] load .dockerignore\n",
      "#2 sha256:d25e58e5370dde8623c5927e7b1ae042367b293e00520ebf1875ff8374b21774\n",
      "#2 transferring context: 2B done\n",
      "#2 DONE 0.0s\n",
      "\n",
      "#3 [internal] load metadata for mcr.microsoft.com/mssql/server:2019-latest\n",
      "#3 sha256:1e8246229cb2a1ed0ca4f5fc5b42d23fcc66d38c7a9477aa5bd59b2fc25d4b7f\n",
      "#3 DONE 0.0s\n",
      "\n",
      "#4 [1/7] FROM mcr.microsoft.com/mssql/server:2019-latest\n",
      "#4 sha256:8914c10c34005847c30ec96484d0e6ecf6b9578b2cd265626c7ce7cb3e8a53e4\n",
      "#4 DONE 0.0s\n",
      "\n",
      "#7 [internal] load build context\n",
      "#7 sha256:ed941ad28e58980f88861f19a3c4e8b27ac55b15b349900d4f091f4c98d94cb5\n",
      "#7 transferring context: 260B done\n",
      "#7 DONE 0.0s\n",
      "\n",
      "#5 [2/7] RUN mkdir -p /usr/sqlwork\n",
      "#5 sha256:21f3e16f585639be7ec7121e1d8980c11b4b027659d005ab7a5d78d755f6e22e\n",
      "#5 CACHED\n",
      "\n",
      "#6 [3/7] WORKDIR /usr/sqlwork\n",
      "#6 sha256:d1ccb599deb29e0d3bd70c5c4d081cfb3a6fb6986acf334f78135cebd4075189\n",
      "#6 CACHED\n",
      "\n",
      "#8 [4/7] COPY execute-import.sh /usr/sqlwork/\n",
      "#8 sha256:c806b89615c0b363cf2ea3485d09738f43a46608be9b0d5b9bdbe39839b5c9f9\n",
      "#8 CACHED\n",
      "\n",
      "#9 [5/7] COPY create-sqldb.sh /usr/sqlwork/\n",
      "#9 sha256:f09b8ab936f8c1c5323989a518d3cfb21c9dffde6c7db51249f37a2d1a71a53c\n",
      "#9 DONE 0.0s\n",
      "\n",
      "#10 [6/7] COPY setup.sql /usr/sqlwork/\n",
      "#10 sha256:ecf5f946605ba597de9c59f2dcb8f5c35526f8b41ecb1a53131b80184dbe2d03\n",
      "#10 DONE 0.0s\n",
      "\n",
      "#11 [7/7] RUN chmod +x /usr/sqlwork/execute-import.sh\n",
      "#11 sha256:9e22f962a3306b5eb5c7c88fa807e443f6029c9bd7a395dce0383e0102d2ff79\n",
      "#11 DONE 0.4s\n",
      "\n",
      "#12 exporting to image\n",
      "#12 sha256:e8c613e07b0b7ff33893b694f7759a10d42e180f2b4dc349fb57dc6b71dcab00\n",
      "#12 exporting layers 0.1s done\n",
      "#12 writing image sha256:3e728424fc42b72b7e89f9da8ce392ce614c75ac2d8e46ce1909f3aefe6bbd1f done\n",
      "#12 naming to docker.io/library/mssql:develop done\n",
      "#12 DONE 0.1s\n"
     ]
    }
   ],
   "metadata": {}
  },
  {
   "cell_type": "code",
   "execution_count": 21,
   "source": [
    "docker run `\r\n",
    "    -e 'ACCEPT_EULA=Y' `\r\n",
    "    -e 'SA_PASSWORD=C0nta!ners2021' `\r\n",
    "    --name dev1 `\r\n",
    "    -h  dev1 `\r\n",
    "    -p 1444:1433 `\r\n",
    "    -d mssql:develop"
   ],
   "outputs": [
    {
     "output_type": "stream",
     "name": "stdout",
     "text": [
      ". {\n",
      ">> docker run `\n",
      ">>     -e 'ACCEPT_EULA=Y' `\n",
      ">>     -e 'SA_PASSWORD=C0nta!ners2021' `\n",
      ">>     --name dev `\n",
      ">>     -h  dev `\n",
      ">>     -p 1444:1433 `\n",
      ">>     -d mssql:develop\n",
      ">> }\n",
      ">> \n",
      "fcb9c564890c75dda617c7aaba279a39ce1839a599cefd199cbe18a6e1121bb3\n"
     ]
    }
   ],
   "metadata": {}
  },
  {
   "cell_type": "code",
   "execution_count": 23,
   "source": [
    "docker exec -it dev \"bash\""
   ],
   "outputs": [
    {
     "output_type": "stream",
     "name": "stdout",
     "text": [
      "the input device is not a TTY.  If you are using mintty, try prefixing the command with 'winpty'\n"
     ]
    }
   ],
   "metadata": {}
  },
  {
   "cell_type": "code",
   "execution_count": 4,
   "source": [
    "docker stop dev\r\n",
    "docker rm dev"
   ],
   "outputs": [
    {
     "output_type": "stream",
     "name": "stdout",
     "text": [
      ". {\n",
      ">> docker stop dev\n",
      ">> docker rm dev\n",
      ">> }\n",
      ">> \n",
      "dev\n",
      "dev\n"
     ]
    }
   ],
   "metadata": {}
  },
  {
   "cell_type": "code",
   "execution_count": 12,
   "source": [
    "docker start dev"
   ],
   "outputs": [
    {
     "output_type": "stream",
     "name": "stdout",
     "text": [
      "dev\n"
     ]
    }
   ],
   "metadata": {}
  },
  {
   "cell_type": "code",
   "execution_count": 18,
   "source": [
    "docker ps -a"
   ],
   "outputs": [
    {
     "output_type": "stream",
     "name": "stdout",
     "text": [
      "CONTAINER ID   IMAGE           COMMAND                  CREATED         STATUS                      PORTS     NAMES\n",
      "b7edd37c7f3d   mssql:develop   \"/bin/sh -c '/bin/ba…\"   5 minutes ago   Exited (1) 30 seconds ago             dev\n"
     ]
    }
   ],
   "metadata": {}
  },
  {
   "cell_type": "code",
   "execution_count": 10,
   "source": [
    "docker restart dev"
   ],
   "outputs": [
    {
     "output_type": "stream",
     "name": "stdout",
     "text": [
      ". {\n",
      ">> docker restart dev\n",
      ">> }\n",
      ">> \n",
      "dev\n"
     ]
    }
   ],
   "metadata": {}
  }
 ],
 "metadata": {
  "orig_nbformat": 4,
  "language_info": {
   "name": "powershell",
   "codemirror_mode": "shell",
   "mimetype": "text/x-sh",
   "file_extension": ".ps1"
  },
  "kernelspec": {
   "name": "powershell",
   "display_name": "PowerShell",
   "language": "powershell"
  }
 },
 "nbformat": 4,
 "nbformat_minor": 2
}