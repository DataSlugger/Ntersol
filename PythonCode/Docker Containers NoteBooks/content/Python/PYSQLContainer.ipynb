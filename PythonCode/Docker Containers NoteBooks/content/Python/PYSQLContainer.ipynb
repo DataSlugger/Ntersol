{
    "metadata": {
        "kernelspec": {
            "name": "SQL",
            "display_name": "SQL",
            "language": "sql"
        },
        "language_info": {
            "name": "sql",
            "version": ""
        },
        "extensions": {
            "azuredatastudio": {
                "version": 1,
                "views": []
            }
        }
    },
    "nbformat_minor": 2,
    "nbformat": 4,
    "cells": [
        {
            "cell_type": "markdown",
            "source": [
                "# **How to Create a SQL Container using Python**"
            ],
            "metadata": {
                "azdata_cell_guid": "dd2fcad4-1e53-470e-8e5d-c928ab2789db"
            },
            "attachments": {}
        },
        {
            "cell_type": "markdown",
            "source": [
                "## **Get Container Image**"
            ],
            "metadata": {
                "azdata_cell_guid": "7c93869e-8606-4310-9c14-ced420f1b810"
            },
            "attachments": {}
        },
        {
            "cell_type": "code",
            "source": [
                "# Bring Down Container SQL from Microsoft Site\r\n",
                "\r\n",
                "import requests\r\n",
                "\r\n",
                "# Looking for SQL Server Version available\r\n",
                "# Get Ubuntu Versions List\r\n",
                "SQL_Source_Soft = requests.get('https://mcr.Microsoft.com/v2/mssql/server/tags/list')\r\n",
                "# Get Red Hat Versions List\r\n",
                "#SQL_Source_Soft = requests.get('https://mcr.Microsoft.com/v2/mssql/rhel/server/tags/list')\r\n",
                "print('SQL Server images:')\r\n",
                "SQL_Source_Soft.json()"
            ],
            "metadata": {
                "azdata_cell_guid": "f1044881-8def-4752-8a50-5ff57bf94fc3",
                "language": "sql"
            },
            "outputs": [],
            "execution_count": 3
        },
        {
            "cell_type": "markdown",
            "source": [
                "\r\n",
                "\r\n",
                "\r\n",
                "# Starting to Create a Docker SQL Container\r\n",
                "\r\n",
                "\r\n",
                "\r\n",
                "| RHEL Path                 | Ubuntu Path                   |\r\n",
                "| ------------------------- | ----------                    |\r\n",
                "| name: mssql/rhel/server   | name: mssql/server            |\r\n",
                "|                           |                               |\r\n",
                "  \r\n",
                "## Check if Python Docker Module exists\r\n",
                "```python\r\n",
                "pip3 docker --version\r\n",
                "```\r\n",
                "\r\n",
                "## Install docker module to python\r\n",
                "\r\n",
                "| Windows                       | Linux  Path                   |\r\n",
                "| -------------------------     | ----------                    |\r\n",
                "| Open Terminal and load python | sudo pip install python-pip   |\r\n",
                "| pip install docker            | sudo pip install docker       |\r\n",
                "\r\n",
                "**For SQL Server Enterprise Version Add Variable**\r\n",
                "```python\r\n",
                "environment={\"ACCEPT_EULA\":\"Y\", \"Enterprise\":\"Y\",\"SA_PASSWORD\":\"C0nta!ners2021\"}\r\n",
                "```"
            ],
            "metadata": {
                "azdata_cell_guid": "32964cb8-0ebe-483c-ae4e-4710184e9049"
            }
        },
        {
            "cell_type": "code",
            "source": [
                "import docker\r\n",
                "SQLServerContainer = docker.from_env()\r\n",
                "\r\n",
                "SQLServerContainer.containers.run(\r\n",
                "    'mcr.microsoft.com/mssql/server:2019-latest',\r\n",
                "    environment={\"ACCEPT_EULA\":\"Y\",\"SA_PASSWORD\":\"C0nta!ners2021\"},\r\n",
                "    name=\"PROD\",\r\n",
                "    hostname=\"PROD\",\r\n",
                "    ports={'1433/tcp':11433},\r\n",
                "    detach=True\r\n",
                ")"
            ],
            "metadata": {
                "azdata_cell_guid": "1c3349cb-2c8f-4432-ab97-908099618127",
                "language": "sql"
            },
            "outputs": [],
            "execution_count": null
        },
        {
            "cell_type": "markdown",
            "source": [
                "## Check Containers in Running State"
            ],
            "metadata": {
                "azdata_cell_guid": "00a5a9a2-73eb-4161-b65c-6323e3039ad7"
            },
            "attachments": {}
        },
        {
            "cell_type": "code",
            "source": [
                "for container in SQLServer.containers.list(all=True, filters={\"status\":\"running\"}):\r\n",
                "  print (container.short_id + '   '+container.name)"
            ],
            "metadata": {
                "azdata_cell_guid": "35d13842-9b90-4227-a14e-efb5f0dba956",
                "language": "sql"
            },
            "outputs": [],
            "execution_count": null
        },
        {
            "cell_type": "code",
            "source": [
                "y_container = 'PROD'\r\n",
                "container = SQLServer.containers.get(my_container)\r\n",
                "print ('My container: ' + container.name + ' is in ' + container.status + ' state.')"
            ],
            "metadata": {
                "azdata_cell_guid": "0347003f-162c-43db-9bfc-a8104e7652e4",
                "language": "sql"
            },
            "outputs": [],
            "execution_count": null
        },
        {
            "cell_type": "markdown",
            "source": [
                "## Starting a Docker Container"
            ],
            "metadata": {
                "azdata_cell_guid": "398ab228-06b4-4a73-a374-324cd5e19af4"
            }
        },
        {
            "cell_type": "code",
            "source": [
                "container = SQLServer.containers.get(\"PROD\")\r\n",
                "container.start()\r\n",
                "container.status\r\n",
                "'running'"
            ],
            "metadata": {
                "azdata_cell_guid": "90884e84-8181-403c-b9d1-7f8ca7656238",
                "language": "sql"
            },
            "outputs": [],
            "execution_count": null
        },
        {
            "cell_type": "markdown",
            "source": [
                "## Stopping a Docker Container"
            ],
            "metadata": {
                "azdata_cell_guid": "1a380a60-c440-4d21-b53c-35ed2a7c4c38"
            }
        },
        {
            "cell_type": "code",
            "source": [
                "container = SQLServer.containers.get(\"PROD\")\r\n",
                "container.stop()\r\n",
                "container.remove()\r\n",
                "container.status\r\n",
                "'removed'"
            ],
            "metadata": {
                "azdata_cell_guid": "9250407f-2281-453b-a898-a7bc2406f912",
                "language": "sql"
            },
            "outputs": [],
            "execution_count": null
        },
        {
            "cell_type": "code",
            "source": [
                "import pyodbc\r\n",
                "\r\n",
                "conn = pyodbc.connect(r'Driver=SQL Server;Server=192.168.1.68;Database=master;uid=pyuser;pwd=VSC0de2019')\r\n",
                "cursor = conn.cursor()\r\n",
                "cursor.execute(\"SELECT @@SERVERNAME [ServerName]\")\r\n",
                "while 1:\r\n",
                "    row = cursor.fetchone()\r\n",
                "    if not row:\r\n",
                "         break\r\n",
                "    print(row.ServerName)\r\n",
                "conn.close()"
            ],
            "metadata": {
                "azdata_cell_guid": "f04b414c-c6d9-494d-a6c0-db061169203a",
                "language": "sql"
            },
            "outputs": [
                {
                    "output_type": "stream",
                    "name": "stdout",
                    "text": "UbuOptiPlex-390\n"
                }
            ],
            "execution_count": 18
        },
        {
            "cell_type": "code",
            "source": [
                "import pyodbc\r\n",
                "\r\n",
                "\r\n",
                "class DataDictionary(object):\r\n",
                "    def __init__(self, connection):\r\n",
                "        self.servername = connection[0]\r\n",
                "        self.database   = connection[1]\r\n",
                "        self.authentication = connection[2]\r\n",
                "        self.userid = connection[3]\r\n",
                "        self.password = connection[4]\r\n",
                "        self.folder = 'Markdows'\r\n",
                "\r\n",
                "    def run(self, table_string):\r\n",
                "        try:\r\n",
                "            #Building Connection String\r\n",
                "            if self.authentication == 'Windows':\r\n",
                "                conn_string = ('Driver=SQL Server;Server='+self.servername+';Database='+self.database+';uid='+self.userid+';Trusted_Connection=Yes')\r\n",
                "            else:\r\n",
                "                conn_string = ('Driver=SQL Server;Server='+self.servername+';Database='+self.database+';uid='+self.userid+';pwd='+self.password)\r\n",
                "            \r\n",
                "            sqlconn = pyodbc.connect(conn_string)\r\n",
                "            sqlconn.close()\r\n",
                "            #cursor = sqlconn.cursor(cursor=pyodbc.cursors.DictCursor)\r\n",
                "        except Exception: \r\n",
                "                print('Database Connection Failed,Please Check Connection Info !')\r\n",
                "                exit(1)\r\n",
                "\r\n",
                "    def testConnection(self):\r\n",
                "        try:\r\n",
                "            #Building Connection String\r\n",
                "            if self.authentication == 'Windows':\r\n",
                "                conn_string = ('Driver=SQL Server;Server='+self.servername+';Database='+self.database+';uid='+self.userid+';Trusted_Connection=Yes')\r\n",
                "            else:\r\n",
                "                conn_string = ('Driver=SQL Server;Server='+self.servername+';Database='+self.database+';uid='+self.userid+';pwd='+self.password)\r\n",
                "                \r\n",
                "\r\n",
                "            sqlconn = pyodbc.connect(conn_string)\r\n",
                "            return True\r\n",
                "        except Exception: \r\n",
                "            print('Database Connection Failed,Please Check Connection Info !!!')\r\n",
                "            return False\r\n",
                "                    \r\n",
                "\r\n",
                "\r\n",
                "# Main Program\r\n",
                "if __name__=='__main__':\r\n",
                "    SQLConnInfo = input('Input SQL Server Connection Information: ServerInstance, DatabaseName, AuthenticationMode(SQL or Windows), LoginID, Password(Leave Blank for Windows Authentication),I.e:192.168.1.68,master,SQL,sa,MyPassword or 192.168.1.68,master,Windows,sa, ')\r\n",
                "    SQLConnList = SQLConnInfo.split(',')\r\n",
                "    while SQLConnInfo == '' or len(SQLConnList) <4:\r\n",
                "        SQLConnInfo = input('Input SQL Server Connection Information: ServerInstance, DatabaseName, AuthenticationMode(SQL or Windows), LoginID, Password(Leave Blank for Windows Authentication),I.e:192.168.1.68,master,SQL,sa,MyPassword or 192.168.1.68,master,Windows,sa, ')\r\n",
                "        SQLConnList = SQLConnInfo.split(',')\r\n",
                "    if len(SQLConnList) >=4:\r\n",
                "        db_test = DataDictionary(SQLConnList)\r\n",
                "        db = db_test.testConnection()\r\n",
                "        print(db)\r\n",
                ""
            ],
            "metadata": {
                "azdata_cell_guid": "671aafa8-b67c-4dd7-9c78-4f4c464c5a89",
                "language": "sql"
            },
            "outputs": [
                {
                    "output_type": "stream",
                    "name": "stdout",
                    "text": "True\n"
                }
            ],
            "execution_count": 36
        }
    ]
}