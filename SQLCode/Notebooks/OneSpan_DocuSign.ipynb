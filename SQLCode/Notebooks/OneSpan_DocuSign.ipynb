{
    "metadata": {
        "kernelspec": {
            "name": "SQL",
            "display_name": "SQL",
            "language": "sql"
        },
        "language_info": {
            "name": "sql",
            "version": ""
        }
    },
    "nbformat_minor": 2,
    "nbformat": 4,
    "cells": [
        {
            "cell_type": "code",
            "source": [
                "--Pull records to send to DocuSign\n",
                "SELECT \n",
                "\tBorrowerName [Signer]\n",
                "\t,BorrowerName\n",
                "\t,CoBorrowerName\n",
                "\t,Email\n",
                "\t,BorrowerCount\n",
                "\t,AppID\n",
                "\t,CONVERT(VARCHAR,CONVERT(DATE,[DATE]),101) [DATE]\n",
                "\t,MailingStreet [Address1]\n",
                "\t,MailingCity +', '+ MailingState +' '+ MailingZip [CityStateZip]\n",
                "\t,ApplicantType\n",
                "\t,CONVERT(VARCHAR,CONVERT(DATE,[ExpirationDate]),101) [ExpirationDate]\n",
                "\t,'$'+ LEFT( CONVERT(varchar, LoanAmount,1),LEN (CONVERT(varchar, LoanAmount,1))) [LoanAmount]\n",
                "\t,WNBAccount1 [1stWNBAccount]\n",
                "\t,CASE \n",
                "\t\tWHEN WNBAccount1 IS NOT NULL AND WNBAccount2 IS NULL THEN 'No Account Selected'\n",
                "\t\tELSE CONVERT(VARCHAR,WNBAccount2)\n",
                "\t\tEND [2ndWNBAccount]\n",
                "\t,CASE \n",
                "\t\tWHEN WNBAccount1 IS NOT NULL AND WNBAccount3 IS NULL THEN 'No Account Selected'\n",
                "\t\tELSE CONVERT(VARCHAR,WNBAccount3)\n",
                "\t\tEND [3rdWNBAccount]\n",
                "\t,CASE\n",
                "\t\tWHEN FICOScore IS NULL THEN 'N/A'\n",
                "\t\tELSE CONVERT(VARCHAR,FICOScore) END [FICOScore]\n",
                "\t,CASE\n",
                "\t\tWHEN FICOScore IS NULL THEN 'N/A'\n",
                "\t\tELSE CONVERT(VARCHAR,CONVERT(DATE,FICOScoreDate),101) \n",
                "\t\tEND [FICOScoreDate]\n",
                "\t,CASE\n",
                "\t\tWHEN FICOScore IS NULL THEN 'N/A'\n",
                "\t\tELSE KeyFactor1 END [KeyFactor1]\n",
                "\t,KeyFactor2\n",
                "\t,KeyFactor3\n",
                "\t,KeyFactor4\n",
                "\t,BorrowerID\n",
                "\t,BorOrderNum\n",
                "\t,Template\n",
                "FROM WNBUtility.dbo.LoanApprovals\n",
                "WHERE\n",
                "\tTemplate IN ('Reli Unlinked','Reli Linked')\n",
                "\tAND SentDate IS NULL"
            ],
            "metadata": {
                "azdata_cell_guid": "9b017dcc-7c1f-4329-84cc-8b8c7fd926f6"
            },
            "outputs": [
                {
                    "output_type": "display_data",
                    "data": {
                        "text/html": "(0 rows affected)"
                    },
                    "metadata": {}
                },
                {
                    "output_type": "display_data",
                    "data": {
                        "text/html": "Total execution time: 00:00:00.245"
                    },
                    "metadata": {}
                },
                {
                    "output_type": "execute_result",
                    "execution_count": 14,
                    "data": {
                        "application/vnd.dataresource+json": {
                            "schema": {
                                "fields": [
                                    {
                                        "name": "Signer"
                                    },
                                    {
                                        "name": "BorrowerName"
                                    },
                                    {
                                        "name": "CoBorrowerName"
                                    },
                                    {
                                        "name": "Email"
                                    },
                                    {
                                        "name": "BorrowerCount"
                                    },
                                    {
                                        "name": "AppID"
                                    },
                                    {
                                        "name": "DATE"
                                    },
                                    {
                                        "name": "Address1"
                                    },
                                    {
                                        "name": "CityStateZip"
                                    },
                                    {
                                        "name": "ApplicantType"
                                    },
                                    {
                                        "name": "ExpirationDate"
                                    },
                                    {
                                        "name": "LoanAmount"
                                    },
                                    {
                                        "name": "1stWNBAccount"
                                    },
                                    {
                                        "name": "2ndWNBAccount"
                                    },
                                    {
                                        "name": "3rdWNBAccount"
                                    },
                                    {
                                        "name": "FICOScore"
                                    },
                                    {
                                        "name": "FICOScoreDate"
                                    },
                                    {
                                        "name": "KeyFactor1"
                                    },
                                    {
                                        "name": "KeyFactor2"
                                    },
                                    {
                                        "name": "KeyFactor3"
                                    },
                                    {
                                        "name": "KeyFactor4"
                                    },
                                    {
                                        "name": "BorrowerID"
                                    },
                                    {
                                        "name": "BorOrderNum"
                                    },
                                    {
                                        "name": "Template"
                                    }
                                ]
                            },
                            "data": []
                        },
                        "text/html": "<table><tr><th>Signer</th><th>BorrowerName</th><th>CoBorrowerName</th><th>Email</th><th>BorrowerCount</th><th>AppID</th><th>DATE</th><th>Address1</th><th>CityStateZip</th><th>ApplicantType</th><th>ExpirationDate</th><th>LoanAmount</th><th>1stWNBAccount</th><th>2ndWNBAccount</th><th>3rdWNBAccount</th><th>FICOScore</th><th>FICOScoreDate</th><th>KeyFactor1</th><th>KeyFactor2</th><th>KeyFactor3</th><th>KeyFactor4</th><th>BorrowerID</th><th>BorOrderNum</th><th>Template</th></tr></table>"
                    },
                    "metadata": {}
                }
            ],
            "execution_count": 14
        },
        {
            "cell_type": "code",
            "source": [
                "SELECT * FROM WNBUtility.dbo.LoanApprovals\r\n",
                "WHERE\r\n",
                "\tTemplate IN ('Reli Unlinked','Reli Linked')\r\n",
                "\tAND convert(date, SentDate) > '2019-11-23'"
            ],
            "metadata": {
                "azdata_cell_guid": "a05fe4b7-33c2-471d-9789-77936e91b7c0"
            },
            "outputs": [
                {
                    "output_type": "display_data",
                    "data": {
                        "text/html": "(49 rows affected)"
                    },
                    "metadata": {}
                },
                {
                    "output_type": "display_data",
                    "data": {
                        "text/html": "Total execution time: 00:00:00.408"
                    },
                    "metadata": {}
                },
                {
                    "output_type": "execute_result",
                    "execution_count": 33,
                    "data": {
                        "application/vnd.dataresource+json": {
                            "schema": {
                                "fields": [
                                    {
                                        "name": "ID"
                                    },
                                    {
                                        "name": "BorrowerName"
                                    },
                                    {
                                        "name": "CoBorrowerName"
                                    },
                                    {
                                        "name": "CoBorrowerName2"
                                    },
                                    {
                                        "name": "Email"
                                    },
                                    {
                                        "name": "BorrowerCount"
                                    },
                                    {
                                        "name": "BorrowerID"
                                    },
                                    {
                                        "name": "BorOrderNum"
                                    },
                                    {
                                        "name": "AppID"
                                    },
                                    {
                                        "name": "ProductID"
                                    },
                                    {
                                        "name": "Product"
                                    },
                                    {
                                        "name": "Date"
                                    },
                                    {
                                        "name": "MailingStreet"
                                    },
                                    {
                                        "name": "MailingCity"
                                    },
                                    {
                                        "name": "MailingState"
                                    },
                                    {
                                        "name": "MailingZip"
                                    },
                                    {
                                        "name": "ApplicantType"
                                    },
                                    {
                                        "name": "ExpirationDate"
                                    },
                                    {
                                        "name": "LoanAmount"
                                    },
                                    {
                                        "name": "WNBAccount1"
                                    },
                                    {
                                        "name": "WNBAccount2"
                                    },
                                    {
                                        "name": "WNBAccount3"
                                    },
                                    {
                                        "name": "FICOScoreDate"
                                    },
                                    {
                                        "name": "FICOScore"
                                    },
                                    {
                                        "name": "KeyFactor1"
                                    },
                                    {
                                        "name": "KeyFactor2"
                                    },
                                    {
                                        "name": "KeyFactor3"
                                    },
                                    {
                                        "name": "KeyFactor4"
                                    },
                                    {
                                        "name": "AccountNum"
                                    },
                                    {
                                        "name": "DateDecisionedUpdated"
                                    },
                                    {
                                        "name": "CreditAvailableDate"
                                    },
                                    {
                                        "name": "Template"
                                    },
                                    {
                                        "name": "BusinessDate"
                                    },
                                    {
                                        "name": "AppSource"
                                    },
                                    {
                                        "name": "InsertTime"
                                    },
                                    {
                                        "name": "SentDate"
                                    }
                                ]
                            },
                            "data": [
                                {
                                    "0": "64",
                                    "1": "JK THISISATEST",
                                    "2": "NULL",
                                    "3": "NULL",
                                    "4": "jstanaland@woodforest.com",
                                    "5": "1",
                                    "6": "0",
                                    "7": "1",
                                    "8": "0",
                                    "9": "120",
                                    "10": "RELI Unsecured",
                                    "11": "2016-10-26 11:18:57.2470000",
                                    "12": "25231 Grogan's Mill Rd",
                                    "13": "THE WOODLANDS",
                                    "14": "TX",
                                    "15": "77380",
                                    "16": "Individual Application",
                                    "17": "2016-11-26 11:18:57.2470000",
                                    "18": "2000.0000",
                                    "19": "1234567890",
                                    "20": "2345678901",
                                    "21": "NULL",
                                    "22": "2016-10-26 11:18:57.2470000",
                                    "23": "622",
                                    "24": "Serious delinquency, and derogatory public record or collection filed",
                                    "25": "Proportion of balances to credit limits is too high on revolving accounts",
                                    "26": "Length of time since derogatory public record or collection is too short",
                                    "27": "Too many accounts with balances",
                                    "28": "0",
                                    "29": "NULL",
                                    "30": "NULL",
                                    "31": "ReLi Linked",
                                    "32": "2016-10-26 11:18:57.2470000",
                                    "33": "ACTion Online",
                                    "34": "2016-10-27 11:18:57.2470000",
                                    "35": "2019-11-26 15:30:21.3900000"
                                },
                                {
                                    "0": "82529",
                                    "1": "BOBBY JOE WATTS",
                                    "2": "NULL",
                                    "3": "NULL",
                                    "4": "KODIAKKING1223@GMAIL.COM",
                                    "5": "1",
                                    "6": "1085699",
                                    "7": "1",
                                    "8": "545529",
                                    "9": "120",
                                    "10": "RELI Unsecured",
                                    "11": "2019-11-26 08:53:00.0000000",
                                    "12": "1408 FINGER BRIDGE RD",
                                    "13": "HICKORY",
                                    "14": "NC",
                                    "15": "28601",
                                    "16": "Individual Application",
                                    "17": "2019-12-27 08:53:00.0000000",
                                    "18": "1500.0000",
                                    "19": "1874397571",
                                    "20": "NULL",
                                    "21": "NULL",
                                    "22": "2019-11-24 11:58:00.0000000",
                                    "23": "623",
                                    "24": "Proportion of balances to credit limits is too high on revolving accounts",
                                    "25": "Length of time accounts have been established",
                                    "26": "Lack of recent installment loan information",
                                    "27": "Length of time revolving accounts have been established",
                                    "28": "545529",
                                    "29": "NULL",
                                    "30": "NULL",
                                    "31": "ReLi Linked",
                                    "32": "2019-11-26 00:00:00.0000000",
                                    "33": "ACTion Online",
                                    "34": "2019-11-26 15:03:30.1700000",
                                    "35": "2019-11-26 15:30:21.3900000"
                                },
                                {
                                    "0": "82530",
                                    "1": "DARRYL BURLINGAME",
                                    "2": "CARRIE BURLINGAME",
                                    "3": "NULL",
                                    "4": "DARRYLBU1971@GMAIL.COM",
                                    "5": "2",
                                    "6": "1086743",
                                    "7": "1",
                                    "8": "546024",
                                    "9": "120",
                                    "10": "RELI Unsecured",
                                    "11": "2019-11-26 12:45:00.0000000",
                                    "12": "2444 SWEDE HILL ROAD",
                                    "13": "RUSSELL",
                                    "14": "PA",
                                    "15": "16345",
                                    "16": "Joint Application",
                                    "17": "2019-12-27 12:45:00.0000000",
                                    "18": "2500.0000",
                                    "19": "1294341316",
                                    "20": "NULL",
                                    "21": "NULL",
                                    "22": "2019-11-26 12:45:00.0000000",
                                    "23": "631",
                                    "24": "Proportion of balances to credit limits is too high on revolving accounts",
                                    "25": "Too few accounts currently paid as agreed",
                                    "26": "Length of time accounts have been established",
                                    "27": "Lack of recent installment loan information",
                                    "28": "546024",
                                    "29": "NULL",
                                    "30": "NULL",
                                    "31": "ReLi Linked",
                                    "32": "2019-11-26 00:00:00.0000000",
                                    "33": "ACTion Online",
                                    "34": "2019-11-26 15:03:30.1700000",
                                    "35": "2019-11-26 15:30:21.3900000"
                                },
                                {
                                    "0": "82532",
                                    "1": "DAMIAN D DRAKEFORD",
                                    "2": "NULL",
                                    "3": "NULL",
                                    "4": "MZ.DRAKEFORD@YAHOO.COM",
                                    "5": "1",
                                    "6": "1087967",
                                    "7": "1",
                                    "8": "546593",
                                    "9": "120",
                                    "10": "RELI Unsecured",
                                    "11": "2019-11-26 12:03:00.0000000",
                                    "12": "6100 FLAGSTONE LANE",
                                    "13": "INDIAN TRAIL",
                                    "14": "NC",
                                    "15": "28079",
                                    "16": "Individual Application",
                                    "17": "2019-12-27 12:03:00.0000000",
                                    "18": "500.0000",
                                    "19": "1812542445",
                                    "20": "NULL",
                                    "21": "NULL",
                                    "22": "2019-11-26 10:40:00.0000000",
                                    "23": "612",
                                    "24": "Serious delinquency, and derogatory public record or collection filed",
                                    "25": "Proportion of balances to credit limits is too high on revolving accounts",
                                    "26": "Length of time accounts have been established",
                                    "27": "Length of time since derogatory public record or collection is too short",
                                    "28": "546593",
                                    "29": "NULL",
                                    "30": "NULL",
                                    "31": "ReLi Linked",
                                    "32": "2019-11-26 00:00:00.0000000",
                                    "33": "ACTion Online",
                                    "34": "2019-11-26 15:03:30.1700000",
                                    "35": "2019-11-26 15:30:21.3900000"
                                },
                                {
                                    "0": "82533",
                                    "1": "DAMON ELLIOTT CROFT",
                                    "2": "NULL",
                                    "3": "NULL",
                                    "4": "DAMONCROFT513@GMAIL.COM",
                                    "5": "1",
                                    "6": "1083556",
                                    "7": "1",
                                    "8": "544546",
                                    "9": "120",
                                    "10": "RELI Unsecured",
                                    "11": "2019-11-26 10:16:00.0000000",
                                    "12": "837 VIRGINIA AVE",
                                    "13": "FAIRMONT",
                                    "14": "WV",
                                    "15": "26554",
                                    "16": "Individual Application",
                                    "17": "2019-12-27 10:16:00.0000000",
                                    "18": "1000.0000",
                                    "19": "1345363954",
                                    "20": "NULL",
                                    "21": "NULL",
                                    "22": "2019-11-26 10:15:00.0000000",
                                    "23": "605",
                                    "24": "Serious delinquency, and derogatory public record or collection filed",
                                    "25": "Proportion of balances to credit limits is too high on revolving accounts",
                                    "26": "Length of time accounts have been established",
                                    "27": "Number of accounts with delinquency",
                                    "28": "544546",
                                    "29": "NULL",
                                    "30": "NULL",
                                    "31": "ReLi Linked",
                                    "32": "2019-11-26 00:00:00.0000000",
                                    "33": "ACTion Online",
                                    "34": "2019-11-26 15:03:30.1700000",
                                    "35": "2019-11-26 15:30:21.3900000"
                                },
                                {
                                    "0": "82540",
                                    "1": "KATHIA F GARCIA",
                                    "2": "NULL",
                                    "3": "NULL",
                                    "4": "KATFABGALPER@GMAIL.COM",
                                    "5": "1",
                                    "6": "1084377",
                                    "7": "1",
                                    "8": "544929",
                                    "9": "120",
                                    "10": "RELI Unsecured",
                                    "11": "2019-11-26 12:22:00.0000000",
                                    "12": "375 MEDIA LUNA RD APT 2702",
                                    "13": "BROWNSVILLE",
                                    "14": "TX",
                                    "15": "78521",
                                    "16": "Individual Application",
                                    "17": "2019-12-27 12:22:00.0000000",
                                    "18": "1500.0000",
                                    "19": "1155309543",
                                    "20": "NULL",
                                    "21": "NULL",
                                    "22": "2019-11-22 16:11:00.0000000",
                                    "23": "640",
                                    "24": "Length of time accounts have been established",
                                    "25": "Proportion of balances to credit limits is too high on revolving accounts",
                                    "26": "Lack of recent installment loan information",
                                    "27": "Too many accounts with balances",
                                    "28": "544929",
                                    "29": "NULL",
                                    "30": "NULL",
                                    "31": "ReLi Linked",
                                    "32": "2019-11-26 00:00:00.0000000",
                                    "33": "ACTion Online",
                                    "34": "2019-11-26 15:03:30.1700000",
                                    "35": "2019-11-26 15:30:21.3900000"
                                },
                                {
                                    "0": "82543",
                                    "1": "MARISSA HAYDEN",
                                    "2": "NULL",
                                    "3": "NULL",
                                    "4": "MARISSA.HAYDEN426@GMAIL.COM",
                                    "5": "1",
                                    "6": "1084656",
                                    "7": "1",
                                    "8": "545048",
                                    "9": "120",
                                    "10": "RELI Unsecured",
                                    "11": "2019-11-26 12:33:00.0000000",
                                    "12": "2411 HIGH STREET",
                                    "13": "NATRONA HEIGHTS",
                                    "14": "PA",
                                    "15": "15065",
                                    "16": "Individual Application",
                                    "17": "2019-12-27 12:33:00.0000000",
                                    "18": "1500.0000",
                                    "19": "NULL",
                                    "20": "NULL",
                                    "21": "NULL",
                                    "22": "2019-11-22 23:23:00.0000000",
                                    "23": "699",
                                    "24": "Length of time accounts have been established",
                                    "25": "Proportion of balances to credit limits is too high on revolving accounts",
                                    "26": "Lack of recent installment loan information",
                                    "27": "Length of time revolving accounts have been established",
                                    "28": "545048",
                                    "29": "NULL",
                                    "30": "NULL",
                                    "31": "Reli Unlinked",
                                    "32": "2019-11-26 00:00:00.0000000",
                                    "33": "ACTion Online",
                                    "34": "2019-11-26 15:03:30.1700000",
                                    "35": "2019-11-26 15:30:21.3900000"
                                },
                                {
                                    "0": "82545",
                                    "1": "JOSEPH MEDARD VILLATORO",
                                    "2": "NULL",
                                    "3": "NULL",
                                    "4": "JOEYVILLATORO18FINAL@GMAIL.COM",
                                    "5": "1",
                                    "6": "1086805",
                                    "7": "1",
                                    "8": "546050",
                                    "9": "120",
                                    "10": "RELI Unsecured",
                                    "11": "2019-11-26 12:59:00.0000000",
                                    "12": "1060 OLD HILLS BRIDGE RD",
                                    "13": "PAULINE",
                                    "14": "SC",
                                    "15": "29374",
                                    "16": "Individual Application",
                                    "17": "2019-12-27 12:59:00.0000000",
                                    "18": "1000.0000",
                                    "19": "8263006663",
                                    "20": "NULL",
                                    "21": "NULL",
                                    "22": "2019-11-26 12:59:00.0000000",
                                    "23": "616",
                                    "24": "Length of time accounts have been established",
                                    "25": "Proportion of balances to credit limits is too high on revolving accounts",
                                    "26": "Too many inquiries last 12 months",
                                    "27": "Length of time revolving accounts have been established",
                                    "28": "546050",
                                    "29": "NULL",
                                    "30": "NULL",
                                    "31": "ReLi Linked",
                                    "32": "2019-11-26 00:00:00.0000000",
                                    "33": "ACTion Online",
                                    "34": "2019-11-26 15:03:30.1700000",
                                    "35": "2019-11-26 15:30:21.3900000"
                                },
                                {
                                    "0": "82546",
                                    "1": "MRS. ERIKA CHAPMAN-LAWRENCE",
                                    "2": "NULL",
                                    "3": "NULL",
                                    "4": "ECHAP00039@GMAIL.COM",
                                    "5": "1",
                                    "6": "1083293",
                                    "7": "1",
                                    "8": "544426",
                                    "9": "120",
                                    "10": "RELI Unsecured",
                                    "11": "2019-11-26 08:34:00.0000000",
                                    "12": "909 WEDGEWOOD LANE ",
                                    "13": "ASHEVILLE",
                                    "14": "NC",
                                    "15": "28803",
                                    "16": "Individual Application",
                                    "17": "2019-12-27 08:34:00.0000000",
                                    "18": "1500.0000",
                                    "19": "1863364681",
                                    "20": "NULL",
                                    "21": "NULL",
                                    "22": "2019-11-26 08:34:00.0000000",
                                    "23": "642",
                                    "24": "Serious delinquency, and derogatory public record or collection filed",
                                    "25": "Length of time accounts have been established",
                                    "26": "Too many inquiries last 12 months",
                                    "27": "Too many accounts with balances",
                                    "28": "544426",
                                    "29": "NULL",
                                    "30": "NULL",
                                    "31": "ReLi Linked",
                                    "32": "2019-11-26 00:00:00.0000000",
                                    "33": "ACTion Online",
                                    "34": "2019-11-26 15:03:30.1700000",
                                    "35": "2019-11-26 15:30:21.3900000"
                                },
                                {
                                    "0": "82548",
                                    "1": "MR. ERIC STEVEN LOFLIN",
                                    "2": "MS. CHRISTIE LYN HEJHAL",
                                    "3": "NULL",
                                    "4": "CHRISSYHEJHAL@GMAIL.COM",
                                    "5": "2",
                                    "6": "1085786",
                                    "7": "1",
                                    "8": "545569",
                                    "9": "120",
                                    "10": "RELI Unsecured",
                                    "11": "2019-11-26 08:39:00.0000000",
                                    "12": "603 WILD ROSE TRAIL ",
                                    "13": "CEDAR PARK ",
                                    "14": "TX",
                                    "15": "78613",
                                    "16": "Joint Application",
                                    "17": "2019-12-27 08:39:00.0000000",
                                    "18": "2000.0000",
                                    "19": "1713341483",
                                    "20": "1713362323",
                                    "21": "NULL",
                                    "22": "2019-11-26 08:38:00.0000000",
                                    "23": "584",
                                    "24": "Serious delinquency, and derogatory public record or collection filed",
                                    "25": "Number of accounts with delinquency",
                                    "26": "Too few accounts currently paid as agreed",
                                    "27": "Proportion of loan balances to loan account is too high",
                                    "28": "545569",
                                    "29": "NULL",
                                    "30": "NULL",
                                    "31": "ReLi Linked",
                                    "32": "2019-11-26 00:00:00.0000000",
                                    "33": "ACTion Online",
                                    "34": "2019-11-26 15:03:30.1700000",
                                    "35": "2019-11-26 15:30:21.3900000"
                                },
                                {
                                    "0": "82549",
                                    "1": "MR. JAMES E PASCARELLA",
                                    "2": "MRS. NICOLLE M PASCARELLA",
                                    "3": "NULL",
                                    "4": "PANDORAVAMP72@YAHOO.COM",
                                    "5": "2",
                                    "6": "1085750",
                                    "7": "1",
                                    "8": "545552",
                                    "9": "120",
                                    "10": "RELI Unsecured",
                                    "11": "2019-11-26 07:57:00.0000000",
                                    "12": "629 N SCHENLEY",
                                    "13": "YOUNGSTOWN",
                                    "14": "OH",
                                    "15": "44509",
                                    "16": "Joint Application",
                                    "17": "2019-12-27 07:57:00.0000000",
                                    "18": "2000.0000",
                                    "19": "1491379788",
                                    "20": "NULL",
                                    "21": "NULL",
                                    "22": "2019-11-26 07:56:00.0000000",
                                    "23": "631",
                                    "24": "Serious delinquency",
                                    "25": "Length of time accounts have been established",
                                    "26": "Proportion of balances to credit limits is too high on revolving accounts",
                                    "27": "Too few accounts currently paid as agreed",
                                    "28": "545552",
                                    "29": "NULL",
                                    "30": "NULL",
                                    "31": "ReLi Linked",
                                    "32": "2019-11-26 00:00:00.0000000",
                                    "33": "ACTion Online",
                                    "34": "2019-11-26 15:03:30.1700000",
                                    "35": "2019-11-26 15:30:21.3900000"
                                },
                                {
                                    "0": "82550",
                                    "1": "RICHARD KEITH",
                                    "2": "NULL",
                                    "3": "NULL",
                                    "4": "STURBO01@YAHOO.COM",
                                    "5": "1",
                                    "6": "1086215",
                                    "7": "1",
                                    "8": "545766",
                                    "9": "120",
                                    "10": "RELI Unsecured",
                                    "11": "2019-11-26 10:35:00.0000000",
                                    "12": "912 NORTH MAIN STREET",
                                    "13": "GEORGETOWN",
                                    "14": "IL",
                                    "15": "61846",
                                    "16": "Individual Application",
                                    "17": "2019-12-27 10:35:00.0000000",
                                    "18": "500.0000",
                                    "19": "1182329688",
                                    "20": "NULL",
                                    "21": "NULL",
                                    "22": "2019-11-26 10:35:00.0000000",
                                    "23": "604",
                                    "24": "Serious delinquency",
                                    "25": "Proportion of balances to credit limits is too high on revolving accounts",
                                    "26": "Number of accounts with delinquency",
                                    "27": "Lack of recent installment loan information",
                                    "28": "545766",
                                    "29": "NULL",
                                    "30": "NULL",
                                    "31": "ReLi Linked",
                                    "32": "2019-11-26 00:00:00.0000000",
                                    "33": "ACTion Online",
                                    "34": "2019-11-26 15:03:30.1700000",
                                    "35": "2019-11-26 15:30:21.3900000"
                                },
                                {
                                    "0": "82551",
                                    "1": "RICHARD RODRIGUEZ",
                                    "2": "NULL",
                                    "3": "NULL",
                                    "4": "RICHARD.RODRIGUEZ12@YAHOO.COM",
                                    "5": "1",
                                    "6": "1085789",
                                    "7": "1",
                                    "8": "545570",
                                    "9": "120",
                                    "10": "RELI Unsecured",
                                    "11": "2019-11-26 08:41:00.0000000",
                                    "12": "4432 DEO VOLENTE DR",
                                    "13": "BROWNSVILLE",
                                    "14": "TX",
                                    "15": "78521",
                                    "16": "Individual Application",
                                    "17": "2019-12-27 08:41:00.0000000",
                                    "18": "1500.0000",
                                    "19": "1154316507",
                                    "20": "NULL",
                                    "21": "NULL",
                                    "22": "2019-11-26 08:40:00.0000000",
                                    "23": "685",
                                    "24": "Proportion of balances to credit limits is too high on revolving accounts",
                                    "25": "Lack of recent installment loan information",
                                    "26": "Length of time accounts have been established",
                                    "27": "Too many accounts with balances",
                                    "28": "545570",
                                    "29": "NULL",
                                    "30": "NULL",
                                    "31": "ReLi Linked",
                                    "32": "2019-11-26 00:00:00.0000000",
                                    "33": "ACTion Online",
                                    "34": "2019-11-26 15:03:30.1700000",
                                    "35": "2019-11-26 15:30:21.3900000"
                                },
                                {
                                    "0": "82552",
                                    "1": "MS. CHRISTIE LYN HEJHAL",
                                    "2": "MR. ERIC STEVEN LOFLIN",
                                    "3": "NULL",
                                    "4": "CHRISSYHEJHAL@GMAIL.COM",
                                    "5": "2",
                                    "6": "1085785",
                                    "7": "2",
                                    "8": "545569",
                                    "9": "120",
                                    "10": "RELI Unsecured",
                                    "11": "2019-11-26 08:39:00.0000000",
                                    "12": "603 WILD ROSE TRAIL ",
                                    "13": "CEDAR PARK ",
                                    "14": "TX",
                                    "15": "78613",
                                    "16": "Joint Application",
                                    "17": "2019-12-27 08:39:00.0000000",
                                    "18": "2000.0000",
                                    "19": "1713341483",
                                    "20": "1713362323",
                                    "21": "NULL",
                                    "22": "2019-11-26 08:38:00.0000000",
                                    "23": "622",
                                    "24": "Serious delinquency, and derogatory public record or collection filed",
                                    "25": "Proportion of balances to credit limits is too high on revolving accounts",
                                    "26": "Length of time accounts have been established",
                                    "27": "Number of accounts with delinquency",
                                    "28": "545569",
                                    "29": "NULL",
                                    "30": "NULL",
                                    "31": "ReLi Linked",
                                    "32": "2019-11-26 00:00:00.0000000",
                                    "33": "ACTion Online",
                                    "34": "2019-11-26 15:03:30.1700000",
                                    "35": "2019-11-26 15:30:21.3900000"
                                },
                                {
                                    "0": "82553",
                                    "1": "MS. DENISE NICOLE BROWN",
                                    "2": "NULL",
                                    "3": "NULL",
                                    "4": "DNICOLEBROWN@HOTMAIL.COM",
                                    "5": "1",
                                    "6": "1086249",
                                    "7": "1",
                                    "8": "545783",
                                    "9": "120",
                                    "10": "RELI Unsecured",
                                    "11": "2019-11-26 10:54:00.0000000",
                                    "12": "1909 SHILOH RD 75",
                                    "13": "TYLER",
                                    "14": "TX",
                                    "15": "75703",
                                    "16": "Individual Application",
                                    "17": "2019-12-27 10:54:00.0000000",
                                    "18": "1500.0000",
                                    "19": "1720323631",
                                    "20": "NULL",
                                    "21": "NULL",
                                    "22": "2019-11-26 10:50:00.0000000",
                                    "23": "636",
                                    "24": "Derogatory public record or collection filed",
                                    "25": "Proportion of balances to credit limits is too high on revolving accounts",
                                    "26": "Proportion of loan balances to loan account is too high",
                                    "27": "Length of time since derogatory public record or collection is too short",
                                    "28": "545783",
                                    "29": "NULL",
                                    "30": "NULL",
                                    "31": "ReLi Linked",
                                    "32": "2019-11-26 00:00:00.0000000",
                                    "33": "ACTion Online",
                                    "34": "2019-11-26 15:03:30.1700000",
                                    "35": "2019-11-26 15:30:21.3900000"
                                },
                                {
                                    "0": "82555",
                                    "1": "ROBERT WAYNE OILER",
                                    "2": "NULL",
                                    "3": "NULL",
                                    "4": "HRCONSTRUCTION465@OUTLOOK.COM",
                                    "5": "1",
                                    "6": "1073980",
                                    "7": "1",
                                    "8": "540045",
                                    "9": "120",
                                    "10": "RELI Unsecured",
                                    "11": "2019-11-26 08:12:00.0000000",
                                    "12": "1760 LANCING DRIVE APT 212",
                                    "13": "SALEM",
                                    "14": "VA",
                                    "15": "24153",
                                    "16": "Individual Application",
                                    "17": "2019-12-27 08:12:00.0000000",
                                    "18": "2500.0000",
                                    "19": "1949424541",
                                    "20": "NULL",
                                    "21": "NULL",
                                    "22": "2019-11-14 17:16:00.0000000",
                                    "23": "693",
                                    "24": "Proportion of balances to credit limits is too high on revolving accounts",
                                    "25": "Too many inquiries last 12 months",
                                    "26": "Time since most account opening is too short",
                                    "27": "Too many accounts with balances",
                                    "28": "540045",
                                    "29": "NULL",
                                    "30": "NULL",
                                    "31": "ReLi Linked",
                                    "32": "2019-11-26 00:00:00.0000000",
                                    "33": "ACTion Online",
                                    "34": "2019-11-26 15:03:30.1700000",
                                    "35": "2019-11-26 15:30:21.3900000"
                                },
                                {
                                    "0": "82558",
                                    "1": "JAKE R VAN CAMP",
                                    "2": "NULL",
                                    "3": "NULL",
                                    "4": "JRK19960@GMAIL.COM",
                                    "5": "1",
                                    "6": "1087025",
                                    "7": "1",
                                    "8": "546154",
                                    "9": "120",
                                    "10": "RELI Unsecured",
                                    "11": "2019-11-26 14:15:00.0000000",
                                    "12": "216 4TH ST NE",
                                    "13": "NAVARRE",
                                    "14": "OH",
                                    "15": "44662",
                                    "16": "Individual Application",
                                    "17": "2019-12-27 14:15:00.0000000",
                                    "18": "1500.0000",
                                    "19": "1463389435",
                                    "20": "NULL",
                                    "21": "NULL",
                                    "22": "2019-11-25 15:04:00.0000000",
                                    "23": "678",
                                    "24": "Proportion of balances to credit limits is too high on revolving accounts",
                                    "25": "Length of time accounts have been established",
                                    "26": "Too many accounts with balances",
                                    "27": "Proportion of loan balances to loan account is too high",
                                    "28": "546154",
                                    "29": "NULL",
                                    "30": "NULL",
                                    "31": "ReLi Linked",
                                    "32": "2019-11-26 00:00:00.0000000",
                                    "33": "ACTion Online",
                                    "34": "2019-11-26 15:03:30.1700000",
                                    "35": "2019-11-26 15:30:21.3900000"
                                },
                                {
                                    "0": "82561",
                                    "1": "MR. SHELTON B RICE",
                                    "2": "NULL",
                                    "3": "NULL",
                                    "4": "SBCL77@GMAIL.COM",
                                    "5": "1",
                                    "6": "1086821",
                                    "7": "1",
                                    "8": "546058",
                                    "9": "120",
                                    "10": "RELI Unsecured",
                                    "11": "2019-11-26 13:24:00.0000000",
                                    "12": "15130 CORONA DEL MAR DR",
                                    "13": "HOUSTON",
                                    "14": "TX",
                                    "15": "77083",
                                    "16": "Individual Application",
                                    "17": "2019-12-27 13:24:00.0000000",
                                    "18": "1500.0000",
                                    "19": "1132475458",
                                    "20": "NULL",
                                    "21": "NULL",
                                    "22": "2019-11-26 13:13:00.0000000",
                                    "23": "607",
                                    "24": "Serious delinquency, and derogatory public record or collection filed",
                                    "25": "Length of time since derogatory public record or collection is too short",
                                    "26": "Length of time accounts have been established",
                                    "27": "Too many accounts with balances",
                                    "28": "546058",
                                    "29": "NULL",
                                    "30": "NULL",
                                    "31": "ReLi Linked",
                                    "32": "2019-11-26 00:00:00.0000000",
                                    "33": "ACTion Online",
                                    "34": "2019-11-26 15:03:30.1700000",
                                    "35": "2019-11-26 15:30:21.3900000"
                                },
                                {
                                    "0": "82562",
                                    "1": "MRS. REBECCA SUE HITCH",
                                    "2": "NULL",
                                    "3": "NULL",
                                    "4": "BHITCH842@GMAIL.COM",
                                    "5": "1",
                                    "6": "1086524",
                                    "7": "1",
                                    "8": "545915",
                                    "9": "120",
                                    "10": "RELI Unsecured",
                                    "11": "2019-11-26 11:54:00.0000000",
                                    "12": "583 CEDAR STREET",
                                    "13": "CHILLICOTHE",
                                    "14": "OH",
                                    "15": "45601",
                                    "16": "Individual Application",
                                    "17": "2019-12-27 11:54:00.0000000",
                                    "18": "500.0000",
                                    "19": "1440392445",
                                    "20": "NULL",
                                    "21": "NULL",
                                    "22": "2019-11-25 11:01:00.0000000",
                                    "23": "624",
                                    "24": "Serious delinquency",
                                    "25": "Too few accounts currently paid as agreed",
                                    "26": "Proportion of balances to credit limits is too high on revolving accounts",
                                    "27": "Length of time accounts have been established",
                                    "28": "545915",
                                    "29": "NULL",
                                    "30": "NULL",
                                    "31": "ReLi Linked",
                                    "32": "2019-11-26 00:00:00.0000000",
                                    "33": "ACTion Online",
                                    "34": "2019-11-26 15:03:30.1700000",
                                    "35": "2019-11-26 15:30:21.3900000"
                                },
                                {
                                    "0": "82564",
                                    "1": "THOMAS T VERBEECK",
                                    "2": "NULL",
                                    "3": "NULL",
                                    "4": "TVERBEECK1@GMAIL.COM",
                                    "5": "1",
                                    "6": "1085756",
                                    "7": "1",
                                    "8": "545555",
                                    "9": "120",
                                    "10": "RELI Unsecured",
                                    "11": "2019-11-26 08:33:00.0000000",
                                    "12": "21 EVERGREEN ST",
                                    "13": "GORDONVILLE",
                                    "14": "PA",
                                    "15": "17529",
                                    "16": "Individual Application",
                                    "17": "2019-12-27 08:33:00.0000000",
                                    "18": "1000.0000",
                                    "19": "1512360965",
                                    "20": "NULL",
                                    "21": "NULL",
                                    "22": "2019-11-26 08:28:00.0000000",
                                    "23": "632",
                                    "24": "Serious delinquency, and derogatory public record or collection filed",
                                    "25": "Number of accounts with delinquency",
                                    "26": "Proportion of loan balances to loan account is too high",
                                    "27": "Too few accounts currently paid as agreed",
                                    "28": "545555",
                                    "29": "NULL",
                                    "30": "NULL",
                                    "31": "ReLi Linked",
                                    "32": "2019-11-26 00:00:00.0000000",
                                    "33": "ACTion Online",
                                    "34": "2019-11-26 15:03:30.1700000",
                                    "35": "2019-11-26 15:30:21.3900000"
                                },
                                {
                                    "0": "82568",
                                    "1": "MABRY E HOCUTT",
                                    "2": "NULL",
                                    "3": "NULL",
                                    "4": "MABRYCOMPUTING@HOTMAIL.COM",
                                    "5": "1",
                                    "6": "1070624",
                                    "7": "1",
                                    "8": "538428",
                                    "9": "120",
                                    "10": "RELI Unsecured",
                                    "11": "2019-11-26 08:18:00.0000000",
                                    "12": "368 FAIRMONT LN",
                                    "13": "ARAB",
                                    "14": "AL",
                                    "15": "35016",
                                    "16": "Individual Application",
                                    "17": "2019-12-27 08:18:00.0000000",
                                    "18": "2500.0000",
                                    "19": "8084054439",
                                    "20": "NULL",
                                    "21": "NULL",
                                    "22": "2019-11-26 08:18:00.0000000",
                                    "23": "738",
                                    "24": "Too few accounts currently paid as agreed",
                                    "25": "No recent revolving balances",
                                    "26": "Lack of recent installment loan information",
                                    "27": "Time since most account opening is too short",
                                    "28": "538428",
                                    "29": "NULL",
                                    "30": "NULL",
                                    "31": "ReLi Linked",
                                    "32": "2019-11-26 00:00:00.0000000",
                                    "33": "ACTion Online",
                                    "34": "2019-11-26 15:03:30.1700000",
                                    "35": "2019-11-26 15:30:21.3900000"
                                },
                                {
                                    "0": "82569",
                                    "1": "MR. JEREMY EUGENE SCHEUVRONT",
                                    "2": "NULL",
                                    "3": "NULL",
                                    "4": "JSCHEUVRONT90@GMAIL.COM",
                                    "5": "1",
                                    "6": "1085885",
                                    "7": "1",
                                    "8": "545613",
                                    "9": "120",
                                    "10": "RELI Unsecured",
                                    "11": "2019-11-26 09:47:00.0000000",
                                    "12": "71 GRANNY LANE ",
                                    "13": "MOUNT CLARE ",
                                    "14": "WV",
                                    "15": "26408",
                                    "16": "Individual Application",
                                    "17": "2019-12-27 09:47:00.0000000",
                                    "18": "1500.0000",
                                    "19": "NULL",
                                    "20": "NULL",
                                    "21": "NULL",
                                    "22": "2019-11-26 09:46:00.0000000",
                                    "23": "669",
                                    "24": "Proportion of balances to credit limits is too high on revolving accounts",
                                    "25": "Proportion of loan balances to loan account is too high",
                                    "26": "Too few accounts currently paid as agreed",
                                    "27": "Too many accounts with balances",
                                    "28": "545613",
                                    "29": "NULL",
                                    "30": "NULL",
                                    "31": "Reli Unlinked",
                                    "32": "2019-11-26 00:00:00.0000000",
                                    "33": "ACTion Online",
                                    "34": "2019-11-26 15:03:30.1700000",
                                    "35": "2019-11-26 15:30:21.3900000"
                                },
                                {
                                    "0": "82570",
                                    "1": "MRS. NICOLLE M PASCARELLA",
                                    "2": "MR. JAMES E PASCARELLA",
                                    "3": "NULL",
                                    "4": "PANDORAVAMP72@YAHOO.COM",
                                    "5": "2",
                                    "6": "1085749",
                                    "7": "2",
                                    "8": "545552",
                                    "9": "120",
                                    "10": "RELI Unsecured",
                                    "11": "2019-11-26 07:57:00.0000000",
                                    "12": "629 N SCHENLEY",
                                    "13": "YOUNGSTOWN",
                                    "14": "OH",
                                    "15": "44509",
                                    "16": "Joint Application",
                                    "17": "2019-12-27 07:57:00.0000000",
                                    "18": "2000.0000",
                                    "19": "1491379788",
                                    "20": "NULL",
                                    "21": "NULL",
                                    "22": "2019-11-26 07:56:00.0000000",
                                    "23": "621",
                                    "24": "Serious delinquency, and derogatory public record or collection filed",
                                    "25": "Proportion of balances to credit limits is too high on revolving accounts",
                                    "26": "Proportion of loan balances to loan account is too high",
                                    "27": "Length of time accounts have been established",
                                    "28": "545552",
                                    "29": "NULL",
                                    "30": "NULL",
                                    "31": "ReLi Linked",
                                    "32": "2019-11-26 00:00:00.0000000",
                                    "33": "ACTion Online",
                                    "34": "2019-11-26 15:03:30.1700000",
                                    "35": "2019-11-26 15:30:21.3900000"
                                },
                                {
                                    "0": "82571",
                                    "1": "MS. LAURA VASQUEZ",
                                    "2": "NULL",
                                    "3": "NULL",
                                    "4": "VASQUEZLAURA821@GMAIL.COM",
                                    "5": "1",
                                    "6": "1085803",
                                    "7": "1",
                                    "8": "545577",
                                    "9": "142",
                                    "10": "Re-Starter",
                                    "11": "2019-11-26 10:10:00.0000000",
                                    "12": "1800 E STASSNEY LN APT 101",
                                    "13": "AUSTIN",
                                    "14": "TX",
                                    "15": "78744",
                                    "16": "Individual Application",
                                    "17": "2019-12-27 10:10:00.0000000",
                                    "18": "500.0000",
                                    "19": "NULL",
                                    "20": "NULL",
                                    "21": "NULL",
                                    "22": "NULL",
                                    "23": "NULL",
                                    "24": "NULL",
                                    "25": "NULL",
                                    "26": "NULL",
                                    "27": "NULL",
                                    "28": "545577",
                                    "29": "NULL",
                                    "30": "NULL",
                                    "31": "Reli Unlinked",
                                    "32": "2019-11-26 00:00:00.0000000",
                                    "33": "ACTion Online",
                                    "34": "2019-11-26 15:03:30.1700000",
                                    "35": "2019-11-26 15:30:21.3900000"
                                },
                                {
                                    "0": "82443",
                                    "1": "ALEX ANTONIO ROBERSON",
                                    "2": "NULL",
                                    "3": "NULL",
                                    "4": "ALROB45.AR@GMAIL.COM",
                                    "5": "1",
                                    "6": "1083944",
                                    "7": "1",
                                    "8": "544730",
                                    "9": "120",
                                    "10": "RELI Unsecured",
                                    "11": "2019-11-25 11:28:00.0000000",
                                    "12": "2560 PATHWAY PL",
                                    "13": "MOBILE",
                                    "14": "AL",
                                    "15": "36606",
                                    "16": "Individual Application",
                                    "17": "2019-12-26 11:28:00.0000000",
                                    "18": "1000.0000",
                                    "19": "8106073938",
                                    "20": "NULL",
                                    "21": "NULL",
                                    "22": "2019-11-25 11:28:00.0000000",
                                    "23": "609",
                                    "24": "Serious delinquency, and derogatory public record or collection filed",
                                    "25": "Proportion of balances to credit limits is too high on revolving accounts",
                                    "26": "Number of accounts with delinquency",
                                    "27": "Length of time accounts have been established",
                                    "28": "544730",
                                    "29": "NULL",
                                    "30": "NULL",
                                    "31": "ReLi Linked",
                                    "32": "2019-11-25 00:00:00.0000000",
                                    "33": "ACTion Online",
                                    "34": "2019-11-25 15:02:50.9100000",
                                    "35": "2019-11-25 15:30:31.1433333"
                                },
                                {
                                    "0": "82502",
                                    "1": "KATELYN QUESENBERRY",
                                    "2": "NULL",
                                    "3": "NULL",
                                    "4": "KATIEQBBALL12@HOTMAIL.COM",
                                    "5": "1",
                                    "6": "1085615",
                                    "7": "1",
                                    "8": "545486",
                                    "9": "120",
                                    "10": "RELI Unsecured",
                                    "11": "2019-11-25 16:06:00.0000000",
                                    "12": "308 THOMAS RD",
                                    "13": "MADISON HEIGHTS ",
                                    "14": "VA",
                                    "15": "24572",
                                    "16": "Individual Application",
                                    "17": "2019-12-26 16:06:00.0000000",
                                    "18": "1000.0000",
                                    "19": "NULL",
                                    "20": "NULL",
                                    "21": "NULL",
                                    "22": "2019-11-25 15:58:00.0000000",
                                    "23": "618",
                                    "24": "Serious delinquency, and derogatory public record or collection filed",
                                    "25": "Number of accounts with delinquency",
                                    "26": "Proportion of loan balances to loan account is too high",
                                    "27": "Length of time accounts have been established",
                                    "28": "545486",
                                    "29": "NULL",
                                    "30": "NULL",
                                    "31": "Reli Unlinked",
                                    "32": "2019-11-25 00:00:00.0000000",
                                    "33": "ACTion Online",
                                    "34": "2019-11-26 05:35:30.2700000",
                                    "35": "2019-11-26 07:00:33.8333333"
                                },
                                {
                                    "0": "82452",
                                    "1": "HECTOR SANCHEZ VAZQUEZ",
                                    "2": "DEBORAH DIANE VAZQUEZ",
                                    "3": "NULL",
                                    "4": "MENDOZA_DEBORAH@YAHOO.COM",
                                    "5": "2",
                                    "6": "1080529",
                                    "7": "1",
                                    "8": "543172",
                                    "9": "120",
                                    "10": "RELI Unsecured",
                                    "11": "2019-11-25 08:06:00.0000000",
                                    "12": "716 WELTON AVE SW",
                                    "13": "ROANOKE",
                                    "14": "VA",
                                    "15": "24015",
                                    "16": "Joint Application",
                                    "17": "2019-12-26 08:06:00.0000000",
                                    "18": "1500.0000",
                                    "19": "1949408437",
                                    "20": "NULL",
                                    "21": "NULL",
                                    "22": "2019-11-25 08:06:00.0000000",
                                    "23": "603",
                                    "24": "Serious delinquency",
                                    "25": "Proportion of balances to credit limits is too high on revolving accounts",
                                    "26": "Lack of recent installment loan information",
                                    "27": "Length of time accounts have been established",
                                    "28": "543172",
                                    "29": "NULL",
                                    "30": "NULL",
                                    "31": "ReLi Linked",
                                    "32": "2019-11-25 00:00:00.0000000",
                                    "33": "ACTion Online",
                                    "34": "2019-11-25 15:02:50.9100000",
                                    "35": "2019-11-25 15:30:31.1433333"
                                },
                                {
                                    "0": "82453",
                                    "1": "MRS. REBEKAH JEAN RANKIN",
                                    "2": "MR. MALCOM CHARLES RANKIN",
                                    "3": "NULL",
                                    "4": "BECKY_C_90@HOTMAIL.COM",
                                    "5": "2",
                                    "6": "1086869",
                                    "7": "1",
                                    "8": "546081",
                                    "9": "120",
                                    "10": "RELI Unsecured",
                                    "11": "2019-11-25 14:06:00.0000000",
                                    "12": "780 COMPANY FARM RD",
                                    "13": "ASPERS",
                                    "14": "PA",
                                    "15": "17304",
                                    "16": "Joint Application",
                                    "17": "2019-12-26 14:06:00.0000000",
                                    "18": "2500.0000",
                                    "19": "1336345929",
                                    "20": "NULL",
                                    "21": "NULL",
                                    "22": "2019-11-25 13:59:00.0000000",
                                    "23": "671",
                                    "24": "Number of accounts with delinquency",
                                    "25": "Length of time accounts have been established",
                                    "26": "Proportion of loan balances to loan account is too high",
                                    "27": "Too many inquiries last 12 months",
                                    "28": "546081",
                                    "29": "NULL",
                                    "30": "NULL",
                                    "31": "ReLi Linked",
                                    "32": "2019-11-25 00:00:00.0000000",
                                    "33": "ACTion Online",
                                    "34": "2019-11-25 15:02:50.9100000",
                                    "35": "2019-11-25 15:30:31.1433333"
                                },
                                {
                                    "0": "82454",
                                    "1": "MR. MALCOM CHARLES RANKIN",
                                    "2": "MRS. REBEKAH JEAN RANKIN",
                                    "3": "NULL",
                                    "4": "MAC60912010@GMAIL.COM",
                                    "5": "2",
                                    "6": "1086868",
                                    "7": "2",
                                    "8": "546081",
                                    "9": "120",
                                    "10": "RELI Unsecured",
                                    "11": "2019-11-25 14:06:00.0000000",
                                    "12": "780 COMPANY FARM RD",
                                    "13": "ASPERS",
                                    "14": "PA",
                                    "15": "17304",
                                    "16": "Joint Application",
                                    "17": "2019-12-26 14:06:00.0000000",
                                    "18": "2500.0000",
                                    "19": "1336345929",
                                    "20": "NULL",
                                    "21": "NULL",
                                    "22": "2019-11-25 13:59:00.0000000",
                                    "23": "487",
                                    "24": "Serious delinquency, and derogatory public record or collection filed",
                                    "25": "Too few accounts currently paid as agreed",
                                    "26": "Number of accounts with delinquency",
                                    "27": "No recent non-mortgage balance information",
                                    "28": "546081",
                                    "29": "NULL",
                                    "30": "NULL",
                                    "31": "ReLi Linked",
                                    "32": "2019-11-25 00:00:00.0000000",
                                    "33": "ACTion Online",
                                    "34": "2019-11-25 15:02:50.9100000",
                                    "35": "2019-11-25 15:30:31.1433333"
                                },
                                {
                                    "0": "82455",
                                    "1": "MARY E DOTY",
                                    "2": "NULL",
                                    "3": "NULL",
                                    "4": "MARDOTY78@GMAIL.COM",
                                    "5": "1",
                                    "6": "1083073",
                                    "7": "1",
                                    "8": "544321",
                                    "9": "120",
                                    "10": "RELI Unsecured",
                                    "11": "2019-11-25 12:47:00.0000000",
                                    "12": "475 W MAIN ST LOT 20",
                                    "13": "DELTA",
                                    "14": "OH",
                                    "15": "43515",
                                    "16": "Individual Application",
                                    "17": "2019-12-26 12:47:00.0000000",
                                    "18": "1000.0000",
                                    "19": "1493346348",
                                    "20": "NULL",
                                    "21": "NULL",
                                    "22": "2019-11-25 12:44:00.0000000",
                                    "23": "626",
                                    "24": "Derogatory public record or collection filed",
                                    "25": "Proportion of balances to credit limits is too high on revolving accounts",
                                    "26": "Length of time accounts have been established",
                                    "27": "Proportion of loan balances to loan account is too high",
                                    "28": "544321",
                                    "29": "NULL",
                                    "30": "NULL",
                                    "31": "ReLi Linked",
                                    "32": "2019-11-25 00:00:00.0000000",
                                    "33": "ACTion Online",
                                    "34": "2019-11-25 15:02:50.9100000",
                                    "35": "2019-11-25 15:30:31.1433333"
                                },
                                {
                                    "0": "82459",
                                    "1": "RONALD KEITH WRYE",
                                    "2": "NULL",
                                    "3": "NULL",
                                    "4": "DREMAWRYE11@GMAIL.COM",
                                    "5": "1",
                                    "6": "1079568",
                                    "7": "1",
                                    "8": "542740",
                                    "9": "120",
                                    "10": "RELI Unsecured",
                                    "11": "2019-11-25 08:39:00.0000000",
                                    "12": "225 EDGEWATER DR",
                                    "13": "CEDAR BLUFF",
                                    "14": "VA",
                                    "15": "24609",
                                    "16": "Individual Application",
                                    "17": "2019-12-26 08:39:00.0000000",
                                    "18": "2000.0000",
                                    "19": "1259328936",
                                    "20": "NULL",
                                    "21": "NULL",
                                    "22": "2019-11-21 10:30:00.0000000",
                                    "23": "627",
                                    "24": "Derogatory public record or collection filed",
                                    "25": "Length of time accounts have been established",
                                    "26": "Too few accounts currently paid as agreed",
                                    "27": "Proportion of balances to credit limits is too high on revolving accounts",
                                    "28": "542740",
                                    "29": "NULL",
                                    "30": "NULL",
                                    "31": "ReLi Linked",
                                    "32": "2019-11-25 00:00:00.0000000",
                                    "33": "ACTion Online",
                                    "34": "2019-11-25 15:02:50.9100000",
                                    "35": "2019-11-25 15:30:31.1433333"
                                },
                                {
                                    "0": "82460",
                                    "1": "MR. MICHAEL PAUL HENSON, JR.",
                                    "2": "NULL",
                                    "3": "NULL",
                                    "4": "MICHAELHENSON64@YAHOO.COM",
                                    "5": "1",
                                    "6": "1085857",
                                    "7": "1",
                                    "8": "545600",
                                    "9": "120",
                                    "10": "RELI Unsecured",
                                    "11": "2019-11-25 12:17:00.0000000",
                                    "12": "844 CHURCHILL DR ",
                                    "13": "SHELBY",
                                    "14": "NC",
                                    "15": "28150",
                                    "16": "Individual Application",
                                    "17": "2019-12-26 12:17:00.0000000",
                                    "18": "2000.0000",
                                    "19": "1852429297",
                                    "20": "NULL",
                                    "21": "NULL",
                                    "22": "2019-11-24 17:22:00.0000000",
                                    "23": "687",
                                    "24": "Proportion of balances to credit limits is too high on revolving accounts",
                                    "25": "Length of time accounts have been established",
                                    "26": "Lack of recent installment loan information",
                                    "27": "Too many accounts with balances",
                                    "28": "545600",
                                    "29": "NULL",
                                    "30": "NULL",
                                    "31": "ReLi Linked",
                                    "32": "2019-11-25 00:00:00.0000000",
                                    "33": "ACTion Online",
                                    "34": "2019-11-25 15:02:50.9100000",
                                    "35": "2019-11-25 15:30:31.1433333"
                                },
                                {
                                    "0": "82461",
                                    "1": "MRS. SHANTAE MARIE GANT",
                                    "2": "NULL",
                                    "3": "NULL",
                                    "4": "GANT.SHANTAE@YAHOO.COM",
                                    "5": "1",
                                    "6": "1082866",
                                    "7": "1",
                                    "8": "544228",
                                    "9": "120",
                                    "10": "RELI Unsecured",
                                    "11": "2019-11-25 08:11:00.0000000",
                                    "12": "506 ALBERT LEWIS WAY",
                                    "13": "MANSFIELD",
                                    "14": "LA",
                                    "15": "71052",
                                    "16": "Individual Application",
                                    "17": "2019-12-26 08:11:00.0000000",
                                    "18": "2500.0000",
                                    "19": "8184091604",
                                    "20": "NULL",
                                    "21": "NULL",
                                    "22": "2019-11-25 08:11:00.0000000",
                                    "23": "654",
                                    "24": "Derogatory public record or collection filed",
                                    "25": "Proportion of balances to credit limits is too high on revolving accounts",
                                    "26": "Length of time accounts have been established",
                                    "27": "Proportion of loan balances to loan account is too high",
                                    "28": "544228",
                                    "29": "NULL",
                                    "30": "NULL",
                                    "31": "ReLi Linked",
                                    "32": "2019-11-25 00:00:00.0000000",
                                    "33": "ACTion Online",
                                    "34": "2019-11-25 15:02:50.9100000",
                                    "35": "2019-11-25 15:30:31.1433333"
                                },
                                {
                                    "0": "82462",
                                    "1": "MISS BREE KELLEY",
                                    "2": "NULL",
                                    "3": "NULL",
                                    "4": "BREEKELLEYY@GMAIL.COM",
                                    "5": "1",
                                    "6": "1084539",
                                    "7": "1",
                                    "8": "545001",
                                    "9": "120",
                                    "10": "RELI Unsecured",
                                    "11": "2019-11-25 09:17:00.0000000",
                                    "12": "3631 BRENNAN BLVD 3F",
                                    "13": "AMARILLO",
                                    "14": "TX",
                                    "15": "79121",
                                    "16": "Individual Application",
                                    "17": "2019-12-26 09:17:00.0000000",
                                    "18": "2000.0000",
                                    "19": "1800362293",
                                    "20": "NULL",
                                    "21": "NULL",
                                    "22": "2019-11-25 09:15:00.0000000",
                                    "23": "697",
                                    "24": "Too few accounts currently paid as agreed",
                                    "25": "Lack of recent installment loan information",
                                    "26": "Length of time accounts have been established",
                                    "27": "Too many inquiries last 12 months",
                                    "28": "545001",
                                    "29": "NULL",
                                    "30": "NULL",
                                    "31": "ReLi Linked",
                                    "32": "2019-11-25 00:00:00.0000000",
                                    "33": "ACTion Online",
                                    "34": "2019-11-25 15:02:50.9100000",
                                    "35": "2019-11-25 15:30:31.1433333"
                                },
                                {
                                    "0": "82463",
                                    "1": "SHERRY J WHITE",
                                    "2": "NULL",
                                    "3": "NULL",
                                    "4": "SHERRYJEAN34@GMAIL.COM",
                                    "5": "1",
                                    "6": "1082769",
                                    "7": "1",
                                    "8": "544185",
                                    "9": "120",
                                    "10": "RELI Unsecured",
                                    "11": "2019-11-25 08:49:00.0000000",
                                    "12": "8400 SUNSET BOULEVARD 1101",
                                    "13": "ROWLETT",
                                    "14": "TX",
                                    "15": "75088",
                                    "16": "Individual Application",
                                    "17": "2019-12-26 08:49:00.0000000",
                                    "18": "2000.0000",
                                    "19": "NULL",
                                    "20": "NULL",
                                    "21": "NULL",
                                    "22": "2019-11-25 08:49:00.0000000",
                                    "23": "632",
                                    "24": "Serious delinquency, and derogatory public record or collection filed",
                                    "25": "Proportion of balances to credit limits is too high on revolving accounts",
                                    "26": "Too many accounts with balances",
                                    "27": "Amount past due on accounts",
                                    "28": "544185",
                                    "29": "NULL",
                                    "30": "NULL",
                                    "31": "Reli Unlinked",
                                    "32": "2019-11-25 00:00:00.0000000",
                                    "33": "ACTion Online",
                                    "34": "2019-11-25 15:02:50.9100000",
                                    "35": "2019-11-25 15:30:31.1433333"
                                },
                                {
                                    "0": "82464",
                                    "1": "TEKERIA LYNNETTE CORBIN",
                                    "2": "NULL",
                                    "3": "NULL",
                                    "4": "TEKERIA09@YAHOO.COM",
                                    "5": "1",
                                    "6": "1084580",
                                    "7": "1",
                                    "8": "545017",
                                    "9": "120",
                                    "10": "RELI Unsecured",
                                    "11": "2019-11-25 09:41:00.0000000",
                                    "12": "631 EAST MCCORKLE CIRCLE",
                                    "13": "GREENVILLE",
                                    "14": "MS",
                                    "15": "38703",
                                    "16": "Individual Application",
                                    "17": "2019-12-26 09:41:00.0000000",
                                    "18": "1000.0000",
                                    "19": "8134139925",
                                    "20": "NULL",
                                    "21": "NULL",
                                    "22": "2019-11-25 09:41:00.0000000",
                                    "23": "620",
                                    "24": "Length of time accounts have been established",
                                    "25": "Proportion of loan balances to loan account is too high",
                                    "26": "Too many inquiries last 12 months",
                                    "27": "Proportion of balances to credit limits is too high on revolving accounts",
                                    "28": "545017",
                                    "29": "NULL",
                                    "30": "NULL",
                                    "31": "ReLi Linked",
                                    "32": "2019-11-25 00:00:00.0000000",
                                    "33": "ACTion Online",
                                    "34": "2019-11-25 15:02:50.9100000",
                                    "35": "2019-11-25 15:30:31.1433333"
                                },
                                {
                                    "0": "82505",
                                    "1": "MS. TONY GILL",
                                    "2": "NULL",
                                    "3": "NULL",
                                    "4": "MSTONIE2010@AOL.COM",
                                    "5": "1",
                                    "6": "1085635",
                                    "7": "1",
                                    "8": "545496",
                                    "9": "120",
                                    "10": "RELI Unsecured",
                                    "11": "2019-11-25 16:34:00.0000000",
                                    "12": "759 DERBY AVE",
                                    "13": "CINCINNATI",
                                    "14": "OH",
                                    "15": "45232",
                                    "16": "Individual Application",
                                    "17": "2019-12-26 16:34:00.0000000",
                                    "18": "1500.0000",
                                    "19": "1552378067",
                                    "20": "NULL",
                                    "21": "NULL",
                                    "22": "2019-11-25 16:26:00.0000000",
                                    "23": "624",
                                    "24": "Serious delinquency, and derogatory public record or collection filed",
                                    "25": "Number of accounts with delinquency",
                                    "26": "Proportion of loan balances to loan account is too high",
                                    "27": "Length of time accounts have been established",
                                    "28": "545496",
                                    "29": "NULL",
                                    "30": "NULL",
                                    "31": "ReLi Linked",
                                    "32": "2019-11-25 00:00:00.0000000",
                                    "33": "ACTion Online",
                                    "34": "2019-11-26 05:35:30.2700000",
                                    "35": "2019-11-26 07:00:33.8333333"
                                },
                                {
                                    "0": "82471",
                                    "1": "DEBORAH DIANE VAZQUEZ",
                                    "2": "HECTOR SANCHEZ VAZQUEZ",
                                    "3": "NULL",
                                    "4": "MENDOZA_DEBORAH@YAHOO.COM",
                                    "5": "2",
                                    "6": "1080528",
                                    "7": "2",
                                    "8": "543172",
                                    "9": "120",
                                    "10": "RELI Unsecured",
                                    "11": "2019-11-25 08:06:00.0000000",
                                    "12": "716 WELTON AVE SW",
                                    "13": "ROANOKE",
                                    "14": "VA",
                                    "15": "24015",
                                    "16": "Joint Application",
                                    "17": "2019-12-26 08:06:00.0000000",
                                    "18": "1500.0000",
                                    "19": "1949408437",
                                    "20": "NULL",
                                    "21": "NULL",
                                    "22": "2019-11-25 08:06:00.0000000",
                                    "23": "565",
                                    "24": "Serious delinquency, and derogatory public record or collection filed",
                                    "25": "Proportion of balances to credit limits is too high on revolving accounts",
                                    "26": "Time since delinquency is too recent or unknown",
                                    "27": "Length of time accounts have been established",
                                    "28": "543172",
                                    "29": "NULL",
                                    "30": "NULL",
                                    "31": "ReLi Linked",
                                    "32": "2019-11-25 00:00:00.0000000",
                                    "33": "ACTion Online",
                                    "34": "2019-11-25 15:02:50.9100000",
                                    "35": "2019-11-25 15:30:31.1433333"
                                },
                                {
                                    "0": "82483",
                                    "1": "DOROTHY L DELP",
                                    "2": "NULL",
                                    "3": "NULL",
                                    "4": "GAMMADD424@GMAIL.COM",
                                    "5": "1",
                                    "6": "1085492",
                                    "7": "1",
                                    "8": "545429",
                                    "9": "120",
                                    "10": "RELI Unsecured",
                                    "11": "2019-11-25 15:52:00.0000000",
                                    "12": "3601 WESTVILLE LAKE RD",
                                    "13": "BELOIT",
                                    "14": "OH",
                                    "15": "44609",
                                    "16": "Individual Application",
                                    "17": "2019-12-26 15:52:00.0000000",
                                    "18": "1500.0000",
                                    "19": "NULL",
                                    "20": "NULL",
                                    "21": "NULL",
                                    "22": "2019-11-25 15:50:00.0000000",
                                    "23": "673",
                                    "24": "Serious delinquency, and derogatory public record or collection filed",
                                    "25": "Number of accounts with delinquency",
                                    "26": "Lack of recent installment loan information",
                                    "27": "Length of time accounts have been established",
                                    "28": "545429",
                                    "29": "NULL",
                                    "30": "NULL",
                                    "31": "Reli Unlinked",
                                    "32": "2019-11-25 00:00:00.0000000",
                                    "33": "ACTion Online",
                                    "34": "2019-11-26 05:35:30.2700000",
                                    "35": "2019-11-26 07:00:33.8333333"
                                },
                                {
                                    "0": "82484",
                                    "1": "CARMEN CORTEZ",
                                    "2": "NULL",
                                    "3": "NULL",
                                    "4": "CRIDER40@HOTMAIL.COM",
                                    "5": "1",
                                    "6": "1085338",
                                    "7": "1",
                                    "8": "545352",
                                    "9": "120",
                                    "10": "RELI Unsecured",
                                    "11": "2019-11-25 15:09:00.0000000",
                                    "12": "13555 PASA ROBLES LANE",
                                    "13": "HOUSTON",
                                    "14": "TX",
                                    "15": "77083",
                                    "16": "Individual Application",
                                    "17": "2019-12-26 15:09:00.0000000",
                                    "18": "2000.0000",
                                    "19": "1115455550",
                                    "20": "NULL",
                                    "21": "NULL",
                                    "22": "2019-11-23 17:54:00.0000000",
                                    "23": "637",
                                    "24": "Serious delinquency, and derogatory public record or collection filed",
                                    "25": "Proportion of loan balances to loan account is too high",
                                    "26": "Too many accounts with balances",
                                    "27": "Length of time accounts have been established",
                                    "28": "545352",
                                    "29": "NULL",
                                    "30": "NULL",
                                    "31": "ReLi Linked",
                                    "32": "2019-11-25 00:00:00.0000000",
                                    "33": "ACTion Online",
                                    "34": "2019-11-26 05:35:30.2700000",
                                    "35": "2019-11-26 07:00:33.8333333"
                                },
                                {
                                    "0": "82490",
                                    "1": "BLAKE J WILKS",
                                    "2": "NULL",
                                    "3": "NULL",
                                    "4": "BWILKS1987@YAHOO.COM",
                                    "5": "1",
                                    "6": "1085366",
                                    "7": "1",
                                    "8": "545365",
                                    "9": "120",
                                    "10": "RELI Unsecured",
                                    "11": "2019-11-25 15:14:00.0000000",
                                    "12": "20 GREENHOUSE DR",
                                    "13": "ZEBULON",
                                    "14": "NC",
                                    "15": "27597",
                                    "16": "Individual Application",
                                    "17": "2019-12-26 15:14:00.0000000",
                                    "18": "1000.0000",
                                    "19": "1893353886",
                                    "20": "NULL",
                                    "21": "NULL",
                                    "22": "2019-11-23 19:12:00.0000000",
                                    "23": "628",
                                    "24": "Serious delinquency, and derogatory public record or collection filed",
                                    "25": "Proportion of balances to credit limits is too high on revolving accounts",
                                    "26": "Length of time accounts have been established",
                                    "27": "Too many accounts with balances",
                                    "28": "545365",
                                    "29": "NULL",
                                    "30": "NULL",
                                    "31": "ReLi Linked",
                                    "32": "2019-11-25 00:00:00.0000000",
                                    "33": "ACTion Online",
                                    "34": "2019-11-26 05:35:30.2700000",
                                    "35": "2019-11-26 07:00:33.8333333"
                                },
                                {
                                    "0": "82492",
                                    "1": "GIOVANNA JUANITA NEWBILL",
                                    "2": "NULL",
                                    "3": "NULL",
                                    "4": "PLANTHOG@OUTLOOK.COM",
                                    "5": "1",
                                    "6": "1085291",
                                    "7": "1",
                                    "8": "545331",
                                    "9": "120",
                                    "10": "RELI Unsecured",
                                    "11": "2019-11-25 14:53:00.0000000",
                                    "12": "7521 WILDER AVENUE",
                                    "13": "JACKSONVILLE ",
                                    "14": "FL",
                                    "15": "32208",
                                    "16": "Individual Application",
                                    "17": "2019-12-26 14:53:00.0000000",
                                    "18": "1500.0000",
                                    "19": "8254040812",
                                    "20": "NULL",
                                    "21": "NULL",
                                    "22": "2019-11-23 16:48:00.0000000",
                                    "23": "639",
                                    "24": "Proportion of balances to credit limits is too high on revolving accounts",
                                    "25": "Length of time accounts have been established",
                                    "26": "Proportion of loan balances to loan account is too high",
                                    "27": "Time since most account opening is too short",
                                    "28": "545331",
                                    "29": "NULL",
                                    "30": "NULL",
                                    "31": "ReLi Linked",
                                    "32": "2019-11-25 00:00:00.0000000",
                                    "33": "ACTion Online",
                                    "34": "2019-11-26 05:35:30.2700000",
                                    "35": "2019-11-26 07:00:33.8333333"
                                },
                                {
                                    "0": "82514",
                                    "1": "MS. SYDNEY T MCGEE",
                                    "2": "NULL",
                                    "3": "NULL",
                                    "4": "SYDNEY.T.MCGEE@GMAIL.COM",
                                    "5": "1",
                                    "6": "1085671",
                                    "7": "1",
                                    "8": "545515",
                                    "9": "144",
                                    "10": "RELI Unsecured LOC",
                                    "11": "2019-11-25 16:57:00.0000000",
                                    "12": "714A DOUGLAS AVENUE",
                                    "13": "DIXON",
                                    "14": "IL",
                                    "15": "61021",
                                    "16": "Individual Application",
                                    "17": "2019-12-26 16:57:00.0000000",
                                    "18": "2500.0000",
                                    "19": "1189348038",
                                    "20": "NULL",
                                    "21": "NULL",
                                    "22": "2019-11-24 11:12:00.0000000",
                                    "23": "673",
                                    "24": "Length of time accounts have been established",
                                    "25": "Proportion of balances to credit limits is too high on revolving accounts",
                                    "26": "Lack of recent installment loan information",
                                    "27": "Lack of recent bank revolving information",
                                    "28": "545515",
                                    "29": "NULL",
                                    "30": "NULL",
                                    "31": "ReLi Linked",
                                    "32": "2019-11-25 00:00:00.0000000",
                                    "33": "ACTion Online",
                                    "34": "2019-11-26 05:35:30.2700000",
                                    "35": "2019-11-26 07:00:33.8333333"
                                },
                                {
                                    "0": "82441",
                                    "1": "ELIUD D MORALES",
                                    "2": "NULL",
                                    "3": "NULL",
                                    "4": "DANMASEOSARIO@GMAIL.COM",
                                    "5": "1",
                                    "6": "1083985",
                                    "7": "1",
                                    "8": "544749",
                                    "9": "120",
                                    "10": "RELI Unsecured",
                                    "11": "2019-11-25 09:37:00.0000000",
                                    "12": "306 S SAN HORACIO",
                                    "13": "SAN ANTONIO",
                                    "14": "TX",
                                    "15": "78237",
                                    "16": "Individual Application",
                                    "17": "2019-12-26 09:37:00.0000000",
                                    "18": "1000.0000",
                                    "19": "1609448517",
                                    "20": "NULL",
                                    "21": "NULL",
                                    "22": "2019-11-25 09:37:00.0000000",
                                    "23": "615",
                                    "24": "Serious delinquency",
                                    "25": "Proportion of balances to credit limits is too high on revolving accounts",
                                    "26": "Length of time accounts have been established",
                                    "27": "Too few accounts currently paid as agreed",
                                    "28": "544749",
                                    "29": "NULL",
                                    "30": "NULL",
                                    "31": "ReLi Linked",
                                    "32": "2019-11-25 00:00:00.0000000",
                                    "33": "ACTion Online",
                                    "34": "2019-11-25 15:02:50.9100000",
                                    "35": "2019-11-25 15:30:31.1433333"
                                },
                                {
                                    "0": "82419",
                                    "1": "DELVIN D HARPER",
                                    "2": "NULL",
                                    "3": "NULL",
                                    "4": "HARDEL059@GMAIL.COM",
                                    "5": "1",
                                    "6": "1084663",
                                    "7": "1",
                                    "8": "545051",
                                    "9": "120",
                                    "10": "RELI Unsecured",
                                    "11": "2019-11-23 16:18:00.0000000",
                                    "12": "5321 TOMMYE ST",
                                    "13": "HOUSTON",
                                    "14": "TX",
                                    "15": "77028",
                                    "16": "Individual Application",
                                    "17": "2019-12-24 16:18:00.0000000",
                                    "18": "2500.0000",
                                    "19": "1370356469",
                                    "20": "NULL",
                                    "21": "NULL",
                                    "22": "2019-11-23 00:09:00.0000000",
                                    "23": "677",
                                    "24": "Length of time accounts have been established",
                                    "25": "Lack of recent revolving account information",
                                    "26": "Lack of recent bank revolving information",
                                    "27": "Too many accounts with balances",
                                    "28": "545051",
                                    "29": "NULL",
                                    "30": "NULL",
                                    "31": "ReLi Linked",
                                    "32": "2019-11-23 00:00:00.0000000",
                                    "33": "ACTion Online",
                                    "34": "2019-11-24 05:32:57.9333333",
                                    "35": "2019-11-24 07:00:39.9400000"
                                },
                                {
                                    "0": "82522",
                                    "1": "ANTHONY MITCHELL",
                                    "2": "NULL",
                                    "3": "NULL",
                                    "4": "MTONY5662@GMAIL.COM",
                                    "5": "1",
                                    "6": "1086064",
                                    "7": "1",
                                    "8": "545700",
                                    "9": "120",
                                    "10": "RELI Unsecured",
                                    "11": "2019-11-26 10:23:00.0000000",
                                    "12": "1200 GRAND OAK BLVD APT 813",
                                    "13": "SARALAND",
                                    "14": "AL",
                                    "15": "36571",
                                    "16": "Individual Application",
                                    "17": "2019-12-27 10:23:00.0000000",
                                    "18": "1500.0000",
                                    "19": "NULL",
                                    "20": "NULL",
                                    "21": "NULL",
                                    "22": "2019-11-26 10:23:00.0000000",
                                    "23": "626",
                                    "24": "Derogatory public record or collection filed",
                                    "25": "Length of time accounts have been established",
                                    "26": "Too few accounts currently paid as agreed",
                                    "27": "Proportion of balances to credit limits is too high on revolving accounts",
                                    "28": "545700",
                                    "29": "NULL",
                                    "30": "NULL",
                                    "31": "Reli Unlinked",
                                    "32": "2019-11-26 00:00:00.0000000",
                                    "33": "ACTion Online",
                                    "34": "2019-11-26 15:03:30.1700000",
                                    "35": "2019-11-26 15:30:21.3900000"
                                },
                                {
                                    "0": "82424",
                                    "1": "MR. KEVIN J MARAVILLA",
                                    "2": "NULL",
                                    "3": "NULL",
                                    "4": "DIOSMESALVO1234@GMAIL.COM",
                                    "5": "1",
                                    "6": "1085103",
                                    "7": "1",
                                    "8": "545242",
                                    "9": "120",
                                    "10": "RELI Unsecured",
                                    "11": "2019-11-23 15:20:00.0000000",
                                    "12": "13117 CANDLEWICK ST ",
                                    "13": "HOUSTON",
                                    "14": "TX",
                                    "15": "77015",
                                    "16": "Individual Application",
                                    "17": "2019-12-24 15:20:00.0000000",
                                    "18": "500.0000",
                                    "19": "1004364749",
                                    "20": "NULL",
                                    "21": "NULL",
                                    "22": "2019-11-23 14:07:00.0000000",
                                    "23": "645",
                                    "24": "Length of time accounts have been established",
                                    "25": "Lack of recent revolving account information",
                                    "26": "Proportion of loan balances to loan account is too high",
                                    "27": "Too many accounts with balances",
                                    "28": "545242",
                                    "29": "NULL",
                                    "30": "NULL",
                                    "31": "ReLi Linked",
                                    "32": "2019-11-23 00:00:00.0000000",
                                    "33": "ACTion Online",
                                    "34": "2019-11-24 05:32:57.9333333",
                                    "35": "2019-11-24 07:00:39.9400000"
                                },
                                {
                                    "0": "82425",
                                    "1": "DAVID WAYNE POOLE",
                                    "2": "NULL",
                                    "3": "NULL",
                                    "4": "DWPDAVE@AOL.COM",
                                    "5": "1",
                                    "6": "1085005",
                                    "7": "1",
                                    "8": "545204",
                                    "9": "120",
                                    "10": "RELI Unsecured",
                                    "11": "2019-11-23 15:04:00.0000000",
                                    "12": "6690 LAWSON AVE",
                                    "13": "GLOUCESTER",
                                    "14": "VA",
                                    "15": "23061",
                                    "16": "Individual Application",
                                    "17": "2019-12-24 15:04:00.0000000",
                                    "18": "500.0000",
                                    "19": "1941353946",
                                    "20": "NULL",
                                    "21": "NULL",
                                    "22": "2019-11-23 13:58:00.0000000",
                                    "23": "608",
                                    "24": "Derogatory public record or collection filed",
                                    "25": "Proportion of balances to credit limits is too high on revolving accounts",
                                    "26": "Proportion of loan balances to loan account is too high",
                                    "27": "Length of time accounts have been established",
                                    "28": "545204",
                                    "29": "NULL",
                                    "30": "NULL",
                                    "31": "ReLi Linked",
                                    "32": "2019-11-23 00:00:00.0000000",
                                    "33": "ACTion Online",
                                    "34": "2019-11-24 05:32:57.9333333",
                                    "35": "2019-11-24 07:00:39.9400000"
                                },
                                {
                                    "0": "82524",
                                    "1": "CARRIE BURLINGAME",
                                    "2": "DARRYL BURLINGAME",
                                    "3": "NULL",
                                    "4": "DARRYLBU7971@GMAI.COM",
                                    "5": "2",
                                    "6": "1086742",
                                    "7": "2",
                                    "8": "546024",
                                    "9": "120",
                                    "10": "RELI Unsecured",
                                    "11": "2019-11-26 12:45:00.0000000",
                                    "12": "2444 SWEDE HILL ROAD",
                                    "13": "RUSSELL",
                                    "14": "PA",
                                    "15": "16345",
                                    "16": "Joint Application",
                                    "17": "2019-12-27 12:45:00.0000000",
                                    "18": "2500.0000",
                                    "19": "1294341316",
                                    "20": "NULL",
                                    "21": "NULL",
                                    "22": "2019-11-26 12:45:00.0000000",
                                    "23": "719",
                                    "24": "Proportion of balances to credit limits is too high on revolving accounts",
                                    "25": "Time since most account opening is too short",
                                    "26": "Proportion of loan balances to loan account is too high",
                                    "27": "Too many accounts with balances",
                                    "28": "546024",
                                    "29": "NULL",
                                    "30": "NULL",
                                    "31": "ReLi Linked",
                                    "32": "2019-11-26 00:00:00.0000000",
                                    "33": "ACTion Online",
                                    "34": "2019-11-26 15:03:30.1700000",
                                    "35": "2019-11-26 15:30:21.3900000"
                                }
                            ]
                        },
                        "text/html": "<table><tr><th>ID</th><th>BorrowerName</th><th>CoBorrowerName</th><th>CoBorrowerName2</th><th>Email</th><th>BorrowerCount</th><th>BorrowerID</th><th>BorOrderNum</th><th>AppID</th><th>ProductID</th><th>Product</th><th>Date</th><th>MailingStreet</th><th>MailingCity</th><th>MailingState</th><th>MailingZip</th><th>ApplicantType</th><th>ExpirationDate</th><th>LoanAmount</th><th>WNBAccount1</th><th>WNBAccount2</th><th>WNBAccount3</th><th>FICOScoreDate</th><th>FICOScore</th><th>KeyFactor1</th><th>KeyFactor2</th><th>KeyFactor3</th><th>KeyFactor4</th><th>AccountNum</th><th>DateDecisionedUpdated</th><th>CreditAvailableDate</th><th>Template</th><th>BusinessDate</th><th>AppSource</th><th>InsertTime</th><th>SentDate</th></tr><tr><td>64</td><td>JK THISISATEST</td><td>NULL</td><td>NULL</td><td>jstanaland@woodforest.com</td><td>1</td><td>0</td><td>1</td><td>0</td><td>120</td><td>RELI Unsecured</td><td>2016-10-26 11:18:57.2470000</td><td>25231 Grogan's Mill Rd</td><td>THE WOODLANDS</td><td>TX</td><td>77380</td><td>Individual Application</td><td>2016-11-26 11:18:57.2470000</td><td>2000.0000</td><td>1234567890</td><td>2345678901</td><td>NULL</td><td>2016-10-26 11:18:57.2470000</td><td>622</td><td>Serious delinquency, and derogatory public record or collection filed</td><td>Proportion of balances to credit limits is too high on revolving accounts</td><td>Length of time since derogatory public record or collection is too short</td><td>Too many accounts with balances</td><td>0</td><td>NULL</td><td>NULL</td><td>ReLi Linked</td><td>2016-10-26 11:18:57.2470000</td><td>ACTion Online</td><td>2016-10-27 11:18:57.2470000</td><td>2019-11-26 15:30:21.3900000</td></tr><tr><td>82529</td><td>BOBBY JOE WATTS</td><td>NULL</td><td>NULL</td><td>KODIAKKING1223@GMAIL.COM</td><td>1</td><td>1085699</td><td>1</td><td>545529</td><td>120</td><td>RELI Unsecured</td><td>2019-11-26 08:53:00.0000000</td><td>1408 FINGER BRIDGE RD</td><td>HICKORY</td><td>NC</td><td>28601</td><td>Individual Application</td><td>2019-12-27 08:53:00.0000000</td><td>1500.0000</td><td>1874397571</td><td>NULL</td><td>NULL</td><td>2019-11-24 11:58:00.0000000</td><td>623</td><td>Proportion of balances to credit limits is too high on revolving accounts</td><td>Length of time accounts have been established</td><td>Lack of recent installment loan information</td><td>Length of time revolving accounts have been established</td><td>545529</td><td>NULL</td><td>NULL</td><td>ReLi Linked</td><td>2019-11-26 00:00:00.0000000</td><td>ACTion Online</td><td>2019-11-26 15:03:30.1700000</td><td>2019-11-26 15:30:21.3900000</td></tr><tr><td>82530</td><td>DARRYL BURLINGAME</td><td>CARRIE BURLINGAME</td><td>NULL</td><td>DARRYLBU1971@GMAIL.COM</td><td>2</td><td>1086743</td><td>1</td><td>546024</td><td>120</td><td>RELI Unsecured</td><td>2019-11-26 12:45:00.0000000</td><td>2444 SWEDE HILL ROAD</td><td>RUSSELL</td><td>PA</td><td>16345</td><td>Joint Application</td><td>2019-12-27 12:45:00.0000000</td><td>2500.0000</td><td>1294341316</td><td>NULL</td><td>NULL</td><td>2019-11-26 12:45:00.0000000</td><td>631</td><td>Proportion of balances to credit limits is too high on revolving accounts</td><td>Too few accounts currently paid as agreed</td><td>Length of time accounts have been established</td><td>Lack of recent installment loan information</td><td>546024</td><td>NULL</td><td>NULL</td><td>ReLi Linked</td><td>2019-11-26 00:00:00.0000000</td><td>ACTion Online</td><td>2019-11-26 15:03:30.1700000</td><td>2019-11-26 15:30:21.3900000</td></tr><tr><td>82532</td><td>DAMIAN D DRAKEFORD</td><td>NULL</td><td>NULL</td><td>MZ.DRAKEFORD@YAHOO.COM</td><td>1</td><td>1087967</td><td>1</td><td>546593</td><td>120</td><td>RELI Unsecured</td><td>2019-11-26 12:03:00.0000000</td><td>6100 FLAGSTONE LANE</td><td>INDIAN TRAIL</td><td>NC</td><td>28079</td><td>Individual Application</td><td>2019-12-27 12:03:00.0000000</td><td>500.0000</td><td>1812542445</td><td>NULL</td><td>NULL</td><td>2019-11-26 10:40:00.0000000</td><td>612</td><td>Serious delinquency, and derogatory public record or collection filed</td><td>Proportion of balances to credit limits is too high on revolving accounts</td><td>Length of time accounts have been established</td><td>Length of time since derogatory public record or collection is too short</td><td>546593</td><td>NULL</td><td>NULL</td><td>ReLi Linked</td><td>2019-11-26 00:00:00.0000000</td><td>ACTion Online</td><td>2019-11-26 15:03:30.1700000</td><td>2019-11-26 15:30:21.3900000</td></tr><tr><td>82533</td><td>DAMON ELLIOTT CROFT</td><td>NULL</td><td>NULL</td><td>DAMONCROFT513@GMAIL.COM</td><td>1</td><td>1083556</td><td>1</td><td>544546</td><td>120</td><td>RELI Unsecured</td><td>2019-11-26 10:16:00.0000000</td><td>837 VIRGINIA AVE</td><td>FAIRMONT</td><td>WV</td><td>26554</td><td>Individual Application</td><td>2019-12-27 10:16:00.0000000</td><td>1000.0000</td><td>1345363954</td><td>NULL</td><td>NULL</td><td>2019-11-26 10:15:00.0000000</td><td>605</td><td>Serious delinquency, and derogatory public record or collection filed</td><td>Proportion of balances to credit limits is too high on revolving accounts</td><td>Length of time accounts have been established</td><td>Number of accounts with delinquency</td><td>544546</td><td>NULL</td><td>NULL</td><td>ReLi Linked</td><td>2019-11-26 00:00:00.0000000</td><td>ACTion Online</td><td>2019-11-26 15:03:30.1700000</td><td>2019-11-26 15:30:21.3900000</td></tr><tr><td>82540</td><td>KATHIA F GARCIA</td><td>NULL</td><td>NULL</td><td>KATFABGALPER@GMAIL.COM</td><td>1</td><td>1084377</td><td>1</td><td>544929</td><td>120</td><td>RELI Unsecured</td><td>2019-11-26 12:22:00.0000000</td><td>375 MEDIA LUNA RD APT 2702</td><td>BROWNSVILLE</td><td>TX</td><td>78521</td><td>Individual Application</td><td>2019-12-27 12:22:00.0000000</td><td>1500.0000</td><td>1155309543</td><td>NULL</td><td>NULL</td><td>2019-11-22 16:11:00.0000000</td><td>640</td><td>Length of time accounts have been established</td><td>Proportion of balances to credit limits is too high on revolving accounts</td><td>Lack of recent installment loan information</td><td>Too many accounts with balances</td><td>544929</td><td>NULL</td><td>NULL</td><td>ReLi Linked</td><td>2019-11-26 00:00:00.0000000</td><td>ACTion Online</td><td>2019-11-26 15:03:30.1700000</td><td>2019-11-26 15:30:21.3900000</td></tr><tr><td>82543</td><td>MARISSA HAYDEN</td><td>NULL</td><td>NULL</td><td>MARISSA.HAYDEN426@GMAIL.COM</td><td>1</td><td>1084656</td><td>1</td><td>545048</td><td>120</td><td>RELI Unsecured</td><td>2019-11-26 12:33:00.0000000</td><td>2411 HIGH STREET</td><td>NATRONA HEIGHTS</td><td>PA</td><td>15065</td><td>Individual Application</td><td>2019-12-27 12:33:00.0000000</td><td>1500.0000</td><td>NULL</td><td>NULL</td><td>NULL</td><td>2019-11-22 23:23:00.0000000</td><td>699</td><td>Length of time accounts have been established</td><td>Proportion of balances to credit limits is too high on revolving accounts</td><td>Lack of recent installment loan information</td><td>Length of time revolving accounts have been established</td><td>545048</td><td>NULL</td><td>NULL</td><td>Reli Unlinked</td><td>2019-11-26 00:00:00.0000000</td><td>ACTion Online</td><td>2019-11-26 15:03:30.1700000</td><td>2019-11-26 15:30:21.3900000</td></tr><tr><td>82545</td><td>JOSEPH MEDARD VILLATORO</td><td>NULL</td><td>NULL</td><td>JOEYVILLATORO18FINAL@GMAIL.COM</td><td>1</td><td>1086805</td><td>1</td><td>546050</td><td>120</td><td>RELI Unsecured</td><td>2019-11-26 12:59:00.0000000</td><td>1060 OLD HILLS BRIDGE RD</td><td>PAULINE</td><td>SC</td><td>29374</td><td>Individual Application</td><td>2019-12-27 12:59:00.0000000</td><td>1000.0000</td><td>8263006663</td><td>NULL</td><td>NULL</td><td>2019-11-26 12:59:00.0000000</td><td>616</td><td>Length of time accounts have been established</td><td>Proportion of balances to credit limits is too high on revolving accounts</td><td>Too many inquiries last 12 months</td><td>Length of time revolving accounts have been established</td><td>546050</td><td>NULL</td><td>NULL</td><td>ReLi Linked</td><td>2019-11-26 00:00:00.0000000</td><td>ACTion Online</td><td>2019-11-26 15:03:30.1700000</td><td>2019-11-26 15:30:21.3900000</td></tr><tr><td>82546</td><td>MRS. ERIKA CHAPMAN-LAWRENCE</td><td>NULL</td><td>NULL</td><td>ECHAP00039@GMAIL.COM</td><td>1</td><td>1083293</td><td>1</td><td>544426</td><td>120</td><td>RELI Unsecured</td><td>2019-11-26 08:34:00.0000000</td><td>909 WEDGEWOOD LANE </td><td>ASHEVILLE</td><td>NC</td><td>28803</td><td>Individual Application</td><td>2019-12-27 08:34:00.0000000</td><td>1500.0000</td><td>1863364681</td><td>NULL</td><td>NULL</td><td>2019-11-26 08:34:00.0000000</td><td>642</td><td>Serious delinquency, and derogatory public record or collection filed</td><td>Length of time accounts have been established</td><td>Too many inquiries last 12 months</td><td>Too many accounts with balances</td><td>544426</td><td>NULL</td><td>NULL</td><td>ReLi Linked</td><td>2019-11-26 00:00:00.0000000</td><td>ACTion Online</td><td>2019-11-26 15:03:30.1700000</td><td>2019-11-26 15:30:21.3900000</td></tr><tr><td>82548</td><td>MR. ERIC STEVEN LOFLIN</td><td>MS. CHRISTIE LYN HEJHAL</td><td>NULL</td><td>CHRISSYHEJHAL@GMAIL.COM</td><td>2</td><td>1085786</td><td>1</td><td>545569</td><td>120</td><td>RELI Unsecured</td><td>2019-11-26 08:39:00.0000000</td><td>603 WILD ROSE TRAIL </td><td>CEDAR PARK </td><td>TX</td><td>78613</td><td>Joint Application</td><td>2019-12-27 08:39:00.0000000</td><td>2000.0000</td><td>1713341483</td><td>1713362323</td><td>NULL</td><td>2019-11-26 08:38:00.0000000</td><td>584</td><td>Serious delinquency, and derogatory public record or collection filed</td><td>Number of accounts with delinquency</td><td>Too few accounts currently paid as agreed</td><td>Proportion of loan balances to loan account is too high</td><td>545569</td><td>NULL</td><td>NULL</td><td>ReLi Linked</td><td>2019-11-26 00:00:00.0000000</td><td>ACTion Online</td><td>2019-11-26 15:03:30.1700000</td><td>2019-11-26 15:30:21.3900000</td></tr><tr><td>82549</td><td>MR. JAMES E PASCARELLA</td><td>MRS. NICOLLE M PASCARELLA</td><td>NULL</td><td>PANDORAVAMP72@YAHOO.COM</td><td>2</td><td>1085750</td><td>1</td><td>545552</td><td>120</td><td>RELI Unsecured</td><td>2019-11-26 07:57:00.0000000</td><td>629 N SCHENLEY</td><td>YOUNGSTOWN</td><td>OH</td><td>44509</td><td>Joint Application</td><td>2019-12-27 07:57:00.0000000</td><td>2000.0000</td><td>1491379788</td><td>NULL</td><td>NULL</td><td>2019-11-26 07:56:00.0000000</td><td>631</td><td>Serious delinquency</td><td>Length of time accounts have been established</td><td>Proportion of balances to credit limits is too high on revolving accounts</td><td>Too few accounts currently paid as agreed</td><td>545552</td><td>NULL</td><td>NULL</td><td>ReLi Linked</td><td>2019-11-26 00:00:00.0000000</td><td>ACTion Online</td><td>2019-11-26 15:03:30.1700000</td><td>2019-11-26 15:30:21.3900000</td></tr><tr><td>82550</td><td>RICHARD KEITH</td><td>NULL</td><td>NULL</td><td>STURBO01@YAHOO.COM</td><td>1</td><td>1086215</td><td>1</td><td>545766</td><td>120</td><td>RELI Unsecured</td><td>2019-11-26 10:35:00.0000000</td><td>912 NORTH MAIN STREET</td><td>GEORGETOWN</td><td>IL</td><td>61846</td><td>Individual Application</td><td>2019-12-27 10:35:00.0000000</td><td>500.0000</td><td>1182329688</td><td>NULL</td><td>NULL</td><td>2019-11-26 10:35:00.0000000</td><td>604</td><td>Serious delinquency</td><td>Proportion of balances to credit limits is too high on revolving accounts</td><td>Number of accounts with delinquency</td><td>Lack of recent installment loan information</td><td>545766</td><td>NULL</td><td>NULL</td><td>ReLi Linked</td><td>2019-11-26 00:00:00.0000000</td><td>ACTion Online</td><td>2019-11-26 15:03:30.1700000</td><td>2019-11-26 15:30:21.3900000</td></tr><tr><td>82551</td><td>RICHARD RODRIGUEZ</td><td>NULL</td><td>NULL</td><td>RICHARD.RODRIGUEZ12@YAHOO.COM</td><td>1</td><td>1085789</td><td>1</td><td>545570</td><td>120</td><td>RELI Unsecured</td><td>2019-11-26 08:41:00.0000000</td><td>4432 DEO VOLENTE DR</td><td>BROWNSVILLE</td><td>TX</td><td>78521</td><td>Individual Application</td><td>2019-12-27 08:41:00.0000000</td><td>1500.0000</td><td>1154316507</td><td>NULL</td><td>NULL</td><td>2019-11-26 08:40:00.0000000</td><td>685</td><td>Proportion of balances to credit limits is too high on revolving accounts</td><td>Lack of recent installment loan information</td><td>Length of time accounts have been established</td><td>Too many accounts with balances</td><td>545570</td><td>NULL</td><td>NULL</td><td>ReLi Linked</td><td>2019-11-26 00:00:00.0000000</td><td>ACTion Online</td><td>2019-11-26 15:03:30.1700000</td><td>2019-11-26 15:30:21.3900000</td></tr><tr><td>82552</td><td>MS. CHRISTIE LYN HEJHAL</td><td>MR. ERIC STEVEN LOFLIN</td><td>NULL</td><td>CHRISSYHEJHAL@GMAIL.COM</td><td>2</td><td>1085785</td><td>2</td><td>545569</td><td>120</td><td>RELI Unsecured</td><td>2019-11-26 08:39:00.0000000</td><td>603 WILD ROSE TRAIL </td><td>CEDAR PARK </td><td>TX</td><td>78613</td><td>Joint Application</td><td>2019-12-27 08:39:00.0000000</td><td>2000.0000</td><td>1713341483</td><td>1713362323</td><td>NULL</td><td>2019-11-26 08:38:00.0000000</td><td>622</td><td>Serious delinquency, and derogatory public record or collection filed</td><td>Proportion of balances to credit limits is too high on revolving accounts</td><td>Length of time accounts have been established</td><td>Number of accounts with delinquency</td><td>545569</td><td>NULL</td><td>NULL</td><td>ReLi Linked</td><td>2019-11-26 00:00:00.0000000</td><td>ACTion Online</td><td>2019-11-26 15:03:30.1700000</td><td>2019-11-26 15:30:21.3900000</td></tr><tr><td>82553</td><td>MS. DENISE NICOLE BROWN</td><td>NULL</td><td>NULL</td><td>DNICOLEBROWN@HOTMAIL.COM</td><td>1</td><td>1086249</td><td>1</td><td>545783</td><td>120</td><td>RELI Unsecured</td><td>2019-11-26 10:54:00.0000000</td><td>1909 SHILOH RD 75</td><td>TYLER</td><td>TX</td><td>75703</td><td>Individual Application</td><td>2019-12-27 10:54:00.0000000</td><td>1500.0000</td><td>1720323631</td><td>NULL</td><td>NULL</td><td>2019-11-26 10:50:00.0000000</td><td>636</td><td>Derogatory public record or collection filed</td><td>Proportion of balances to credit limits is too high on revolving accounts</td><td>Proportion of loan balances to loan account is too high</td><td>Length of time since derogatory public record or collection is too short</td><td>545783</td><td>NULL</td><td>NULL</td><td>ReLi Linked</td><td>2019-11-26 00:00:00.0000000</td><td>ACTion Online</td><td>2019-11-26 15:03:30.1700000</td><td>2019-11-26 15:30:21.3900000</td></tr><tr><td>82555</td><td>ROBERT WAYNE OILER</td><td>NULL</td><td>NULL</td><td>HRCONSTRUCTION465@OUTLOOK.COM</td><td>1</td><td>1073980</td><td>1</td><td>540045</td><td>120</td><td>RELI Unsecured</td><td>2019-11-26 08:12:00.0000000</td><td>1760 LANCING DRIVE APT 212</td><td>SALEM</td><td>VA</td><td>24153</td><td>Individual Application</td><td>2019-12-27 08:12:00.0000000</td><td>2500.0000</td><td>1949424541</td><td>NULL</td><td>NULL</td><td>2019-11-14 17:16:00.0000000</td><td>693</td><td>Proportion of balances to credit limits is too high on revolving accounts</td><td>Too many inquiries last 12 months</td><td>Time since most account opening is too short</td><td>Too many accounts with balances</td><td>540045</td><td>NULL</td><td>NULL</td><td>ReLi Linked</td><td>2019-11-26 00:00:00.0000000</td><td>ACTion Online</td><td>2019-11-26 15:03:30.1700000</td><td>2019-11-26 15:30:21.3900000</td></tr><tr><td>82558</td><td>JAKE R VAN CAMP</td><td>NULL</td><td>NULL</td><td>JRK19960@GMAIL.COM</td><td>1</td><td>1087025</td><td>1</td><td>546154</td><td>120</td><td>RELI Unsecured</td><td>2019-11-26 14:15:00.0000000</td><td>216 4TH ST NE</td><td>NAVARRE</td><td>OH</td><td>44662</td><td>Individual Application</td><td>2019-12-27 14:15:00.0000000</td><td>1500.0000</td><td>1463389435</td><td>NULL</td><td>NULL</td><td>2019-11-25 15:04:00.0000000</td><td>678</td><td>Proportion of balances to credit limits is too high on revolving accounts</td><td>Length of time accounts have been established</td><td>Too many accounts with balances</td><td>Proportion of loan balances to loan account is too high</td><td>546154</td><td>NULL</td><td>NULL</td><td>ReLi Linked</td><td>2019-11-26 00:00:00.0000000</td><td>ACTion Online</td><td>2019-11-26 15:03:30.1700000</td><td>2019-11-26 15:30:21.3900000</td></tr><tr><td>82561</td><td>MR. SHELTON B RICE</td><td>NULL</td><td>NULL</td><td>SBCL77@GMAIL.COM</td><td>1</td><td>1086821</td><td>1</td><td>546058</td><td>120</td><td>RELI Unsecured</td><td>2019-11-26 13:24:00.0000000</td><td>15130 CORONA DEL MAR DR</td><td>HOUSTON</td><td>TX</td><td>77083</td><td>Individual Application</td><td>2019-12-27 13:24:00.0000000</td><td>1500.0000</td><td>1132475458</td><td>NULL</td><td>NULL</td><td>2019-11-26 13:13:00.0000000</td><td>607</td><td>Serious delinquency, and derogatory public record or collection filed</td><td>Length of time since derogatory public record or collection is too short</td><td>Length of time accounts have been established</td><td>Too many accounts with balances</td><td>546058</td><td>NULL</td><td>NULL</td><td>ReLi Linked</td><td>2019-11-26 00:00:00.0000000</td><td>ACTion Online</td><td>2019-11-26 15:03:30.1700000</td><td>2019-11-26 15:30:21.3900000</td></tr><tr><td>82562</td><td>MRS. REBECCA SUE HITCH</td><td>NULL</td><td>NULL</td><td>BHITCH842@GMAIL.COM</td><td>1</td><td>1086524</td><td>1</td><td>545915</td><td>120</td><td>RELI Unsecured</td><td>2019-11-26 11:54:00.0000000</td><td>583 CEDAR STREET</td><td>CHILLICOTHE</td><td>OH</td><td>45601</td><td>Individual Application</td><td>2019-12-27 11:54:00.0000000</td><td>500.0000</td><td>1440392445</td><td>NULL</td><td>NULL</td><td>2019-11-25 11:01:00.0000000</td><td>624</td><td>Serious delinquency</td><td>Too few accounts currently paid as agreed</td><td>Proportion of balances to credit limits is too high on revolving accounts</td><td>Length of time accounts have been established</td><td>545915</td><td>NULL</td><td>NULL</td><td>ReLi Linked</td><td>2019-11-26 00:00:00.0000000</td><td>ACTion Online</td><td>2019-11-26 15:03:30.1700000</td><td>2019-11-26 15:30:21.3900000</td></tr><tr><td>82564</td><td>THOMAS T VERBEECK</td><td>NULL</td><td>NULL</td><td>TVERBEECK1@GMAIL.COM</td><td>1</td><td>1085756</td><td>1</td><td>545555</td><td>120</td><td>RELI Unsecured</td><td>2019-11-26 08:33:00.0000000</td><td>21 EVERGREEN ST</td><td>GORDONVILLE</td><td>PA</td><td>17529</td><td>Individual Application</td><td>2019-12-27 08:33:00.0000000</td><td>1000.0000</td><td>1512360965</td><td>NULL</td><td>NULL</td><td>2019-11-26 08:28:00.0000000</td><td>632</td><td>Serious delinquency, and derogatory public record or collection filed</td><td>Number of accounts with delinquency</td><td>Proportion of loan balances to loan account is too high</td><td>Too few accounts currently paid as agreed</td><td>545555</td><td>NULL</td><td>NULL</td><td>ReLi Linked</td><td>2019-11-26 00:00:00.0000000</td><td>ACTion Online</td><td>2019-11-26 15:03:30.1700000</td><td>2019-11-26 15:30:21.3900000</td></tr><tr><td>82568</td><td>MABRY E HOCUTT</td><td>NULL</td><td>NULL</td><td>MABRYCOMPUTING@HOTMAIL.COM</td><td>1</td><td>1070624</td><td>1</td><td>538428</td><td>120</td><td>RELI Unsecured</td><td>2019-11-26 08:18:00.0000000</td><td>368 FAIRMONT LN</td><td>ARAB</td><td>AL</td><td>35016</td><td>Individual Application</td><td>2019-12-27 08:18:00.0000000</td><td>2500.0000</td><td>8084054439</td><td>NULL</td><td>NULL</td><td>2019-11-26 08:18:00.0000000</td><td>738</td><td>Too few accounts currently paid as agreed</td><td>No recent revolving balances</td><td>Lack of recent installment loan information</td><td>Time since most account opening is too short</td><td>538428</td><td>NULL</td><td>NULL</td><td>ReLi Linked</td><td>2019-11-26 00:00:00.0000000</td><td>ACTion Online</td><td>2019-11-26 15:03:30.1700000</td><td>2019-11-26 15:30:21.3900000</td></tr><tr><td>82569</td><td>MR. JEREMY EUGENE SCHEUVRONT</td><td>NULL</td><td>NULL</td><td>JSCHEUVRONT90@GMAIL.COM</td><td>1</td><td>1085885</td><td>1</td><td>545613</td><td>120</td><td>RELI Unsecured</td><td>2019-11-26 09:47:00.0000000</td><td>71 GRANNY LANE </td><td>MOUNT CLARE </td><td>WV</td><td>26408</td><td>Individual Application</td><td>2019-12-27 09:47:00.0000000</td><td>1500.0000</td><td>NULL</td><td>NULL</td><td>NULL</td><td>2019-11-26 09:46:00.0000000</td><td>669</td><td>Proportion of balances to credit limits is too high on revolving accounts</td><td>Proportion of loan balances to loan account is too high</td><td>Too few accounts currently paid as agreed</td><td>Too many accounts with balances</td><td>545613</td><td>NULL</td><td>NULL</td><td>Reli Unlinked</td><td>2019-11-26 00:00:00.0000000</td><td>ACTion Online</td><td>2019-11-26 15:03:30.1700000</td><td>2019-11-26 15:30:21.3900000</td></tr><tr><td>82570</td><td>MRS. NICOLLE M PASCARELLA</td><td>MR. JAMES E PASCARELLA</td><td>NULL</td><td>PANDORAVAMP72@YAHOO.COM</td><td>2</td><td>1085749</td><td>2</td><td>545552</td><td>120</td><td>RELI Unsecured</td><td>2019-11-26 07:57:00.0000000</td><td>629 N SCHENLEY</td><td>YOUNGSTOWN</td><td>OH</td><td>44509</td><td>Joint Application</td><td>2019-12-27 07:57:00.0000000</td><td>2000.0000</td><td>1491379788</td><td>NULL</td><td>NULL</td><td>2019-11-26 07:56:00.0000000</td><td>621</td><td>Serious delinquency, and derogatory public record or collection filed</td><td>Proportion of balances to credit limits is too high on revolving accounts</td><td>Proportion of loan balances to loan account is too high</td><td>Length of time accounts have been established</td><td>545552</td><td>NULL</td><td>NULL</td><td>ReLi Linked</td><td>2019-11-26 00:00:00.0000000</td><td>ACTion Online</td><td>2019-11-26 15:03:30.1700000</td><td>2019-11-26 15:30:21.3900000</td></tr><tr><td>82571</td><td>MS. LAURA VASQUEZ</td><td>NULL</td><td>NULL</td><td>VASQUEZLAURA821@GMAIL.COM</td><td>1</td><td>1085803</td><td>1</td><td>545577</td><td>142</td><td>Re-Starter</td><td>2019-11-26 10:10:00.0000000</td><td>1800 E STASSNEY LN APT 101</td><td>AUSTIN</td><td>TX</td><td>78744</td><td>Individual Application</td><td>2019-12-27 10:10:00.0000000</td><td>500.0000</td><td>NULL</td><td>NULL</td><td>NULL</td><td>NULL</td><td>NULL</td><td>NULL</td><td>NULL</td><td>NULL</td><td>NULL</td><td>545577</td><td>NULL</td><td>NULL</td><td>Reli Unlinked</td><td>2019-11-26 00:00:00.0000000</td><td>ACTion Online</td><td>2019-11-26 15:03:30.1700000</td><td>2019-11-26 15:30:21.3900000</td></tr><tr><td>82443</td><td>ALEX ANTONIO ROBERSON</td><td>NULL</td><td>NULL</td><td>ALROB45.AR@GMAIL.COM</td><td>1</td><td>1083944</td><td>1</td><td>544730</td><td>120</td><td>RELI Unsecured</td><td>2019-11-25 11:28:00.0000000</td><td>2560 PATHWAY PL</td><td>MOBILE</td><td>AL</td><td>36606</td><td>Individual Application</td><td>2019-12-26 11:28:00.0000000</td><td>1000.0000</td><td>8106073938</td><td>NULL</td><td>NULL</td><td>2019-11-25 11:28:00.0000000</td><td>609</td><td>Serious delinquency, and derogatory public record or collection filed</td><td>Proportion of balances to credit limits is too high on revolving accounts</td><td>Number of accounts with delinquency</td><td>Length of time accounts have been established</td><td>544730</td><td>NULL</td><td>NULL</td><td>ReLi Linked</td><td>2019-11-25 00:00:00.0000000</td><td>ACTion Online</td><td>2019-11-25 15:02:50.9100000</td><td>2019-11-25 15:30:31.1433333</td></tr><tr><td>82502</td><td>KATELYN QUESENBERRY</td><td>NULL</td><td>NULL</td><td>KATIEQBBALL12@HOTMAIL.COM</td><td>1</td><td>1085615</td><td>1</td><td>545486</td><td>120</td><td>RELI Unsecured</td><td>2019-11-25 16:06:00.0000000</td><td>308 THOMAS RD</td><td>MADISON HEIGHTS </td><td>VA</td><td>24572</td><td>Individual Application</td><td>2019-12-26 16:06:00.0000000</td><td>1000.0000</td><td>NULL</td><td>NULL</td><td>NULL</td><td>2019-11-25 15:58:00.0000000</td><td>618</td><td>Serious delinquency, and derogatory public record or collection filed</td><td>Number of accounts with delinquency</td><td>Proportion of loan balances to loan account is too high</td><td>Length of time accounts have been established</td><td>545486</td><td>NULL</td><td>NULL</td><td>Reli Unlinked</td><td>2019-11-25 00:00:00.0000000</td><td>ACTion Online</td><td>2019-11-26 05:35:30.2700000</td><td>2019-11-26 07:00:33.8333333</td></tr><tr><td>82452</td><td>HECTOR SANCHEZ VAZQUEZ</td><td>DEBORAH DIANE VAZQUEZ</td><td>NULL</td><td>MENDOZA_DEBORAH@YAHOO.COM</td><td>2</td><td>1080529</td><td>1</td><td>543172</td><td>120</td><td>RELI Unsecured</td><td>2019-11-25 08:06:00.0000000</td><td>716 WELTON AVE SW</td><td>ROANOKE</td><td>VA</td><td>24015</td><td>Joint Application</td><td>2019-12-26 08:06:00.0000000</td><td>1500.0000</td><td>1949408437</td><td>NULL</td><td>NULL</td><td>2019-11-25 08:06:00.0000000</td><td>603</td><td>Serious delinquency</td><td>Proportion of balances to credit limits is too high on revolving accounts</td><td>Lack of recent installment loan information</td><td>Length of time accounts have been established</td><td>543172</td><td>NULL</td><td>NULL</td><td>ReLi Linked</td><td>2019-11-25 00:00:00.0000000</td><td>ACTion Online</td><td>2019-11-25 15:02:50.9100000</td><td>2019-11-25 15:30:31.1433333</td></tr><tr><td>82453</td><td>MRS. REBEKAH JEAN RANKIN</td><td>MR. MALCOM CHARLES RANKIN</td><td>NULL</td><td>BECKY_C_90@HOTMAIL.COM</td><td>2</td><td>1086869</td><td>1</td><td>546081</td><td>120</td><td>RELI Unsecured</td><td>2019-11-25 14:06:00.0000000</td><td>780 COMPANY FARM RD</td><td>ASPERS</td><td>PA</td><td>17304</td><td>Joint Application</td><td>2019-12-26 14:06:00.0000000</td><td>2500.0000</td><td>1336345929</td><td>NULL</td><td>NULL</td><td>2019-11-25 13:59:00.0000000</td><td>671</td><td>Number of accounts with delinquency</td><td>Length of time accounts have been established</td><td>Proportion of loan balances to loan account is too high</td><td>Too many inquiries last 12 months</td><td>546081</td><td>NULL</td><td>NULL</td><td>ReLi Linked</td><td>2019-11-25 00:00:00.0000000</td><td>ACTion Online</td><td>2019-11-25 15:02:50.9100000</td><td>2019-11-25 15:30:31.1433333</td></tr><tr><td>82454</td><td>MR. MALCOM CHARLES RANKIN</td><td>MRS. REBEKAH JEAN RANKIN</td><td>NULL</td><td>MAC60912010@GMAIL.COM</td><td>2</td><td>1086868</td><td>2</td><td>546081</td><td>120</td><td>RELI Unsecured</td><td>2019-11-25 14:06:00.0000000</td><td>780 COMPANY FARM RD</td><td>ASPERS</td><td>PA</td><td>17304</td><td>Joint Application</td><td>2019-12-26 14:06:00.0000000</td><td>2500.0000</td><td>1336345929</td><td>NULL</td><td>NULL</td><td>2019-11-25 13:59:00.0000000</td><td>487</td><td>Serious delinquency, and derogatory public record or collection filed</td><td>Too few accounts currently paid as agreed</td><td>Number of accounts with delinquency</td><td>No recent non-mortgage balance information</td><td>546081</td><td>NULL</td><td>NULL</td><td>ReLi Linked</td><td>2019-11-25 00:00:00.0000000</td><td>ACTion Online</td><td>2019-11-25 15:02:50.9100000</td><td>2019-11-25 15:30:31.1433333</td></tr><tr><td>82455</td><td>MARY E DOTY</td><td>NULL</td><td>NULL</td><td>MARDOTY78@GMAIL.COM</td><td>1</td><td>1083073</td><td>1</td><td>544321</td><td>120</td><td>RELI Unsecured</td><td>2019-11-25 12:47:00.0000000</td><td>475 W MAIN ST LOT 20</td><td>DELTA</td><td>OH</td><td>43515</td><td>Individual Application</td><td>2019-12-26 12:47:00.0000000</td><td>1000.0000</td><td>1493346348</td><td>NULL</td><td>NULL</td><td>2019-11-25 12:44:00.0000000</td><td>626</td><td>Derogatory public record or collection filed</td><td>Proportion of balances to credit limits is too high on revolving accounts</td><td>Length of time accounts have been established</td><td>Proportion of loan balances to loan account is too high</td><td>544321</td><td>NULL</td><td>NULL</td><td>ReLi Linked</td><td>2019-11-25 00:00:00.0000000</td><td>ACTion Online</td><td>2019-11-25 15:02:50.9100000</td><td>2019-11-25 15:30:31.1433333</td></tr><tr><td>82459</td><td>RONALD KEITH WRYE</td><td>NULL</td><td>NULL</td><td>DREMAWRYE11@GMAIL.COM</td><td>1</td><td>1079568</td><td>1</td><td>542740</td><td>120</td><td>RELI Unsecured</td><td>2019-11-25 08:39:00.0000000</td><td>225 EDGEWATER DR</td><td>CEDAR BLUFF</td><td>VA</td><td>24609</td><td>Individual Application</td><td>2019-12-26 08:39:00.0000000</td><td>2000.0000</td><td>1259328936</td><td>NULL</td><td>NULL</td><td>2019-11-21 10:30:00.0000000</td><td>627</td><td>Derogatory public record or collection filed</td><td>Length of time accounts have been established</td><td>Too few accounts currently paid as agreed</td><td>Proportion of balances to credit limits is too high on revolving accounts</td><td>542740</td><td>NULL</td><td>NULL</td><td>ReLi Linked</td><td>2019-11-25 00:00:00.0000000</td><td>ACTion Online</td><td>2019-11-25 15:02:50.9100000</td><td>2019-11-25 15:30:31.1433333</td></tr><tr><td>82460</td><td>MR. MICHAEL PAUL HENSON, JR.</td><td>NULL</td><td>NULL</td><td>MICHAELHENSON64@YAHOO.COM</td><td>1</td><td>1085857</td><td>1</td><td>545600</td><td>120</td><td>RELI Unsecured</td><td>2019-11-25 12:17:00.0000000</td><td>844 CHURCHILL DR </td><td>SHELBY</td><td>NC</td><td>28150</td><td>Individual Application</td><td>2019-12-26 12:17:00.0000000</td><td>2000.0000</td><td>1852429297</td><td>NULL</td><td>NULL</td><td>2019-11-24 17:22:00.0000000</td><td>687</td><td>Proportion of balances to credit limits is too high on revolving accounts</td><td>Length of time accounts have been established</td><td>Lack of recent installment loan information</td><td>Too many accounts with balances</td><td>545600</td><td>NULL</td><td>NULL</td><td>ReLi Linked</td><td>2019-11-25 00:00:00.0000000</td><td>ACTion Online</td><td>2019-11-25 15:02:50.9100000</td><td>2019-11-25 15:30:31.1433333</td></tr><tr><td>82461</td><td>MRS. SHANTAE MARIE GANT</td><td>NULL</td><td>NULL</td><td>GANT.SHANTAE@YAHOO.COM</td><td>1</td><td>1082866</td><td>1</td><td>544228</td><td>120</td><td>RELI Unsecured</td><td>2019-11-25 08:11:00.0000000</td><td>506 ALBERT LEWIS WAY</td><td>MANSFIELD</td><td>LA</td><td>71052</td><td>Individual Application</td><td>2019-12-26 08:11:00.0000000</td><td>2500.0000</td><td>8184091604</td><td>NULL</td><td>NULL</td><td>2019-11-25 08:11:00.0000000</td><td>654</td><td>Derogatory public record or collection filed</td><td>Proportion of balances to credit limits is too high on revolving accounts</td><td>Length of time accounts have been established</td><td>Proportion of loan balances to loan account is too high</td><td>544228</td><td>NULL</td><td>NULL</td><td>ReLi Linked</td><td>2019-11-25 00:00:00.0000000</td><td>ACTion Online</td><td>2019-11-25 15:02:50.9100000</td><td>2019-11-25 15:30:31.1433333</td></tr><tr><td>82462</td><td>MISS BREE KELLEY</td><td>NULL</td><td>NULL</td><td>BREEKELLEYY@GMAIL.COM</td><td>1</td><td>1084539</td><td>1</td><td>545001</td><td>120</td><td>RELI Unsecured</td><td>2019-11-25 09:17:00.0000000</td><td>3631 BRENNAN BLVD 3F</td><td>AMARILLO</td><td>TX</td><td>79121</td><td>Individual Application</td><td>2019-12-26 09:17:00.0000000</td><td>2000.0000</td><td>1800362293</td><td>NULL</td><td>NULL</td><td>2019-11-25 09:15:00.0000000</td><td>697</td><td>Too few accounts currently paid as agreed</td><td>Lack of recent installment loan information</td><td>Length of time accounts have been established</td><td>Too many inquiries last 12 months</td><td>545001</td><td>NULL</td><td>NULL</td><td>ReLi Linked</td><td>2019-11-25 00:00:00.0000000</td><td>ACTion Online</td><td>2019-11-25 15:02:50.9100000</td><td>2019-11-25 15:30:31.1433333</td></tr><tr><td>82463</td><td>SHERRY J WHITE</td><td>NULL</td><td>NULL</td><td>SHERRYJEAN34@GMAIL.COM</td><td>1</td><td>1082769</td><td>1</td><td>544185</td><td>120</td><td>RELI Unsecured</td><td>2019-11-25 08:49:00.0000000</td><td>8400 SUNSET BOULEVARD 1101</td><td>ROWLETT</td><td>TX</td><td>75088</td><td>Individual Application</td><td>2019-12-26 08:49:00.0000000</td><td>2000.0000</td><td>NULL</td><td>NULL</td><td>NULL</td><td>2019-11-25 08:49:00.0000000</td><td>632</td><td>Serious delinquency, and derogatory public record or collection filed</td><td>Proportion of balances to credit limits is too high on revolving accounts</td><td>Too many accounts with balances</td><td>Amount past due on accounts</td><td>544185</td><td>NULL</td><td>NULL</td><td>Reli Unlinked</td><td>2019-11-25 00:00:00.0000000</td><td>ACTion Online</td><td>2019-11-25 15:02:50.9100000</td><td>2019-11-25 15:30:31.1433333</td></tr><tr><td>82464</td><td>TEKERIA LYNNETTE CORBIN</td><td>NULL</td><td>NULL</td><td>TEKERIA09@YAHOO.COM</td><td>1</td><td>1084580</td><td>1</td><td>545017</td><td>120</td><td>RELI Unsecured</td><td>2019-11-25 09:41:00.0000000</td><td>631 EAST MCCORKLE CIRCLE</td><td>GREENVILLE</td><td>MS</td><td>38703</td><td>Individual Application</td><td>2019-12-26 09:41:00.0000000</td><td>1000.0000</td><td>8134139925</td><td>NULL</td><td>NULL</td><td>2019-11-25 09:41:00.0000000</td><td>620</td><td>Length of time accounts have been established</td><td>Proportion of loan balances to loan account is too high</td><td>Too many inquiries last 12 months</td><td>Proportion of balances to credit limits is too high on revolving accounts</td><td>545017</td><td>NULL</td><td>NULL</td><td>ReLi Linked</td><td>2019-11-25 00:00:00.0000000</td><td>ACTion Online</td><td>2019-11-25 15:02:50.9100000</td><td>2019-11-25 15:30:31.1433333</td></tr><tr><td>82505</td><td>MS. TONY GILL</td><td>NULL</td><td>NULL</td><td>MSTONIE2010@AOL.COM</td><td>1</td><td>1085635</td><td>1</td><td>545496</td><td>120</td><td>RELI Unsecured</td><td>2019-11-25 16:34:00.0000000</td><td>759 DERBY AVE</td><td>CINCINNATI</td><td>OH</td><td>45232</td><td>Individual Application</td><td>2019-12-26 16:34:00.0000000</td><td>1500.0000</td><td>1552378067</td><td>NULL</td><td>NULL</td><td>2019-11-25 16:26:00.0000000</td><td>624</td><td>Serious delinquency, and derogatory public record or collection filed</td><td>Number of accounts with delinquency</td><td>Proportion of loan balances to loan account is too high</td><td>Length of time accounts have been established</td><td>545496</td><td>NULL</td><td>NULL</td><td>ReLi Linked</td><td>2019-11-25 00:00:00.0000000</td><td>ACTion Online</td><td>2019-11-26 05:35:30.2700000</td><td>2019-11-26 07:00:33.8333333</td></tr><tr><td>82471</td><td>DEBORAH DIANE VAZQUEZ</td><td>HECTOR SANCHEZ VAZQUEZ</td><td>NULL</td><td>MENDOZA_DEBORAH@YAHOO.COM</td><td>2</td><td>1080528</td><td>2</td><td>543172</td><td>120</td><td>RELI Unsecured</td><td>2019-11-25 08:06:00.0000000</td><td>716 WELTON AVE SW</td><td>ROANOKE</td><td>VA</td><td>24015</td><td>Joint Application</td><td>2019-12-26 08:06:00.0000000</td><td>1500.0000</td><td>1949408437</td><td>NULL</td><td>NULL</td><td>2019-11-25 08:06:00.0000000</td><td>565</td><td>Serious delinquency, and derogatory public record or collection filed</td><td>Proportion of balances to credit limits is too high on revolving accounts</td><td>Time since delinquency is too recent or unknown</td><td>Length of time accounts have been established</td><td>543172</td><td>NULL</td><td>NULL</td><td>ReLi Linked</td><td>2019-11-25 00:00:00.0000000</td><td>ACTion Online</td><td>2019-11-25 15:02:50.9100000</td><td>2019-11-25 15:30:31.1433333</td></tr><tr><td>82483</td><td>DOROTHY L DELP</td><td>NULL</td><td>NULL</td><td>GAMMADD424@GMAIL.COM</td><td>1</td><td>1085492</td><td>1</td><td>545429</td><td>120</td><td>RELI Unsecured</td><td>2019-11-25 15:52:00.0000000</td><td>3601 WESTVILLE LAKE RD</td><td>BELOIT</td><td>OH</td><td>44609</td><td>Individual Application</td><td>2019-12-26 15:52:00.0000000</td><td>1500.0000</td><td>NULL</td><td>NULL</td><td>NULL</td><td>2019-11-25 15:50:00.0000000</td><td>673</td><td>Serious delinquency, and derogatory public record or collection filed</td><td>Number of accounts with delinquency</td><td>Lack of recent installment loan information</td><td>Length of time accounts have been established</td><td>545429</td><td>NULL</td><td>NULL</td><td>Reli Unlinked</td><td>2019-11-25 00:00:00.0000000</td><td>ACTion Online</td><td>2019-11-26 05:35:30.2700000</td><td>2019-11-26 07:00:33.8333333</td></tr><tr><td>82484</td><td>CARMEN CORTEZ</td><td>NULL</td><td>NULL</td><td>CRIDER40@HOTMAIL.COM</td><td>1</td><td>1085338</td><td>1</td><td>545352</td><td>120</td><td>RELI Unsecured</td><td>2019-11-25 15:09:00.0000000</td><td>13555 PASA ROBLES LANE</td><td>HOUSTON</td><td>TX</td><td>77083</td><td>Individual Application</td><td>2019-12-26 15:09:00.0000000</td><td>2000.0000</td><td>1115455550</td><td>NULL</td><td>NULL</td><td>2019-11-23 17:54:00.0000000</td><td>637</td><td>Serious delinquency, and derogatory public record or collection filed</td><td>Proportion of loan balances to loan account is too high</td><td>Too many accounts with balances</td><td>Length of time accounts have been established</td><td>545352</td><td>NULL</td><td>NULL</td><td>ReLi Linked</td><td>2019-11-25 00:00:00.0000000</td><td>ACTion Online</td><td>2019-11-26 05:35:30.2700000</td><td>2019-11-26 07:00:33.8333333</td></tr><tr><td>82490</td><td>BLAKE J WILKS</td><td>NULL</td><td>NULL</td><td>BWILKS1987@YAHOO.COM</td><td>1</td><td>1085366</td><td>1</td><td>545365</td><td>120</td><td>RELI Unsecured</td><td>2019-11-25 15:14:00.0000000</td><td>20 GREENHOUSE DR</td><td>ZEBULON</td><td>NC</td><td>27597</td><td>Individual Application</td><td>2019-12-26 15:14:00.0000000</td><td>1000.0000</td><td>1893353886</td><td>NULL</td><td>NULL</td><td>2019-11-23 19:12:00.0000000</td><td>628</td><td>Serious delinquency, and derogatory public record or collection filed</td><td>Proportion of balances to credit limits is too high on revolving accounts</td><td>Length of time accounts have been established</td><td>Too many accounts with balances</td><td>545365</td><td>NULL</td><td>NULL</td><td>ReLi Linked</td><td>2019-11-25 00:00:00.0000000</td><td>ACTion Online</td><td>2019-11-26 05:35:30.2700000</td><td>2019-11-26 07:00:33.8333333</td></tr><tr><td>82492</td><td>GIOVANNA JUANITA NEWBILL</td><td>NULL</td><td>NULL</td><td>PLANTHOG@OUTLOOK.COM</td><td>1</td><td>1085291</td><td>1</td><td>545331</td><td>120</td><td>RELI Unsecured</td><td>2019-11-25 14:53:00.0000000</td><td>7521 WILDER AVENUE</td><td>JACKSONVILLE </td><td>FL</td><td>32208</td><td>Individual Application</td><td>2019-12-26 14:53:00.0000000</td><td>1500.0000</td><td>8254040812</td><td>NULL</td><td>NULL</td><td>2019-11-23 16:48:00.0000000</td><td>639</td><td>Proportion of balances to credit limits is too high on revolving accounts</td><td>Length of time accounts have been established</td><td>Proportion of loan balances to loan account is too high</td><td>Time since most account opening is too short</td><td>545331</td><td>NULL</td><td>NULL</td><td>ReLi Linked</td><td>2019-11-25 00:00:00.0000000</td><td>ACTion Online</td><td>2019-11-26 05:35:30.2700000</td><td>2019-11-26 07:00:33.8333333</td></tr><tr><td>82514</td><td>MS. SYDNEY T MCGEE</td><td>NULL</td><td>NULL</td><td>SYDNEY.T.MCGEE@GMAIL.COM</td><td>1</td><td>1085671</td><td>1</td><td>545515</td><td>144</td><td>RELI Unsecured LOC</td><td>2019-11-25 16:57:00.0000000</td><td>714A DOUGLAS AVENUE</td><td>DIXON</td><td>IL</td><td>61021</td><td>Individual Application</td><td>2019-12-26 16:57:00.0000000</td><td>2500.0000</td><td>1189348038</td><td>NULL</td><td>NULL</td><td>2019-11-24 11:12:00.0000000</td><td>673</td><td>Length of time accounts have been established</td><td>Proportion of balances to credit limits is too high on revolving accounts</td><td>Lack of recent installment loan information</td><td>Lack of recent bank revolving information</td><td>545515</td><td>NULL</td><td>NULL</td><td>ReLi Linked</td><td>2019-11-25 00:00:00.0000000</td><td>ACTion Online</td><td>2019-11-26 05:35:30.2700000</td><td>2019-11-26 07:00:33.8333333</td></tr><tr><td>82441</td><td>ELIUD D MORALES</td><td>NULL</td><td>NULL</td><td>DANMASEOSARIO@GMAIL.COM</td><td>1</td><td>1083985</td><td>1</td><td>544749</td><td>120</td><td>RELI Unsecured</td><td>2019-11-25 09:37:00.0000000</td><td>306 S SAN HORACIO</td><td>SAN ANTONIO</td><td>TX</td><td>78237</td><td>Individual Application</td><td>2019-12-26 09:37:00.0000000</td><td>1000.0000</td><td>1609448517</td><td>NULL</td><td>NULL</td><td>2019-11-25 09:37:00.0000000</td><td>615</td><td>Serious delinquency</td><td>Proportion of balances to credit limits is too high on revolving accounts</td><td>Length of time accounts have been established</td><td>Too few accounts currently paid as agreed</td><td>544749</td><td>NULL</td><td>NULL</td><td>ReLi Linked</td><td>2019-11-25 00:00:00.0000000</td><td>ACTion Online</td><td>2019-11-25 15:02:50.9100000</td><td>2019-11-25 15:30:31.1433333</td></tr><tr><td>82419</td><td>DELVIN D HARPER</td><td>NULL</td><td>NULL</td><td>HARDEL059@GMAIL.COM</td><td>1</td><td>1084663</td><td>1</td><td>545051</td><td>120</td><td>RELI Unsecured</td><td>2019-11-23 16:18:00.0000000</td><td>5321 TOMMYE ST</td><td>HOUSTON</td><td>TX</td><td>77028</td><td>Individual Application</td><td>2019-12-24 16:18:00.0000000</td><td>2500.0000</td><td>1370356469</td><td>NULL</td><td>NULL</td><td>2019-11-23 00:09:00.0000000</td><td>677</td><td>Length of time accounts have been established</td><td>Lack of recent revolving account information</td><td>Lack of recent bank revolving information</td><td>Too many accounts with balances</td><td>545051</td><td>NULL</td><td>NULL</td><td>ReLi Linked</td><td>2019-11-23 00:00:00.0000000</td><td>ACTion Online</td><td>2019-11-24 05:32:57.9333333</td><td>2019-11-24 07:00:39.9400000</td></tr><tr><td>82522</td><td>ANTHONY MITCHELL</td><td>NULL</td><td>NULL</td><td>MTONY5662@GMAIL.COM</td><td>1</td><td>1086064</td><td>1</td><td>545700</td><td>120</td><td>RELI Unsecured</td><td>2019-11-26 10:23:00.0000000</td><td>1200 GRAND OAK BLVD APT 813</td><td>SARALAND</td><td>AL</td><td>36571</td><td>Individual Application</td><td>2019-12-27 10:23:00.0000000</td><td>1500.0000</td><td>NULL</td><td>NULL</td><td>NULL</td><td>2019-11-26 10:23:00.0000000</td><td>626</td><td>Derogatory public record or collection filed</td><td>Length of time accounts have been established</td><td>Too few accounts currently paid as agreed</td><td>Proportion of balances to credit limits is too high on revolving accounts</td><td>545700</td><td>NULL</td><td>NULL</td><td>Reli Unlinked</td><td>2019-11-26 00:00:00.0000000</td><td>ACTion Online</td><td>2019-11-26 15:03:30.1700000</td><td>2019-11-26 15:30:21.3900000</td></tr><tr><td>82424</td><td>MR. KEVIN J MARAVILLA</td><td>NULL</td><td>NULL</td><td>DIOSMESALVO1234@GMAIL.COM</td><td>1</td><td>1085103</td><td>1</td><td>545242</td><td>120</td><td>RELI Unsecured</td><td>2019-11-23 15:20:00.0000000</td><td>13117 CANDLEWICK ST </td><td>HOUSTON</td><td>TX</td><td>77015</td><td>Individual Application</td><td>2019-12-24 15:20:00.0000000</td><td>500.0000</td><td>1004364749</td><td>NULL</td><td>NULL</td><td>2019-11-23 14:07:00.0000000</td><td>645</td><td>Length of time accounts have been established</td><td>Lack of recent revolving account information</td><td>Proportion of loan balances to loan account is too high</td><td>Too many accounts with balances</td><td>545242</td><td>NULL</td><td>NULL</td><td>ReLi Linked</td><td>2019-11-23 00:00:00.0000000</td><td>ACTion Online</td><td>2019-11-24 05:32:57.9333333</td><td>2019-11-24 07:00:39.9400000</td></tr><tr><td>82425</td><td>DAVID WAYNE POOLE</td><td>NULL</td><td>NULL</td><td>DWPDAVE@AOL.COM</td><td>1</td><td>1085005</td><td>1</td><td>545204</td><td>120</td><td>RELI Unsecured</td><td>2019-11-23 15:04:00.0000000</td><td>6690 LAWSON AVE</td><td>GLOUCESTER</td><td>VA</td><td>23061</td><td>Individual Application</td><td>2019-12-24 15:04:00.0000000</td><td>500.0000</td><td>1941353946</td><td>NULL</td><td>NULL</td><td>2019-11-23 13:58:00.0000000</td><td>608</td><td>Derogatory public record or collection filed</td><td>Proportion of balances to credit limits is too high on revolving accounts</td><td>Proportion of loan balances to loan account is too high</td><td>Length of time accounts have been established</td><td>545204</td><td>NULL</td><td>NULL</td><td>ReLi Linked</td><td>2019-11-23 00:00:00.0000000</td><td>ACTion Online</td><td>2019-11-24 05:32:57.9333333</td><td>2019-11-24 07:00:39.9400000</td></tr><tr><td>82524</td><td>CARRIE BURLINGAME</td><td>DARRYL BURLINGAME</td><td>NULL</td><td>DARRYLBU7971@GMAI.COM</td><td>2</td><td>1086742</td><td>2</td><td>546024</td><td>120</td><td>RELI Unsecured</td><td>2019-11-26 12:45:00.0000000</td><td>2444 SWEDE HILL ROAD</td><td>RUSSELL</td><td>PA</td><td>16345</td><td>Joint Application</td><td>2019-12-27 12:45:00.0000000</td><td>2500.0000</td><td>1294341316</td><td>NULL</td><td>NULL</td><td>2019-11-26 12:45:00.0000000</td><td>719</td><td>Proportion of balances to credit limits is too high on revolving accounts</td><td>Time since most account opening is too short</td><td>Proportion of loan balances to loan account is too high</td><td>Too many accounts with balances</td><td>546024</td><td>NULL</td><td>NULL</td><td>ReLi Linked</td><td>2019-11-26 00:00:00.0000000</td><td>ACTion Online</td><td>2019-11-26 15:03:30.1700000</td><td>2019-11-26 15:30:21.3900000</td></tr></table>"
                    },
                    "metadata": {}
                }
            ],
            "execution_count": 33
        },
        {
            "cell_type": "code",
            "source": [
                "DECLARE @Appid int = 540032\r\n",
                "declare @AccountID bigint = 10197560\r\n",
                "\r\n",
                "SELECT TOP 10 * FROM Warehouse.dbo.DimLoanAccountDetails where AppID = @Appid\r\n",
                "SELECT * FROM WNBUtility.dbo.vw_LoansActive WHERE Appro_ID = @Appid\r\n",
                "SELECT * FROM Warehouse.dbo.DimAccount WHERE AccountID = @AccountID\r\n",
                "SELECT TOP 20 * FROM WNBUtility.dbo.LoanApprovals where SentDate > '2019-11-20'\r\n",
                "select * from Warehouse.dbo.DimAccount WHERE AccountNumber = 4440540032\r\n",
                "--SELECT TOP 10 * FROM Warehouse.dbo.vwDimCustomer WHERE CustomerID = 1074928\r\n",
                "\r\n",
                "SELECT * FROM activitydb.bankline.dbo.clncontrolw1 WHERE acct = @AccountID"
            ],
            "metadata": {
                "azdata_cell_guid": "09480d06-46b9-4bef-b315-d44cacd1edbf",
                "tags": []
            },
            "outputs": [
                {
                    "output_type": "display_data",
                    "data": {
                        "text/html": "(1 row affected)"
                    },
                    "metadata": {}
                },
                {
                    "output_type": "display_data",
                    "data": {
                        "text/html": "(1 row affected)"
                    },
                    "metadata": {}
                },
                {
                    "output_type": "display_data",
                    "data": {
                        "text/html": "(1 row affected)"
                    },
                    "metadata": {}
                },
                {
                    "output_type": "display_data",
                    "data": {
                        "text/html": "(20 rows affected)"
                    },
                    "metadata": {}
                },
                {
                    "output_type": "display_data",
                    "data": {
                        "text/html": "(1 row affected)"
                    },
                    "metadata": {}
                },
                {
                    "output_type": "display_data",
                    "data": {
                        "text/html": "(0 rows affected)"
                    },
                    "metadata": {}
                },
                {
                    "output_type": "display_data",
                    "data": {
                        "text/html": "Total execution time: 00:00:02.153"
                    },
                    "metadata": {}
                },
                {
                    "output_type": "execute_result",
                    "execution_count": 5,
                    "data": {
                        "application/vnd.dataresource+json": {
                            "schema": {
                                "fields": [
                                    {
                                        "name": "AccountID"
                                    },
                                    {
                                        "name": "BanklineSubSystem"
                                    },
                                    {
                                        "name": "WoodforestSubSystem"
                                    },
                                    {
                                        "name": "ShortName"
                                    },
                                    {
                                        "name": "OfficerCode2"
                                    },
                                    {
                                        "name": "DateLoanEntry"
                                    },
                                    {
                                        "name": "MaturityDate"
                                    },
                                    {
                                        "name": "CurrentRenewalNumber"
                                    },
                                    {
                                        "name": "CurrentLoanAmount"
                                    },
                                    {
                                        "name": "LoanBalance"
                                    },
                                    {
                                        "name": "FaceAmount"
                                    },
                                    {
                                        "name": "NetParticipation"
                                    },
                                    {
                                        "name": "CurrentParticipationAmount"
                                    },
                                    {
                                        "name": "OriginalOpenDate"
                                    },
                                    {
                                        "name": "UnfundedAmount"
                                    },
                                    {
                                        "name": "AmountOutstanding"
                                    },
                                    {
                                        "name": "CommitmentNumber"
                                    },
                                    {
                                        "name": "CommitmentExpire Date"
                                    },
                                    {
                                        "name": "CommitmentAuthorizedAmount"
                                    },
                                    {
                                        "name": "CurrentCommitmentAmountUsed"
                                    },
                                    {
                                        "name": "Federal Category"
                                    },
                                    {
                                        "name": "RiskGrade"
                                    },
                                    {
                                        "name": "RiskGradeAutoGraded"
                                    },
                                    {
                                        "name": "RiskGradeOriginal"
                                    },
                                    {
                                        "name": "CIFSequenceNumber"
                                    },
                                    {
                                        "name": "RateTypeCode"
                                    },
                                    {
                                        "name": "RateType"
                                    },
                                    {
                                        "name": "isInterestRateVariable"
                                    },
                                    {
                                        "name": "InterestRateCalculationCode"
                                    },
                                    {
                                        "name": "Interest Rate Calculation"
                                    },
                                    {
                                        "name": "InterestRate"
                                    },
                                    {
                                        "name": "MTDInterestEarned"
                                    },
                                    {
                                        "name": "InterestPaidToDate"
                                    },
                                    {
                                        "name": "TermInterestEarned"
                                    },
                                    {
                                        "name": "PrincipalPaidTerm"
                                    },
                                    {
                                        "name": "PrincipalPaidYTD"
                                    },
                                    {
                                        "name": "InterestPaidYTD"
                                    },
                                    {
                                        "name": "InterestPaidTerm"
                                    },
                                    {
                                        "name": "InterestEarnedSinceLastBill"
                                    },
                                    {
                                        "name": "InterestEarnedYTD"
                                    },
                                    {
                                        "name": "InterestPaidPriorYTD"
                                    },
                                    {
                                        "name": "InterestRatePrevious"
                                    },
                                    {
                                        "name": "InterestRateDateEffectivePrevious"
                                    },
                                    {
                                        "name": "RateChangeFrequency"
                                    },
                                    {
                                        "name": "RateChangeDay"
                                    },
                                    {
                                        "name": "PrimeRate"
                                    },
                                    {
                                        "name": "PrimeRateName"
                                    },
                                    {
                                        "name": "AdjustableRateIndexRateCode"
                                    },
                                    {
                                        "name": "PrimeChangeEffectiveDate"
                                    },
                                    {
                                        "name": "VarianceFromPrimeRateorAmount"
                                    },
                                    {
                                        "name": "RateFloor"
                                    },
                                    {
                                        "name": "RateCeiling"
                                    },
                                    {
                                        "name": "PrimeRateChangeCode"
                                    },
                                    {
                                        "name": "ARMNoticeType"
                                    },
                                    {
                                        "name": "ARMType"
                                    },
                                    {
                                        "name": "ARMInterestChargeDate"
                                    },
                                    {
                                        "name": "ARMAdvanceNoticeDays"
                                    },
                                    {
                                        "name": "ARMConversionDate"
                                    },
                                    {
                                        "name": "ARMOriginalBaseRate"
                                    },
                                    {
                                        "name": "ARMCurrentBaseRate"
                                    },
                                    {
                                        "name": "ARMNewBaseRate"
                                    },
                                    {
                                        "name": "ARMRoundingFactor"
                                    },
                                    {
                                        "name": "ARMOldPrincipleandInterest"
                                    },
                                    {
                                        "name": "ARMNewPrincipleandInterest"
                                    },
                                    {
                                        "name": "SBAAuthorizeDate"
                                    },
                                    {
                                        "name": "SBAGuarantee"
                                    },
                                    {
                                        "name": "SBAGuaranteed"
                                    },
                                    {
                                        "name": "SBAGuaranteed Percent"
                                    },
                                    {
                                        "name": "SBAGPNumber"
                                    },
                                    {
                                        "name": "SBA Status"
                                    },
                                    {
                                        "name": "SBAUSDAFlag"
                                    },
                                    {
                                        "name": "isSBALoan"
                                    },
                                    {
                                        "name": "DailyInterest"
                                    },
                                    {
                                        "name": "NOTE_TP"
                                    },
                                    {
                                        "name": "LTV"
                                    },
                                    {
                                        "name": "Supervisory LTV"
                                    },
                                    {
                                        "name": "CountyCode"
                                    },
                                    {
                                        "name": "MSACode"
                                    },
                                    {
                                        "name": "StateCode"
                                    },
                                    {
                                        "name": "OwnerOccupied"
                                    },
                                    {
                                        "name": "LienStatus"
                                    },
                                    {
                                        "name": "ValueSource"
                                    },
                                    {
                                        "name": "ProductCode"
                                    },
                                    {
                                        "name": "ServicedBy"
                                    },
                                    {
                                        "name": "SIC"
                                    },
                                    {
                                        "name": "NAICS"
                                    },
                                    {
                                        "name": "FDICCodes"
                                    },
                                    {
                                        "name": "TaxOwnerType"
                                    },
                                    {
                                        "name": "Term"
                                    },
                                    {
                                        "name": "DatePlacedOnWatchList"
                                    },
                                    {
                                        "name": "HoldAmount"
                                    },
                                    {
                                        "name": "ConcentrationCode"
                                    },
                                    {
                                        "name": "ConcentrationCodeDescription"
                                    },
                                    {
                                        "name": "PurposeCode"
                                    },
                                    {
                                        "name": "PurposeCodeDescription"
                                    },
                                    {
                                        "name": "PrimaryCollateralID"
                                    },
                                    {
                                        "name": "PrimaryCollateralCode"
                                    },
                                    {
                                        "name": "PrimaryCollateralCodeDescription"
                                    },
                                    {
                                        "name": "PrimaryCollateralDescription"
                                    },
                                    {
                                        "name": "PrimaryCollateralLastAppraisalDate"
                                    },
                                    {
                                        "name": "PrimaryCollateralAppraisalAmount"
                                    },
                                    {
                                        "name": "TotalCollateral"
                                    },
                                    {
                                        "name": "isNotePaidOff"
                                    },
                                    {
                                        "name": "PayoffDate"
                                    },
                                    {
                                        "name": "PayoffNote"
                                    },
                                    {
                                        "name": "PaymentFrequencyCode"
                                    },
                                    {
                                        "name": "PaymentFrequency"
                                    },
                                    {
                                        "name": "PaymentTypeCode"
                                    },
                                    {
                                        "name": "PaymentType"
                                    },
                                    {
                                        "name": "NextPaymentDueDate"
                                    },
                                    {
                                        "name": "LastPaymentNumberBilled"
                                    },
                                    {
                                        "name": "LastPaymentNumberPaid"
                                    },
                                    {
                                        "name": "NumberOfPaymentsLeft"
                                    },
                                    {
                                        "name": "NumberOfPayments"
                                    },
                                    {
                                        "name": "LastPaymentDueDate"
                                    },
                                    {
                                        "name": "LastPaymentDueAmount"
                                    },
                                    {
                                        "name": "LastPaymentDate"
                                    },
                                    {
                                        "name": "LastPaymentAmount"
                                    },
                                    {
                                        "name": "DaysLate"
                                    },
                                    {
                                        "name": "Times30DaysPastDue"
                                    },
                                    {
                                        "name": "Times60DaysPastDue"
                                    },
                                    {
                                        "name": "Times90DaysPastDue"
                                    },
                                    {
                                        "name": "PaymentNumber30-60-90DaysLate"
                                    },
                                    {
                                        "name": "BillPrincipalAmount"
                                    },
                                    {
                                        "name": "BillInterestAmount"
                                    },
                                    {
                                        "name": "BilledLateFees"
                                    },
                                    {
                                        "name": "BilledEscrowAmount"
                                    },
                                    {
                                        "name": "TotalPaymentAmountDue"
                                    },
                                    {
                                        "name": "Impaired"
                                    },
                                    {
                                        "name": "AppID"
                                    },
                                    {
                                        "name": "Revolving"
                                    },
                                    {
                                        "name": "Bankline TDR"
                                    },
                                    {
                                        "name": "TDR"
                                    },
                                    {
                                        "name": "Exempt"
                                    },
                                    {
                                        "name": "TDRDate"
                                    },
                                    {
                                        "name": "GlobalLoanAmount"
                                    },
                                    {
                                        "name": "ConstructionTargetDate"
                                    },
                                    {
                                        "name": "HELOCMaturityDate"
                                    },
                                    {
                                        "name": "isCommunityDevelopment"
                                    },
                                    {
                                        "name": "isServiceMember"
                                    },
                                    {
                                        "name": "LoanType"
                                    },
                                    {
                                        "name": "LoanTypeSubcategory"
                                    },
                                    {
                                        "name": "HVCRE"
                                    },
                                    {
                                        "name": "Participation"
                                    },
                                    {
                                        "name": "ParticipationEffectiveDate"
                                    },
                                    {
                                        "name": "pctParticipated"
                                    },
                                    {
                                        "name": "ParticipatonPurchaseCIFNumber"
                                    },
                                    {
                                        "name": "ParticipationLeadBank"
                                    },
                                    {
                                        "name": "BankRelationship"
                                    },
                                    {
                                        "name": "InvestorCIFNumber"
                                    },
                                    {
                                        "name": "Tier"
                                    },
                                    {
                                        "name": "isTaxExempt"
                                    },
                                    {
                                        "name": "NonAccrual"
                                    },
                                    {
                                        "name": "ProductLine"
                                    },
                                    {
                                        "name": "ProductType"
                                    },
                                    {
                                        "name": "Product"
                                    },
                                    {
                                        "name": "isCommercial"
                                    },
                                    {
                                        "name": "Real Estate"
                                    },
                                    {
                                        "name": "DummyLoan"
                                    },
                                    {
                                        "name": "LastUpdated"
                                    },
                                    {
                                        "name": "DemandLetterDate"
                                    },
                                    {
                                        "name": "BorrowingBase"
                                    },
                                    {
                                        "name": "OBSAdvance"
                                    },
                                    {
                                        "name": "BorrowingBaseGoodThru"
                                    },
                                    {
                                        "name": "BusinessDate"
                                    },
                                    {
                                        "name": "AccruedInterestCurrentDue"
                                    },
                                    {
                                        "name": "AccruedInterest"
                                    },
                                    {
                                        "name": "NumberofPaymentsPaid"
                                    },
                                    {
                                        "name": "isSecured"
                                    },
                                    {
                                        "name": "AutoChargeCode"
                                    },
                                    {
                                        "name": "AutoChargeAccountNumber"
                                    },
                                    {
                                        "name": "wasLastPaymentAutoCharged"
                                    },
                                    {
                                        "name": "LastPaymentAutoCharged"
                                    },
                                    {
                                        "name": "NextPaymentDueAmount"
                                    },
                                    {
                                        "name": "ParticipationType"
                                    },
                                    {
                                        "name": "EscrowFlood"
                                    },
                                    {
                                        "name": "EscrowHazard"
                                    },
                                    {
                                        "name": "EscrowTaxesCountry"
                                    },
                                    {
                                        "name": "EscrowTaxesSchool"
                                    },
                                    {
                                        "name": "EscrowTaxesMUD"
                                    },
                                    {
                                        "name": "EscrowTaxesCity"
                                    },
                                    {
                                        "name": "EscrowTaxesPOA"
                                    },
                                    {
                                        "name": "EscrowTaxesMISC"
                                    },
                                    {
                                        "name": "EscrowTaxesPMI"
                                    },
                                    {
                                        "name": "EscrowInsOther"
                                    },
                                    {
                                        "name": "CLCOverrideEXC"
                                    },
                                    {
                                        "name": "EscrowFlag"
                                    },
                                    {
                                        "name": "OriginalLoanAmount"
                                    },
                                    {
                                        "name": "OriginalTerm"
                                    },
                                    {
                                        "name": "AmortizationTerm"
                                    },
                                    {
                                        "name": "RealEstateCodes"
                                    },
                                    {
                                        "name": "HPML"
                                    },
                                    {
                                        "name": "PaymentDueDateOverall"
                                    },
                                    {
                                        "name": "DaysLateOverall"
                                    },
                                    {
                                        "name": "TotalPastDue"
                                    },
                                    {
                                        "name": "Is Tied To Facility"
                                    },
                                    {
                                        "name": "isFunded"
                                    },
                                    {
                                        "name": "Federal Loan Class Description"
                                    },
                                    {
                                        "name": "Pledged For Collateral"
                                    },
                                    {
                                        "name": "Last Renewal Date"
                                    },
                                    {
                                        "name": "Watch List"
                                    },
                                    {
                                        "name": "Investor Type Code"
                                    },
                                    {
                                        "name": "Our Share Amount"
                                    },
                                    {
                                        "name": "Syndicated Amount"
                                    },
                                    {
                                        "name": "pctSyndicated"
                                    },
                                    {
                                        "name": "Facility Section 1"
                                    },
                                    {
                                        "name": "Facility Section 2"
                                    },
                                    {
                                        "name": "Facility Section Booked Under"
                                    },
                                    {
                                        "name": "Sweep Eligible"
                                    },
                                    {
                                        "name": "StandardReferenceIDType"
                                    },
                                    {
                                        "name": "StandardReferenceID"
                                    },
                                    {
                                        "name": "BookingType"
                                    },
                                    {
                                        "name": "OBSAccount"
                                    },
                                    {
                                        "name": "Accrual Schedule Id"
                                    },
                                    {
                                        "name": "Accrual Sched Effective Date"
                                    },
                                    {
                                        "name": "AccrualCategory"
                                    },
                                    {
                                        "name": "Year Basis"
                                    },
                                    {
                                        "name": "BasisRate"
                                    },
                                    {
                                        "name": "SpreadRate"
                                    },
                                    {
                                        "name": "All-In-Rate"
                                    },
                                    {
                                        "name": "IndexFrequencyDescription"
                                    },
                                    {
                                        "name": "RateChangeDayDescription"
                                    },
                                    {
                                        "name": "Index Rate Next Effective Date"
                                    },
                                    {
                                        "name": "AutomaticallyReAmortizationRepaymentSchedule"
                                    },
                                    {
                                        "name": "LateChargeFixedAmount"
                                    },
                                    {
                                        "name": "LateChargePercentageofAmount"
                                    },
                                    {
                                        "name": "Late Charge Grace Days"
                                    },
                                    {
                                        "name": "MinimumLateChargeAmount"
                                    },
                                    {
                                        "name": "MaximumLateChargeAmount"
                                    },
                                    {
                                        "name": "Billing Type"
                                    },
                                    {
                                        "name": "Bill Lead Days"
                                    },
                                    {
                                        "name": "BillAdjustmentsPaymentAmount"
                                    },
                                    {
                                        "name": "Percentage of Balance"
                                    },
                                    {
                                        "name": "NumberofAmortizationMonths"
                                    },
                                    {
                                        "name": "BillBalanceCategory"
                                    },
                                    {
                                        "name": "Balloon Payment Amount"
                                    },
                                    {
                                        "name": "Escrow Payment Amount"
                                    },
                                    {
                                        "name": "Collection Instructions"
                                    },
                                    {
                                        "name": "Mailing Instructions"
                                    },
                                    {
                                        "name": "Billing Address"
                                    },
                                    {
                                        "name": "Billing DDA Number"
                                    },
                                    {
                                        "name": "Secondary Billing Type"
                                    },
                                    {
                                        "name": "Secondary Bill Next Due Date"
                                    },
                                    {
                                        "name": "Secondary Billing Frequency"
                                    },
                                    {
                                        "name": "Secondary Bill Lead Days"
                                    },
                                    {
                                        "name": "Secondary Bill Adjustments Payment Amount"
                                    },
                                    {
                                        "name": "Secondary Bill Percentage of Balance"
                                    },
                                    {
                                        "name": "Secondary Bill Balance Category"
                                    },
                                    {
                                        "name": "Secondary Collection Instructions"
                                    },
                                    {
                                        "name": "Secondary Mailing Instructions"
                                    },
                                    {
                                        "name": "Secondary Billing Address"
                                    },
                                    {
                                        "name": "Secondary Billing DDA Number"
                                    },
                                    {
                                        "name": "StartDate"
                                    },
                                    {
                                        "name": "EndDate"
                                    },
                                    {
                                        "name": "PrincipalPaidMTD"
                                    },
                                    {
                                        "name": "InterestPaidMTD"
                                    },
                                    {
                                        "name": "InterestAccruedCurrentPeriod"
                                    },
                                    {
                                        "name": "CurrentPrincipalDue"
                                    },
                                    {
                                        "name": "NumberOf1stNoticesSent"
                                    },
                                    {
                                        "name": "NumberOf2ndtNoticesSent"
                                    },
                                    {
                                        "name": "NumberOf3rdNoticesSent"
                                    },
                                    {
                                        "name": "CreditLife"
                                    },
                                    {
                                        "name": "Interest Balance"
                                    },
                                    {
                                        "name": "Fee Balance"
                                    },
                                    {
                                        "name": "EscrowBalance"
                                    },
                                    {
                                        "name": "ConvertedReference"
                                    },
                                    {
                                        "name": "ConvertedReferenceType"
                                    },
                                    {
                                        "name": "AssessLateChargesAtMaturity"
                                    },
                                    {
                                        "name": "LateChargesNotPaid"
                                    },
                                    {
                                        "name": "LateChargesYTD"
                                    },
                                    {
                                        "name": "InternalReferenceNumber"
                                    },
                                    {
                                        "name": "UnfundedLoanLevel"
                                    },
                                    {
                                        "name": "AmountOutstandingLoanLevel"
                                    },
                                    {
                                        "name": "FacilityAccountID"
                                    },
                                    {
                                        "name": "FeesCollectedYTD"
                                    },
                                    {
                                        "name": "LateChargesCollectedYTD"
                                    },
                                    {
                                        "name": "LateChargesCollectedTerm"
                                    },
                                    {
                                        "name": "Prepayment Penalty Applies"
                                    },
                                    {
                                        "name": "OtherBalances"
                                    }
                                ]
                            },
                            "data": [
                                {
                                    "0": "10197560",
                                    "1": "CLN",
                                    "2": "LOC",
                                    "3": "KC",
                                    "4": "BL",
                                    "5": "2019-11-19 00:00:00.000",
                                    "6": "2021-10-19 00:00:00.000",
                                    "7": "NULL",
                                    "8": "0.0000",
                                    "9": "0.0000",
                                    "10": "2500.0000",
                                    "11": "0.0000",
                                    "12": "0.0000",
                                    "13": "2019-11-19 00:00:00.000",
                                    "14": "2500.0000",
                                    "15": "0.0000",
                                    "16": "NULL",
                                    "17": "NULL",
                                    "18": "0.0000",
                                    "19": "0.0000",
                                    "20": "500",
                                    "21": "5",
                                    "22": "N",
                                    "23": "5",
                                    "24": "2",
                                    "25": "1",
                                    "26": "Fixed",
                                    "27": "N",
                                    "28": "2",
                                    "29": "360/365",
                                    "30": "11.9900",
                                    "31": "0.0000",
                                    "32": "2019-11-19",
                                    "33": "0.0000",
                                    "34": "0.0000",
                                    "35": "0.0000",
                                    "36": "NULL",
                                    "37": "NULL",
                                    "38": "0.0000",
                                    "39": "0.0000",
                                    "40": "NULL",
                                    "41": "NULL",
                                    "42": "NULL",
                                    "43": "0",
                                    "44": "NULL",
                                    "45": "NULL",
                                    "46": "NULL",
                                    "47": "NULL",
                                    "48": "NULL",
                                    "49": "NULL",
                                    "50": "0.0000",
                                    "51": "0.0000",
                                    "52": "00",
                                    "53": "NULL",
                                    "54": "NULL",
                                    "55": "NULL",
                                    "56": "NULL",
                                    "57": "NULL",
                                    "58": "NULL",
                                    "59": "NULL",
                                    "60": "NULL",
                                    "61": "NULL",
                                    "62": "NULL",
                                    "63": "NULL",
                                    "64": "NULL",
                                    "65": "N",
                                    "66": "NULL",
                                    "67": "NULL",
                                    "68": "NULL",
                                    "69": "NULL",
                                    "70": "NULL",
                                    "71": "N",
                                    "72": "0.0000",
                                    "73": "3",
                                    "74": "NULL",
                                    "75": "NULL",
                                    "76": "NULL",
                                    "77": "NULL",
                                    "78": "VA",
                                    "79": "NULL",
                                    "80": "NULL",
                                    "81": "NULL",
                                    "82": "RELI",
                                    "83": "NULL",
                                    "84": "NULL",
                                    "85": "236118",
                                    "86": "500",
                                    "87": "OTH",
                                    "88": "24",
                                    "89": "NULL",
                                    "90": "0.0000",
                                    "91": "500",
                                    "92": "COMMERCIAL & INDUSTRIAL",
                                    "93": "500",
                                    "94": "WORKING CAPITAL",
                                    "95": "COL4440540032",
                                    "96": "300",
                                    "97": "UNSECURED",
                                    "98": "UNSECURED",
                                    "99": "NULL",
                                    "100": "0.0000",
                                    "101": "0.0000",
                                    "102": "N",
                                    "103": "NULL",
                                    "104": "NULL",
                                    "105": "M",
                                    "106": "Monthly",
                                    "107": "BI%",
                                    "108": "% of Bal+Billed  Int",
                                    "109": "2019-12-20 00:00:00.000",
                                    "110": "0",
                                    "111": "0",
                                    "112": "1",
                                    "113": "1",
                                    "114": "NULL",
                                    "115": "NULL",
                                    "116": "NULL",
                                    "117": "NULL",
                                    "118": "0",
                                    "119": "0",
                                    "120": "0",
                                    "121": "0",
                                    "122": "0",
                                    "123": "NULL",
                                    "124": "NULL",
                                    "125": "NULL",
                                    "126": "NULL",
                                    "127": "NULL",
                                    "128": "N",
                                    "129": "540032",
                                    "130": "N",
                                    "131": "N",
                                    "132": "N",
                                    "133": "N",
                                    "134": "NULL",
                                    "135": "0.0000",
                                    "136": "NULL",
                                    "137": "NULL",
                                    "138": "N",
                                    "139": "N",
                                    "140": "COMMERCIAL/INDUSTRIAL LOANS",
                                    "141": "COMMERCIAL & INDUSTRIAL",
                                    "142": "NULL",
                                    "143": "N",
                                    "144": "NULL",
                                    "145": "NULL",
                                    "146": "NULL",
                                    "147": "NULL",
                                    "148": "NULL",
                                    "149": "NULL",
                                    "150": "No Tier",
                                    "151": "N",
                                    "152": "N",
                                    "153": "COMMERCIAL",
                                    "154": "LINE OF CREDIT",
                                    "155": "SMALL BUSINESS RELI",
                                    "156": "N",
                                    "157": "N",
                                    "158": "0",
                                    "159": "2019-11-26 05:46:01.320",
                                    "160": "NULL",
                                    "161": "NULL",
                                    "162": "NULL",
                                    "163": "NULL",
                                    "164": "NULL",
                                    "165": "0.0000",
                                    "166": "0.0000",
                                    "167": "0",
                                    "168": "N",
                                    "169": "NULL",
                                    "170": "NULL",
                                    "171": "N",
                                    "172": "0",
                                    "173": "5.0000",
                                    "174": "Non Participation",
                                    "175": "N",
                                    "176": "N",
                                    "177": "N",
                                    "178": "N",
                                    "179": "N",
                                    "180": "N",
                                    "181": "N",
                                    "182": "N",
                                    "183": "N",
                                    "184": "N",
                                    "185": "NULL",
                                    "186": "N",
                                    "187": "2500.0000",
                                    "188": "24",
                                    "189": "NULL",
                                    "190": "NULL",
                                    "191": "N",
                                    "192": "NULL",
                                    "193": "NULL",
                                    "194": "NULL",
                                    "195": "NULL",
                                    "196": "NULL",
                                    "197": "NULL",
                                    "198": "NULL",
                                    "199": "NULL",
                                    "200": "NULL",
                                    "201": "NULL",
                                    "202": "NULL",
                                    "203": "NULL",
                                    "204": "NULL",
                                    "205": "NULL",
                                    "206": "NULL",
                                    "207": "NULL",
                                    "208": "NULL",
                                    "209": "NULL",
                                    "210": "NULL",
                                    "211": "NULL",
                                    "212": "NULL",
                                    "213": "NULL",
                                    "214": "NULL",
                                    "215": "NULL",
                                    "216": "NULL",
                                    "217": "NULL",
                                    "218": "NULL",
                                    "219": "NULL",
                                    "220": "NULL",
                                    "221": "NULL",
                                    "222": "NULL",
                                    "223": "NULL",
                                    "224": "NULL",
                                    "225": "NULL",
                                    "226": "NULL",
                                    "227": "NULL",
                                    "228": "NULL",
                                    "229": "NULL",
                                    "230": "NULL",
                                    "231": "NULL",
                                    "232": "NULL",
                                    "233": "NULL",
                                    "234": "NULL",
                                    "235": "NULL",
                                    "236": "NULL",
                                    "237": "NULL",
                                    "238": "NULL",
                                    "239": "NULL",
                                    "240": "NULL",
                                    "241": "NULL",
                                    "242": "NULL",
                                    "243": "NULL",
                                    "244": "NULL",
                                    "245": "NULL",
                                    "246": "NULL",
                                    "247": "NULL",
                                    "248": "NULL",
                                    "249": "NULL",
                                    "250": "NULL",
                                    "251": "NULL",
                                    "252": "2019-11-26 05:46:01.3200000",
                                    "253": "NULL",
                                    "254": "0.0000",
                                    "255": "NULL",
                                    "256": "NULL",
                                    "257": "0.0000",
                                    "258": "0",
                                    "259": "0",
                                    "260": "0",
                                    "261": "0.0000",
                                    "262": "NULL",
                                    "263": "NULL",
                                    "264": "0.0000",
                                    "265": "NULL",
                                    "266": "NULL",
                                    "267": "NULL",
                                    "268": "0.0000",
                                    "269": "0.0000",
                                    "270": "NULL",
                                    "271": "NULL",
                                    "272": "NULL",
                                    "273": "NULL",
                                    "274": "0.0000",
                                    "275": "0.0000",
                                    "276": "0.0000",
                                    "277": "NULL",
                                    "278": "NULL"
                                }
                            ]
                        },
                        "text/html": "<table><tr><th>AccountID</th><th>BanklineSubSystem</th><th>WoodforestSubSystem</th><th>ShortName</th><th>OfficerCode2</th><th>DateLoanEntry</th><th>MaturityDate</th><th>CurrentRenewalNumber</th><th>CurrentLoanAmount</th><th>LoanBalance</th><th>FaceAmount</th><th>NetParticipation</th><th>CurrentParticipationAmount</th><th>OriginalOpenDate</th><th>UnfundedAmount</th><th>AmountOutstanding</th><th>CommitmentNumber</th><th>CommitmentExpire Date</th><th>CommitmentAuthorizedAmount</th><th>CurrentCommitmentAmountUsed</th><th>Federal Category</th><th>RiskGrade</th><th>RiskGradeAutoGraded</th><th>RiskGradeOriginal</th><th>CIFSequenceNumber</th><th>RateTypeCode</th><th>RateType</th><th>isInterestRateVariable</th><th>InterestRateCalculationCode</th><th>Interest Rate Calculation</th><th>InterestRate</th><th>MTDInterestEarned</th><th>InterestPaidToDate</th><th>TermInterestEarned</th><th>PrincipalPaidTerm</th><th>PrincipalPaidYTD</th><th>InterestPaidYTD</th><th>InterestPaidTerm</th><th>InterestEarnedSinceLastBill</th><th>InterestEarnedYTD</th><th>InterestPaidPriorYTD</th><th>InterestRatePrevious</th><th>InterestRateDateEffectivePrevious</th><th>RateChangeFrequency</th><th>RateChangeDay</th><th>PrimeRate</th><th>PrimeRateName</th><th>AdjustableRateIndexRateCode</th><th>PrimeChangeEffectiveDate</th><th>VarianceFromPrimeRateorAmount</th><th>RateFloor</th><th>RateCeiling</th><th>PrimeRateChangeCode</th><th>ARMNoticeType</th><th>ARMType</th><th>ARMInterestChargeDate</th><th>ARMAdvanceNoticeDays</th><th>ARMConversionDate</th><th>ARMOriginalBaseRate</th><th>ARMCurrentBaseRate</th><th>ARMNewBaseRate</th><th>ARMRoundingFactor</th><th>ARMOldPrincipleandInterest</th><th>ARMNewPrincipleandInterest</th><th>SBAAuthorizeDate</th><th>SBAGuarantee</th><th>SBAGuaranteed</th><th>SBAGuaranteed Percent</th><th>SBAGPNumber</th><th>SBA Status</th><th>SBAUSDAFlag</th><th>isSBALoan</th><th>DailyInterest</th><th>NOTE_TP</th><th>LTV</th><th>Supervisory LTV</th><th>CountyCode</th><th>MSACode</th><th>StateCode</th><th>OwnerOccupied</th><th>LienStatus</th><th>ValueSource</th><th>ProductCode</th><th>ServicedBy</th><th>SIC</th><th>NAICS</th><th>FDICCodes</th><th>TaxOwnerType</th><th>Term</th><th>DatePlacedOnWatchList</th><th>HoldAmount</th><th>ConcentrationCode</th><th>ConcentrationCodeDescription</th><th>PurposeCode</th><th>PurposeCodeDescription</th><th>PrimaryCollateralID</th><th>PrimaryCollateralCode</th><th>PrimaryCollateralCodeDescription</th><th>PrimaryCollateralDescription</th><th>PrimaryCollateralLastAppraisalDate</th><th>PrimaryCollateralAppraisalAmount</th><th>TotalCollateral</th><th>isNotePaidOff</th><th>PayoffDate</th><th>PayoffNote</th><th>PaymentFrequencyCode</th><th>PaymentFrequency</th><th>PaymentTypeCode</th><th>PaymentType</th><th>NextPaymentDueDate</th><th>LastPaymentNumberBilled</th><th>LastPaymentNumberPaid</th><th>NumberOfPaymentsLeft</th><th>NumberOfPayments</th><th>LastPaymentDueDate</th><th>LastPaymentDueAmount</th><th>LastPaymentDate</th><th>LastPaymentAmount</th><th>DaysLate</th><th>Times30DaysPastDue</th><th>Times60DaysPastDue</th><th>Times90DaysPastDue</th><th>PaymentNumber30-60-90DaysLate</th><th>BillPrincipalAmount</th><th>BillInterestAmount</th><th>BilledLateFees</th><th>BilledEscrowAmount</th><th>TotalPaymentAmountDue</th><th>Impaired</th><th>AppID</th><th>Revolving</th><th>Bankline TDR</th><th>TDR</th><th>Exempt</th><th>TDRDate</th><th>GlobalLoanAmount</th><th>ConstructionTargetDate</th><th>HELOCMaturityDate</th><th>isCommunityDevelopment</th><th>isServiceMember</th><th>LoanType</th><th>LoanTypeSubcategory</th><th>HVCRE</th><th>Participation</th><th>ParticipationEffectiveDate</th><th>pctParticipated</th><th>ParticipatonPurchaseCIFNumber</th><th>ParticipationLeadBank</th><th>BankRelationship</th><th>InvestorCIFNumber</th><th>Tier</th><th>isTaxExempt</th><th>NonAccrual</th><th>ProductLine</th><th>ProductType</th><th>Product</th><th>isCommercial</th><th>Real Estate</th><th>DummyLoan</th><th>LastUpdated</th><th>DemandLetterDate</th><th>BorrowingBase</th><th>OBSAdvance</th><th>BorrowingBaseGoodThru</th><th>BusinessDate</th><th>AccruedInterestCurrentDue</th><th>AccruedInterest</th><th>NumberofPaymentsPaid</th><th>isSecured</th><th>AutoChargeCode</th><th>AutoChargeAccountNumber</th><th>wasLastPaymentAutoCharged</th><th>LastPaymentAutoCharged</th><th>NextPaymentDueAmount</th><th>ParticipationType</th><th>EscrowFlood</th><th>EscrowHazard</th><th>EscrowTaxesCountry</th><th>EscrowTaxesSchool</th><th>EscrowTaxesMUD</th><th>EscrowTaxesCity</th><th>EscrowTaxesPOA</th><th>EscrowTaxesMISC</th><th>EscrowTaxesPMI</th><th>EscrowInsOther</th><th>CLCOverrideEXC</th><th>EscrowFlag</th><th>OriginalLoanAmount</th><th>OriginalTerm</th><th>AmortizationTerm</th><th>RealEstateCodes</th><th>HPML</th><th>PaymentDueDateOverall</th><th>DaysLateOverall</th><th>TotalPastDue</th><th>Is Tied To Facility</th><th>isFunded</th><th>Federal Loan Class Description</th><th>Pledged For Collateral</th><th>Last Renewal Date</th><th>Watch List</th><th>Investor Type Code</th><th>Our Share Amount</th><th>Syndicated Amount</th><th>pctSyndicated</th><th>Facility Section 1</th><th>Facility Section 2</th><th>Facility Section Booked Under</th><th>Sweep Eligible</th><th>StandardReferenceIDType</th><th>StandardReferenceID</th><th>BookingType</th><th>OBSAccount</th><th>Accrual Schedule Id</th><th>Accrual Sched Effective Date</th><th>AccrualCategory</th><th>Year Basis</th><th>BasisRate</th><th>SpreadRate</th><th>All-In-Rate</th><th>IndexFrequencyDescription</th><th>RateChangeDayDescription</th><th>Index Rate Next Effective Date</th><th>AutomaticallyReAmortizationRepaymentSchedule</th><th>LateChargeFixedAmount</th><th>LateChargePercentageofAmount</th><th>Late Charge Grace Days</th><th>MinimumLateChargeAmount</th><th>MaximumLateChargeAmount</th><th>Billing Type</th><th>Bill Lead Days</th><th>BillAdjustmentsPaymentAmount</th><th>Percentage of Balance</th><th>NumberofAmortizationMonths</th><th>BillBalanceCategory</th><th>Balloon Payment Amount</th><th>Escrow Payment Amount</th><th>Collection Instructions</th><th>Mailing Instructions</th><th>Billing Address</th><th>Billing DDA Number</th><th>Secondary Billing Type</th><th>Secondary Bill Next Due Date</th><th>Secondary Billing Frequency</th><th>Secondary Bill Lead Days</th><th>Secondary Bill Adjustments Payment Amount</th><th>Secondary Bill Percentage of Balance</th><th>Secondary Bill Balance Category</th><th>Secondary Collection Instructions</th><th>Secondary Mailing Instructions</th><th>Secondary Billing Address</th><th>Secondary Billing DDA Number</th><th>StartDate</th><th>EndDate</th><th>PrincipalPaidMTD</th><th>InterestPaidMTD</th><th>InterestAccruedCurrentPeriod</th><th>CurrentPrincipalDue</th><th>NumberOf1stNoticesSent</th><th>NumberOf2ndtNoticesSent</th><th>NumberOf3rdNoticesSent</th><th>CreditLife</th><th>Interest Balance</th><th>Fee Balance</th><th>EscrowBalance</th><th>ConvertedReference</th><th>ConvertedReferenceType</th><th>AssessLateChargesAtMaturity</th><th>LateChargesNotPaid</th><th>LateChargesYTD</th><th>InternalReferenceNumber</th><th>UnfundedLoanLevel</th><th>AmountOutstandingLoanLevel</th><th>FacilityAccountID</th><th>FeesCollectedYTD</th><th>LateChargesCollectedYTD</th><th>LateChargesCollectedTerm</th><th>Prepayment Penalty Applies</th><th>OtherBalances</th></tr><tr><td>10197560</td><td>CLN</td><td>LOC</td><td>KC</td><td>BL</td><td>2019-11-19 00:00:00.000</td><td>2021-10-19 00:00:00.000</td><td>NULL</td><td>0.0000</td><td>0.0000</td><td>2500.0000</td><td>0.0000</td><td>0.0000</td><td>2019-11-19 00:00:00.000</td><td>2500.0000</td><td>0.0000</td><td>NULL</td><td>NULL</td><td>0.0000</td><td>0.0000</td><td>500</td><td>5</td><td>N</td><td>5</td><td>2</td><td>1</td><td>Fixed</td><td>N</td><td>2</td><td>360/365</td><td>11.9900</td><td>0.0000</td><td>2019-11-19</td><td>0.0000</td><td>0.0000</td><td>0.0000</td><td>NULL</td><td>NULL</td><td>0.0000</td><td>0.0000</td><td>NULL</td><td>NULL</td><td>NULL</td><td>0</td><td>NULL</td><td>NULL</td><td>NULL</td><td>NULL</td><td>NULL</td><td>NULL</td><td>0.0000</td><td>0.0000</td><td>00</td><td>NULL</td><td>NULL</td><td>NULL</td><td>NULL</td><td>NULL</td><td>NULL</td><td>NULL</td><td>NULL</td><td>NULL</td><td>NULL</td><td>NULL</td><td>NULL</td><td>N</td><td>NULL</td><td>NULL</td><td>NULL</td><td>NULL</td><td>NULL</td><td>N</td><td>0.0000</td><td>3</td><td>NULL</td><td>NULL</td><td>NULL</td><td>NULL</td><td>VA</td><td>NULL</td><td>NULL</td><td>NULL</td><td>RELI</td><td>NULL</td><td>NULL</td><td>236118</td><td>500</td><td>OTH</td><td>24</td><td>NULL</td><td>0.0000</td><td>500</td><td>COMMERCIAL &amp; INDUSTRIAL</td><td>500</td><td>WORKING CAPITAL</td><td>COL4440540032</td><td>300</td><td>UNSECURED</td><td>UNSECURED</td><td>NULL</td><td>0.0000</td><td>0.0000</td><td>N</td><td>NULL</td><td>NULL</td><td>M</td><td>Monthly</td><td>BI%</td><td>% of Bal+Billed  Int</td><td>2019-12-20 00:00:00.000</td><td>0</td><td>0</td><td>1</td><td>1</td><td>NULL</td><td>NULL</td><td>NULL</td><td>NULL</td><td>0</td><td>0</td><td>0</td><td>0</td><td>0</td><td>NULL</td><td>NULL</td><td>NULL</td><td>NULL</td><td>NULL</td><td>N</td><td>540032</td><td>N</td><td>N</td><td>N</td><td>N</td><td>NULL</td><td>0.0000</td><td>NULL</td><td>NULL</td><td>N</td><td>N</td><td>COMMERCIAL/INDUSTRIAL LOANS</td><td>COMMERCIAL &amp; INDUSTRIAL</td><td>NULL</td><td>N</td><td>NULL</td><td>NULL</td><td>NULL</td><td>NULL</td><td>NULL</td><td>NULL</td><td>No Tier</td><td>N</td><td>N</td><td>COMMERCIAL</td><td>LINE OF CREDIT</td><td>SMALL BUSINESS RELI</td><td>N</td><td>N</td><td>0</td><td>2019-11-26 05:46:01.320</td><td>NULL</td><td>NULL</td><td>NULL</td><td>NULL</td><td>NULL</td><td>0.0000</td><td>0.0000</td><td>0</td><td>N</td><td>NULL</td><td>NULL</td><td>N</td><td>0</td><td>5.0000</td><td>Non Participation</td><td>N</td><td>N</td><td>N</td><td>N</td><td>N</td><td>N</td><td>N</td><td>N</td><td>N</td><td>N</td><td>NULL</td><td>N</td><td>2500.0000</td><td>24</td><td>NULL</td><td>NULL</td><td>N</td><td>NULL</td><td>NULL</td><td>NULL</td><td>NULL</td><td>NULL</td><td>NULL</td><td>NULL</td><td>NULL</td><td>NULL</td><td>NULL</td><td>NULL</td><td>NULL</td><td>NULL</td><td>NULL</td><td>NULL</td><td>NULL</td><td>NULL</td><td>NULL</td><td>NULL</td><td>NULL</td><td>NULL</td><td>NULL</td><td>NULL</td><td>NULL</td><td>NULL</td><td>NULL</td><td>NULL</td><td>NULL</td><td>NULL</td><td>NULL</td><td>NULL</td><td>NULL</td><td>NULL</td><td>NULL</td><td>NULL</td><td>NULL</td><td>NULL</td><td>NULL</td><td>NULL</td><td>NULL</td><td>NULL</td><td>NULL</td><td>NULL</td><td>NULL</td><td>NULL</td><td>NULL</td><td>NULL</td><td>NULL</td><td>NULL</td><td>NULL</td><td>NULL</td><td>NULL</td><td>NULL</td><td>NULL</td><td>NULL</td><td>NULL</td><td>NULL</td><td>NULL</td><td>NULL</td><td>NULL</td><td>2019-11-26 05:46:01.3200000</td><td>NULL</td><td>0.0000</td><td>NULL</td><td>NULL</td><td>0.0000</td><td>0</td><td>0</td><td>0</td><td>0.0000</td><td>NULL</td><td>NULL</td><td>0.0000</td><td>NULL</td><td>NULL</td><td>NULL</td><td>0.0000</td><td>0.0000</td><td>NULL</td><td>NULL</td><td>NULL</td><td>NULL</td><td>0.0000</td><td>0.0000</td><td>0.0000</td><td>NULL</td><td>NULL</td></tr></table>"
                    },
                    "metadata": {}
                },
                {
                    "output_type": "execute_result",
                    "execution_count": 5,
                    "data": {
                        "application/vnd.dataresource+json": {
                            "schema": {
                                "fields": [
                                    {
                                        "name": "AccountID"
                                    },
                                    {
                                        "name": "CURRENT_BUS_DAY"
                                    },
                                    {
                                        "name": "SHORT_NAME"
                                    },
                                    {
                                        "name": "Z_ID"
                                    },
                                    {
                                        "name": "Z_ID_RNWL"
                                    },
                                    {
                                        "name": "ACCT"
                                    },
                                    {
                                        "name": "ACCT_RNWL"
                                    },
                                    {
                                        "name": "OFFICER"
                                    },
                                    {
                                        "name": "BRCH"
                                    },
                                    {
                                        "name": "OFFICER2"
                                    },
                                    {
                                        "name": "DT_LOAN_ENTRY"
                                    },
                                    {
                                        "name": "DATE_OPN"
                                    },
                                    {
                                        "name": "RATE_GUAR_CD"
                                    },
                                    {
                                        "name": "INT_RATE"
                                    },
                                    {
                                        "name": "MAT_DATE"
                                    },
                                    {
                                        "name": "CUR_RENWLNUM"
                                    },
                                    {
                                        "name": "CURR_LOAN_AMT"
                                    },
                                    {
                                        "name": "FACE_AMOUNT"
                                    },
                                    {
                                        "name": "NET_PARTIC"
                                    },
                                    {
                                        "name": "CLASS"
                                    },
                                    {
                                        "name": "CLASS_DESC"
                                    },
                                    {
                                        "name": "STATUS"
                                    },
                                    {
                                        "name": "CUR_AMT_PARTIC"
                                    },
                                    {
                                        "name": "ORIG_OPN_DATE"
                                    },
                                    {
                                        "name": "UNFUNDED_AMOUNT"
                                    },
                                    {
                                        "name": "EXPIRE_DT"
                                    },
                                    {
                                        "name": "AUTH_AMOUNT"
                                    },
                                    {
                                        "name": "FED_CATEGORY"
                                    },
                                    {
                                        "name": "PURP_CODE"
                                    },
                                    {
                                        "name": "RISK_GRADE"
                                    },
                                    {
                                        "name": "PMT_FREQ"
                                    },
                                    {
                                        "name": "COLLAT_DESCRIP"
                                    },
                                    {
                                        "name": "DT_NEXT_PMT_DUE"
                                    },
                                    {
                                        "name": "OWNER"
                                    },
                                    {
                                        "name": "CIF_SEQ"
                                    },
                                    {
                                        "name": "PREV_INT_RATE"
                                    },
                                    {
                                        "name": "DT_PREV_RATE_EFF"
                                    },
                                    {
                                        "name": "NW_FXD_INT_RT_PEND"
                                    },
                                    {
                                        "name": "DT_NEW_FXD_RT_EFF"
                                    },
                                    {
                                        "name": "PRIME_RATE_USED_NUM"
                                    },
                                    {
                                        "name": "DT_EFF_PRIME_CHG"
                                    },
                                    {
                                        "name": "RATE_CHG_FRQ_MOS"
                                    },
                                    {
                                        "name": "RT_CHG_DAY"
                                    },
                                    {
                                        "name": "VAR_FROM_PRIME_OR_AMT"
                                    },
                                    {
                                        "name": "MIN_RATE"
                                    },
                                    {
                                        "name": "MAX_RATE"
                                    },
                                    {
                                        "name": "PRIME_RATE_CHG_CD"
                                    },
                                    {
                                        "name": "ARM_NOTICE_TYPE"
                                    },
                                    {
                                        "name": "ARM_TYPE"
                                    },
                                    {
                                        "name": "ARM_INT_CHG_DT"
                                    },
                                    {
                                        "name": "ARM_ADV_NOT_DYS"
                                    },
                                    {
                                        "name": "ARM_CONV_DATE"
                                    },
                                    {
                                        "name": "ARM_ORIG_BASE_RATE"
                                    },
                                    {
                                        "name": "ARM_CURR_BASE_RATE"
                                    },
                                    {
                                        "name": "ARM_NEW_BASE_RATE"
                                    },
                                    {
                                        "name": "ARM_ROUNDING_FACT"
                                    },
                                    {
                                        "name": "ARM_OLD_P_I"
                                    },
                                    {
                                        "name": "ARM_NEW_P_I"
                                    },
                                    {
                                        "name": "ARM_C_O_FLAG"
                                    },
                                    {
                                        "name": "ARM_C_O_RATE"
                                    },
                                    {
                                        "name": "SBA_GUAR"
                                    },
                                    {
                                        "name": "PART_PUR_CIF_NUM"
                                    },
                                    {
                                        "name": "SI_INT_EARND_SINCE_LST_BILL"
                                    },
                                    {
                                        "name": "DAILY_INT"
                                    },
                                    {
                                        "name": "NOTE_TP"
                                    },
                                    {
                                        "name": "InstitutionID"
                                    },
                                    {
                                        "name": "LTV"
                                    },
                                    {
                                        "name": "SPV_LTV_RE"
                                    },
                                    {
                                        "name": "REAL_ESTATE_CODES"
                                    },
                                    {
                                        "name": "COUNTY_CODE"
                                    },
                                    {
                                        "name": "MSA_CODE"
                                    },
                                    {
                                        "name": "STATE_CODE"
                                    },
                                    {
                                        "name": "CONCENTRATION_CODE"
                                    },
                                    {
                                        "name": "OWNER_OCCUP"
                                    },
                                    {
                                        "name": "LIEN_STATUS"
                                    },
                                    {
                                        "name": "VALUE_SOURCE"
                                    },
                                    {
                                        "name": "LOAN_REVIEW_DATA"
                                    },
                                    {
                                        "name": "LAST_REVIEW_DATE"
                                    },
                                    {
                                        "name": "PRODUCT_CODE"
                                    },
                                    {
                                        "name": "SBA_AUTHORIZE_DATE"
                                    },
                                    {
                                        "name": "HMDA_CRA_NOTES"
                                    },
                                    {
                                        "name": "SERVICED_BY"
                                    },
                                    {
                                        "name": "WNB_SIC"
                                    },
                                    {
                                        "name": "WNB_NAICS"
                                    },
                                    {
                                        "name": "FDIC_CDS"
                                    },
                                    {
                                        "name": "FDIC_CDS_Translated"
                                    },
                                    {
                                        "name": "PRIMARY_COLLATERAL_DESCRIPTION"
                                    },
                                    {
                                        "name": "CUSTOMER"
                                    },
                                    {
                                        "name": "DAYS_LATE"
                                    },
                                    {
                                        "name": "TERM"
                                    },
                                    {
                                        "name": "PRIMARY_COLLATERAL_CODE"
                                    },
                                    {
                                        "name": "PlacedOnWatch"
                                    },
                                    {
                                        "name": "HOLD_AMT"
                                    },
                                    {
                                        "name": "Total_Collateral"
                                    },
                                    {
                                        "name": "TAX_OWNER"
                                    },
                                    {
                                        "name": "ORIGINAL_RISK_GRADE"
                                    },
                                    {
                                        "name": "CONCENTRATION_DESCRIPTION"
                                    },
                                    {
                                        "name": "CHARGE_OFF_AMOUNT"
                                    },
                                    {
                                        "name": "AUTOGRADED"
                                    },
                                    {
                                        "name": "Exempt"
                                    },
                                    {
                                        "name": "APPRAISAL_DT_LAST"
                                    },
                                    {
                                        "name": "PRIMARY_COLLATERAL_ZIPCODE"
                                    },
                                    {
                                        "name": "PRIMARY_COLLATERAL_CITY"
                                    },
                                    {
                                        "name": "PRIMARY_COLLATERAL_STATE"
                                    },
                                    {
                                        "name": "PRIMARY_COLLATERAL_COUNTY"
                                    },
                                    {
                                        "name": "NOTE_PAYOFF"
                                    },
                                    {
                                        "name": "TDR"
                                    },
                                    {
                                        "name": "TIMES_30_DYS_PD"
                                    },
                                    {
                                        "name": "TIMES_60_DYS_PD"
                                    },
                                    {
                                        "name": "TIMES_90_DYS_PD"
                                    },
                                    {
                                        "name": "LST_PMT_DT"
                                    },
                                    {
                                        "name": "LST_PMT_AMT"
                                    },
                                    {
                                        "name": "IMPAIRED"
                                    },
                                    {
                                        "name": "APPRAISAL_AMT"
                                    },
                                    {
                                        "name": "Appro_ID"
                                    },
                                    {
                                        "name": "isEmployee"
                                    },
                                    {
                                        "name": "REV_CD"
                                    },
                                    {
                                        "name": "TDRDate"
                                    },
                                    {
                                        "name": "GlobalLoanAmount"
                                    },
                                    {
                                        "name": "SERVICEMEMBER"
                                    },
                                    {
                                        "name": "CONSTRUCTION_TARGET_DT"
                                    },
                                    {
                                        "name": "HELOC_MAT_DT"
                                    },
                                    {
                                        "name": "COMMUNITY_DEV"
                                    },
                                    {
                                        "name": "MailingAddress1"
                                    },
                                    {
                                        "name": "MailingAddress2"
                                    },
                                    {
                                        "name": "MailingCity"
                                    },
                                    {
                                        "name": "MailingState"
                                    },
                                    {
                                        "name": "MailingZip"
                                    },
                                    {
                                        "name": "ParticipantBanks"
                                    },
                                    {
                                        "name": "Principals"
                                    },
                                    {
                                        "name": "PCT_PARTIC"
                                    },
                                    {
                                        "name": "INVESTOR_CIFNUM"
                                    },
                                    {
                                        "name": "FacilityAccountID"
                                    },
                                    {
                                        "name": "FacilityNumber"
                                    },
                                    {
                                        "name": "SI_PRIN_PAID_MTD"
                                    },
                                    {
                                        "name": "INT_COLLECD_MTD"
                                    },
                                    {
                                        "name": "INT_ACCRD_CUR_PRD"
                                    },
                                    {
                                        "name": "PRIOR_YTD_INT_PD"
                                    },
                                    {
                                        "name": "INT_COLLECD_YTD"
                                    },
                                    {
                                        "name": "Facility Section Booked Under"
                                    },
                                    {
                                        "name": "Facility Section 1"
                                    },
                                    {
                                        "name": "Facility Section 2"
                                    },
                                    {
                                        "name": "UnfundedFacility"
                                    },
                                    {
                                        "name": "CRITICIZED"
                                    },
                                    {
                                        "name": "CLASSIFIED"
                                    },
                                    {
                                        "name": "NON-ACCRUAL"
                                    },
                                    {
                                        "name": "NON-PERFORMING"
                                    },
                                    {
                                        "name": "DELINQUENCY"
                                    },
                                    {
                                        "name": "CATEGORY"
                                    },
                                    {
                                        "name": "SUBCATEGORY"
                                    },
                                    {
                                        "name": "CATEGORYORDER"
                                    },
                                    {
                                        "name": "SUBCATEGORYORDER"
                                    },
                                    {
                                        "name": "SUBCATEGORYDASHBOARD"
                                    },
                                    {
                                        "name": "NextPaymentDueAmount"
                                    },
                                    {
                                        "name": "LienNote"
                                    },
                                    {
                                        "name": "PaymentType"
                                    },
                                    {
                                        "name": "NUM_PMTS"
                                    },
                                    {
                                        "name": "NUM_PMTS_LEFT"
                                    },
                                    {
                                        "name": "SI_ACCR_INT_CUR_DUE"
                                    },
                                    {
                                        "name": "SI_PRINT_CUR_DUE"
                                    },
                                    {
                                        "name": "PurchaseType"
                                    },
                                    {
                                        "name": "NonAccrualFlag"
                                    }
                                ]
                            },
                            "data": [
                                {
                                    "0": "10197560",
                                    "1": "2019-11-25",
                                    "2": "KC",
                                    "3": "CLN4440540032",
                                    "4": "CLN4440540032",
                                    "5": "4440540032",
                                    "6": "4440540032",
                                    "7": "BL",
                                    "8": "915",
                                    "9": "BL",
                                    "10": "2019-11-19 00:00:00.000",
                                    "11": "2019-11-19 00:00:00.000",
                                    "12": "1",
                                    "13": "11.9900",
                                    "14": "2021-10-19 00:00:00.000",
                                    "15": "NULL",
                                    "16": "0.0000",
                                    "17": "2500.00",
                                    "18": "0.0000",
                                    "19": "HBL",
                                    "20": "SMALL BUSINESS RELI",
                                    "21": "NW",
                                    "22": "0.0000",
                                    "23": "2019-11-19 00:00:00.000",
                                    "24": "2500.0000",
                                    "25": "NULL",
                                    "26": "0.0000",
                                    "27": "500",
                                    "28": "500",
                                    "29": "5",
                                    "30": "M",
                                    "31": "UNSECURED",
                                    "32": "2019-12-20 00:00:00.000",
                                    "33": "2175565",
                                    "34": "2",
                                    "35": "NULL",
                                    "36": "NULL",
                                    "37": "NULL",
                                    "38": "NULL",
                                    "39": "NULL",
                                    "40": "NULL",
                                    "41": "0",
                                    "42": "NULL",
                                    "43": "NULL",
                                    "44": "0.0000",
                                    "45": "0.0000",
                                    "46": "00",
                                    "47": "NULL",
                                    "48": "NULL",
                                    "49": "NULL",
                                    "50": "NULL",
                                    "51": "NULL",
                                    "52": "NULL",
                                    "53": "NULL",
                                    "54": "NULL",
                                    "55": "NULL",
                                    "56": "NULL",
                                    "57": "NULL",
                                    "58": "NULL",
                                    "59": "NULL",
                                    "60": "N",
                                    "61": "NULL",
                                    "62": "0.0000",
                                    "63": "0.0000",
                                    "64": "3",
                                    "65": "1",
                                    "66": "NULL",
                                    "67": "NULL",
                                    "68": "NULL",
                                    "69": "NULL",
                                    "70": "NULL",
                                    "71": "VA",
                                    "72": "500",
                                    "73": "NULL",
                                    "74": "NULL",
                                    "75": "NULL",
                                    "76": "NULL",
                                    "77": "NULL",
                                    "78": "RELI",
                                    "79": "NULL",
                                    "80": "NULL",
                                    "81": "NULL",
                                    "82": "NULL",
                                    "83": "236118",
                                    "84": "500",
                                    "85": "NULL",
                                    "86": "UNSECURED",
                                    "87": "KIDD'S CONSTRUCTION, LLC",
                                    "88": "0",
                                    "89": "24",
                                    "90": "300",
                                    "91": "NULL",
                                    "92": "0.0000",
                                    "93": "0.0000",
                                    "94": "OTH",
                                    "95": "5.0000",
                                    "96": "COMMERCIAL & INDUSTRIAL",
                                    "97": "NULL",
                                    "98": "N",
                                    "99": "N",
                                    "100": "NULL",
                                    "101": "NULL",
                                    "102": "NULL",
                                    "103": "NULL",
                                    "104": "NULL",
                                    "105": "N",
                                    "106": "N",
                                    "107": "0",
                                    "108": "0",
                                    "109": "0",
                                    "110": "NULL",
                                    "111": "NULL",
                                    "112": "N",
                                    "113": "0.0000",
                                    "114": "540032",
                                    "115": "0",
                                    "116": "N",
                                    "117": "NULL",
                                    "118": "0.0000",
                                    "119": "N",
                                    "120": "NULL",
                                    "121": "NULL",
                                    "122": "N",
                                    "123": "5425 SHULA DRIVE",
                                    "124": "NULL",
                                    "125": "HURT",
                                    "126": "VA",
                                    "127": "24563",
                                    "128": "NULL",
                                    "129": "PHILLIP W KIDD SR",
                                    "130": "NULL",
                                    "131": "NULL",
                                    "132": "NULL",
                                    "133": "NULL",
                                    "134": "0.0000",
                                    "135": "NULL",
                                    "136": "NULL",
                                    "137": "NULL",
                                    "138": "NULL",
                                    "139": "NULL",
                                    "140": "NULL",
                                    "141": "NULL",
                                    "142": "NULL",
                                    "143": "0.0000",
                                    "144": "0.0000",
                                    "145": "0.0000",
                                    "146": "0.0000",
                                    "147": "0.0000",
                                    "148": "COMMERCIAL/INDUSTRIAL LOANS",
                                    "149": "COMMERCIAL & INDUSTRIAL",
                                    "150": "1",
                                    "151": "1",
                                    "152": "COMMERCIAL & INDUSTRIAL",
                                    "153": "5.0000",
                                    "154": "NULL",
                                    "155": "% of Bal+Billed  Int",
                                    "156": "1",
                                    "157": "1",
                                    "158": "0.0000",
                                    "159": "0.0000",
                                    "160": "NULL",
                                    "161": "N"
                                }
                            ]
                        },
                        "text/html": "<table><tr><th>AccountID</th><th>CURRENT_BUS_DAY</th><th>SHORT_NAME</th><th>Z_ID</th><th>Z_ID_RNWL</th><th>ACCT</th><th>ACCT_RNWL</th><th>OFFICER</th><th>BRCH</th><th>OFFICER2</th><th>DT_LOAN_ENTRY</th><th>DATE_OPN</th><th>RATE_GUAR_CD</th><th>INT_RATE</th><th>MAT_DATE</th><th>CUR_RENWLNUM</th><th>CURR_LOAN_AMT</th><th>FACE_AMOUNT</th><th>NET_PARTIC</th><th>CLASS</th><th>CLASS_DESC</th><th>STATUS</th><th>CUR_AMT_PARTIC</th><th>ORIG_OPN_DATE</th><th>UNFUNDED_AMOUNT</th><th>EXPIRE_DT</th><th>AUTH_AMOUNT</th><th>FED_CATEGORY</th><th>PURP_CODE</th><th>RISK_GRADE</th><th>PMT_FREQ</th><th>COLLAT_DESCRIP</th><th>DT_NEXT_PMT_DUE</th><th>OWNER</th><th>CIF_SEQ</th><th>PREV_INT_RATE</th><th>DT_PREV_RATE_EFF</th><th>NW_FXD_INT_RT_PEND</th><th>DT_NEW_FXD_RT_EFF</th><th>PRIME_RATE_USED_NUM</th><th>DT_EFF_PRIME_CHG</th><th>RATE_CHG_FRQ_MOS</th><th>RT_CHG_DAY</th><th>VAR_FROM_PRIME_OR_AMT</th><th>MIN_RATE</th><th>MAX_RATE</th><th>PRIME_RATE_CHG_CD</th><th>ARM_NOTICE_TYPE</th><th>ARM_TYPE</th><th>ARM_INT_CHG_DT</th><th>ARM_ADV_NOT_DYS</th><th>ARM_CONV_DATE</th><th>ARM_ORIG_BASE_RATE</th><th>ARM_CURR_BASE_RATE</th><th>ARM_NEW_BASE_RATE</th><th>ARM_ROUNDING_FACT</th><th>ARM_OLD_P_I</th><th>ARM_NEW_P_I</th><th>ARM_C_O_FLAG</th><th>ARM_C_O_RATE</th><th>SBA_GUAR</th><th>PART_PUR_CIF_NUM</th><th>SI_INT_EARND_SINCE_LST_BILL</th><th>DAILY_INT</th><th>NOTE_TP</th><th>InstitutionID</th><th>LTV</th><th>SPV_LTV_RE</th><th>REAL_ESTATE_CODES</th><th>COUNTY_CODE</th><th>MSA_CODE</th><th>STATE_CODE</th><th>CONCENTRATION_CODE</th><th>OWNER_OCCUP</th><th>LIEN_STATUS</th><th>VALUE_SOURCE</th><th>LOAN_REVIEW_DATA</th><th>LAST_REVIEW_DATE</th><th>PRODUCT_CODE</th><th>SBA_AUTHORIZE_DATE</th><th>HMDA_CRA_NOTES</th><th>SERVICED_BY</th><th>WNB_SIC</th><th>WNB_NAICS</th><th>FDIC_CDS</th><th>FDIC_CDS_Translated</th><th>PRIMARY_COLLATERAL_DESCRIPTION</th><th>CUSTOMER</th><th>DAYS_LATE</th><th>TERM</th><th>PRIMARY_COLLATERAL_CODE</th><th>PlacedOnWatch</th><th>HOLD_AMT</th><th>Total_Collateral</th><th>TAX_OWNER</th><th>ORIGINAL_RISK_GRADE</th><th>CONCENTRATION_DESCRIPTION</th><th>CHARGE_OFF_AMOUNT</th><th>AUTOGRADED</th><th>Exempt</th><th>APPRAISAL_DT_LAST</th><th>PRIMARY_COLLATERAL_ZIPCODE</th><th>PRIMARY_COLLATERAL_CITY</th><th>PRIMARY_COLLATERAL_STATE</th><th>PRIMARY_COLLATERAL_COUNTY</th><th>NOTE_PAYOFF</th><th>TDR</th><th>TIMES_30_DYS_PD</th><th>TIMES_60_DYS_PD</th><th>TIMES_90_DYS_PD</th><th>LST_PMT_DT</th><th>LST_PMT_AMT</th><th>IMPAIRED</th><th>APPRAISAL_AMT</th><th>Appro_ID</th><th>isEmployee</th><th>REV_CD</th><th>TDRDate</th><th>GlobalLoanAmount</th><th>SERVICEMEMBER</th><th>CONSTRUCTION_TARGET_DT</th><th>HELOC_MAT_DT</th><th>COMMUNITY_DEV</th><th>MailingAddress1</th><th>MailingAddress2</th><th>MailingCity</th><th>MailingState</th><th>MailingZip</th><th>ParticipantBanks</th><th>Principals</th><th>PCT_PARTIC</th><th>INVESTOR_CIFNUM</th><th>FacilityAccountID</th><th>FacilityNumber</th><th>SI_PRIN_PAID_MTD</th><th>INT_COLLECD_MTD</th><th>INT_ACCRD_CUR_PRD</th><th>PRIOR_YTD_INT_PD</th><th>INT_COLLECD_YTD</th><th>Facility Section Booked Under</th><th>Facility Section 1</th><th>Facility Section 2</th><th>UnfundedFacility</th><th>CRITICIZED</th><th>CLASSIFIED</th><th>NON-ACCRUAL</th><th>NON-PERFORMING</th><th>DELINQUENCY</th><th>CATEGORY</th><th>SUBCATEGORY</th><th>CATEGORYORDER</th><th>SUBCATEGORYORDER</th><th>SUBCATEGORYDASHBOARD</th><th>NextPaymentDueAmount</th><th>LienNote</th><th>PaymentType</th><th>NUM_PMTS</th><th>NUM_PMTS_LEFT</th><th>SI_ACCR_INT_CUR_DUE</th><th>SI_PRINT_CUR_DUE</th><th>PurchaseType</th><th>NonAccrualFlag</th></tr><tr><td>10197560</td><td>2019-11-25</td><td>KC</td><td>CLN4440540032</td><td>CLN4440540032</td><td>4440540032</td><td>4440540032</td><td>BL</td><td>915</td><td>BL</td><td>2019-11-19 00:00:00.000</td><td>2019-11-19 00:00:00.000</td><td>1</td><td>11.9900</td><td>2021-10-19 00:00:00.000</td><td>NULL</td><td>0.0000</td><td>2500.00</td><td>0.0000</td><td>HBL</td><td>SMALL BUSINESS RELI</td><td>NW</td><td>0.0000</td><td>2019-11-19 00:00:00.000</td><td>2500.0000</td><td>NULL</td><td>0.0000</td><td>500</td><td>500</td><td>5</td><td>M</td><td>UNSECURED</td><td>2019-12-20 00:00:00.000</td><td>2175565</td><td>2</td><td>NULL</td><td>NULL</td><td>NULL</td><td>NULL</td><td>NULL</td><td>NULL</td><td>0</td><td>NULL</td><td>NULL</td><td>0.0000</td><td>0.0000</td><td>00</td><td>NULL</td><td>NULL</td><td>NULL</td><td>NULL</td><td>NULL</td><td>NULL</td><td>NULL</td><td>NULL</td><td>NULL</td><td>NULL</td><td>NULL</td><td>NULL</td><td>NULL</td><td>N</td><td>NULL</td><td>0.0000</td><td>0.0000</td><td>3</td><td>1</td><td>NULL</td><td>NULL</td><td>NULL</td><td>NULL</td><td>NULL</td><td>VA</td><td>500</td><td>NULL</td><td>NULL</td><td>NULL</td><td>NULL</td><td>NULL</td><td>RELI</td><td>NULL</td><td>NULL</td><td>NULL</td><td>NULL</td><td>236118</td><td>500</td><td>NULL</td><td>UNSECURED</td><td>KIDD'S CONSTRUCTION, LLC</td><td>0</td><td>24</td><td>300</td><td>NULL</td><td>0.0000</td><td>0.0000</td><td>OTH</td><td>5.0000</td><td>COMMERCIAL &amp; INDUSTRIAL</td><td>NULL</td><td>N</td><td>N</td><td>NULL</td><td>NULL</td><td>NULL</td><td>NULL</td><td>NULL</td><td>N</td><td>N</td><td>0</td><td>0</td><td>0</td><td>NULL</td><td>NULL</td><td>N</td><td>0.0000</td><td>540032</td><td>0</td><td>N</td><td>NULL</td><td>0.0000</td><td>N</td><td>NULL</td><td>NULL</td><td>N</td><td>5425 SHULA DRIVE</td><td>NULL</td><td>HURT</td><td>VA</td><td>24563</td><td>NULL</td><td>PHILLIP W KIDD SR</td><td>NULL</td><td>NULL</td><td>NULL</td><td>NULL</td><td>0.0000</td><td>NULL</td><td>NULL</td><td>NULL</td><td>NULL</td><td>NULL</td><td>NULL</td><td>NULL</td><td>NULL</td><td>0.0000</td><td>0.0000</td><td>0.0000</td><td>0.0000</td><td>0.0000</td><td>COMMERCIAL/INDUSTRIAL LOANS</td><td>COMMERCIAL &amp; INDUSTRIAL</td><td>1</td><td>1</td><td>COMMERCIAL &amp; INDUSTRIAL</td><td>5.0000</td><td>NULL</td><td>% of Bal+Billed  Int</td><td>1</td><td>1</td><td>0.0000</td><td>0.0000</td><td>NULL</td><td>N</td></tr></table>"
                    },
                    "metadata": {}
                },
                {
                    "output_type": "execute_result",
                    "execution_count": 5,
                    "data": {
                        "application/vnd.dataresource+json": {
                            "schema": {
                                "fields": [
                                    {
                                        "name": "AccountID"
                                    },
                                    {
                                        "name": "AccountUID"
                                    },
                                    {
                                        "name": "AccountNumber"
                                    },
                                    {
                                        "name": "SubSystemCode"
                                    },
                                    {
                                        "name": "Subsystem Desc"
                                    },
                                    {
                                        "name": "Class"
                                    },
                                    {
                                        "name": "Class Desc"
                                    },
                                    {
                                        "name": "Business Account"
                                    },
                                    {
                                        "name": "Savings Account"
                                    },
                                    {
                                        "name": "Interest Bearing"
                                    },
                                    {
                                        "name": "Overdraft Eligible"
                                    },
                                    {
                                        "name": "Account Status Code"
                                    },
                                    {
                                        "name": "Account Status Desc"
                                    },
                                    {
                                        "name": "Date Opened"
                                    },
                                    {
                                        "name": "Internal"
                                    },
                                    {
                                        "name": "Employee"
                                    },
                                    {
                                        "name": "Positive Pay"
                                    },
                                    {
                                        "name": "Zero Balance Account"
                                    },
                                    {
                                        "name": "Current Balance"
                                    },
                                    {
                                        "name": "CIF"
                                    },
                                    {
                                        "name": "Primary Owner"
                                    },
                                    {
                                        "name": "BranchID"
                                    },
                                    {
                                        "name": "Account Title"
                                    },
                                    {
                                        "name": "Federal Category Code"
                                    },
                                    {
                                        "name": "Federal Category Desc"
                                    },
                                    {
                                        "name": "Statment Cycle"
                                    },
                                    {
                                        "name": "Officer Code"
                                    },
                                    {
                                        "name": "Officer Name"
                                    },
                                    {
                                        "name": "Account Notes OLD"
                                    },
                                    {
                                        "name": "AddressID"
                                    },
                                    {
                                        "name": "Address1"
                                    },
                                    {
                                        "name": "Address2"
                                    },
                                    {
                                        "name": "City"
                                    },
                                    {
                                        "name": "State"
                                    },
                                    {
                                        "name": "Postal Code"
                                    },
                                    {
                                        "name": "Core"
                                    },
                                    {
                                        "name": "Routing Number"
                                    },
                                    {
                                        "name": "Current Average Collected Balance"
                                    },
                                    {
                                        "name": "Statement Eligibility Desc"
                                    },
                                    {
                                        "name": "Statement Delivery Desc"
                                    },
                                    {
                                        "name": "Closure Date"
                                    },
                                    {
                                        "name": "OriginalImportDate"
                                    },
                                    {
                                        "name": "LastUpdated"
                                    },
                                    {
                                        "name": "Purged"
                                    },
                                    {
                                        "name": "SpecialCIFInternal"
                                    },
                                    {
                                        "name": "CheckPayExempt"
                                    },
                                    {
                                        "name": "MultiTranExempt"
                                    },
                                    {
                                        "name": "DebitCardFeeExempt"
                                    },
                                    {
                                        "name": "SpecialCIF"
                                    },
                                    {
                                        "name": "EStatementEligible"
                                    },
                                    {
                                        "name": "EStatementEnrolled"
                                    },
                                    {
                                        "name": "PaperStatement"
                                    },
                                    {
                                        "name": "BankRelationship"
                                    },
                                    {
                                        "name": "BankRelationshipDescription"
                                    },
                                    {
                                        "name": "StartDate"
                                    },
                                    {
                                        "name": "EndDate"
                                    },
                                    {
                                        "name": "ActiveReporting"
                                    },
                                    {
                                        "name": "Account Notes"
                                    },
                                    {
                                        "name": "ReturnMail"
                                    },
                                    {
                                        "name": "StatementCopiesCombined"
                                    },
                                    {
                                        "name": "LastKnownAddressID"
                                    }
                                ]
                            },
                            "data": [
                                {
                                    "0": "10197560",
                                    "1": "72057594047793917",
                                    "2": "4440540032",
                                    "3": "LOC",
                                    "4": "Line of Credit",
                                    "5": "HBL",
                                    "6": "SMALL BUSINESS RELI",
                                    "7": "Y",
                                    "8": "N",
                                    "9": "N",
                                    "10": "N",
                                    "11": "NW",
                                    "12": "NW",
                                    "13": "2019-11-19 00:00:00.000",
                                    "14": "N",
                                    "15": "N",
                                    "16": "N",
                                    "17": "N",
                                    "18": "0.0000",
                                    "19": "2175565",
                                    "20": "KIDD'S CONSTRUCTION, LLC",
                                    "21": "286",
                                    "22": "UNSECURED",
                                    "23": "500",
                                    "24": "Comm/Indus Lns Not Re",
                                    "25": "END",
                                    "26": "BL",
                                    "27": "SMALL BUSINESS LENDING CENTER",
                                    "28": "NULL",
                                    "29": "3790507",
                                    "30": "NULL",
                                    "31": "NULL",
                                    "32": "NULL",
                                    "33": "NULL",
                                    "34": "NULL",
                                    "35": "WNB1",
                                    "36": "53112592",
                                    "37": "0.0000",
                                    "38": "1",
                                    "39": "1",
                                    "40": "NULL",
                                    "41": "2019-11-20 02:34:34.333",
                                    "42": "2019-11-26 03:12:50.603",
                                    "43": "N",
                                    "44": "N",
                                    "45": "N",
                                    "46": "N",
                                    "47": "N",
                                    "48": "N",
                                    "49": "N",
                                    "50": "N",
                                    "51": "Y",
                                    "52": "N",
                                    "53": "None",
                                    "54": "2019-11-20 02:34:34.3333333",
                                    "55": "NULL",
                                    "56": "Y",
                                    "57": "NULL",
                                    "58": "N",
                                    "59": "1",
                                    "60": "3790507"
                                }
                            ]
                        },
                        "text/html": "<table><tr><th>AccountID</th><th>AccountUID</th><th>AccountNumber</th><th>SubSystemCode</th><th>Subsystem Desc</th><th>Class</th><th>Class Desc</th><th>Business Account</th><th>Savings Account</th><th>Interest Bearing</th><th>Overdraft Eligible</th><th>Account Status Code</th><th>Account Status Desc</th><th>Date Opened</th><th>Internal</th><th>Employee</th><th>Positive Pay</th><th>Zero Balance Account</th><th>Current Balance</th><th>CIF</th><th>Primary Owner</th><th>BranchID</th><th>Account Title</th><th>Federal Category Code</th><th>Federal Category Desc</th><th>Statment Cycle</th><th>Officer Code</th><th>Officer Name</th><th>Account Notes OLD</th><th>AddressID</th><th>Address1</th><th>Address2</th><th>City</th><th>State</th><th>Postal Code</th><th>Core</th><th>Routing Number</th><th>Current Average Collected Balance</th><th>Statement Eligibility Desc</th><th>Statement Delivery Desc</th><th>Closure Date</th><th>OriginalImportDate</th><th>LastUpdated</th><th>Purged</th><th>SpecialCIFInternal</th><th>CheckPayExempt</th><th>MultiTranExempt</th><th>DebitCardFeeExempt</th><th>SpecialCIF</th><th>EStatementEligible</th><th>EStatementEnrolled</th><th>PaperStatement</th><th>BankRelationship</th><th>BankRelationshipDescription</th><th>StartDate</th><th>EndDate</th><th>ActiveReporting</th><th>Account Notes</th><th>ReturnMail</th><th>StatementCopiesCombined</th><th>LastKnownAddressID</th></tr><tr><td>10197560</td><td>72057594047793917</td><td>4440540032</td><td>LOC</td><td>Line of Credit</td><td>HBL</td><td>SMALL BUSINESS RELI</td><td>Y</td><td>N</td><td>N</td><td>N</td><td>NW</td><td>NW</td><td>2019-11-19 00:00:00.000</td><td>N</td><td>N</td><td>N</td><td>N</td><td>0.0000</td><td>2175565</td><td>KIDD'S CONSTRUCTION, LLC</td><td>286</td><td>UNSECURED</td><td>500</td><td>Comm/Indus Lns Not Re</td><td>END</td><td>BL</td><td>SMALL BUSINESS LENDING CENTER</td><td>NULL</td><td>3790507</td><td>NULL</td><td>NULL</td><td>NULL</td><td>NULL</td><td>NULL</td><td>WNB1</td><td>53112592</td><td>0.0000</td><td>1</td><td>1</td><td>NULL</td><td>2019-11-20 02:34:34.333</td><td>2019-11-26 03:12:50.603</td><td>N</td><td>N</td><td>N</td><td>N</td><td>N</td><td>N</td><td>N</td><td>N</td><td>Y</td><td>N</td><td>None</td><td>2019-11-20 02:34:34.3333333</td><td>NULL</td><td>Y</td><td>NULL</td><td>N</td><td>1</td><td>3790507</td></tr></table>"
                    },
                    "metadata": {}
                },
                {
                    "output_type": "execute_result",
                    "execution_count": 5,
                    "data": {
                        "application/vnd.dataresource+json": {
                            "schema": {
                                "fields": [
                                    {
                                        "name": "ID"
                                    },
                                    {
                                        "name": "BorrowerName"
                                    },
                                    {
                                        "name": "CoBorrowerName"
                                    },
                                    {
                                        "name": "CoBorrowerName2"
                                    },
                                    {
                                        "name": "Email"
                                    },
                                    {
                                        "name": "BorrowerCount"
                                    },
                                    {
                                        "name": "BorrowerID"
                                    },
                                    {
                                        "name": "BorOrderNum"
                                    },
                                    {
                                        "name": "AppID"
                                    },
                                    {
                                        "name": "ProductID"
                                    },
                                    {
                                        "name": "Product"
                                    },
                                    {
                                        "name": "Date"
                                    },
                                    {
                                        "name": "MailingStreet"
                                    },
                                    {
                                        "name": "MailingCity"
                                    },
                                    {
                                        "name": "MailingState"
                                    },
                                    {
                                        "name": "MailingZip"
                                    },
                                    {
                                        "name": "ApplicantType"
                                    },
                                    {
                                        "name": "ExpirationDate"
                                    },
                                    {
                                        "name": "LoanAmount"
                                    },
                                    {
                                        "name": "WNBAccount1"
                                    },
                                    {
                                        "name": "WNBAccount2"
                                    },
                                    {
                                        "name": "WNBAccount3"
                                    },
                                    {
                                        "name": "FICOScoreDate"
                                    },
                                    {
                                        "name": "FICOScore"
                                    },
                                    {
                                        "name": "KeyFactor1"
                                    },
                                    {
                                        "name": "KeyFactor2"
                                    },
                                    {
                                        "name": "KeyFactor3"
                                    },
                                    {
                                        "name": "KeyFactor4"
                                    },
                                    {
                                        "name": "AccountNum"
                                    },
                                    {
                                        "name": "DateDecisionedUpdated"
                                    },
                                    {
                                        "name": "CreditAvailableDate"
                                    },
                                    {
                                        "name": "Template"
                                    },
                                    {
                                        "name": "BusinessDate"
                                    },
                                    {
                                        "name": "AppSource"
                                    },
                                    {
                                        "name": "InsertTime"
                                    },
                                    {
                                        "name": "SentDate"
                                    }
                                ]
                            },
                            "data": [
                                {
                                    "0": "81875",
                                    "1": "VALA FLAG CAR SERVICE LLC ",
                                    "2": "EDITH ANN DAVIS",
                                    "3": "NULL",
                                    "4": "NULL",
                                    "5": "2",
                                    "6": "1077517",
                                    "7": "1",
                                    "8": "541763",
                                    "9": "108",
                                    "10": "Business RELI",
                                    "11": "2019-11-19 10:07:00.0000000",
                                    "12": "PO BOX 1127",
                                    "13": "ROCKY MOUNT",
                                    "14": "VA",
                                    "15": "24151",
                                    "16": "Joint Application",
                                    "17": "2019-12-20 10:07:00.0000000",
                                    "18": "2500.0000",
                                    "19": "1949001497",
                                    "20": "NULL",
                                    "21": "NULL",
                                    "22": "NULL",
                                    "23": "NULL",
                                    "24": "NULL",
                                    "25": "NULL",
                                    "26": "NULL",
                                    "27": "NULL",
                                    "28": "4440541763",
                                    "29": "NULL",
                                    "30": "2019-11-27 00:00:00.0000000",
                                    "31": "B1",
                                    "32": "2019-11-19 00:00:00.0000000",
                                    "33": "NULL",
                                    "34": "2019-11-20 05:35:03.8400000",
                                    "35": "2019-11-20 07:00:54.0533333"
                                },
                                {
                                    "0": "81884",
                                    "1": "KIDD'S CONSTRUCTION LLC ",
                                    "2": "PHILLIP KIDD, SR.",
                                    "3": "NULL",
                                    "4": "NULL",
                                    "5": "2",
                                    "6": "1073951",
                                    "7": "1",
                                    "8": "540032",
                                    "9": "108",
                                    "10": "Business RELI",
                                    "11": "2019-11-19 10:37:00.0000000",
                                    "12": "P O BOX 625",
                                    "13": "HURT",
                                    "14": "AL",
                                    "15": "24563",
                                    "16": "Joint Application",
                                    "17": "2019-12-20 10:37:00.0000000",
                                    "18": "2500.0000",
                                    "19": "1915001422",
                                    "20": "NULL",
                                    "21": "NULL",
                                    "22": "NULL",
                                    "23": "NULL",
                                    "24": "NULL",
                                    "25": "NULL",
                                    "26": "NULL",
                                    "27": "NULL",
                                    "28": "4440540032",
                                    "29": "NULL",
                                    "30": "2019-11-27 00:00:00.0000000",
                                    "31": "B1",
                                    "32": "2019-11-19 00:00:00.0000000",
                                    "33": "NULL",
                                    "34": "2019-11-20 05:35:03.8400000",
                                    "35": "2019-11-20 07:00:54.0533333"
                                },
                                {
                                    "0": "64",
                                    "1": "JK THISISATEST",
                                    "2": "NULL",
                                    "3": "NULL",
                                    "4": "jstanaland@woodforest.com",
                                    "5": "1",
                                    "6": "0",
                                    "7": "1",
                                    "8": "0",
                                    "9": "120",
                                    "10": "RELI Unsecured",
                                    "11": "2016-10-26 11:18:57.2470000",
                                    "12": "25231 Grogan's Mill Rd",
                                    "13": "THE WOODLANDS",
                                    "14": "TX",
                                    "15": "77380",
                                    "16": "Individual Application",
                                    "17": "2016-11-26 11:18:57.2470000",
                                    "18": "2000.0000",
                                    "19": "1234567890",
                                    "20": "2345678901",
                                    "21": "NULL",
                                    "22": "2016-10-26 11:18:57.2470000",
                                    "23": "622",
                                    "24": "Serious delinquency, and derogatory public record or collection filed",
                                    "25": "Proportion of balances to credit limits is too high on revolving accounts",
                                    "26": "Length of time since derogatory public record or collection is too short",
                                    "27": "Too many accounts with balances",
                                    "28": "0",
                                    "29": "NULL",
                                    "30": "NULL",
                                    "31": "ReLi Linked",
                                    "32": "2016-10-26 11:18:57.2470000",
                                    "33": "ACTion Online",
                                    "34": "2016-10-27 11:18:57.2470000",
                                    "35": "2019-11-26 15:30:21.3900000"
                                },
                                {
                                    "0": "81908",
                                    "1": "MARVELIA RODRIGUEZ",
                                    "2": "ORLANDO FARIAS",
                                    "3": "NULL",
                                    "4": "MARVELIAR31@GMAIL.COM",
                                    "5": "2",
                                    "6": "1074031",
                                    "7": "2",
                                    "8": "540069",
                                    "9": "120",
                                    "10": "RELI Unsecured",
                                    "11": "2019-11-20 10:24:00.0000000",
                                    "12": "2822 S CALLE REINA",
                                    "13": "HARLINGEN",
                                    "14": "TX",
                                    "15": "78552",
                                    "16": "Joint Application",
                                    "17": "2019-12-21 10:24:00.0000000",
                                    "18": "2500.0000",
                                    "19": "1136338744",
                                    "20": "NULL",
                                    "21": "NULL",
                                    "22": "2019-11-16 11:28:00.0000000",
                                    "23": "742",
                                    "24": "Length of time accounts have been established",
                                    "25": "Lack of recent installment loan information",
                                    "26": "Lack of recent bank revolving information",
                                    "27": "Too many accounts with balances",
                                    "28": "540069",
                                    "29": "NULL",
                                    "30": "NULL",
                                    "31": "ReLi Linked",
                                    "32": "2019-11-20 00:00:00.0000000",
                                    "33": "ACTion Online",
                                    "34": "2019-11-20 15:05:06.2900000",
                                    "35": "2019-11-20 15:31:01.0466667"
                                },
                                {
                                    "0": "81910",
                                    "1": "MISS TKESHIA L WILLIAMS",
                                    "2": "NULL",
                                    "3": "NULL",
                                    "4": "WILLIAMSTKESHIA@YAHOO.COM",
                                    "5": "1",
                                    "6": "1076127",
                                    "7": "1",
                                    "8": "541099",
                                    "9": "120",
                                    "10": "RELI Unsecured",
                                    "11": "2019-11-20 10:50:00.0000000",
                                    "12": "2678 SAINT JOHNS BLUFF RD S #2",
                                    "13": "JACKSONVILLE ",
                                    "14": "FL",
                                    "15": "32246",
                                    "16": "Individual Application",
                                    "17": "2019-12-21 10:50:00.0000000",
                                    "18": "1000.0000",
                                    "19": "NULL",
                                    "20": "NULL",
                                    "21": "NULL",
                                    "22": "2019-11-20 10:50:00.0000000",
                                    "23": "603",
                                    "24": "Serious delinquency, and derogatory public record or collection filed",
                                    "25": "Proportion of loan balances to loan account is too high",
                                    "26": "Number of accounts with delinquency",
                                    "27": "Length of time accounts have been established",
                                    "28": "541099",
                                    "29": "NULL",
                                    "30": "NULL",
                                    "31": "Reli Unlinked",
                                    "32": "2019-11-20 00:00:00.0000000",
                                    "33": "ACTion Online",
                                    "34": "2019-11-20 15:05:06.2900000",
                                    "35": "2019-11-20 15:31:01.0466667"
                                },
                                {
                                    "0": "82033",
                                    "1": "JOSHUA SCOTT OSWALT",
                                    "2": "NULL",
                                    "3": "NULL",
                                    "4": "THE_OSWALTS@HOTMAIL.COM",
                                    "5": "1",
                                    "6": "1078861",
                                    "7": "1",
                                    "8": "542404",
                                    "9": "120",
                                    "10": "RELI Unsecured",
                                    "11": "2019-11-21 08:02:00.0000000",
                                    "12": "PO BOX 228",
                                    "13": "TIONA",
                                    "14": "PA",
                                    "15": "16352",
                                    "16": "Individual Application",
                                    "17": "2019-12-22 08:02:00.0000000",
                                    "18": "1000.0000",
                                    "19": "1294342595",
                                    "20": "NULL",
                                    "21": "NULL",
                                    "22": "2019-11-21 08:02:00.0000000",
                                    "23": "601",
                                    "24": "Derogatory public record or collection filed",
                                    "25": "Lack of recent revolving account information",
                                    "26": "Too few accounts currently paid as agreed",
                                    "27": "Lack of recent bank revolving information",
                                    "28": "542404",
                                    "29": "NULL",
                                    "30": "NULL",
                                    "31": "ReLi Linked",
                                    "32": "2019-11-21 00:00:00.0000000",
                                    "33": "ACTion Online",
                                    "34": "2019-11-21 15:05:23.0800000",
                                    "35": "2019-11-21 15:30:31.2800000"
                                },
                                {
                                    "0": "81819",
                                    "1": "CHARLOTTE SAVAGE",
                                    "2": "NULL",
                                    "3": "NULL",
                                    "4": "NULL",
                                    "5": "1",
                                    "6": "1076878",
                                    "7": "1",
                                    "8": "541449",
                                    "9": "120",
                                    "10": "RELI Unsecured",
                                    "11": "2019-11-19 12:46:00.0000000",
                                    "12": "8909 PARKWAY EAST APT 10",
                                    "13": "BIRMINGHAM",
                                    "14": "AL",
                                    "15": "35206",
                                    "16": "Individual Application",
                                    "17": "2019-12-20 12:46:00.0000000",
                                    "18": "2500.0000",
                                    "19": "8087054675",
                                    "20": "NULL",
                                    "21": "NULL",
                                    "22": "2019-11-19 12:44:00.0000000",
                                    "23": "652",
                                    "24": "Serious delinquency, and derogatory public record or collection filed",
                                    "25": "Proportion of loan balances to loan account is too high",
                                    "26": "Length of time since derogatory public record or collection is too short",
                                    "27": "Length of time accounts have been established",
                                    "28": "541449",
                                    "29": "NULL",
                                    "30": "NULL",
                                    "31": "C1",
                                    "32": "2019-11-19 00:00:00.0000000",
                                    "33": "NULL",
                                    "34": "2019-11-20 05:34:58.0100000",
                                    "35": "2019-11-20 07:00:54.0533333"
                                },
                                {
                                    "0": "81820",
                                    "1": "AMBER HAVEN KING",
                                    "2": "NULL",
                                    "3": "NULL",
                                    "4": "NULL",
                                    "5": "1",
                                    "6": "1077151",
                                    "7": "1",
                                    "8": "541580",
                                    "9": "120",
                                    "10": "RELI Unsecured",
                                    "11": "2019-11-19 16:01:00.0000000",
                                    "12": "237 BAKER RD APT 1",
                                    "13": "LEBANON",
                                    "14": "KY",
                                    "15": "40033",
                                    "16": "Individual Application",
                                    "17": "2019-12-20 16:01:00.0000000",
                                    "18": "1500.0000",
                                    "19": "8074072417",
                                    "20": "NULL",
                                    "21": "NULL",
                                    "22": "2019-11-18 16:14:00.0000000",
                                    "23": "708",
                                    "24": "Lack of recent revolving account information",
                                    "25": "Proportion of loan balances to loan account is too high",
                                    "26": "Too few accounts currently paid as agreed",
                                    "27": "Lack of recent bank revolving information",
                                    "28": "541580",
                                    "29": "NULL",
                                    "30": "NULL",
                                    "31": "C1",
                                    "32": "2019-11-19 00:00:00.0000000",
                                    "33": "NULL",
                                    "34": "2019-11-20 05:34:58.0100000",
                                    "35": "2019-11-20 07:00:54.0533333"
                                },
                                {
                                    "0": "81821",
                                    "1": "ANGEL LEE BAKER",
                                    "2": "DOMINIC DAVID LEE",
                                    "3": "NULL",
                                    "4": "DLEE0421@GMAIL.COM",
                                    "5": "2",
                                    "6": "1076648",
                                    "7": "2",
                                    "8": "541337",
                                    "9": "120",
                                    "10": "RELI Unsecured",
                                    "11": "2019-11-19 15:52:00.0000000",
                                    "12": "127 AVIS AVE NW",
                                    "13": "MASSILLON",
                                    "14": "OH",
                                    "15": "44646",
                                    "16": "Joint Application",
                                    "17": "2019-12-20 15:52:00.0000000",
                                    "18": "2000.0000",
                                    "19": "1463399970",
                                    "20": "NULL",
                                    "21": "NULL",
                                    "22": "2019-11-19 15:51:00.0000000",
                                    "23": "468",
                                    "24": "Serious delinquency, and derogatory public record or collection filed",
                                    "25": "Number of accounts with delinquency",
                                    "26": "Time since delinquency is too recent or unknown",
                                    "27": "Proportion of balances to credit limits is too high on revolving accounts",
                                    "28": "541337",
                                    "29": "NULL",
                                    "30": "NULL",
                                    "31": "ReLi Linked",
                                    "32": "2019-11-19 00:00:00.0000000",
                                    "33": "ACTion Online",
                                    "34": "2019-11-20 05:34:58.0100000",
                                    "35": "2019-11-20 07:00:54.0066667"
                                },
                                {
                                    "0": "81952",
                                    "1": "ANDREW TYLER WALKER",
                                    "2": "NULL",
                                    "3": "NULL",
                                    "4": "NULL",
                                    "5": "1",
                                    "6": "1077854",
                                    "7": "1",
                                    "8": "541919",
                                    "9": "120",
                                    "10": "RELI Unsecured",
                                    "11": "2019-11-20 10:48:00.0000000",
                                    "12": "3806 PALO SOLO",
                                    "13": "SAN ANTONIO",
                                    "14": "TX",
                                    "15": "78223",
                                    "16": "Individual Application",
                                    "17": "2019-12-21 10:48:00.0000000",
                                    "18": "2500.0000",
                                    "19": "1660397025",
                                    "20": "NULL",
                                    "21": "NULL",
                                    "22": "2019-11-19 11:31:00.0000000",
                                    "23": "661",
                                    "24": "Length of time accounts have been established",
                                    "25": "Lack of recent revolving account information",
                                    "26": "Proportion of loan balances to loan account is too high",
                                    "27": "Too many accounts with balances",
                                    "28": "541919",
                                    "29": "NULL",
                                    "30": "NULL",
                                    "31": "C1",
                                    "32": "2019-11-20 00:00:00.0000000",
                                    "33": "NULL",
                                    "34": "2019-11-21 05:37:07.4600000",
                                    "35": "2019-11-21 07:00:35.3500000"
                                },
                                {
                                    "0": "81953",
                                    "1": "BRAD NOAH BREECE",
                                    "2": "TAUNYA NELL BREECE",
                                    "3": "NULL",
                                    "4": "NULL",
                                    "5": "2",
                                    "6": "1078443",
                                    "7": "1",
                                    "8": "542202",
                                    "9": "120",
                                    "10": "RELI Unsecured",
                                    "11": "2019-11-20 14:27:00.0000000",
                                    "12": "2626 JOHN BROWN RD",
                                    "13": "VAN WERT",
                                    "14": "OH",
                                    "15": "45891",
                                    "16": "Joint Application",
                                    "17": "2019-12-21 14:27:00.0000000",
                                    "18": "1500.0000",
                                    "19": "1571333135",
                                    "20": "NULL",
                                    "21": "NULL",
                                    "22": "2019-11-20 14:23:00.0000000",
                                    "23": "607",
                                    "24": "Serious delinquency, and derogatory public record or collection filed",
                                    "25": "Number of accounts with delinquency",
                                    "26": "Time since delinquency is too recent or unknown",
                                    "27": "Length of time accounts have been established",
                                    "28": "542202",
                                    "29": "NULL",
                                    "30": "NULL",
                                    "31": "C1",
                                    "32": "2019-11-20 00:00:00.0000000",
                                    "33": "NULL",
                                    "34": "2019-11-21 05:37:07.4600000",
                                    "35": "2019-11-21 07:00:35.3500000"
                                },
                                {
                                    "0": "81890",
                                    "1": "CHRISTOPHER ADAM ROSAS",
                                    "2": "NULL",
                                    "3": "NULL",
                                    "4": "CROSAS07@YAHOO.COM",
                                    "5": "1",
                                    "6": "1078195",
                                    "7": "1",
                                    "8": "542087",
                                    "9": "120",
                                    "10": "RELI Unsecured",
                                    "11": "2019-11-20 14:15:00.0000000",
                                    "12": "351 E BRYAN ST",
                                    "13": "BRYAN",
                                    "14": "OH",
                                    "15": "43506",
                                    "16": "Individual Application",
                                    "17": "2019-12-21 14:15:00.0000000",
                                    "18": "2000.0000",
                                    "19": "1476319809",
                                    "20": "NULL",
                                    "21": "NULL",
                                    "22": "2019-11-19 14:37:00.0000000",
                                    "23": "653",
                                    "24": "Derogatory public record or collection filed",
                                    "25": "Length of time accounts have been established",
                                    "26": "Proportion of loan balances to loan account is too high",
                                    "27": "Too many inquiries last 12 months",
                                    "28": "542087",
                                    "29": "NULL",
                                    "30": "NULL",
                                    "31": "ReLi Linked",
                                    "32": "2019-11-20 00:00:00.0000000",
                                    "33": "ACTion Online",
                                    "34": "2019-11-20 15:05:06.2900000",
                                    "35": "2019-11-20 15:31:01.0466667"
                                },
                                {
                                    "0": "81893",
                                    "1": "ESPERANZA GUANAJUATO",
                                    "2": "TERESA GUANAJUATO",
                                    "3": "NULL",
                                    "4": "TERESAGUANAJUATO1966@GMAIL.COM",
                                    "5": "2",
                                    "6": "1077901",
                                    "7": "2",
                                    "8": "541941",
                                    "9": "120",
                                    "10": "RELI Unsecured",
                                    "11": "2019-11-20 12:04:00.0000000",
                                    "12": "1713 AVE I",
                                    "13": "BAY CITY",
                                    "14": "TX",
                                    "15": "77414",
                                    "16": "Joint Application",
                                    "17": "2019-12-21 12:04:00.0000000",
                                    "18": "2500.0000",
                                    "19": "1328325731",
                                    "20": "NULL",
                                    "21": "NULL",
                                    "22": "2019-11-20 12:01:00.0000000",
                                    "23": "716",
                                    "24": "Serious delinquency",
                                    "25": "Proportion of loan balances to loan account is too high",
                                    "26": "Proportion of balances to credit limits is too high on revolving accounts",
                                    "27": "Too few accounts currently paid as agreed",
                                    "28": "541941",
                                    "29": "NULL",
                                    "30": "NULL",
                                    "31": "ReLi Linked",
                                    "32": "2019-11-20 00:00:00.0000000",
                                    "33": "ACTion Online",
                                    "34": "2019-11-20 15:05:06.2900000",
                                    "35": "2019-11-20 15:31:01.0466667"
                                },
                                {
                                    "0": "82020",
                                    "1": "MR. JAMES MILTON KEARNS",
                                    "2": "NULL",
                                    "3": "NULL",
                                    "4": "JMS_461@YAHOO.COM",
                                    "5": "1",
                                    "6": "1079621",
                                    "7": "1",
                                    "8": "542764",
                                    "9": "120",
                                    "10": "RELI Unsecured",
                                    "11": "2019-11-21 10:42:00.0000000",
                                    "12": "125 N BLANCHARD ST",
                                    "13": "FOREST ",
                                    "14": "OH",
                                    "15": "45843",
                                    "16": "Individual Application",
                                    "17": "2019-12-22 10:42:00.0000000",
                                    "18": "0.0000",
                                    "19": "1487345009",
                                    "20": "NULL",
                                    "21": "NULL",
                                    "22": "2019-11-20 15:43:00.0000000",
                                    "23": "639",
                                    "24": "Serious delinquency, and derogatory public record or collection filed",
                                    "25": "Length of time accounts have been established",
                                    "26": "Proportion of balances to credit limits is too high on revolving accounts",
                                    "27": "Proportion of loan balances to loan account is too high",
                                    "28": "542764",
                                    "29": "NULL",
                                    "30": "NULL",
                                    "31": "ReLi Linked",
                                    "32": "2019-11-21 00:00:00.0000000",
                                    "33": "ACTion Online",
                                    "34": "2019-11-21 15:05:23.0800000",
                                    "35": "2019-11-21 15:30:31.2800000"
                                },
                                {
                                    "0": "82021",
                                    "1": "MR. KEVIN PATRICK ORR",
                                    "2": "NULL",
                                    "3": "NULL",
                                    "4": "KEVINORR90@GMAIL.COM",
                                    "5": "1",
                                    "6": "1079158",
                                    "7": "1",
                                    "8": "542546",
                                    "9": "120",
                                    "10": "RELI Unsecured",
                                    "11": "2019-11-21 08:55:00.0000000",
                                    "12": "210 WYATT RD",
                                    "13": "PIEDMONT",
                                    "14": "SC",
                                    "15": "29673",
                                    "16": "Individual Application",
                                    "17": "2019-12-22 08:55:00.0000000",
                                    "18": "1000.0000",
                                    "19": "8214133665",
                                    "20": "NULL",
                                    "21": "NULL",
                                    "22": "2019-11-20 11:43:00.0000000",
                                    "23": "600",
                                    "24": "Serious delinquency, and derogatory public record or collection filed",
                                    "25": "Too few accounts currently paid as agreed",
                                    "26": "Lack of recent revolving account information",
                                    "27": "Length of time accounts have been established",
                                    "28": "542546",
                                    "29": "NULL",
                                    "30": "NULL",
                                    "31": "ReLi Linked",
                                    "32": "2019-11-21 00:00:00.0000000",
                                    "33": "ACTion Online",
                                    "34": "2019-11-21 15:05:23.0800000",
                                    "35": "2019-11-21 15:30:31.2800000"
                                },
                                {
                                    "0": "82022",
                                    "1": "MS. KATHRYN ARMENTROUT",
                                    "2": "NULL",
                                    "3": "NULL",
                                    "4": "KATHYN.ARMENTROUT@OUTLOOK.COM",
                                    "5": "1",
                                    "6": "1080294",
                                    "7": "1",
                                    "8": "543072",
                                    "9": "120",
                                    "10": "RELI Unsecured",
                                    "11": "2019-11-21 13:38:00.0000000",
                                    "12": "100 MONTPELLIER WAY",
                                    "13": "SMITHFIELD",
                                    "14": "VA",
                                    "15": "23430",
                                    "16": "Individual Application",
                                    "17": "2019-12-22 13:38:00.0000000",
                                    "18": "1000.0000",
                                    "19": "NULL",
                                    "20": "NULL",
                                    "21": "NULL",
                                    "22": "2019-11-21 13:35:00.0000000",
                                    "23": "618",
                                    "24": "Serious delinquency, and derogatory public record or collection filed",
                                    "25": "Proportion of balances to credit limits is too high on revolving accounts",
                                    "26": "Proportion of loan balances to loan account is too high",
                                    "27": "Length of time accounts have been established",
                                    "28": "543072",
                                    "29": "NULL",
                                    "30": "NULL",
                                    "31": "Reli Unlinked",
                                    "32": "2019-11-21 00:00:00.0000000",
                                    "33": "ACTion Online",
                                    "34": "2019-11-21 15:05:23.0800000",
                                    "35": "2019-11-21 15:30:31.2800000"
                                },
                                {
                                    "0": "82023",
                                    "1": "MS. STEPHANIE A INGRAM",
                                    "2": "NULL",
                                    "3": "NULL",
                                    "4": "STEPHANIEINGRAM66@YAHOO.COM",
                                    "5": "1",
                                    "6": "1079854",
                                    "7": "1",
                                    "8": "542866",
                                    "9": "120",
                                    "10": "RELI Unsecured",
                                    "11": "2019-11-21 11:26:00.0000000",
                                    "12": "11720 WINDY CREEK DR APT L",
                                    "13": "CHARLOTTE",
                                    "14": "NC",
                                    "15": "28262",
                                    "16": "Individual Application",
                                    "17": "2019-12-22 11:26:00.0000000",
                                    "18": "1000.0000",
                                    "19": "1948314487",
                                    "20": "NULL",
                                    "21": "NULL",
                                    "22": "2019-11-20 16:07:00.0000000",
                                    "23": "602",
                                    "24": "Serious delinquency",
                                    "25": "Lack of recent revolving account information",
                                    "26": "Proportion of loan balances to loan account is too high",
                                    "27": "Lack of recent bank revolving information",
                                    "28": "542866",
                                    "29": "NULL",
                                    "30": "NULL",
                                    "31": "ReLi Linked",
                                    "32": "2019-11-21 00:00:00.0000000",
                                    "33": "ACTion Online",
                                    "34": "2019-11-21 15:05:23.0800000",
                                    "35": "2019-11-21 15:30:31.2800000"
                                },
                                {
                                    "0": "81826",
                                    "1": "DEANDRE ORLANDO PRICE",
                                    "2": "NULL",
                                    "3": "NULL",
                                    "4": "NULL",
                                    "5": "1",
                                    "6": "1077167",
                                    "7": "1",
                                    "8": "541588",
                                    "9": "144",
                                    "10": "RELI Unsecured LOC",
                                    "11": "2019-11-19 16:29:00.0000000",
                                    "12": "909 SOUTH 15TH",
                                    "13": "MONROE",
                                    "14": "LA",
                                    "15": "71202",
                                    "16": "Individual Application",
                                    "17": "2019-12-20 16:29:00.0000000",
                                    "18": "500.0000",
                                    "19": "8149167929",
                                    "20": "NULL",
                                    "21": "NULL",
                                    "22": "2019-11-19 16:27:00.0000000",
                                    "23": "604",
                                    "24": "Serious delinquency, and derogatory public record or collection filed",
                                    "25": "Proportion of loan balances to loan account is too high",
                                    "26": "Lack of recent revolving account information",
                                    "27": "Length of time accounts have been established",
                                    "28": "541588",
                                    "29": "NULL",
                                    "30": "NULL",
                                    "31": "C1",
                                    "32": "2019-11-19 00:00:00.0000000",
                                    "33": "NULL",
                                    "34": "2019-11-20 05:34:58.0100000",
                                    "35": "2019-11-20 07:00:54.0533333"
                                },
                                {
                                    "0": "81827",
                                    "1": "EDITH ANN DAVIS",
                                    "2": "NULL",
                                    "3": "NULL",
                                    "4": "NULL",
                                    "5": "1",
                                    "6": "1076705",
                                    "7": "1",
                                    "8": "541363",
                                    "9": "120",
                                    "10": "RELI Unsecured",
                                    "11": "2019-11-19 11:18:00.0000000",
                                    "12": "55 HARLEY CT",
                                    "13": "ROCKY MOUNT",
                                    "14": "VA",
                                    "15": "24151",
                                    "16": "Individual Application",
                                    "17": "2019-12-20 11:18:00.0000000",
                                    "18": "2000.0000",
                                    "19": "1390350534",
                                    "20": "NULL",
                                    "21": "NULL",
                                    "22": "2019-11-18 11:57:00.0000000",
                                    "23": "636",
                                    "24": "Derogatory public record or collection filed",
                                    "25": "Proportion of balances to credit limits is too high on revolving accounts",
                                    "26": "Length of time since derogatory public record or collection is too short",
                                    "27": "Too many accounts with balances",
                                    "28": "541363",
                                    "29": "NULL",
                                    "30": "NULL",
                                    "31": "C1",
                                    "32": "2019-11-19 00:00:00.0000000",
                                    "33": "NULL",
                                    "34": "2019-11-20 05:34:58.0100000",
                                    "35": "2019-11-20 07:00:54.0533333"
                                },
                                {
                                    "0": "81828",
                                    "1": "DONALD KEITH ANDREWS JR",
                                    "2": "NULL",
                                    "3": "NULL",
                                    "4": "NULL",
                                    "5": "1",
                                    "6": "1076953",
                                    "7": "1",
                                    "8": "541484",
                                    "9": "120",
                                    "10": "RELI Unsecured",
                                    "11": "2019-11-19 14:55:00.0000000",
                                    "12": "404 ESMONT CT",
                                    "13": "CHESAPEAKE",
                                    "14": "VA",
                                    "15": "23322",
                                    "16": "Individual Application",
                                    "17": "2019-12-20 14:55:00.0000000",
                                    "18": "500.0000",
                                    "19": "1297373365",
                                    "20": "NULL",
                                    "21": "NULL",
                                    "22": "2019-11-18 14:47:00.0000000",
                                    "23": "627",
                                    "24": "Serious delinquency",
                                    "25": "Too few accounts currently paid as agreed",
                                    "26": "Proportion of loan balances to loan account is too high",
                                    "27": "Lack of recent revolving account information",
                                    "28": "541484",
                                    "29": "NULL",
                                    "30": "NULL",
                                    "31": "C1",
                                    "32": "2019-11-19 00:00:00.0000000",
                                    "33": "NULL",
                                    "34": "2019-11-20 05:34:58.0100000",
                                    "35": "2019-11-20 07:00:54.0533333"
                                }
                            ]
                        },
                        "text/html": "<table><tr><th>ID</th><th>BorrowerName</th><th>CoBorrowerName</th><th>CoBorrowerName2</th><th>Email</th><th>BorrowerCount</th><th>BorrowerID</th><th>BorOrderNum</th><th>AppID</th><th>ProductID</th><th>Product</th><th>Date</th><th>MailingStreet</th><th>MailingCity</th><th>MailingState</th><th>MailingZip</th><th>ApplicantType</th><th>ExpirationDate</th><th>LoanAmount</th><th>WNBAccount1</th><th>WNBAccount2</th><th>WNBAccount3</th><th>FICOScoreDate</th><th>FICOScore</th><th>KeyFactor1</th><th>KeyFactor2</th><th>KeyFactor3</th><th>KeyFactor4</th><th>AccountNum</th><th>DateDecisionedUpdated</th><th>CreditAvailableDate</th><th>Template</th><th>BusinessDate</th><th>AppSource</th><th>InsertTime</th><th>SentDate</th></tr><tr><td>81875</td><td>VALA FLAG CAR SERVICE LLC </td><td>EDITH ANN DAVIS</td><td>NULL</td><td>NULL</td><td>2</td><td>1077517</td><td>1</td><td>541763</td><td>108</td><td>Business RELI</td><td>2019-11-19 10:07:00.0000000</td><td>PO BOX 1127</td><td>ROCKY MOUNT</td><td>VA</td><td>24151</td><td>Joint Application</td><td>2019-12-20 10:07:00.0000000</td><td>2500.0000</td><td>1949001497</td><td>NULL</td><td>NULL</td><td>NULL</td><td>NULL</td><td>NULL</td><td>NULL</td><td>NULL</td><td>NULL</td><td>4440541763</td><td>NULL</td><td>2019-11-27 00:00:00.0000000</td><td>B1</td><td>2019-11-19 00:00:00.0000000</td><td>NULL</td><td>2019-11-20 05:35:03.8400000</td><td>2019-11-20 07:00:54.0533333</td></tr><tr><td>81884</td><td>KIDD'S CONSTRUCTION LLC </td><td>PHILLIP KIDD, SR.</td><td>NULL</td><td>NULL</td><td>2</td><td>1073951</td><td>1</td><td>540032</td><td>108</td><td>Business RELI</td><td>2019-11-19 10:37:00.0000000</td><td>P O BOX 625</td><td>HURT</td><td>AL</td><td>24563</td><td>Joint Application</td><td>2019-12-20 10:37:00.0000000</td><td>2500.0000</td><td>1915001422</td><td>NULL</td><td>NULL</td><td>NULL</td><td>NULL</td><td>NULL</td><td>NULL</td><td>NULL</td><td>NULL</td><td>4440540032</td><td>NULL</td><td>2019-11-27 00:00:00.0000000</td><td>B1</td><td>2019-11-19 00:00:00.0000000</td><td>NULL</td><td>2019-11-20 05:35:03.8400000</td><td>2019-11-20 07:00:54.0533333</td></tr><tr><td>64</td><td>JK THISISATEST</td><td>NULL</td><td>NULL</td><td>jstanaland@woodforest.com</td><td>1</td><td>0</td><td>1</td><td>0</td><td>120</td><td>RELI Unsecured</td><td>2016-10-26 11:18:57.2470000</td><td>25231 Grogan's Mill Rd</td><td>THE WOODLANDS</td><td>TX</td><td>77380</td><td>Individual Application</td><td>2016-11-26 11:18:57.2470000</td><td>2000.0000</td><td>1234567890</td><td>2345678901</td><td>NULL</td><td>2016-10-26 11:18:57.2470000</td><td>622</td><td>Serious delinquency, and derogatory public record or collection filed</td><td>Proportion of balances to credit limits is too high on revolving accounts</td><td>Length of time since derogatory public record or collection is too short</td><td>Too many accounts with balances</td><td>0</td><td>NULL</td><td>NULL</td><td>ReLi Linked</td><td>2016-10-26 11:18:57.2470000</td><td>ACTion Online</td><td>2016-10-27 11:18:57.2470000</td><td>2019-11-26 15:30:21.3900000</td></tr><tr><td>81908</td><td>MARVELIA RODRIGUEZ</td><td>ORLANDO FARIAS</td><td>NULL</td><td>MARVELIAR31@GMAIL.COM</td><td>2</td><td>1074031</td><td>2</td><td>540069</td><td>120</td><td>RELI Unsecured</td><td>2019-11-20 10:24:00.0000000</td><td>2822 S CALLE REINA</td><td>HARLINGEN</td><td>TX</td><td>78552</td><td>Joint Application</td><td>2019-12-21 10:24:00.0000000</td><td>2500.0000</td><td>1136338744</td><td>NULL</td><td>NULL</td><td>2019-11-16 11:28:00.0000000</td><td>742</td><td>Length of time accounts have been established</td><td>Lack of recent installment loan information</td><td>Lack of recent bank revolving information</td><td>Too many accounts with balances</td><td>540069</td><td>NULL</td><td>NULL</td><td>ReLi Linked</td><td>2019-11-20 00:00:00.0000000</td><td>ACTion Online</td><td>2019-11-20 15:05:06.2900000</td><td>2019-11-20 15:31:01.0466667</td></tr><tr><td>81910</td><td>MISS TKESHIA L WILLIAMS</td><td>NULL</td><td>NULL</td><td>WILLIAMSTKESHIA@YAHOO.COM</td><td>1</td><td>1076127</td><td>1</td><td>541099</td><td>120</td><td>RELI Unsecured</td><td>2019-11-20 10:50:00.0000000</td><td>2678 SAINT JOHNS BLUFF RD S #2</td><td>JACKSONVILLE </td><td>FL</td><td>32246</td><td>Individual Application</td><td>2019-12-21 10:50:00.0000000</td><td>1000.0000</td><td>NULL</td><td>NULL</td><td>NULL</td><td>2019-11-20 10:50:00.0000000</td><td>603</td><td>Serious delinquency, and derogatory public record or collection filed</td><td>Proportion of loan balances to loan account is too high</td><td>Number of accounts with delinquency</td><td>Length of time accounts have been established</td><td>541099</td><td>NULL</td><td>NULL</td><td>Reli Unlinked</td><td>2019-11-20 00:00:00.0000000</td><td>ACTion Online</td><td>2019-11-20 15:05:06.2900000</td><td>2019-11-20 15:31:01.0466667</td></tr><tr><td>82033</td><td>JOSHUA SCOTT OSWALT</td><td>NULL</td><td>NULL</td><td>THE_OSWALTS@HOTMAIL.COM</td><td>1</td><td>1078861</td><td>1</td><td>542404</td><td>120</td><td>RELI Unsecured</td><td>2019-11-21 08:02:00.0000000</td><td>PO BOX 228</td><td>TIONA</td><td>PA</td><td>16352</td><td>Individual Application</td><td>2019-12-22 08:02:00.0000000</td><td>1000.0000</td><td>1294342595</td><td>NULL</td><td>NULL</td><td>2019-11-21 08:02:00.0000000</td><td>601</td><td>Derogatory public record or collection filed</td><td>Lack of recent revolving account information</td><td>Too few accounts currently paid as agreed</td><td>Lack of recent bank revolving information</td><td>542404</td><td>NULL</td><td>NULL</td><td>ReLi Linked</td><td>2019-11-21 00:00:00.0000000</td><td>ACTion Online</td><td>2019-11-21 15:05:23.0800000</td><td>2019-11-21 15:30:31.2800000</td></tr><tr><td>81819</td><td>CHARLOTTE SAVAGE</td><td>NULL</td><td>NULL</td><td>NULL</td><td>1</td><td>1076878</td><td>1</td><td>541449</td><td>120</td><td>RELI Unsecured</td><td>2019-11-19 12:46:00.0000000</td><td>8909 PARKWAY EAST APT 10</td><td>BIRMINGHAM</td><td>AL</td><td>35206</td><td>Individual Application</td><td>2019-12-20 12:46:00.0000000</td><td>2500.0000</td><td>8087054675</td><td>NULL</td><td>NULL</td><td>2019-11-19 12:44:00.0000000</td><td>652</td><td>Serious delinquency, and derogatory public record or collection filed</td><td>Proportion of loan balances to loan account is too high</td><td>Length of time since derogatory public record or collection is too short</td><td>Length of time accounts have been established</td><td>541449</td><td>NULL</td><td>NULL</td><td>C1</td><td>2019-11-19 00:00:00.0000000</td><td>NULL</td><td>2019-11-20 05:34:58.0100000</td><td>2019-11-20 07:00:54.0533333</td></tr><tr><td>81820</td><td>AMBER HAVEN KING</td><td>NULL</td><td>NULL</td><td>NULL</td><td>1</td><td>1077151</td><td>1</td><td>541580</td><td>120</td><td>RELI Unsecured</td><td>2019-11-19 16:01:00.0000000</td><td>237 BAKER RD APT 1</td><td>LEBANON</td><td>KY</td><td>40033</td><td>Individual Application</td><td>2019-12-20 16:01:00.0000000</td><td>1500.0000</td><td>8074072417</td><td>NULL</td><td>NULL</td><td>2019-11-18 16:14:00.0000000</td><td>708</td><td>Lack of recent revolving account information</td><td>Proportion of loan balances to loan account is too high</td><td>Too few accounts currently paid as agreed</td><td>Lack of recent bank revolving information</td><td>541580</td><td>NULL</td><td>NULL</td><td>C1</td><td>2019-11-19 00:00:00.0000000</td><td>NULL</td><td>2019-11-20 05:34:58.0100000</td><td>2019-11-20 07:00:54.0533333</td></tr><tr><td>81821</td><td>ANGEL LEE BAKER</td><td>DOMINIC DAVID LEE</td><td>NULL</td><td>DLEE0421@GMAIL.COM</td><td>2</td><td>1076648</td><td>2</td><td>541337</td><td>120</td><td>RELI Unsecured</td><td>2019-11-19 15:52:00.0000000</td><td>127 AVIS AVE NW</td><td>MASSILLON</td><td>OH</td><td>44646</td><td>Joint Application</td><td>2019-12-20 15:52:00.0000000</td><td>2000.0000</td><td>1463399970</td><td>NULL</td><td>NULL</td><td>2019-11-19 15:51:00.0000000</td><td>468</td><td>Serious delinquency, and derogatory public record or collection filed</td><td>Number of accounts with delinquency</td><td>Time since delinquency is too recent or unknown</td><td>Proportion of balances to credit limits is too high on revolving accounts</td><td>541337</td><td>NULL</td><td>NULL</td><td>ReLi Linked</td><td>2019-11-19 00:00:00.0000000</td><td>ACTion Online</td><td>2019-11-20 05:34:58.0100000</td><td>2019-11-20 07:00:54.0066667</td></tr><tr><td>81952</td><td>ANDREW TYLER WALKER</td><td>NULL</td><td>NULL</td><td>NULL</td><td>1</td><td>1077854</td><td>1</td><td>541919</td><td>120</td><td>RELI Unsecured</td><td>2019-11-20 10:48:00.0000000</td><td>3806 PALO SOLO</td><td>SAN ANTONIO</td><td>TX</td><td>78223</td><td>Individual Application</td><td>2019-12-21 10:48:00.0000000</td><td>2500.0000</td><td>1660397025</td><td>NULL</td><td>NULL</td><td>2019-11-19 11:31:00.0000000</td><td>661</td><td>Length of time accounts have been established</td><td>Lack of recent revolving account information</td><td>Proportion of loan balances to loan account is too high</td><td>Too many accounts with balances</td><td>541919</td><td>NULL</td><td>NULL</td><td>C1</td><td>2019-11-20 00:00:00.0000000</td><td>NULL</td><td>2019-11-21 05:37:07.4600000</td><td>2019-11-21 07:00:35.3500000</td></tr><tr><td>81953</td><td>BRAD NOAH BREECE</td><td>TAUNYA NELL BREECE</td><td>NULL</td><td>NULL</td><td>2</td><td>1078443</td><td>1</td><td>542202</td><td>120</td><td>RELI Unsecured</td><td>2019-11-20 14:27:00.0000000</td><td>2626 JOHN BROWN RD</td><td>VAN WERT</td><td>OH</td><td>45891</td><td>Joint Application</td><td>2019-12-21 14:27:00.0000000</td><td>1500.0000</td><td>1571333135</td><td>NULL</td><td>NULL</td><td>2019-11-20 14:23:00.0000000</td><td>607</td><td>Serious delinquency, and derogatory public record or collection filed</td><td>Number of accounts with delinquency</td><td>Time since delinquency is too recent or unknown</td><td>Length of time accounts have been established</td><td>542202</td><td>NULL</td><td>NULL</td><td>C1</td><td>2019-11-20 00:00:00.0000000</td><td>NULL</td><td>2019-11-21 05:37:07.4600000</td><td>2019-11-21 07:00:35.3500000</td></tr><tr><td>81890</td><td>CHRISTOPHER ADAM ROSAS</td><td>NULL</td><td>NULL</td><td>CROSAS07@YAHOO.COM</td><td>1</td><td>1078195</td><td>1</td><td>542087</td><td>120</td><td>RELI Unsecured</td><td>2019-11-20 14:15:00.0000000</td><td>351 E BRYAN ST</td><td>BRYAN</td><td>OH</td><td>43506</td><td>Individual Application</td><td>2019-12-21 14:15:00.0000000</td><td>2000.0000</td><td>1476319809</td><td>NULL</td><td>NULL</td><td>2019-11-19 14:37:00.0000000</td><td>653</td><td>Derogatory public record or collection filed</td><td>Length of time accounts have been established</td><td>Proportion of loan balances to loan account is too high</td><td>Too many inquiries last 12 months</td><td>542087</td><td>NULL</td><td>NULL</td><td>ReLi Linked</td><td>2019-11-20 00:00:00.0000000</td><td>ACTion Online</td><td>2019-11-20 15:05:06.2900000</td><td>2019-11-20 15:31:01.0466667</td></tr><tr><td>81893</td><td>ESPERANZA GUANAJUATO</td><td>TERESA GUANAJUATO</td><td>NULL</td><td>TERESAGUANAJUATO1966@GMAIL.COM</td><td>2</td><td>1077901</td><td>2</td><td>541941</td><td>120</td><td>RELI Unsecured</td><td>2019-11-20 12:04:00.0000000</td><td>1713 AVE I</td><td>BAY CITY</td><td>TX</td><td>77414</td><td>Joint Application</td><td>2019-12-21 12:04:00.0000000</td><td>2500.0000</td><td>1328325731</td><td>NULL</td><td>NULL</td><td>2019-11-20 12:01:00.0000000</td><td>716</td><td>Serious delinquency</td><td>Proportion of loan balances to loan account is too high</td><td>Proportion of balances to credit limits is too high on revolving accounts</td><td>Too few accounts currently paid as agreed</td><td>541941</td><td>NULL</td><td>NULL</td><td>ReLi Linked</td><td>2019-11-20 00:00:00.0000000</td><td>ACTion Online</td><td>2019-11-20 15:05:06.2900000</td><td>2019-11-20 15:31:01.0466667</td></tr><tr><td>82020</td><td>MR. JAMES MILTON KEARNS</td><td>NULL</td><td>NULL</td><td>JMS_461@YAHOO.COM</td><td>1</td><td>1079621</td><td>1</td><td>542764</td><td>120</td><td>RELI Unsecured</td><td>2019-11-21 10:42:00.0000000</td><td>125 N BLANCHARD ST</td><td>FOREST </td><td>OH</td><td>45843</td><td>Individual Application</td><td>2019-12-22 10:42:00.0000000</td><td>0.0000</td><td>1487345009</td><td>NULL</td><td>NULL</td><td>2019-11-20 15:43:00.0000000</td><td>639</td><td>Serious delinquency, and derogatory public record or collection filed</td><td>Length of time accounts have been established</td><td>Proportion of balances to credit limits is too high on revolving accounts</td><td>Proportion of loan balances to loan account is too high</td><td>542764</td><td>NULL</td><td>NULL</td><td>ReLi Linked</td><td>2019-11-21 00:00:00.0000000</td><td>ACTion Online</td><td>2019-11-21 15:05:23.0800000</td><td>2019-11-21 15:30:31.2800000</td></tr><tr><td>82021</td><td>MR. KEVIN PATRICK ORR</td><td>NULL</td><td>NULL</td><td>KEVINORR90@GMAIL.COM</td><td>1</td><td>1079158</td><td>1</td><td>542546</td><td>120</td><td>RELI Unsecured</td><td>2019-11-21 08:55:00.0000000</td><td>210 WYATT RD</td><td>PIEDMONT</td><td>SC</td><td>29673</td><td>Individual Application</td><td>2019-12-22 08:55:00.0000000</td><td>1000.0000</td><td>8214133665</td><td>NULL</td><td>NULL</td><td>2019-11-20 11:43:00.0000000</td><td>600</td><td>Serious delinquency, and derogatory public record or collection filed</td><td>Too few accounts currently paid as agreed</td><td>Lack of recent revolving account information</td><td>Length of time accounts have been established</td><td>542546</td><td>NULL</td><td>NULL</td><td>ReLi Linked</td><td>2019-11-21 00:00:00.0000000</td><td>ACTion Online</td><td>2019-11-21 15:05:23.0800000</td><td>2019-11-21 15:30:31.2800000</td></tr><tr><td>82022</td><td>MS. KATHRYN ARMENTROUT</td><td>NULL</td><td>NULL</td><td>KATHYN.ARMENTROUT@OUTLOOK.COM</td><td>1</td><td>1080294</td><td>1</td><td>543072</td><td>120</td><td>RELI Unsecured</td><td>2019-11-21 13:38:00.0000000</td><td>100 MONTPELLIER WAY</td><td>SMITHFIELD</td><td>VA</td><td>23430</td><td>Individual Application</td><td>2019-12-22 13:38:00.0000000</td><td>1000.0000</td><td>NULL</td><td>NULL</td><td>NULL</td><td>2019-11-21 13:35:00.0000000</td><td>618</td><td>Serious delinquency, and derogatory public record or collection filed</td><td>Proportion of balances to credit limits is too high on revolving accounts</td><td>Proportion of loan balances to loan account is too high</td><td>Length of time accounts have been established</td><td>543072</td><td>NULL</td><td>NULL</td><td>Reli Unlinked</td><td>2019-11-21 00:00:00.0000000</td><td>ACTion Online</td><td>2019-11-21 15:05:23.0800000</td><td>2019-11-21 15:30:31.2800000</td></tr><tr><td>82023</td><td>MS. STEPHANIE A INGRAM</td><td>NULL</td><td>NULL</td><td>STEPHANIEINGRAM66@YAHOO.COM</td><td>1</td><td>1079854</td><td>1</td><td>542866</td><td>120</td><td>RELI Unsecured</td><td>2019-11-21 11:26:00.0000000</td><td>11720 WINDY CREEK DR APT L</td><td>CHARLOTTE</td><td>NC</td><td>28262</td><td>Individual Application</td><td>2019-12-22 11:26:00.0000000</td><td>1000.0000</td><td>1948314487</td><td>NULL</td><td>NULL</td><td>2019-11-20 16:07:00.0000000</td><td>602</td><td>Serious delinquency</td><td>Lack of recent revolving account information</td><td>Proportion of loan balances to loan account is too high</td><td>Lack of recent bank revolving information</td><td>542866</td><td>NULL</td><td>NULL</td><td>ReLi Linked</td><td>2019-11-21 00:00:00.0000000</td><td>ACTion Online</td><td>2019-11-21 15:05:23.0800000</td><td>2019-11-21 15:30:31.2800000</td></tr><tr><td>81826</td><td>DEANDRE ORLANDO PRICE</td><td>NULL</td><td>NULL</td><td>NULL</td><td>1</td><td>1077167</td><td>1</td><td>541588</td><td>144</td><td>RELI Unsecured LOC</td><td>2019-11-19 16:29:00.0000000</td><td>909 SOUTH 15TH</td><td>MONROE</td><td>LA</td><td>71202</td><td>Individual Application</td><td>2019-12-20 16:29:00.0000000</td><td>500.0000</td><td>8149167929</td><td>NULL</td><td>NULL</td><td>2019-11-19 16:27:00.0000000</td><td>604</td><td>Serious delinquency, and derogatory public record or collection filed</td><td>Proportion of loan balances to loan account is too high</td><td>Lack of recent revolving account information</td><td>Length of time accounts have been established</td><td>541588</td><td>NULL</td><td>NULL</td><td>C1</td><td>2019-11-19 00:00:00.0000000</td><td>NULL</td><td>2019-11-20 05:34:58.0100000</td><td>2019-11-20 07:00:54.0533333</td></tr><tr><td>81827</td><td>EDITH ANN DAVIS</td><td>NULL</td><td>NULL</td><td>NULL</td><td>1</td><td>1076705</td><td>1</td><td>541363</td><td>120</td><td>RELI Unsecured</td><td>2019-11-19 11:18:00.0000000</td><td>55 HARLEY CT</td><td>ROCKY MOUNT</td><td>VA</td><td>24151</td><td>Individual Application</td><td>2019-12-20 11:18:00.0000000</td><td>2000.0000</td><td>1390350534</td><td>NULL</td><td>NULL</td><td>2019-11-18 11:57:00.0000000</td><td>636</td><td>Derogatory public record or collection filed</td><td>Proportion of balances to credit limits is too high on revolving accounts</td><td>Length of time since derogatory public record or collection is too short</td><td>Too many accounts with balances</td><td>541363</td><td>NULL</td><td>NULL</td><td>C1</td><td>2019-11-19 00:00:00.0000000</td><td>NULL</td><td>2019-11-20 05:34:58.0100000</td><td>2019-11-20 07:00:54.0533333</td></tr><tr><td>81828</td><td>DONALD KEITH ANDREWS JR</td><td>NULL</td><td>NULL</td><td>NULL</td><td>1</td><td>1076953</td><td>1</td><td>541484</td><td>120</td><td>RELI Unsecured</td><td>2019-11-19 14:55:00.0000000</td><td>404 ESMONT CT</td><td>CHESAPEAKE</td><td>VA</td><td>23322</td><td>Individual Application</td><td>2019-12-20 14:55:00.0000000</td><td>500.0000</td><td>1297373365</td><td>NULL</td><td>NULL</td><td>2019-11-18 14:47:00.0000000</td><td>627</td><td>Serious delinquency</td><td>Too few accounts currently paid as agreed</td><td>Proportion of loan balances to loan account is too high</td><td>Lack of recent revolving account information</td><td>541484</td><td>NULL</td><td>NULL</td><td>C1</td><td>2019-11-19 00:00:00.0000000</td><td>NULL</td><td>2019-11-20 05:34:58.0100000</td><td>2019-11-20 07:00:54.0533333</td></tr></table>"
                    },
                    "metadata": {}
                },
                {
                    "output_type": "execute_result",
                    "execution_count": 5,
                    "data": {
                        "application/vnd.dataresource+json": {
                            "schema": {
                                "fields": [
                                    {
                                        "name": "AccountID"
                                    },
                                    {
                                        "name": "AccountUID"
                                    },
                                    {
                                        "name": "AccountNumber"
                                    },
                                    {
                                        "name": "SubSystemCode"
                                    },
                                    {
                                        "name": "Subsystem Desc"
                                    },
                                    {
                                        "name": "Class"
                                    },
                                    {
                                        "name": "Class Desc"
                                    },
                                    {
                                        "name": "Business Account"
                                    },
                                    {
                                        "name": "Savings Account"
                                    },
                                    {
                                        "name": "Interest Bearing"
                                    },
                                    {
                                        "name": "Overdraft Eligible"
                                    },
                                    {
                                        "name": "Account Status Code"
                                    },
                                    {
                                        "name": "Account Status Desc"
                                    },
                                    {
                                        "name": "Date Opened"
                                    },
                                    {
                                        "name": "Internal"
                                    },
                                    {
                                        "name": "Employee"
                                    },
                                    {
                                        "name": "Positive Pay"
                                    },
                                    {
                                        "name": "Zero Balance Account"
                                    },
                                    {
                                        "name": "Current Balance"
                                    },
                                    {
                                        "name": "CIF"
                                    },
                                    {
                                        "name": "Primary Owner"
                                    },
                                    {
                                        "name": "BranchID"
                                    },
                                    {
                                        "name": "Account Title"
                                    },
                                    {
                                        "name": "Federal Category Code"
                                    },
                                    {
                                        "name": "Federal Category Desc"
                                    },
                                    {
                                        "name": "Statment Cycle"
                                    },
                                    {
                                        "name": "Officer Code"
                                    },
                                    {
                                        "name": "Officer Name"
                                    },
                                    {
                                        "name": "Account Notes OLD"
                                    },
                                    {
                                        "name": "AddressID"
                                    },
                                    {
                                        "name": "Address1"
                                    },
                                    {
                                        "name": "Address2"
                                    },
                                    {
                                        "name": "City"
                                    },
                                    {
                                        "name": "State"
                                    },
                                    {
                                        "name": "Postal Code"
                                    },
                                    {
                                        "name": "Core"
                                    },
                                    {
                                        "name": "Routing Number"
                                    },
                                    {
                                        "name": "Current Average Collected Balance"
                                    },
                                    {
                                        "name": "Statement Eligibility Desc"
                                    },
                                    {
                                        "name": "Statement Delivery Desc"
                                    },
                                    {
                                        "name": "Closure Date"
                                    },
                                    {
                                        "name": "OriginalImportDate"
                                    },
                                    {
                                        "name": "LastUpdated"
                                    },
                                    {
                                        "name": "Purged"
                                    },
                                    {
                                        "name": "SpecialCIFInternal"
                                    },
                                    {
                                        "name": "CheckPayExempt"
                                    },
                                    {
                                        "name": "MultiTranExempt"
                                    },
                                    {
                                        "name": "DebitCardFeeExempt"
                                    },
                                    {
                                        "name": "SpecialCIF"
                                    },
                                    {
                                        "name": "EStatementEligible"
                                    },
                                    {
                                        "name": "EStatementEnrolled"
                                    },
                                    {
                                        "name": "PaperStatement"
                                    },
                                    {
                                        "name": "BankRelationship"
                                    },
                                    {
                                        "name": "BankRelationshipDescription"
                                    },
                                    {
                                        "name": "StartDate"
                                    },
                                    {
                                        "name": "EndDate"
                                    },
                                    {
                                        "name": "ActiveReporting"
                                    },
                                    {
                                        "name": "Account Notes"
                                    },
                                    {
                                        "name": "ReturnMail"
                                    },
                                    {
                                        "name": "StatementCopiesCombined"
                                    },
                                    {
                                        "name": "LastKnownAddressID"
                                    }
                                ]
                            },
                            "data": [
                                {
                                    "0": "10197560",
                                    "1": "72057594047793917",
                                    "2": "4440540032",
                                    "3": "LOC",
                                    "4": "Line of Credit",
                                    "5": "HBL",
                                    "6": "SMALL BUSINESS RELI",
                                    "7": "Y",
                                    "8": "N",
                                    "9": "N",
                                    "10": "N",
                                    "11": "NW",
                                    "12": "NW",
                                    "13": "2019-11-19 00:00:00.000",
                                    "14": "N",
                                    "15": "N",
                                    "16": "N",
                                    "17": "N",
                                    "18": "0.0000",
                                    "19": "2175565",
                                    "20": "KIDD'S CONSTRUCTION, LLC",
                                    "21": "286",
                                    "22": "UNSECURED",
                                    "23": "500",
                                    "24": "Comm/Indus Lns Not Re",
                                    "25": "END",
                                    "26": "BL",
                                    "27": "SMALL BUSINESS LENDING CENTER",
                                    "28": "NULL",
                                    "29": "3790507",
                                    "30": "NULL",
                                    "31": "NULL",
                                    "32": "NULL",
                                    "33": "NULL",
                                    "34": "NULL",
                                    "35": "WNB1",
                                    "36": "53112592",
                                    "37": "0.0000",
                                    "38": "1",
                                    "39": "1",
                                    "40": "NULL",
                                    "41": "2019-11-20 02:34:34.333",
                                    "42": "2019-11-26 03:12:50.603",
                                    "43": "N",
                                    "44": "N",
                                    "45": "N",
                                    "46": "N",
                                    "47": "N",
                                    "48": "N",
                                    "49": "N",
                                    "50": "N",
                                    "51": "Y",
                                    "52": "N",
                                    "53": "None",
                                    "54": "2019-11-20 02:34:34.3333333",
                                    "55": "NULL",
                                    "56": "Y",
                                    "57": "NULL",
                                    "58": "N",
                                    "59": "1",
                                    "60": "3790507"
                                }
                            ]
                        },
                        "text/html": "<table><tr><th>AccountID</th><th>AccountUID</th><th>AccountNumber</th><th>SubSystemCode</th><th>Subsystem Desc</th><th>Class</th><th>Class Desc</th><th>Business Account</th><th>Savings Account</th><th>Interest Bearing</th><th>Overdraft Eligible</th><th>Account Status Code</th><th>Account Status Desc</th><th>Date Opened</th><th>Internal</th><th>Employee</th><th>Positive Pay</th><th>Zero Balance Account</th><th>Current Balance</th><th>CIF</th><th>Primary Owner</th><th>BranchID</th><th>Account Title</th><th>Federal Category Code</th><th>Federal Category Desc</th><th>Statment Cycle</th><th>Officer Code</th><th>Officer Name</th><th>Account Notes OLD</th><th>AddressID</th><th>Address1</th><th>Address2</th><th>City</th><th>State</th><th>Postal Code</th><th>Core</th><th>Routing Number</th><th>Current Average Collected Balance</th><th>Statement Eligibility Desc</th><th>Statement Delivery Desc</th><th>Closure Date</th><th>OriginalImportDate</th><th>LastUpdated</th><th>Purged</th><th>SpecialCIFInternal</th><th>CheckPayExempt</th><th>MultiTranExempt</th><th>DebitCardFeeExempt</th><th>SpecialCIF</th><th>EStatementEligible</th><th>EStatementEnrolled</th><th>PaperStatement</th><th>BankRelationship</th><th>BankRelationshipDescription</th><th>StartDate</th><th>EndDate</th><th>ActiveReporting</th><th>Account Notes</th><th>ReturnMail</th><th>StatementCopiesCombined</th><th>LastKnownAddressID</th></tr><tr><td>10197560</td><td>72057594047793917</td><td>4440540032</td><td>LOC</td><td>Line of Credit</td><td>HBL</td><td>SMALL BUSINESS RELI</td><td>Y</td><td>N</td><td>N</td><td>N</td><td>NW</td><td>NW</td><td>2019-11-19 00:00:00.000</td><td>N</td><td>N</td><td>N</td><td>N</td><td>0.0000</td><td>2175565</td><td>KIDD'S CONSTRUCTION, LLC</td><td>286</td><td>UNSECURED</td><td>500</td><td>Comm/Indus Lns Not Re</td><td>END</td><td>BL</td><td>SMALL BUSINESS LENDING CENTER</td><td>NULL</td><td>3790507</td><td>NULL</td><td>NULL</td><td>NULL</td><td>NULL</td><td>NULL</td><td>WNB1</td><td>53112592</td><td>0.0000</td><td>1</td><td>1</td><td>NULL</td><td>2019-11-20 02:34:34.333</td><td>2019-11-26 03:12:50.603</td><td>N</td><td>N</td><td>N</td><td>N</td><td>N</td><td>N</td><td>N</td><td>N</td><td>Y</td><td>N</td><td>None</td><td>2019-11-20 02:34:34.3333333</td><td>NULL</td><td>Y</td><td>NULL</td><td>N</td><td>1</td><td>3790507</td></tr></table>"
                    },
                    "metadata": {}
                },
                {
                    "output_type": "execute_result",
                    "execution_count": 5,
                    "data": {
                        "application/vnd.dataresource+json": {
                            "schema": {
                                "fields": [
                                    {
                                        "name": "InstitutionID"
                                    },
                                    {
                                        "name": "Z_ID"
                                    },
                                    {
                                        "name": "SHORT_NAME"
                                    },
                                    {
                                        "name": "BRCH"
                                    },
                                    {
                                        "name": "SOC_SEC"
                                    },
                                    {
                                        "name": "DOC_STOR"
                                    },
                                    {
                                        "name": "DATE_OPN"
                                    },
                                    {
                                        "name": "DT_LST_ACTV"
                                    },
                                    {
                                        "name": "DT_LST_STAT"
                                    },
                                    {
                                        "name": "PRIOR_YTD_INT_PD"
                                    },
                                    {
                                        "name": "LST_PMT_DT"
                                    },
                                    {
                                        "name": "LST_PMT_AMT"
                                    },
                                    {
                                        "name": "LOAN_BAL"
                                    },
                                    {
                                        "name": "DT_LST_PROCESSED"
                                    },
                                    {
                                        "name": "PRIOR_YTD_LT_CHGS_PD"
                                    },
                                    {
                                        "name": "OFFICER"
                                    },
                                    {
                                        "name": "DT_LOAN_ENTRY"
                                    },
                                    {
                                        "name": "LOAN_EARN_TP"
                                    },
                                    {
                                        "name": "LOAN_INT_TP"
                                    },
                                    {
                                        "name": "MAT_DATE"
                                    },
                                    {
                                        "name": "PMT_NUM_LST_PMT_LC"
                                    },
                                    {
                                        "name": "INT_RATE"
                                    },
                                    {
                                        "name": "LOAN_PROCEEDS"
                                    },
                                    {
                                        "name": "AMT_FINANCED"
                                    },
                                    {
                                        "name": "ORIG_LINE_HEQ_ORIG_INT_78"
                                    },
                                    {
                                        "name": "ORIG_CR_LIFE_AMT"
                                    },
                                    {
                                        "name": "ORIG_A_H_AMT"
                                    },
                                    {
                                        "name": "MO_EARN_LST_TAKEN"
                                    },
                                    {
                                        "name": "HEQ_MIN_PMT_AMT"
                                    },
                                    {
                                        "name": "ORIG_MISC_LOAN_FEES"
                                    },
                                    {
                                        "name": "CURR_LOAN_AMT"
                                    },
                                    {
                                        "name": "CUR_CR_LIFE_REBATE"
                                    },
                                    {
                                        "name": "CUR_A_H_REBATE"
                                    },
                                    {
                                        "name": "GL_ENTRIES_CREATED_FOR_NW_LOAN"
                                    },
                                    {
                                        "name": "CUR_MISC_LOAN_FEE_BAL"
                                    },
                                    {
                                        "name": "CUR_PAR_PMT_BAL"
                                    },
                                    {
                                        "name": "SI_INT_EARN_YTD"
                                    },
                                    {
                                        "name": "SI_INT_EARND_SINCE_LST_BILL"
                                    },
                                    {
                                        "name": "SI_INT_EARN_TERM"
                                    },
                                    {
                                        "name": "SI_PRIN_PAID_MTD"
                                    },
                                    {
                                        "name": "SI_PRIN_PAID_YTD"
                                    },
                                    {
                                        "name": "SI_PRIN_PD_TERM"
                                    },
                                    {
                                        "name": "SI_ACCR_INT_CUR_DUE"
                                    },
                                    {
                                        "name": "EXTENDED_INTEREST_CALC"
                                    },
                                    {
                                        "name": "SI_INT_DUE_DT"
                                    },
                                    {
                                        "name": "DT_INTEREST_PD_TO"
                                    },
                                    {
                                        "name": "PMT_NUM_30_60_90_DYS_LATE"
                                    },
                                    {
                                        "name": "SI_PRIN_DUE_DT"
                                    },
                                    {
                                        "name": "SI_PRINT_CUR_DUE"
                                    },
                                    {
                                        "name": "SI_PRIN_PAST_DUE"
                                    },
                                    {
                                        "name": "SI_DT_PRIN_LST_CUR"
                                    },
                                    {
                                        "name": "SI_LOAN_ACCR_BASIS"
                                    },
                                    {
                                        "name": "PMT_FREQ"
                                    },
                                    {
                                        "name": "TERM"
                                    },
                                    {
                                        "name": "NUM_PMTS"
                                    },
                                    {
                                        "name": "NUM_PMTS_LEFT"
                                    },
                                    {
                                        "name": "NUM_PMTS_PD"
                                    },
                                    {
                                        "name": "PREV_DT_LST_ACT"
                                    },
                                    {
                                        "name": "DT_PREV_LST_PMT"
                                    },
                                    {
                                        "name": "DT_NEXT_PMT_DUE"
                                    },
                                    {
                                        "name": "PAY_OFF_LST_STMT"
                                    },
                                    {
                                        "name": "LT_CHG_TP"
                                    },
                                    {
                                        "name": "LT_CHG_WVR_FLAG"
                                    },
                                    {
                                        "name": "L_C_RATE"
                                    },
                                    {
                                        "name": "L_C_AMT"
                                    },
                                    {
                                        "name": "LT_CHG_MIN_FOR_PER"
                                    },
                                    {
                                        "name": "LT_CHG_MAX_FOR_PER"
                                    },
                                    {
                                        "name": "LT_CHG_MAX_FOR_YR"
                                    },
                                    {
                                        "name": "ASS_LT_CHG_YTD"
                                    },
                                    {
                                        "name": "ASSES_LT_CHGS_NOT_PD"
                                    },
                                    {
                                        "name": "L_C_PD_YTD"
                                    },
                                    {
                                        "name": "L_C_PD_TERM"
                                    },
                                    {
                                        "name": "AMT_LT_CHGS_WVD_FOR_TERM"
                                    },
                                    {
                                        "name": "NUM_1ST_NOTS_SENT"
                                    },
                                    {
                                        "name": "NUM_2ND_NOTS_SENT"
                                    },
                                    {
                                        "name": "NUM_3RD_NOTS_SENT"
                                    },
                                    {
                                        "name": "NUM_COLL_CRDS_PRNTD"
                                    },
                                    {
                                        "name": "NUM_CHKS_NSF"
                                    },
                                    {
                                        "name": "ACCEP_NO_PMTS_REPOSD"
                                    },
                                    {
                                        "name": "DT_COLLAT_REPOS"
                                    },
                                    {
                                        "name": "ASSESS_L_C_AT_MATUR"
                                    },
                                    {
                                        "name": "SET_FOR_EXT_CALC"
                                    },
                                    {
                                        "name": "CL_INS_CODE"
                                    },
                                    {
                                        "name": "A_H_INS_CODE"
                                    },
                                    {
                                        "name": "CHG_HIGHER_RATE_AT_MATURITY"
                                    },
                                    {
                                        "name": "NUM_DYS_TO_ASSESS_HIGHER_RT"
                                    },
                                    {
                                        "name": "PRM_BAS_CD_PR_TO_MAT"
                                    },
                                    {
                                        "name": "NUM_TIMES_REFIN"
                                    },
                                    {
                                        "name": "NUM_PMTS_EXTEND"
                                    },
                                    {
                                        "name": "CUR_EXTEN_CHG_MO"
                                    },
                                    {
                                        "name": "CUR_EXTEN_NUM_MOS_EXTD"
                                    },
                                    {
                                        "name": "CUR_EXTEN_NUMEXTD_MOS_USED"
                                    },
                                    {
                                        "name": "RTC_Y_OR_N"
                                    },
                                    {
                                        "name": "COLLAT_DESCRIP"
                                    },
                                    {
                                        "name": "DT_LST_R_T_C"
                                    },
                                    {
                                        "name": "NUM_R_T_C"
                                    },
                                    {
                                        "name": "PRT_HST_CARD"
                                    },
                                    {
                                        "name": "RISK_GRADE"
                                    },
                                    {
                                        "name": "CR_BUR_RPT_CD"
                                    },
                                    {
                                        "name": "BLNK_COV_INS_CO_CD"
                                    },
                                    {
                                        "name": "BILL_THIS_LOAN_CD"
                                    },
                                    {
                                        "name": "CALL_RPT_CAT_CD"
                                    },
                                    {
                                        "name": "COMP_BAL_APPL_CD"
                                    },
                                    {
                                        "name": "COMP_BAL_ACCTNUM"
                                    },
                                    {
                                        "name": "COMP_BAL_PCT"
                                    },
                                    {
                                        "name": "CL_A_H_EARN_DD"
                                    },
                                    {
                                        "name": "INS_START_DT"
                                    },
                                    {
                                        "name": "INS_MOS_ERND"
                                    },
                                    {
                                        "name": "PHONE_H"
                                    },
                                    {
                                        "name": "PHONE_W"
                                    },
                                    {
                                        "name": "TIMES_30_DYS_PD"
                                    },
                                    {
                                        "name": "TIMES_60_DYS_PD"
                                    },
                                    {
                                        "name": "TIMES_90_DYS_PD"
                                    },
                                    {
                                        "name": "NOTE_RT_MAN_CHGD"
                                    },
                                    {
                                        "name": "OFCR_EMPL_LOAN_CD"
                                    },
                                    {
                                        "name": "LST_PMTNUM_BILLED"
                                    },
                                    {
                                        "name": "SEND_NO_NOT_FLG"
                                    },
                                    {
                                        "name": "LST_PMTNUM_1ST_NOT"
                                    },
                                    {
                                        "name": "LST_PMTNUM_2ND_NOT"
                                    },
                                    {
                                        "name": "LST_PMTNUM_3RD_NOT"
                                    },
                                    {
                                        "name": "LST_PMTNUM_COLL_CARD"
                                    },
                                    {
                                        "name": "RATE_CHG_FRQ_MOS"
                                    },
                                    {
                                        "name": "RT_CHG_DAY"
                                    },
                                    {
                                        "name": "LST_PMTNUM_PD"
                                    },
                                    {
                                        "name": "DT_INT_ACCR_THRU"
                                    },
                                    {
                                        "name": "NW_LOAN_LIST_INDIC"
                                    },
                                    {
                                        "name": "PAYOFF_GOOD_THRU_DATE"
                                    },
                                    {
                                        "name": "DAILY_INT"
                                    },
                                    {
                                        "name": "HST_FILE_LST_SEQNUM_USED"
                                    },
                                    {
                                        "name": "REWRITE_CODE"
                                    },
                                    {
                                        "name": "NOTE_TP"
                                    },
                                    {
                                        "name": "RATE_GUAR_CD"
                                    },
                                    {
                                        "name": "PRIME_RATE_CHG_CD"
                                    },
                                    {
                                        "name": "DT_EFF_PRIME_CHG"
                                    },
                                    {
                                        "name": "VAR_FROM_PRIME_OR_AMT"
                                    },
                                    {
                                        "name": "PRIME_RATE_USED_NUM"
                                    },
                                    {
                                        "name": "RECOURSE"
                                    },
                                    {
                                        "name": "REV_CD"
                                    },
                                    {
                                        "name": "PART_PUR_CIF_NUM"
                                    },
                                    {
                                        "name": "MIN_LOAN_CHG"
                                    },
                                    {
                                        "name": "COMM_NUM"
                                    },
                                    {
                                        "name": "CLNNAIC"
                                    },
                                    {
                                        "name": "FDIC_CDS"
                                    },
                                    {
                                        "name": "STATMENT_DAY_HEQ"
                                    },
                                    {
                                        "name": "AUTO_CHRG_CD"
                                    },
                                    {
                                        "name": "AUTO_CHG_NUM"
                                    },
                                    {
                                        "name": "BILL_LEAD_DAYS_DUE_DAY_HEQ"
                                    },
                                    {
                                        "name": "EXPT_PAYOFF_DT"
                                    },
                                    {
                                        "name": "MIN_RATE"
                                    },
                                    {
                                        "name": "MAX_RATE"
                                    },
                                    {
                                        "name": "DAYS_4_LT_FEE"
                                    },
                                    {
                                        "name": "PURP_CODE"
                                    },
                                    {
                                        "name": "PRIME_SRC_OF_REPAY"
                                    },
                                    {
                                        "name": "SECOND_SRC_OF_REPAY"
                                    },
                                    {
                                        "name": "ACCT"
                                    },
                                    {
                                        "name": "AUDIT_FLAG"
                                    },
                                    {
                                        "name": "AUDIT_DATE"
                                    },
                                    {
                                        "name": "ACTV_FLG"
                                    },
                                    {
                                        "name": "CR_BUR_RPT_FLG"
                                    },
                                    {
                                        "name": "FACE_AMOUNT"
                                    },
                                    {
                                        "name": "WNB_SIC"
                                    },
                                    {
                                        "name": "WNB_NAICS"
                                    },
                                    {
                                        "name": "FUNDING DATE"
                                    }
                                ]
                            },
                            "data": []
                        },
                        "text/html": "<table><tr><th>InstitutionID</th><th>Z_ID</th><th>SHORT_NAME</th><th>BRCH</th><th>SOC_SEC</th><th>DOC_STOR</th><th>DATE_OPN</th><th>DT_LST_ACTV</th><th>DT_LST_STAT</th><th>PRIOR_YTD_INT_PD</th><th>LST_PMT_DT</th><th>LST_PMT_AMT</th><th>LOAN_BAL</th><th>DT_LST_PROCESSED</th><th>PRIOR_YTD_LT_CHGS_PD</th><th>OFFICER</th><th>DT_LOAN_ENTRY</th><th>LOAN_EARN_TP</th><th>LOAN_INT_TP</th><th>MAT_DATE</th><th>PMT_NUM_LST_PMT_LC</th><th>INT_RATE</th><th>LOAN_PROCEEDS</th><th>AMT_FINANCED</th><th>ORIG_LINE_HEQ_ORIG_INT_78</th><th>ORIG_CR_LIFE_AMT</th><th>ORIG_A_H_AMT</th><th>MO_EARN_LST_TAKEN</th><th>HEQ_MIN_PMT_AMT</th><th>ORIG_MISC_LOAN_FEES</th><th>CURR_LOAN_AMT</th><th>CUR_CR_LIFE_REBATE</th><th>CUR_A_H_REBATE</th><th>GL_ENTRIES_CREATED_FOR_NW_LOAN</th><th>CUR_MISC_LOAN_FEE_BAL</th><th>CUR_PAR_PMT_BAL</th><th>SI_INT_EARN_YTD</th><th>SI_INT_EARND_SINCE_LST_BILL</th><th>SI_INT_EARN_TERM</th><th>SI_PRIN_PAID_MTD</th><th>SI_PRIN_PAID_YTD</th><th>SI_PRIN_PD_TERM</th><th>SI_ACCR_INT_CUR_DUE</th><th>EXTENDED_INTEREST_CALC</th><th>SI_INT_DUE_DT</th><th>DT_INTEREST_PD_TO</th><th>PMT_NUM_30_60_90_DYS_LATE</th><th>SI_PRIN_DUE_DT</th><th>SI_PRINT_CUR_DUE</th><th>SI_PRIN_PAST_DUE</th><th>SI_DT_PRIN_LST_CUR</th><th>SI_LOAN_ACCR_BASIS</th><th>PMT_FREQ</th><th>TERM</th><th>NUM_PMTS</th><th>NUM_PMTS_LEFT</th><th>NUM_PMTS_PD</th><th>PREV_DT_LST_ACT</th><th>DT_PREV_LST_PMT</th><th>DT_NEXT_PMT_DUE</th><th>PAY_OFF_LST_STMT</th><th>LT_CHG_TP</th><th>LT_CHG_WVR_FLAG</th><th>L_C_RATE</th><th>L_C_AMT</th><th>LT_CHG_MIN_FOR_PER</th><th>LT_CHG_MAX_FOR_PER</th><th>LT_CHG_MAX_FOR_YR</th><th>ASS_LT_CHG_YTD</th><th>ASSES_LT_CHGS_NOT_PD</th><th>L_C_PD_YTD</th><th>L_C_PD_TERM</th><th>AMT_LT_CHGS_WVD_FOR_TERM</th><th>NUM_1ST_NOTS_SENT</th><th>NUM_2ND_NOTS_SENT</th><th>NUM_3RD_NOTS_SENT</th><th>NUM_COLL_CRDS_PRNTD</th><th>NUM_CHKS_NSF</th><th>ACCEP_NO_PMTS_REPOSD</th><th>DT_COLLAT_REPOS</th><th>ASSESS_L_C_AT_MATUR</th><th>SET_FOR_EXT_CALC</th><th>CL_INS_CODE</th><th>A_H_INS_CODE</th><th>CHG_HIGHER_RATE_AT_MATURITY</th><th>NUM_DYS_TO_ASSESS_HIGHER_RT</th><th>PRM_BAS_CD_PR_TO_MAT</th><th>NUM_TIMES_REFIN</th><th>NUM_PMTS_EXTEND</th><th>CUR_EXTEN_CHG_MO</th><th>CUR_EXTEN_NUM_MOS_EXTD</th><th>CUR_EXTEN_NUMEXTD_MOS_USED</th><th>RTC_Y_OR_N</th><th>COLLAT_DESCRIP</th><th>DT_LST_R_T_C</th><th>NUM_R_T_C</th><th>PRT_HST_CARD</th><th>RISK_GRADE</th><th>CR_BUR_RPT_CD</th><th>BLNK_COV_INS_CO_CD</th><th>BILL_THIS_LOAN_CD</th><th>CALL_RPT_CAT_CD</th><th>COMP_BAL_APPL_CD</th><th>COMP_BAL_ACCTNUM</th><th>COMP_BAL_PCT</th><th>CL_A_H_EARN_DD</th><th>INS_START_DT</th><th>INS_MOS_ERND</th><th>PHONE_H</th><th>PHONE_W</th><th>TIMES_30_DYS_PD</th><th>TIMES_60_DYS_PD</th><th>TIMES_90_DYS_PD</th><th>NOTE_RT_MAN_CHGD</th><th>OFCR_EMPL_LOAN_CD</th><th>LST_PMTNUM_BILLED</th><th>SEND_NO_NOT_FLG</th><th>LST_PMTNUM_1ST_NOT</th><th>LST_PMTNUM_2ND_NOT</th><th>LST_PMTNUM_3RD_NOT</th><th>LST_PMTNUM_COLL_CARD</th><th>RATE_CHG_FRQ_MOS</th><th>RT_CHG_DAY</th><th>LST_PMTNUM_PD</th><th>DT_INT_ACCR_THRU</th><th>NW_LOAN_LIST_INDIC</th><th>PAYOFF_GOOD_THRU_DATE</th><th>DAILY_INT</th><th>HST_FILE_LST_SEQNUM_USED</th><th>REWRITE_CODE</th><th>NOTE_TP</th><th>RATE_GUAR_CD</th><th>PRIME_RATE_CHG_CD</th><th>DT_EFF_PRIME_CHG</th><th>VAR_FROM_PRIME_OR_AMT</th><th>PRIME_RATE_USED_NUM</th><th>RECOURSE</th><th>REV_CD</th><th>PART_PUR_CIF_NUM</th><th>MIN_LOAN_CHG</th><th>COMM_NUM</th><th>CLNNAIC</th><th>FDIC_CDS</th><th>STATMENT_DAY_HEQ</th><th>AUTO_CHRG_CD</th><th>AUTO_CHG_NUM</th><th>BILL_LEAD_DAYS_DUE_DAY_HEQ</th><th>EXPT_PAYOFF_DT</th><th>MIN_RATE</th><th>MAX_RATE</th><th>DAYS_4_LT_FEE</th><th>PURP_CODE</th><th>PRIME_SRC_OF_REPAY</th><th>SECOND_SRC_OF_REPAY</th><th>ACCT</th><th>AUDIT_FLAG</th><th>AUDIT_DATE</th><th>ACTV_FLG</th><th>CR_BUR_RPT_FLG</th><th>FACE_AMOUNT</th><th>WNB_SIC</th><th>WNB_NAICS</th><th>FUNDING DATE</th></tr></table>"
                    },
                    "metadata": {}
                }
            ],
            "execution_count": 5
        },
        {
            "cell_type": "code",
            "source": [
                "DECLARE @Appid int = 540516\r\n",
                "\r\n",
                "SELECT \r\n",
                "LA.BorrowerName [Signer1],\r\n",
                "LTRIM(REPLACE(B.FullName, B.BorrowerLName , '')) [First_Name],\r\n",
                "B.BorrowerLName [Last_Name],\r\n",
                "LA.Email [Email],\r\n",
                "'CHALLENGE' [AUTH_TYPE],\r\n",
                "'Enter Last 4 Numbers of Your Social Security Number' [AUTH_PROMPT_SSN],\r\n",
                "FORMAT(CAST(RIGHT(B.ContractSSN,4) AS Numeric),'000000000') [AUTH_CHALLENGE_SSN],\r\n",
                "'Enter Your BirthDay Format MMDDYYYY' [AUTH_PROMPT_BIRTHDAY],\r\n",
                "FORMAT(B.BorDOB,'MMddyyyy') [AUTH_CHALLENGE_BIRTHDAY],\r\n",
                "' ' [CoBorrowerName]\r\n",
                ",LA.BorrowerCount\r\n",
                ",LA.AppID\r\n",
                ",CONVERT(VARCHAR,CONVERT(DATE,LA.[DATE]),101) [DATE]\r\n",
                ",LA.MailingStreet [Address1]\r\n",
                ",LA.MailingCity +', '+ LA.MailingState +' '+ LA.MailingZip [CityStateZip]\r\n",
                ",LA.ApplicantType\r\n",
                ",CONVERT(VARCHAR,CONVERT(DATE,LA.[ExpirationDate]),101) [ExpirationDate]\r\n",
                ",'$'+ LEFT( CONVERT(varchar, LA.LoanAmount,1),LEN (CONVERT(varchar, LA.LoanAmount,1))) [LoanAmount]\r\n",
                ",LA.WNBAccount1 [1stWNBAccount]\r\n",
                ",CASE \r\n",
                "\t\tWHEN LA.WNBAccount1 IS NOT NULL AND LA.WNBAccount2 IS NULL THEN 'No Account Selected'\r\n",
                "\t\tELSE CONVERT(VARCHAR,LA.WNBAccount2)\r\n",
                "\t\tEND [2ndWNBAccount]\r\n",
                ",CASE \r\n",
                "\t\tWHEN LA.WNBAccount1 IS NOT NULL AND LA.WNBAccount3 IS NULL THEN 'No Account Selected'\r\n",
                "\t\tELSE CONVERT(VARCHAR,LA.WNBAccount3)\r\n",
                "\t\tEND [3rdWNBAccount]\r\n",
                ",CASE\r\n",
                "\t\tWHEN LA.FICOScore IS NULL THEN 'N/A'\r\n",
                "\t\tELSE CONVERT(VARCHAR,LA.FICOScore) END [FICOScore]\r\n",
                ",CASE\r\n",
                "\t\tWHEN LA.FICOScore IS NULL THEN 'N/A'\r\n",
                "\t\tELSE CONVERT(VARCHAR,CONVERT(DATE,LA.FICOScoreDate),101) \r\n",
                "\t\tEND [FICOScoreDate]\r\n",
                ",CASE\r\n",
                "\t\tWHEN LA.FICOScore IS NULL THEN 'N/A'\r\n",
                "\t\tELSE LA.KeyFactor1 END [KeyFactor1]\r\n",
                ",LA.KeyFactor2\r\n",
                ",LA.KeyFactor3\r\n",
                ",LA.KeyFactor4\r\n",
                ",LA.BorrowerID\r\n",
                ",LA.BorOrderNum\r\n",
                ",LA.Template\r\n",
                "FROM WNBUtility.dbo.LoanApprovals LA \r\n",
                "INNER JOIN\r\n",
                "(\r\n",
                "SELECT BorrowerLName, APPID, BorrowerID, ContractSSN, BorDOB,\r\n",
                "CASE WHEN LEFT(BorrowerName, 3) IN ('Mr. ', 'Ms. ') THEN SUBSTRING(BorrowerName, 4, LEN(BorrowerName))\r\n",
                "         WHEN LEFT(BorrowerName, 4) IN ('Mrs. ') THEN SUBSTRING(BorrowerName, 5, LEN(BorrowerName))\r\n",
                "         WHEN LEFT(BorrowerName, 5) IN ('Miss ') THEN SUBSTRING(BorrowerName, 6, LEN(BorrowerName))\r\n",
                "         ELSE BorrowerName END AS FullName\r\n",
                "FROM WNBUtility.dbo.Action_Borrowers\r\n",
                ") B ON LA.AppID = B.AppID AND LA.BorrowerID = B.BorrowerID AND LA.BorOrderNum = 1 \r\n",
                "WHERE LA.Template IN ('Reli Unlinked','Reli Linked') \r\n",
                "AND CONVERT(DATE, la.SentDate ) = '2019-11-27' \r\n",
                "--and LA.ID > 64"
            ],
            "metadata": {
                "azdata_cell_guid": "c3791926-c846-4c27-9161-e7cfd11e1f5f"
            },
            "outputs": [
                {
                    "output_type": "display_data",
                    "data": {
                        "text/html": "(14 rows affected)"
                    },
                    "metadata": {}
                },
                {
                    "output_type": "display_data",
                    "data": {
                        "text/html": "Total execution time: 00:00:00.737"
                    },
                    "metadata": {}
                },
                {
                    "output_type": "execute_result",
                    "execution_count": 20,
                    "data": {
                        "application/vnd.dataresource+json": {
                            "schema": {
                                "fields": [
                                    {
                                        "name": "Signer1"
                                    },
                                    {
                                        "name": "First_Name"
                                    },
                                    {
                                        "name": "Last_Name"
                                    },
                                    {
                                        "name": "Email"
                                    },
                                    {
                                        "name": "AUTH_TYPE"
                                    },
                                    {
                                        "name": "AUTH_PROMPT_SSN"
                                    },
                                    {
                                        "name": "AUTH_CHALLENGE_SSN"
                                    },
                                    {
                                        "name": "AUTH_PROMPT_BIRTHDAY"
                                    },
                                    {
                                        "name": "AUTH_CHALLENGE_BIRTHDAY"
                                    },
                                    {
                                        "name": "CoBorrowerName"
                                    },
                                    {
                                        "name": "BorrowerCount"
                                    },
                                    {
                                        "name": "AppID"
                                    },
                                    {
                                        "name": "DATE"
                                    },
                                    {
                                        "name": "Address1"
                                    },
                                    {
                                        "name": "CityStateZip"
                                    },
                                    {
                                        "name": "ApplicantType"
                                    },
                                    {
                                        "name": "ExpirationDate"
                                    },
                                    {
                                        "name": "LoanAmount"
                                    },
                                    {
                                        "name": "1stWNBAccount"
                                    },
                                    {
                                        "name": "2ndWNBAccount"
                                    },
                                    {
                                        "name": "3rdWNBAccount"
                                    },
                                    {
                                        "name": "FICOScore"
                                    },
                                    {
                                        "name": "FICOScoreDate"
                                    },
                                    {
                                        "name": "KeyFactor1"
                                    },
                                    {
                                        "name": "KeyFactor2"
                                    },
                                    {
                                        "name": "KeyFactor3"
                                    },
                                    {
                                        "name": "KeyFactor4"
                                    },
                                    {
                                        "name": "BorrowerID"
                                    },
                                    {
                                        "name": "BorOrderNum"
                                    },
                                    {
                                        "name": "Template"
                                    }
                                ]
                            },
                            "data": [
                                {
                                    "0": "JAMES R BOWLING III",
                                    "1": "James R ",
                                    "2": "Bowling III",
                                    "3": "JMHOMEIMPROVEMENTS2014@GMAIL.COM",
                                    "4": "CHALLENGE",
                                    "5": "Enter Last 4 Numbers of Your Social Security Number",
                                    "6": "000003964",
                                    "7": "Enter Your BirthDay Format MMDDYYYY",
                                    "8": "03211982",
                                    "9": " ",
                                    "10": "1",
                                    "11": "546191",
                                    "12": "11/26/2019",
                                    "13": "7759 OLD STATE ROAD",
                                    "14": "CRANESVILLE, PA 16410",
                                    "15": "Individual Application",
                                    "16": "12/27/2019",
                                    "17": "$1,000.00",
                                    "18": "1258361771",
                                    "19": "No Account Selected",
                                    "20": "No Account Selected",
                                    "21": "619",
                                    "22": "11/26/2019",
                                    "23": "Derogatory public record or collection filed",
                                    "24": "Number of established accounts",
                                    "25": "Length of time accounts have been established",
                                    "26": "Lack of recent bank revolving information",
                                    "27": "1087108",
                                    "28": "1",
                                    "29": "ReLi Linked"
                                },
                                {
                                    "0": "KENDRICK PRESTON",
                                    "1": "Kendrick ",
                                    "2": "Preston",
                                    "3": "KENDRICKPRESTON89@GMAIL.COM",
                                    "4": "CHALLENGE",
                                    "5": "Enter Last 4 Numbers of Your Social Security Number",
                                    "6": "000003019",
                                    "7": "Enter Your BirthDay Format MMDDYYYY",
                                    "8": "12291989",
                                    "9": " ",
                                    "10": "1",
                                    "11": "545176",
                                    "12": "11/26/2019",
                                    "13": "9 RICHMOND AVE",
                                    "14": "MOUNT STERLING , KY 40353",
                                    "15": "Individual Application",
                                    "16": "12/27/2019",
                                    "17": "$2,500.00",
                                    "18": "8118095457",
                                    "19": "No Account Selected",
                                    "20": "No Account Selected",
                                    "21": "687",
                                    "22": "11/23/2019",
                                    "23": "Too few accounts currently paid as agreed",
                                    "24": "Length of time accounts have been established",
                                    "25": "Lack of recent revolving account information",
                                    "26": "Proportion of loan balances to loan account is too high",
                                    "27": "1084944",
                                    "28": "1",
                                    "29": "ReLi Linked"
                                },
                                {
                                    "0": "MRS. EDRALENE LUMAWAS EVANS",
                                    "1": "Edralene ",
                                    "2": "LUMAWAS EVANS",
                                    "3": "ELASTNAMELUMAWAS@YAHOO.COM",
                                    "4": "CHALLENGE",
                                    "5": "Enter Last 4 Numbers of Your Social Security Number",
                                    "6": "000009514",
                                    "7": "Enter Your BirthDay Format MMDDYYYY",
                                    "8": "01091988",
                                    "9": " ",
                                    "10": "1",
                                    "11": "546372",
                                    "12": "11/26/2019",
                                    "13": "18618 STEELE POINT DR",
                                    "14": "CROSBY, TX 77532",
                                    "15": "Individual Application",
                                    "16": "12/27/2019",
                                    "17": "$2,000.00",
                                    "18": "1210335236",
                                    "19": "No Account Selected",
                                    "20": "No Account Selected",
                                    "21": "723",
                                    "22": "11/25/2019",
                                    "23": "Proportion of balances to credit limits is too high on revolving accounts",
                                    "24": "Length of time accounts have been established",
                                    "25": "Lack of recent installment loan information",
                                    "26": "Too many accounts with balances",
                                    "27": "1087496",
                                    "28": "1",
                                    "29": "ReLi Linked"
                                },
                                {
                                    "0": "MR. CARROLL D FRANKLIN",
                                    "1": "Carroll D ",
                                    "2": "Franklin",
                                    "3": "CDEAN1275@YAHOO.COM",
                                    "4": "CHALLENGE",
                                    "5": "Enter Last 4 Numbers of Your Social Security Number",
                                    "6": "000004497",
                                    "7": "Enter Your BirthDay Format MMDDYYYY",
                                    "8": "12121975",
                                    "9": " ",
                                    "10": "1",
                                    "11": "544466",
                                    "12": "11/26/2019",
                                    "13": "280 RIDGEWOOD DR",
                                    "14": "SHEPHERD , TX 77371",
                                    "15": "Individual Application",
                                    "16": "12/27/2019",
                                    "17": "$1,500.00",
                                    "18": "1209437928",
                                    "19": "No Account Selected",
                                    "20": "No Account Selected",
                                    "21": "601",
                                    "22": "11/26/2019",
                                    "23": "Serious delinquency, and derogatory public record or collection filed",
                                    "24": "Time since delinquency is too recent or unknown",
                                    "25": "Too many inquiries last 12 months",
                                    "26": "Length of time accounts have been established",
                                    "27": "1083379",
                                    "28": "1",
                                    "29": "ReLi Linked"
                                },
                                {
                                    "0": "ROBERT BELL",
                                    "1": "Robert ",
                                    "2": "Bell",
                                    "3": "KBELL800@GMAIL.COM",
                                    "4": "CHALLENGE",
                                    "5": "Enter Last 4 Numbers of Your Social Security Number",
                                    "6": "000008194",
                                    "7": "Enter Your BirthDay Format MMDDYYYY",
                                    "8": "09201978",
                                    "9": " ",
                                    "10": "2",
                                    "11": "546441",
                                    "12": "11/26/2019",
                                    "13": "615 ROSLYNAVE",
                                    "14": "AKRON, OH 44320",
                                    "15": "Joint Application",
                                    "16": "12/27/2019",
                                    "17": "$1,000.00",
                                    "18": "1424339768",
                                    "19": "No Account Selected",
                                    "20": "No Account Selected",
                                    "21": "615",
                                    "22": "11/26/2019",
                                    "23": "Number of accounts with delinquency",
                                    "24": "Proportion of balances to credit limits is too high on revolving accounts",
                                    "25": "Length of time accounts have been established",
                                    "26": "Time since delinquency is too recent or unknown",
                                    "27": "1087641",
                                    "28": "1",
                                    "29": "ReLi Linked"
                                },
                                {
                                    "0": "LYDIA CASIANO",
                                    "1": "Lydia ",
                                    "2": "Casiano",
                                    "3": "LCASIANO26@GMAIL.COM",
                                    "4": "CHALLENGE",
                                    "5": "Enter Last 4 Numbers of Your Social Security Number",
                                    "6": "000009124",
                                    "7": "Enter Your BirthDay Format MMDDYYYY",
                                    "8": "10261965",
                                    "9": " ",
                                    "10": "1",
                                    "11": "546357",
                                    "12": "11/26/2019",
                                    "13": "2328 SUMMIT RIDGE LOOP",
                                    "14": "MORRISVILLE, NC 27560",
                                    "15": "Individual Application",
                                    "16": "12/27/2019",
                                    "17": "$1,500.00",
                                    "18": "NULL",
                                    "19": "NULL",
                                    "20": "NULL",
                                    "21": "616",
                                    "22": "11/26/2019",
                                    "23": "Derogatory public record or collection filed",
                                    "24": "Length of time accounts have been established",
                                    "25": "Too few accounts currently paid as agreed",
                                    "26": "Lack of recent installment loan information",
                                    "27": "1087465",
                                    "28": "1",
                                    "29": "Reli Unlinked"
                                },
                                {
                                    "0": "MS. ANDREA K SANDERS",
                                    "1": "Andrea K ",
                                    "2": "Sanders",
                                    "3": "LADY152321@YAHOO.COM",
                                    "4": "CHALLENGE",
                                    "5": "Enter Last 4 Numbers of Your Social Security Number",
                                    "6": "000000563",
                                    "7": "Enter Your BirthDay Format MMDDYYYY",
                                    "8": "04211958",
                                    "9": " ",
                                    "10": "1",
                                    "11": "546337",
                                    "12": "11/26/2019",
                                    "13": "1629 N 8TH ST",
                                    "14": "SPRINGFIELD, IL 62702",
                                    "15": "Individual Application",
                                    "16": "12/27/2019",
                                    "17": "$2,000.00",
                                    "18": "1396417089",
                                    "19": "No Account Selected",
                                    "20": "No Account Selected",
                                    "21": "632",
                                    "22": "11/26/2019",
                                    "23": "Serious delinquency, and derogatory public record or collection filed",
                                    "24": "Proportion of balances to credit limits is too high on revolving accounts",
                                    "25": "Number of accounts with delinquency",
                                    "26": "Too many accounts with balances",
                                    "27": "1087420",
                                    "28": "1",
                                    "29": "ReLi Linked"
                                },
                                {
                                    "0": "MS. CAROL ANNE ESTEN",
                                    "1": "Carol Anne ",
                                    "2": "Esten",
                                    "3": "CAROL14125@YAHOO.COM",
                                    "4": "CHALLENGE",
                                    "5": "Enter Last 4 Numbers of Your Social Security Number",
                                    "6": "000003514",
                                    "7": "Enter Your BirthDay Format MMDDYYYY",
                                    "8": "02281957",
                                    "9": " ",
                                    "10": "1",
                                    "11": "544063",
                                    "12": "11/26/2019",
                                    "13": "16 FARNSWORTH AVENUE ",
                                    "14": "OAKFIELD , NY 14125",
                                    "15": "Individual Application",
                                    "16": "12/27/2019",
                                    "17": "$1,000.00",
                                    "18": "8031001665",
                                    "19": "No Account Selected",
                                    "20": "No Account Selected",
                                    "21": "611",
                                    "22": "11/22/2019",
                                    "23": "Serious delinquency, and derogatory public record or collection filed",
                                    "24": "Proportion of balances to credit limits is too high on revolving accounts",
                                    "25": "Length of time accounts have been established",
                                    "26": "Length of time since derogatory public record or collection is too short",
                                    "27": "1082485",
                                    "28": "1",
                                    "29": "ReLi Linked"
                                },
                                {
                                    "0": "REBECCA SURLS",
                                    "1": "Rebecca ",
                                    "2": "Surls",
                                    "3": "CREATEWITHME222@YAHOO.COM",
                                    "4": "CHALLENGE",
                                    "5": "Enter Last 4 Numbers of Your Social Security Number",
                                    "6": "000001726",
                                    "7": "Enter Your BirthDay Format MMDDYYYY",
                                    "8": "03011969",
                                    "9": " ",
                                    "10": "1",
                                    "11": "546322",
                                    "12": "11/26/2019",
                                    "13": "10355 OAKWOOD CREST",
                                    "14": "SAN ANTONIO, TX 78245",
                                    "15": "Individual Application",
                                    "16": "12/27/2019",
                                    "17": "$2,000.00",
                                    "18": "1601381310",
                                    "19": "No Account Selected",
                                    "20": "No Account Selected",
                                    "21": "646",
                                    "22": "11/26/2019",
                                    "23": "Serious delinquency, and derogatory public record or collection filed",
                                    "24": "Length of time accounts have been established",
                                    "25": "Proportion of balances to credit limits is too high on revolving accounts",
                                    "26": "Too many accounts with balances",
                                    "27": "1087389",
                                    "28": "1",
                                    "29": "ReLi Linked"
                                },
                                {
                                    "0": "TIFFANY MARIE THOMPSON",
                                    "1": "Tiffany Marie ",
                                    "2": "Thompson",
                                    "3": "THOMPSONTIFFANY24@GMAIL.COM",
                                    "4": "CHALLENGE",
                                    "5": "Enter Last 4 Numbers of Your Social Security Number",
                                    "6": "000009798",
                                    "7": "Enter Your BirthDay Format MMDDYYYY",
                                    "8": "09081986",
                                    "9": " ",
                                    "10": "1",
                                    "11": "544270",
                                    "12": "11/26/2019",
                                    "13": "5091 PERRYVILLE ROAD ",
                                    "14": "SPRINGFIELD , KY 40069",
                                    "15": "Individual Application",
                                    "16": "12/27/2019",
                                    "17": "$1,500.00",
                                    "18": "8074035034",
                                    "19": "No Account Selected",
                                    "20": "No Account Selected",
                                    "21": "607",
                                    "22": "11/26/2019",
                                    "23": "Proportion of balances to credit limits is too high on revolving accounts",
                                    "24": "Too few accounts currently paid as agreed",
                                    "25": "Time since delinquency is too recent or unknown",
                                    "26": "Lack of recent installment loan information",
                                    "27": "1082963",
                                    "28": "1",
                                    "29": "ReLi Linked"
                                },
                                {
                                    "0": "MR. BILLY C MOUDY",
                                    "1": "Billy c ",
                                    "2": "moudy",
                                    "3": "NBMOUDY@GMAIL.COM",
                                    "4": "CHALLENGE",
                                    "5": "Enter Last 4 Numbers of Your Social Security Number",
                                    "6": "000003880",
                                    "7": "Enter Your BirthDay Format MMDDYYYY",
                                    "8": "05251967",
                                    "9": " ",
                                    "10": "2",
                                    "11": "546728",
                                    "12": "11/26/2019",
                                    "13": "6300 SOUTH FM 565 RD",
                                    "14": "BAYTOWN, TX 77523",
                                    "15": "Joint Application",
                                    "16": "12/27/2019",
                                    "17": "$2,000.00",
                                    "18": "1108346345",
                                    "19": "No Account Selected",
                                    "20": "No Account Selected",
                                    "21": "636",
                                    "22": "11/26/2019",
                                    "23": "Serious delinquency, and derogatory public record or collection filed",
                                    "24": "Length of time accounts have been established",
                                    "25": "Too many accounts with balances",
                                    "26": "Number of accounts with delinquency",
                                    "27": "1088247",
                                    "28": "1",
                                    "29": "ReLi Linked"
                                },
                                {
                                    "0": "MS. LESSIE BERNICE STACKER",
                                    "1": "Lessie Bernice ",
                                    "2": "Stacker",
                                    "3": "LESSIE313@MSN.COM",
                                    "4": "CHALLENGE",
                                    "5": "Enter Last 4 Numbers of Your Social Security Number",
                                    "6": "000001550",
                                    "7": "Enter Your BirthDay Format MMDDYYYY",
                                    "8": "03131972",
                                    "9": " ",
                                    "10": "1",
                                    "11": "546447",
                                    "12": "11/26/2019",
                                    "13": "6613 DEERFIELD DRIVE",
                                    "14": "SANFORD, NC 27332",
                                    "15": "Individual Application",
                                    "16": "12/27/2019",
                                    "17": "$1,000.00",
                                    "18": "1870356019",
                                    "19": "No Account Selected",
                                    "20": "No Account Selected",
                                    "21": "608",
                                    "22": "11/26/2019",
                                    "23": "Serious delinquency",
                                    "24": "Proportion of balances to credit limits is too high on revolving accounts",
                                    "25": "Length of time accounts have been established",
                                    "26": "Number of accounts with delinquency",
                                    "27": "1087653",
                                    "28": "1",
                                    "29": "ReLi Linked"
                                },
                                {
                                    "0": "JEANETTE A LEWIS",
                                    "1": "Jeanette A ",
                                    "2": "Lewis",
                                    "3": "JPORTER3575@YAHOO.COM",
                                    "4": "CHALLENGE",
                                    "5": "Enter Last 4 Numbers of Your Social Security Number",
                                    "6": "000006135",
                                    "7": "Enter Your BirthDay Format MMDDYYYY",
                                    "8": "03051975",
                                    "9": " ",
                                    "10": "1",
                                    "11": "546355",
                                    "12": "11/26/2019",
                                    "13": "122 CHESTNUT STREET ",
                                    "14": "MOUNT CARMEL , IL 62863",
                                    "15": "Individual Application",
                                    "16": "12/27/2019",
                                    "17": "$1,000.00",
                                    "18": "1186302855",
                                    "19": "No Account Selected",
                                    "20": "No Account Selected",
                                    "21": "612",
                                    "22": "11/26/2019",
                                    "23": "Serious delinquency, and derogatory public record or collection filed",
                                    "24": "Proportion of balances to credit limits is too high on revolving accounts",
                                    "25": "Length of time accounts have been established",
                                    "26": "Proportion of loan balances to loan account is too high",
                                    "27": "1087460",
                                    "28": "1",
                                    "29": "ReLi Linked"
                                },
                                {
                                    "0": "AMAYA JONAY WHITE",
                                    "1": "Amaya Jonay ",
                                    "2": "White",
                                    "3": "AMAYA.J.WHITE@GMAIL.COM",
                                    "4": "CHALLENGE",
                                    "5": "Enter Last 4 Numbers of Your Social Security Number",
                                    "6": "000002525",
                                    "7": "Enter Your BirthDay Format MMDDYYYY",
                                    "8": "08182000",
                                    "9": " ",
                                    "10": "1",
                                    "11": "546123",
                                    "12": "11/26/2019",
                                    "13": "3708 7TH ST N",
                                    "14": "CLANTON, AL 35045",
                                    "15": "Individual Application",
                                    "16": "12/27/2019",
                                    "17": "$1,000.00",
                                    "18": "NULL",
                                    "19": "NULL",
                                    "20": "NULL",
                                    "21": "647",
                                    "22": "11/26/2019",
                                    "23": "Length of time accounts have been established",
                                    "24": "Proportion of balances to credit limits is too high on revolving accounts",
                                    "25": "Proportion of loan balances to loan account is too high",
                                    "26": "Too many accounts with balances",
                                    "27": "1086960",
                                    "28": "1",
                                    "29": "Reli Unlinked"
                                }
                            ]
                        },
                        "text/html": "<table><tr><th>Signer1</th><th>First_Name</th><th>Last_Name</th><th>Email</th><th>AUTH_TYPE</th><th>AUTH_PROMPT_SSN</th><th>AUTH_CHALLENGE_SSN</th><th>AUTH_PROMPT_BIRTHDAY</th><th>AUTH_CHALLENGE_BIRTHDAY</th><th>CoBorrowerName</th><th>BorrowerCount</th><th>AppID</th><th>DATE</th><th>Address1</th><th>CityStateZip</th><th>ApplicantType</th><th>ExpirationDate</th><th>LoanAmount</th><th>1stWNBAccount</th><th>2ndWNBAccount</th><th>3rdWNBAccount</th><th>FICOScore</th><th>FICOScoreDate</th><th>KeyFactor1</th><th>KeyFactor2</th><th>KeyFactor3</th><th>KeyFactor4</th><th>BorrowerID</th><th>BorOrderNum</th><th>Template</th></tr><tr><td>JAMES R BOWLING III</td><td>James R </td><td>Bowling III</td><td>JMHOMEIMPROVEMENTS2014@GMAIL.COM</td><td>CHALLENGE</td><td>Enter Last 4 Numbers of Your Social Security Number</td><td>000003964</td><td>Enter Your BirthDay Format MMDDYYYY</td><td>03211982</td><td> </td><td>1</td><td>546191</td><td>11/26/2019</td><td>7759 OLD STATE ROAD</td><td>CRANESVILLE, PA 16410</td><td>Individual Application</td><td>12/27/2019</td><td>$1,000.00</td><td>1258361771</td><td>No Account Selected</td><td>No Account Selected</td><td>619</td><td>11/26/2019</td><td>Derogatory public record or collection filed</td><td>Number of established accounts</td><td>Length of time accounts have been established</td><td>Lack of recent bank revolving information</td><td>1087108</td><td>1</td><td>ReLi Linked</td></tr><tr><td>KENDRICK PRESTON</td><td>Kendrick </td><td>Preston</td><td>KENDRICKPRESTON89@GMAIL.COM</td><td>CHALLENGE</td><td>Enter Last 4 Numbers of Your Social Security Number</td><td>000003019</td><td>Enter Your BirthDay Format MMDDYYYY</td><td>12291989</td><td> </td><td>1</td><td>545176</td><td>11/26/2019</td><td>9 RICHMOND AVE</td><td>MOUNT STERLING , KY 40353</td><td>Individual Application</td><td>12/27/2019</td><td>$2,500.00</td><td>8118095457</td><td>No Account Selected</td><td>No Account Selected</td><td>687</td><td>11/23/2019</td><td>Too few accounts currently paid as agreed</td><td>Length of time accounts have been established</td><td>Lack of recent revolving account information</td><td>Proportion of loan balances to loan account is too high</td><td>1084944</td><td>1</td><td>ReLi Linked</td></tr><tr><td>MRS. EDRALENE LUMAWAS EVANS</td><td>Edralene </td><td>LUMAWAS EVANS</td><td>ELASTNAMELUMAWAS@YAHOO.COM</td><td>CHALLENGE</td><td>Enter Last 4 Numbers of Your Social Security Number</td><td>000009514</td><td>Enter Your BirthDay Format MMDDYYYY</td><td>01091988</td><td> </td><td>1</td><td>546372</td><td>11/26/2019</td><td>18618 STEELE POINT DR</td><td>CROSBY, TX 77532</td><td>Individual Application</td><td>12/27/2019</td><td>$2,000.00</td><td>1210335236</td><td>No Account Selected</td><td>No Account Selected</td><td>723</td><td>11/25/2019</td><td>Proportion of balances to credit limits is too high on revolving accounts</td><td>Length of time accounts have been established</td><td>Lack of recent installment loan information</td><td>Too many accounts with balances</td><td>1087496</td><td>1</td><td>ReLi Linked</td></tr><tr><td>MR. CARROLL D FRANKLIN</td><td>Carroll D </td><td>Franklin</td><td>CDEAN1275@YAHOO.COM</td><td>CHALLENGE</td><td>Enter Last 4 Numbers of Your Social Security Number</td><td>000004497</td><td>Enter Your BirthDay Format MMDDYYYY</td><td>12121975</td><td> </td><td>1</td><td>544466</td><td>11/26/2019</td><td>280 RIDGEWOOD DR</td><td>SHEPHERD , TX 77371</td><td>Individual Application</td><td>12/27/2019</td><td>$1,500.00</td><td>1209437928</td><td>No Account Selected</td><td>No Account Selected</td><td>601</td><td>11/26/2019</td><td>Serious delinquency, and derogatory public record or collection filed</td><td>Time since delinquency is too recent or unknown</td><td>Too many inquiries last 12 months</td><td>Length of time accounts have been established</td><td>1083379</td><td>1</td><td>ReLi Linked</td></tr><tr><td>ROBERT BELL</td><td>Robert </td><td>Bell</td><td>KBELL800@GMAIL.COM</td><td>CHALLENGE</td><td>Enter Last 4 Numbers of Your Social Security Number</td><td>000008194</td><td>Enter Your BirthDay Format MMDDYYYY</td><td>09201978</td><td> </td><td>2</td><td>546441</td><td>11/26/2019</td><td>615 ROSLYNAVE</td><td>AKRON, OH 44320</td><td>Joint Application</td><td>12/27/2019</td><td>$1,000.00</td><td>1424339768</td><td>No Account Selected</td><td>No Account Selected</td><td>615</td><td>11/26/2019</td><td>Number of accounts with delinquency</td><td>Proportion of balances to credit limits is too high on revolving accounts</td><td>Length of time accounts have been established</td><td>Time since delinquency is too recent or unknown</td><td>1087641</td><td>1</td><td>ReLi Linked</td></tr><tr><td>LYDIA CASIANO</td><td>Lydia </td><td>Casiano</td><td>LCASIANO26@GMAIL.COM</td><td>CHALLENGE</td><td>Enter Last 4 Numbers of Your Social Security Number</td><td>000009124</td><td>Enter Your BirthDay Format MMDDYYYY</td><td>10261965</td><td> </td><td>1</td><td>546357</td><td>11/26/2019</td><td>2328 SUMMIT RIDGE LOOP</td><td>MORRISVILLE, NC 27560</td><td>Individual Application</td><td>12/27/2019</td><td>$1,500.00</td><td>NULL</td><td>NULL</td><td>NULL</td><td>616</td><td>11/26/2019</td><td>Derogatory public record or collection filed</td><td>Length of time accounts have been established</td><td>Too few accounts currently paid as agreed</td><td>Lack of recent installment loan information</td><td>1087465</td><td>1</td><td>Reli Unlinked</td></tr><tr><td>MS. ANDREA K SANDERS</td><td>Andrea K </td><td>Sanders</td><td>LADY152321@YAHOO.COM</td><td>CHALLENGE</td><td>Enter Last 4 Numbers of Your Social Security Number</td><td>000000563</td><td>Enter Your BirthDay Format MMDDYYYY</td><td>04211958</td><td> </td><td>1</td><td>546337</td><td>11/26/2019</td><td>1629 N 8TH ST</td><td>SPRINGFIELD, IL 62702</td><td>Individual Application</td><td>12/27/2019</td><td>$2,000.00</td><td>1396417089</td><td>No Account Selected</td><td>No Account Selected</td><td>632</td><td>11/26/2019</td><td>Serious delinquency, and derogatory public record or collection filed</td><td>Proportion of balances to credit limits is too high on revolving accounts</td><td>Number of accounts with delinquency</td><td>Too many accounts with balances</td><td>1087420</td><td>1</td><td>ReLi Linked</td></tr><tr><td>MS. CAROL ANNE ESTEN</td><td>Carol Anne </td><td>Esten</td><td>CAROL14125@YAHOO.COM</td><td>CHALLENGE</td><td>Enter Last 4 Numbers of Your Social Security Number</td><td>000003514</td><td>Enter Your BirthDay Format MMDDYYYY</td><td>02281957</td><td> </td><td>1</td><td>544063</td><td>11/26/2019</td><td>16 FARNSWORTH AVENUE </td><td>OAKFIELD , NY 14125</td><td>Individual Application</td><td>12/27/2019</td><td>$1,000.00</td><td>8031001665</td><td>No Account Selected</td><td>No Account Selected</td><td>611</td><td>11/22/2019</td><td>Serious delinquency, and derogatory public record or collection filed</td><td>Proportion of balances to credit limits is too high on revolving accounts</td><td>Length of time accounts have been established</td><td>Length of time since derogatory public record or collection is too short</td><td>1082485</td><td>1</td><td>ReLi Linked</td></tr><tr><td>REBECCA SURLS</td><td>Rebecca </td><td>Surls</td><td>CREATEWITHME222@YAHOO.COM</td><td>CHALLENGE</td><td>Enter Last 4 Numbers of Your Social Security Number</td><td>000001726</td><td>Enter Your BirthDay Format MMDDYYYY</td><td>03011969</td><td> </td><td>1</td><td>546322</td><td>11/26/2019</td><td>10355 OAKWOOD CREST</td><td>SAN ANTONIO, TX 78245</td><td>Individual Application</td><td>12/27/2019</td><td>$2,000.00</td><td>1601381310</td><td>No Account Selected</td><td>No Account Selected</td><td>646</td><td>11/26/2019</td><td>Serious delinquency, and derogatory public record or collection filed</td><td>Length of time accounts have been established</td><td>Proportion of balances to credit limits is too high on revolving accounts</td><td>Too many accounts with balances</td><td>1087389</td><td>1</td><td>ReLi Linked</td></tr><tr><td>TIFFANY MARIE THOMPSON</td><td>Tiffany Marie </td><td>Thompson</td><td>THOMPSONTIFFANY24@GMAIL.COM</td><td>CHALLENGE</td><td>Enter Last 4 Numbers of Your Social Security Number</td><td>000009798</td><td>Enter Your BirthDay Format MMDDYYYY</td><td>09081986</td><td> </td><td>1</td><td>544270</td><td>11/26/2019</td><td>5091 PERRYVILLE ROAD </td><td>SPRINGFIELD , KY 40069</td><td>Individual Application</td><td>12/27/2019</td><td>$1,500.00</td><td>8074035034</td><td>No Account Selected</td><td>No Account Selected</td><td>607</td><td>11/26/2019</td><td>Proportion of balances to credit limits is too high on revolving accounts</td><td>Too few accounts currently paid as agreed</td><td>Time since delinquency is too recent or unknown</td><td>Lack of recent installment loan information</td><td>1082963</td><td>1</td><td>ReLi Linked</td></tr><tr><td>MR. BILLY C MOUDY</td><td>Billy c </td><td>moudy</td><td>NBMOUDY@GMAIL.COM</td><td>CHALLENGE</td><td>Enter Last 4 Numbers of Your Social Security Number</td><td>000003880</td><td>Enter Your BirthDay Format MMDDYYYY</td><td>05251967</td><td> </td><td>2</td><td>546728</td><td>11/26/2019</td><td>6300 SOUTH FM 565 RD</td><td>BAYTOWN, TX 77523</td><td>Joint Application</td><td>12/27/2019</td><td>$2,000.00</td><td>1108346345</td><td>No Account Selected</td><td>No Account Selected</td><td>636</td><td>11/26/2019</td><td>Serious delinquency, and derogatory public record or collection filed</td><td>Length of time accounts have been established</td><td>Too many accounts with balances</td><td>Number of accounts with delinquency</td><td>1088247</td><td>1</td><td>ReLi Linked</td></tr><tr><td>MS. LESSIE BERNICE STACKER</td><td>Lessie Bernice </td><td>Stacker</td><td>LESSIE313@MSN.COM</td><td>CHALLENGE</td><td>Enter Last 4 Numbers of Your Social Security Number</td><td>000001550</td><td>Enter Your BirthDay Format MMDDYYYY</td><td>03131972</td><td> </td><td>1</td><td>546447</td><td>11/26/2019</td><td>6613 DEERFIELD DRIVE</td><td>SANFORD, NC 27332</td><td>Individual Application</td><td>12/27/2019</td><td>$1,000.00</td><td>1870356019</td><td>No Account Selected</td><td>No Account Selected</td><td>608</td><td>11/26/2019</td><td>Serious delinquency</td><td>Proportion of balances to credit limits is too high on revolving accounts</td><td>Length of time accounts have been established</td><td>Number of accounts with delinquency</td><td>1087653</td><td>1</td><td>ReLi Linked</td></tr><tr><td>JEANETTE A LEWIS</td><td>Jeanette A </td><td>Lewis</td><td>JPORTER3575@YAHOO.COM</td><td>CHALLENGE</td><td>Enter Last 4 Numbers of Your Social Security Number</td><td>000006135</td><td>Enter Your BirthDay Format MMDDYYYY</td><td>03051975</td><td> </td><td>1</td><td>546355</td><td>11/26/2019</td><td>122 CHESTNUT STREET </td><td>MOUNT CARMEL , IL 62863</td><td>Individual Application</td><td>12/27/2019</td><td>$1,000.00</td><td>1186302855</td><td>No Account Selected</td><td>No Account Selected</td><td>612</td><td>11/26/2019</td><td>Serious delinquency, and derogatory public record or collection filed</td><td>Proportion of balances to credit limits is too high on revolving accounts</td><td>Length of time accounts have been established</td><td>Proportion of loan balances to loan account is too high</td><td>1087460</td><td>1</td><td>ReLi Linked</td></tr><tr><td>AMAYA JONAY WHITE</td><td>Amaya Jonay </td><td>White</td><td>AMAYA.J.WHITE@GMAIL.COM</td><td>CHALLENGE</td><td>Enter Last 4 Numbers of Your Social Security Number</td><td>000002525</td><td>Enter Your BirthDay Format MMDDYYYY</td><td>08182000</td><td> </td><td>1</td><td>546123</td><td>11/26/2019</td><td>3708 7TH ST N</td><td>CLANTON, AL 35045</td><td>Individual Application</td><td>12/27/2019</td><td>$1,000.00</td><td>NULL</td><td>NULL</td><td>NULL</td><td>647</td><td>11/26/2019</td><td>Length of time accounts have been established</td><td>Proportion of balances to credit limits is too high on revolving accounts</td><td>Proportion of loan balances to loan account is too high</td><td>Too many accounts with balances</td><td>1086960</td><td>1</td><td>Reli Unlinked</td></tr></table>"
                    },
                    "metadata": {}
                }
            ],
            "execution_count": 20
        },
        {
            "cell_type": "code",
            "source": [
                "USE WNBUtility;\r\n",
                "GO\r\n",
                "DROP VIEW IF EXISTS dbo.vw_OneSpanBulkSendFile;\r\n",
                "GO\r\n",
                "CREATE VIEW dbo.vw_OneSpanBulkSendFile\r\n",
                "AS\r\n",
                "\tSELECT\r\n",
                "\t\tLA.BorrowerName\t\t\t\t\t\t\t\t\t\t\t\t\t\t\t\t\t\t\t[Signer1]\r\n",
                "\t   ,LTRIM(REPLACE(B.FullName, B.BorrowerLName, ''))\t\t\t\t\t\t\t\t\t\t\t[First_Name]\r\n",
                "\t   ,B.BorrowerLName\t\t\t\t\t\t\t\t\t\t\t\t\t\t\t\t\t\t\t[Last_Name]\r\n",
                "\t   ,LA.Email\t\t\t\t\t\t\t\t\t\t\t\t\t\t\t\t\t\t\t\t[Email]\r\n",
                "\t   ,'CHALLENGE'\t\t\t\t\t\t\t\t\t\t\t\t\t\t\t\t\t\t\t\t[AUTH_TYPE]\r\n",
                "\t   ,'Enter Last 4 Numbers of Your Social Security Number'\t\t\t\t\t\t\t\t\t[AUTH_PROMPT_SSN]\r\n",
                "\t   ,FORMAT(CAST(RIGHT(B.ContractSSN, 4) AS NUMERIC), '000000000')\t\t\t\t\t\t\t[AUTH_CHALLENGE_SSN]\r\n",
                "\t   ,'Enter Your BirthDay Format MMDDYYYY'\t\t\t\t\t\t\t\t\t\t\t\t\t[AUTH_PROMPT_BIRTHDAY]\r\n",
                "\t   ,FORMAT(B.BorDOB, 'MMddyyyy')\t\t\t\t\t\t\t\t\t\t\t\t\t\t\t[AUTH_CHALLENGE_BIRTHDAY]\r\n",
                "\t   ,' '\t\t\t\t\t\t\t\t\t\t\t\t\t\t\t\t\t\t\t\t\t\t[CoBorrowerName]\r\n",
                "\t   ,LA.BorrowerCount\r\n",
                "\t   ,LA.AppID\r\n",
                "\t   ,CONVERT(VARCHAR, CONVERT(DATE, LA.[Date]), 101)\t\t\t\t\t\t\t\t\t\t\t[DATE]\r\n",
                "\t   ,LA.MailingStreet\t\t\t\t\t\t\t\t\t\t\t\t\t\t\t\t\t\t[Address1]\r\n",
                "\t   ,LA.MailingCity + ', ' + LA.MailingState + ' ' + LA.MailingZip\t\t\t\t\t\t\t[CityStateZip]\r\n",
                "\t   ,LA.ApplicantType\r\n",
                "\t   ,CONVERT(VARCHAR, CONVERT(DATE, LA.[ExpirationDate]), 101)\t\t\t\t\t\t\t\t[ExpirationDate]\r\n",
                "\t   ,'$' + LEFT(CONVERT(VARCHAR, LA.LoanAmount, 1), LEN(CONVERT(VARCHAR, LA.LoanAmount, 1))) [LoanAmount]\r\n",
                "\t   ,LA.WNBAccount1\t\t\t\t\t\t\t\t\t\t\t\t\t\t\t\t\t\t\t[1stWNBAccount]\r\n",
                "\t   ,CASE\r\n",
                "\t\t\tWHEN LA.WNBAccount1 IS NOT NULL\r\n",
                "\t\t\t\t AND LA.WNBAccount2 IS NULL\r\n",
                "\t\t\t\tTHEN\r\n",
                "\t\t\t\t'No Account Selected'\r\n",
                "\t\t\tELSE\r\n",
                "\t\t\t\tCONVERT(VARCHAR, LA.WNBAccount2)\r\n",
                "\t\tEND\t\t\t\t\t\t\t\t\t\t\t\t\t\t\t\t\t\t\t\t\t\t[2ndWNBAccount]\r\n",
                "\t   ,CASE\r\n",
                "\t\t\tWHEN LA.WNBAccount1 IS NOT NULL\r\n",
                "\t\t\t\t AND LA.WNBAccount3 IS NULL\r\n",
                "\t\t\t\tTHEN\r\n",
                "\t\t\t\t'No Account Selected'\r\n",
                "\t\t\tELSE\r\n",
                "\t\t\t\tCONVERT(VARCHAR, LA.WNBAccount3)\r\n",
                "\t\tEND\t\t\t\t\t\t\t\t\t\t\t\t\t\t\t\t\t\t\t\t\t\t[3rdWNBAccount]\r\n",
                "\t   ,CASE\r\n",
                "\t\t\tWHEN LA.FICOScore IS NULL\r\n",
                "\t\t\t\tTHEN\r\n",
                "\t\t\t\t'N/A'\r\n",
                "\t\t\tELSE\r\n",
                "\t\t\t\tCONVERT(VARCHAR, LA.FICOScore)\r\n",
                "\t\tEND\t\t\t\t\t\t\t\t\t\t\t\t\t\t\t\t\t\t\t\t\t\t[FICOScore]\r\n",
                "\t   ,CASE\r\n",
                "\t\t\tWHEN LA.FICOScore IS NULL\r\n",
                "\t\t\t\tTHEN\r\n",
                "\t\t\t\t'N/A'\r\n",
                "\t\t\tELSE\r\n",
                "\t\t\t\tCONVERT(VARCHAR, CONVERT(DATE, LA.FICOScoreDate), 101)\r\n",
                "\t\tEND\t\t\t\t\t\t\t\t\t\t\t\t\t\t\t\t\t\t\t\t\t\t[FICOScoreDate]\r\n",
                "\t   ,CASE\r\n",
                "\t\t\tWHEN LA.FICOScore IS NULL\r\n",
                "\t\t\t\tTHEN\r\n",
                "\t\t\t\t'N/A'\r\n",
                "\t\t\tELSE\r\n",
                "\t\t\t\tLA.KeyFactor1\r\n",
                "\t\tEND\t\t\t\t\t\t\t\t\t\t\t\t\t\t\t\t\t\t\t\t\t\t[KeyFactor1]\r\n",
                "\t   ,LA.KeyFactor2\r\n",
                "\t   ,LA.KeyFactor3\r\n",
                "\t   ,LA.KeyFactor4\r\n",
                "\t   ,LA.BorrowerID\r\n",
                "\t   ,LA.BorOrderNum\r\n",
                "\t   ,LA.Template\r\n",
                "\tFROM\tWNBUtility.dbo.LoanApprovals LA\r\n",
                "\tINNER JOIN\r\n",
                "\t\t(\r\n",
                "\t\t\tSELECT\r\n",
                "\t\t\t\tBorrowerLName\r\n",
                "\t\t\t   ,AppID\r\n",
                "\t\t\t   ,BorrowerID\r\n",
                "\t\t\t   ,ContractSSN\r\n",
                "\t\t\t   ,BorDOB\r\n",
                "\t\t\t   ,CASE WHEN LEFT(BorrowerName, 3) IN ('Mr. ','Ms. ')\r\n",
                "\t\t\t\t\t\tTHEN SUBSTRING(BorrowerName, 4, LEN(BorrowerName))\r\n",
                "\t\t\t\t\tWHEN LEFT(BorrowerName, 4) IN ('Mrs. ')\r\n",
                "\t\t\t\t\t\tTHEN SUBSTRING(BorrowerName, 5, LEN(BorrowerName))\r\n",
                "\t\t\t\t\tWHEN LEFT(BorrowerName, 5) IN ('Miss ')\r\n",
                "\t\t\t\t\t\tTHEN SUBSTRING(BorrowerName, 6, LEN(BorrowerName))\r\n",
                "\t\t\t\t\tELSE BorrowerName END AS [FullName]\r\n",
                "\t\t\tFROM\tWNBUtility.dbo.Action_Borrowers\r\n",
                "\t\t)\tB ON LA.AppID = B.AppID AND LA.BorrowerID = B.BorrowerID AND LA.BorOrderNum = 1\r\n",
                "\tWHERE\r\n",
                "\t\tLA.Template IN\r\n",
                "\t\t\t(\r\n",
                "\t\t\t\t'Reli Unlinked'\r\n",
                "\t\t\t   ,'Reli Linked'\r\n",
                "\t\t\t)\r\n",
                "\t\tAND CONVERT(DATE, LA.SentDate) IS NULL;\r\n",
                "--and LA.ID > 64\r\n",
                "GO\r\n",
                "\r\n",
                "EXEC sys.sp_addextendedproperty @name=N'DataSource1', @value=N'WNBUtility.dbo.LoanApprovals' , @level0type=N'SCHEMA',@level0name=N'dbo', @level1type=N'VIEW',@level1name=N'vw_OneSpanBulkSendFile'\r\n",
                "GO\r\n",
                "EXEC sys.sp_addextendedproperty @name=N'Description1', @value=N'List All Loans Approved to OneSpan for ESign' , @level0type=N'SCHEMA',@level0name=N'dbo', @level1type=N'VIEW',@level1name=N'vw_OneSpanBulkSendFile'\r\n",
                "GO\r\n",
                "EXEC sys.sp_addextendedproperty @name=N'Used From', @value=N'Loan Approval Export to OneSpan ArchonJob and SSIS Package' , @level0type=N'SCHEMA',@level0name=N'dbo', @level1type=N'VIEW',@level1name=N'vw_OneSpanBulkSendFile'\r\n",
                "GO\r\n",
                ""
            ],
            "metadata": {
                "azdata_cell_guid": "b0c0e3b5-25b3-4a31-b6de-82ee277e4fd2"
            },
            "outputs": [
                {
                    "output_type": "display_data",
                    "data": {
                        "text/html": "Commands completed successfully."
                    },
                    "metadata": {}
                },
                {
                    "output_type": "display_data",
                    "data": {
                        "text/html": "Commands completed successfully."
                    },
                    "metadata": {}
                },
                {
                    "output_type": "display_data",
                    "data": {
                        "text/html": "Commands completed successfully."
                    },
                    "metadata": {}
                },
                {
                    "output_type": "display_data",
                    "data": {
                        "text/html": "Total execution time: 00:00:00.120"
                    },
                    "metadata": {}
                }
            ],
            "execution_count": 22
        },
        {
            "cell_type": "code",
            "source": [
                "SELECT TOP 10 * FROM Warehouse.dbo.DimCustomer"
            ],
            "metadata": {
                "azdata_cell_guid": "46717d07-9fab-4dad-a250-2f1a2b6c5c3c"
            },
            "outputs": [
                {
                    "output_type": "display_data",
                    "data": {
                        "text/html": "(10 rows affected)"
                    },
                    "metadata": {}
                },
                {
                    "output_type": "display_data",
                    "data": {
                        "text/html": "Total execution time: 00:00:00.055"
                    },
                    "metadata": {}
                },
                {
                    "output_type": "execute_result",
                    "execution_count": 13,
                    "data": {
                        "application/vnd.dataresource+json": {
                            "schema": {
                                "fields": [
                                    {
                                        "name": "CustomerID"
                                    },
                                    {
                                        "name": "CustomerUID"
                                    },
                                    {
                                        "name": "PartyUID"
                                    },
                                    {
                                        "name": "TaxID"
                                    },
                                    {
                                        "name": "EntityType"
                                    },
                                    {
                                        "name": "FederalCategoryDescription"
                                    },
                                    {
                                        "name": "FederalCategoryCode"
                                    },
                                    {
                                        "name": "CustomerNameFull"
                                    },
                                    {
                                        "name": "FirstName"
                                    },
                                    {
                                        "name": "LastName"
                                    },
                                    {
                                        "name": "MiddleName"
                                    },
                                    {
                                        "name": "Title"
                                    },
                                    {
                                        "name": "Suffix"
                                    },
                                    {
                                        "name": "BirthDate"
                                    },
                                    {
                                        "name": "Age"
                                    },
                                    {
                                        "name": "Employer"
                                    },
                                    {
                                        "name": "DeathDate"
                                    },
                                    {
                                        "name": "MothersMaiden"
                                    },
                                    {
                                        "name": "AddressLine1"
                                    },
                                    {
                                        "name": "AddressLine2"
                                    },
                                    {
                                        "name": "City"
                                    },
                                    {
                                        "name": "State"
                                    },
                                    {
                                        "name": "PostalCode"
                                    },
                                    {
                                        "name": "CustomerSince"
                                    },
                                    {
                                        "name": "CreatedOn"
                                    },
                                    {
                                        "name": "LastModified"
                                    },
                                    {
                                        "name": "Deleted"
                                    },
                                    {
                                        "name": "Internal"
                                    },
                                    {
                                        "name": "BranchID"
                                    },
                                    {
                                        "name": "PrimaryChannel"
                                    },
                                    {
                                        "name": "EmailAddress"
                                    },
                                    {
                                        "name": "EmailAllowSolicitation"
                                    },
                                    {
                                        "name": "WoodforestEmployee"
                                    },
                                    {
                                        "name": "AddressUID"
                                    },
                                    {
                                        "name": "WoodforestCreatedOn"
                                    },
                                    {
                                        "name": "W8Expiration"
                                    },
                                    {
                                        "name": "CIFs"
                                    },
                                    {
                                        "name": "Home"
                                    },
                                    {
                                        "name": "Work"
                                    },
                                    {
                                        "name": "Mobile"
                                    },
                                    {
                                        "name": "Fax"
                                    },
                                    {
                                        "name": "StartDate"
                                    },
                                    {
                                        "name": "EndDate"
                                    },
                                    {
                                        "name": "DateLastContact"
                                    },
                                    {
                                        "name": "TaxGroupID"
                                    },
                                    {
                                        "name": "RelationshipBranchID"
                                    },
                                    {
                                        "name": "RelationshipDateKey"
                                    },
                                    {
                                        "name": "RelationshipBusDateKey"
                                    },
                                    {
                                        "name": "RelationshipAccountID"
                                    },
                                    {
                                        "name": "RelationshipBusAccountID"
                                    },
                                    {
                                        "name": "RelationshipBusBranchID"
                                    }
                                ]
                            },
                            "data": [
                                {
                                    "0": "8677547",
                                    "1": "72057594040134473",
                                    "2": "fdef38d3-b865-4dfb-ac6f-621a1871c804",
                                    "3": "600344050",
                                    "4": "Person",
                                    "5": "Individual",
                                    "6": "IND",
                                    "7": "JACQUELINE N SPARKES",
                                    "8": "JACQUELINE",
                                    "9": "SPARKES",
                                    "10": "N",
                                    "11": "NULL",
                                    "12": "NULL",
                                    "13": "1985-07-09 00:00:00.000",
                                    "14": "34",
                                    "15": "WALMART",
                                    "16": "NULL",
                                    "17": "SPARKES",
                                    "18": "506 W. JEFFERSON ST",
                                    "19": "NULL",
                                    "20": "OHIO CITY",
                                    "21": "OH",
                                    "22": "45874",
                                    "23": "NULL",
                                    "24": "2015-07-15 07:59:00.000",
                                    "25": "2019-11-26 03:59:07.420",
                                    "26": "0",
                                    "27": "N",
                                    "28": "810",
                                    "29": "NULL",
                                    "30": "NULL",
                                    "31": "Unknown",
                                    "32": "N",
                                    "33": "72057594040050455",
                                    "34": "2009-11-19 03:19:41.057",
                                    "35": "NULL",
                                    "36": "2747470",
                                    "37": "NULL",
                                    "38": "4192385662",
                                    "39": "4193291004",
                                    "40": "NULL",
                                    "41": "NULL",
                                    "42": "NULL",
                                    "43": "2009-12-22 00:00:00.000",
                                    "44": "8677547",
                                    "45": "NULL",
                                    "46": "NULL",
                                    "47": "NULL",
                                    "48": "NULL",
                                    "49": "NULL",
                                    "50": "NULL"
                                },
                                {
                                    "0": "8677548",
                                    "1": "72057594040436194",
                                    "2": "6857c745-9b21-4681-a5b4-4c6dd38ed2c4",
                                    "3": "499743220",
                                    "4": "Person",
                                    "5": "Individual",
                                    "6": "IND",
                                    "7": "RONALD F THOMAS",
                                    "8": "RONALD",
                                    "9": "THOMAS",
                                    "10": "F",
                                    "11": "NULL",
                                    "12": "NULL",
                                    "13": "1971-05-05 00:00:00.000",
                                    "14": "48",
                                    "15": "CROWN FOOD MART",
                                    "16": "NULL",
                                    "17": "THOMAS",
                                    "18": "1721 N 50TH STREET",
                                    "19": "NULL",
                                    "20": "WASHINGTON PARK",
                                    "21": "IL",
                                    "22": "62204",
                                    "23": "NULL",
                                    "24": "2015-07-15 07:59:00.000",
                                    "25": "2019-11-26 03:59:07.420",
                                    "26": "0",
                                    "27": "N",
                                    "28": "504",
                                    "29": "NULL",
                                    "30": "NULL",
                                    "31": "Unknown",
                                    "32": "N",
                                    "33": "72057594040369570",
                                    "34": "2010-05-06 01:56:23.287",
                                    "35": "NULL",
                                    "36": "2942969",
                                    "37": "6186706817",
                                    "38": "3145314528",
                                    "39": "6185678241",
                                    "40": "NULL",
                                    "41": "NULL",
                                    "42": "NULL",
                                    "43": "2010-10-12 00:00:00.000",
                                    "44": "8677548",
                                    "45": "NULL",
                                    "46": "NULL",
                                    "47": "NULL",
                                    "48": "NULL",
                                    "49": "NULL",
                                    "50": "NULL"
                                },
                                {
                                    "0": "8677549",
                                    "1": "72057594041330775",
                                    "2": "34048928-fb22-4283-91ff-90579d0c3c56",
                                    "3": "624585050",
                                    "4": "Person",
                                    "5": "Individual",
                                    "6": "IND",
                                    "7": "SAMANTHA R BRIGGS",
                                    "8": "SAMANTHA",
                                    "9": "BRIGGS",
                                    "10": "R",
                                    "11": "NULL",
                                    "12": "NULL",
                                    "13": "1991-08-21 00:00:00.000",
                                    "14": "28",
                                    "15": "TOYS-R-US",
                                    "16": "NULL",
                                    "17": "WEBB",
                                    "18": "708 EDGEWOOD CT",
                                    "19": "NULL",
                                    "20": "STOCKBRIDGE",
                                    "21": "GA",
                                    "22": "30281-5890",
                                    "23": "NULL",
                                    "24": "2015-08-21 07:01:00.000",
                                    "25": "2019-11-26 03:59:07.420",
                                    "26": "0",
                                    "27": "N",
                                    "28": "1084",
                                    "29": "NULL",
                                    "30": "SAMI0821@GMAIL.COM",
                                    "31": "Unknown",
                                    "32": "N",
                                    "33": "72057594041339739",
                                    "34": "2012-07-11 00:16:49.823",
                                    "35": "NULL",
                                    "36": "80472226",
                                    "37": "5037052235",
                                    "38": "NULL",
                                    "39": "7702882453",
                                    "40": "NULL",
                                    "41": "NULL",
                                    "42": "NULL",
                                    "43": "2012-07-10 00:00:00.000",
                                    "44": "8677549",
                                    "45": "NULL",
                                    "46": "NULL",
                                    "47": "NULL",
                                    "48": "NULL",
                                    "49": "NULL",
                                    "50": "NULL"
                                },
                                {
                                    "0": "8677550",
                                    "1": "72057594041532275",
                                    "2": "4e51acda-a305-4d15-b7c2-481cb3a930df",
                                    "3": "336628390",
                                    "4": "Person",
                                    "5": "Individual",
                                    "6": "IND",
                                    "7": "ELLISIA L JONES",
                                    "8": "ELLISIA",
                                    "9": "JONES",
                                    "10": "L",
                                    "11": "NULL",
                                    "12": "NULL",
                                    "13": "1971-12-19 00:00:00.000",
                                    "14": "47",
                                    "15": "CHAMPAIGN COUNTY NURSING",
                                    "16": "NULL",
                                    "17": "JONES",
                                    "18": "409 S DODSON DR",
                                    "19": "NULL",
                                    "20": "URBANA",
                                    "21": "IL",
                                    "22": "61802",
                                    "23": "NULL",
                                    "24": "2015-12-19 06:30:00.000",
                                    "25": "2019-11-26 03:59:07.420",
                                    "26": "0",
                                    "27": "N",
                                    "28": "621",
                                    "29": "IVR",
                                    "30": "JONESELLISIA@YAHOO.COM",
                                    "31": "Unknown",
                                    "32": "N",
                                    "33": "72057594041550198",
                                    "34": "2013-01-05 02:03:45.503",
                                    "35": "NULL",
                                    "36": "3662772",
                                    "37": "2175502963",
                                    "38": "2173843714",
                                    "39": "2177667127",
                                    "40": "NULL",
                                    "41": "NULL",
                                    "42": "NULL",
                                    "43": "2013-01-04 00:00:00.000",
                                    "44": "8677550",
                                    "45": "NULL",
                                    "46": "NULL",
                                    "47": "NULL",
                                    "48": "NULL",
                                    "49": "NULL",
                                    "50": "NULL"
                                },
                                {
                                    "0": "8677551",
                                    "1": "72057594042447345",
                                    "2": "c6752570-c219-491b-84d2-a6f7c449653c",
                                    "3": "458592903",
                                    "4": "Person",
                                    "5": "Individual",
                                    "6": "IND",
                                    "7": "DOREEN ROMERO",
                                    "8": "DOREEN",
                                    "9": "ROMERO",
                                    "10": "NULL",
                                    "11": "NULL",
                                    "12": "NULL",
                                    "13": "1973-06-18 00:00:00.000",
                                    "14": "46",
                                    "15": "HOMEMAKER",
                                    "16": "NULL",
                                    "17": "SOLOYA",
                                    "18": "PO BOX 717",
                                    "19": "NULL",
                                    "20": "WILLIS",
                                    "21": "TX",
                                    "22": "77378",
                                    "23": "NULL",
                                    "24": "2015-07-15 07:59:00.000",
                                    "25": "2019-11-26 03:59:07.420",
                                    "26": "0",
                                    "27": "N",
                                    "28": "20",
                                    "29": "NULL",
                                    "30": "NULL",
                                    "31": "Unknown",
                                    "32": "N",
                                    "33": "72057594042495880",
                                    "34": "2015-03-07 00:44:55.287",
                                    "35": "NULL",
                                    "36": "4262173",
                                    "37": "NULL",
                                    "38": "NULL",
                                    "39": "9368288377",
                                    "40": "NULL",
                                    "41": "NULL",
                                    "42": "NULL",
                                    "43": "2019-11-21 00:00:00.000",
                                    "44": "8677551",
                                    "45": "NULL",
                                    "46": "NULL",
                                    "47": "NULL",
                                    "48": "NULL",
                                    "49": "NULL",
                                    "50": "NULL"
                                },
                                {
                                    "0": "8677552",
                                    "1": "72057594038019367",
                                    "2": "303e6600-f554-4ca7-96a6-3f2af1b58355",
                                    "3": "413392723",
                                    "4": "Person",
                                    "5": "Individual",
                                    "6": "IND",
                                    "7": "NEAL B TOMLINSON",
                                    "8": "NEAL",
                                    "9": "TOMLINSON",
                                    "10": "B",
                                    "11": "NULL",
                                    "12": "NULL",
                                    "13": "1975-06-19 00:00:00.000",
                                    "14": "44",
                                    "15": "SPARKS BARLOW BARNETT",
                                    "16": "NULL",
                                    "17": "NEAL",
                                    "18": "12130 SPRING GROOVE",
                                    "19": "NULL",
                                    "20": "HOUSTON",
                                    "21": "TX",
                                    "22": "77099",
                                    "23": "NULL",
                                    "24": "2015-07-15 07:59:00.000",
                                    "25": "2019-11-26 03:59:07.420",
                                    "26": "0",
                                    "27": "N",
                                    "28": "105",
                                    "29": "NULL",
                                    "30": "NULL",
                                    "31": "Unknown",
                                    "32": "N",
                                    "33": "72057594038001635",
                                    "34": "2006-09-05 11:43:25.737",
                                    "35": "NULL",
                                    "36": "1140229",
                                    "37": "2817760624",
                                    "38": "7139659996",
                                    "39": "NULL",
                                    "40": "NULL",
                                    "41": "NULL",
                                    "42": "NULL",
                                    "43": "2005-07-22 00:00:00.000",
                                    "44": "8677552",
                                    "45": "NULL",
                                    "46": "NULL",
                                    "47": "NULL",
                                    "48": "NULL",
                                    "49": "NULL",
                                    "50": "NULL"
                                },
                                {
                                    "0": "8677553",
                                    "1": "72057594040056925",
                                    "2": "5594dfa7-f86f-4169-ae40-bc33a84fe757",
                                    "3": "355469109",
                                    "4": "Person",
                                    "5": "Individual",
                                    "6": "IND",
                                    "7": "MARCELLA C BUCKLEY",
                                    "8": "MARCELLA",
                                    "9": "BUCKLEY",
                                    "10": "C",
                                    "11": "NULL",
                                    "12": "NULL",
                                    "13": "1952-10-09 00:00:00.000",
                                    "14": "67",
                                    "15": "RETIRED",
                                    "16": "NULL",
                                    "17": "TOWNSEND",
                                    "18": "301 MARLA KAY DR",
                                    "19": "NULL",
                                    "20": "SWANSEA",
                                    "21": "IL",
                                    "22": "62226",
                                    "23": "NULL",
                                    "24": "2015-10-09 07:01:00.000",
                                    "25": "2019-11-26 03:59:07.420",
                                    "26": "0",
                                    "27": "N",
                                    "28": "504",
                                    "29": "NULL",
                                    "30": "NULL",
                                    "31": "Unknown",
                                    "32": "N",
                                    "33": "72057594039967829",
                                    "34": "2009-10-04 00:42:33.327",
                                    "35": "NULL",
                                    "36": "2694829",
                                    "37": "6182770439",
                                    "38": "NULL",
                                    "39": "6184776933",
                                    "40": "NULL",
                                    "41": "NULL",
                                    "42": "NULL",
                                    "43": "2009-10-29 00:00:00.000",
                                    "44": "8677553",
                                    "45": "NULL",
                                    "46": "NULL",
                                    "47": "NULL",
                                    "48": "NULL",
                                    "49": "NULL",
                                    "50": "NULL"
                                },
                                {
                                    "0": "8677554",
                                    "1": "72057594038789201",
                                    "2": "311d5566-9456-48ea-9107-ec974ea9800c",
                                    "3": "243173400",
                                    "4": "Person",
                                    "5": "Individual",
                                    "6": "IND",
                                    "7": "CONNIE T LORD",
                                    "8": "CONNIE",
                                    "9": "LORD",
                                    "10": "T",
                                    "11": "NULL",
                                    "12": "NULL",
                                    "13": "1963-10-06 00:00:00.000",
                                    "14": "56",
                                    "15": "BUTTERBALL",
                                    "16": "NULL",
                                    "17": "BLACKWELDER",
                                    "18": "104 EMMANUEL PL",
                                    "19": "NULL",
                                    "20": "DUDLEY",
                                    "21": "NC",
                                    "22": "28333",
                                    "23": "NULL",
                                    "24": "2015-10-06 07:02:00.000",
                                    "25": "2019-11-26 03:59:07.420",
                                    "26": "0",
                                    "27": "N",
                                    "28": "245",
                                    "29": "Teller",
                                    "30": "CL10061963@YAHOO.COM",
                                    "31": "Unknown",
                                    "32": "N",
                                    "33": "72057594038599618",
                                    "34": "2007-05-08 05:07:59.997",
                                    "35": "NULL",
                                    "36": "1746233",
                                    "37": "9192520776",
                                    "38": "9196583635",
                                    "39": "9192520776",
                                    "40": "NULL",
                                    "41": "NULL",
                                    "42": "NULL",
                                    "43": "2016-03-17 00:00:00.000",
                                    "44": "8677554",
                                    "45": "NULL",
                                    "46": "NULL",
                                    "47": "NULL",
                                    "48": "NULL",
                                    "49": "NULL",
                                    "50": "NULL"
                                },
                                {
                                    "0": "8677555",
                                    "1": "72057594039967313",
                                    "2": "45fdf4b1-55ee-4d39-8d6a-c5404f0fccc2",
                                    "3": "549376992",
                                    "4": "Person",
                                    "5": "Individual",
                                    "6": "IND",
                                    "7": "ROSALIND DODSON",
                                    "8": "ROSALIND",
                                    "9": "DODSON",
                                    "10": "NULL",
                                    "11": "NULL",
                                    "12": "NULL",
                                    "13": "1965-07-12 00:00:00.000",
                                    "14": "54",
                                    "15": "ALL STATE",
                                    "16": "NULL",
                                    "17": "HASKIN",
                                    "18": "APT 3094",
                                    "19": "2924 W ROYAL LN",
                                    "20": "IRVING",
                                    "21": "TX",
                                    "22": "75063",
                                    "23": "NULL",
                                    "24": "2015-07-15 07:59:00.000",
                                    "25": "2019-11-26 03:59:07.420",
                                    "26": "0",
                                    "27": "N",
                                    "28": "79",
                                    "29": "NULL",
                                    "30": "rosdod1@hotmail.com",
                                    "31": "Unknown",
                                    "32": "N",
                                    "33": "72057594039873589",
                                    "34": "2009-08-17 01:02:10.497",
                                    "35": "NULL",
                                    "36": "2632785",
                                    "37": "9724449854",
                                    "38": "9729155000",
                                    "39": "2142023986",
                                    "40": "NULL",
                                    "41": "NULL",
                                    "42": "NULL",
                                    "43": "2010-04-20 00:00:00.000",
                                    "44": "8677555",
                                    "45": "NULL",
                                    "46": "NULL",
                                    "47": "NULL",
                                    "48": "NULL",
                                    "49": "NULL",
                                    "50": "NULL"
                                },
                                {
                                    "0": "8677556",
                                    "1": "72057594041481729",
                                    "2": "fc2165e1-f2b9-4fac-b8bb-cd82ff05de96",
                                    "3": "221421559",
                                    "4": "Person",
                                    "5": "Individual",
                                    "6": "IND",
                                    "7": "RAYMOND MATTHEW TURNER JR",
                                    "8": "RAYMOND",
                                    "9": "TURNER",
                                    "10": "MATTHEW",
                                    "11": "NULL",
                                    "12": "JR",
                                    "13": "1956-05-22 00:00:00.000",
                                    "14": "63",
                                    "15": "WALMART",
                                    "16": "NULL",
                                    "17": "DENNIS",
                                    "18": "32086 FLOWER HILL CHURCH RD",
                                    "19": "NULL",
                                    "20": "EDEN",
                                    "21": "MD",
                                    "22": "21822",
                                    "23": "NULL",
                                    "24": "2015-07-15 07:59:00.000",
                                    "25": "2019-11-26 03:59:07.420",
                                    "26": "0",
                                    "27": "N",
                                    "28": "573",
                                    "29": "IVR",
                                    "30": "raymondturner522522@gmail.com",
                                    "31": "Unknown",
                                    "32": "N",
                                    "33": "72057594041496109",
                                    "34": "2012-11-18 02:21:57.870",
                                    "35": "NULL",
                                    "36": "3629876",
                                    "37": "4108600648",
                                    "38": "NULL",
                                    "39": "4104220649",
                                    "40": "NULL",
                                    "41": "NULL",
                                    "42": "NULL",
                                    "43": "2019-11-20 00:00:00.000",
                                    "44": "8677556",
                                    "45": "NULL",
                                    "46": "NULL",
                                    "47": "NULL",
                                    "48": "NULL",
                                    "49": "NULL",
                                    "50": "NULL"
                                }
                            ]
                        },
                        "text/html": "<table><tr><th>CustomerID</th><th>CustomerUID</th><th>PartyUID</th><th>TaxID</th><th>EntityType</th><th>FederalCategoryDescription</th><th>FederalCategoryCode</th><th>CustomerNameFull</th><th>FirstName</th><th>LastName</th><th>MiddleName</th><th>Title</th><th>Suffix</th><th>BirthDate</th><th>Age</th><th>Employer</th><th>DeathDate</th><th>MothersMaiden</th><th>AddressLine1</th><th>AddressLine2</th><th>City</th><th>State</th><th>PostalCode</th><th>CustomerSince</th><th>CreatedOn</th><th>LastModified</th><th>Deleted</th><th>Internal</th><th>BranchID</th><th>PrimaryChannel</th><th>EmailAddress</th><th>EmailAllowSolicitation</th><th>WoodforestEmployee</th><th>AddressUID</th><th>WoodforestCreatedOn</th><th>W8Expiration</th><th>CIFs</th><th>Home</th><th>Work</th><th>Mobile</th><th>Fax</th><th>StartDate</th><th>EndDate</th><th>DateLastContact</th><th>TaxGroupID</th><th>RelationshipBranchID</th><th>RelationshipDateKey</th><th>RelationshipBusDateKey</th><th>RelationshipAccountID</th><th>RelationshipBusAccountID</th><th>RelationshipBusBranchID</th></tr><tr><td>8677547</td><td>72057594040134473</td><td>fdef38d3-b865-4dfb-ac6f-621a1871c804</td><td>600344050</td><td>Person</td><td>Individual</td><td>IND</td><td>JACQUELINE N SPARKES</td><td>JACQUELINE</td><td>SPARKES</td><td>N</td><td>NULL</td><td>NULL</td><td>1985-07-09 00:00:00.000</td><td>34</td><td>WALMART</td><td>NULL</td><td>SPARKES</td><td>506 W. JEFFERSON ST</td><td>NULL</td><td>OHIO CITY</td><td>OH</td><td>45874</td><td>NULL</td><td>2015-07-15 07:59:00.000</td><td>2019-11-26 03:59:07.420</td><td>0</td><td>N</td><td>810</td><td>NULL</td><td>NULL</td><td>Unknown</td><td>N</td><td>72057594040050455</td><td>2009-11-19 03:19:41.057</td><td>NULL</td><td>2747470</td><td>NULL</td><td>4192385662</td><td>4193291004</td><td>NULL</td><td>NULL</td><td>NULL</td><td>2009-12-22 00:00:00.000</td><td>8677547</td><td>NULL</td><td>NULL</td><td>NULL</td><td>NULL</td><td>NULL</td><td>NULL</td></tr><tr><td>8677548</td><td>72057594040436194</td><td>6857c745-9b21-4681-a5b4-4c6dd38ed2c4</td><td>499743220</td><td>Person</td><td>Individual</td><td>IND</td><td>RONALD F THOMAS</td><td>RONALD</td><td>THOMAS</td><td>F</td><td>NULL</td><td>NULL</td><td>1971-05-05 00:00:00.000</td><td>48</td><td>CROWN FOOD MART</td><td>NULL</td><td>THOMAS</td><td>1721 N 50TH STREET</td><td>NULL</td><td>WASHINGTON PARK</td><td>IL</td><td>62204</td><td>NULL</td><td>2015-07-15 07:59:00.000</td><td>2019-11-26 03:59:07.420</td><td>0</td><td>N</td><td>504</td><td>NULL</td><td>NULL</td><td>Unknown</td><td>N</td><td>72057594040369570</td><td>2010-05-06 01:56:23.287</td><td>NULL</td><td>2942969</td><td>6186706817</td><td>3145314528</td><td>6185678241</td><td>NULL</td><td>NULL</td><td>NULL</td><td>2010-10-12 00:00:00.000</td><td>8677548</td><td>NULL</td><td>NULL</td><td>NULL</td><td>NULL</td><td>NULL</td><td>NULL</td></tr><tr><td>8677549</td><td>72057594041330775</td><td>34048928-fb22-4283-91ff-90579d0c3c56</td><td>624585050</td><td>Person</td><td>Individual</td><td>IND</td><td>SAMANTHA R BRIGGS</td><td>SAMANTHA</td><td>BRIGGS</td><td>R</td><td>NULL</td><td>NULL</td><td>1991-08-21 00:00:00.000</td><td>28</td><td>TOYS-R-US</td><td>NULL</td><td>WEBB</td><td>708 EDGEWOOD CT</td><td>NULL</td><td>STOCKBRIDGE</td><td>GA</td><td>30281-5890</td><td>NULL</td><td>2015-08-21 07:01:00.000</td><td>2019-11-26 03:59:07.420</td><td>0</td><td>N</td><td>1084</td><td>NULL</td><td>SAMI0821@GMAIL.COM</td><td>Unknown</td><td>N</td><td>72057594041339739</td><td>2012-07-11 00:16:49.823</td><td>NULL</td><td>80472226</td><td>5037052235</td><td>NULL</td><td>7702882453</td><td>NULL</td><td>NULL</td><td>NULL</td><td>2012-07-10 00:00:00.000</td><td>8677549</td><td>NULL</td><td>NULL</td><td>NULL</td><td>NULL</td><td>NULL</td><td>NULL</td></tr><tr><td>8677550</td><td>72057594041532275</td><td>4e51acda-a305-4d15-b7c2-481cb3a930df</td><td>336628390</td><td>Person</td><td>Individual</td><td>IND</td><td>ELLISIA L JONES</td><td>ELLISIA</td><td>JONES</td><td>L</td><td>NULL</td><td>NULL</td><td>1971-12-19 00:00:00.000</td><td>47</td><td>CHAMPAIGN COUNTY NURSING</td><td>NULL</td><td>JONES</td><td>409 S DODSON DR</td><td>NULL</td><td>URBANA</td><td>IL</td><td>61802</td><td>NULL</td><td>2015-12-19 06:30:00.000</td><td>2019-11-26 03:59:07.420</td><td>0</td><td>N</td><td>621</td><td>IVR</td><td>JONESELLISIA@YAHOO.COM</td><td>Unknown</td><td>N</td><td>72057594041550198</td><td>2013-01-05 02:03:45.503</td><td>NULL</td><td>3662772</td><td>2175502963</td><td>2173843714</td><td>2177667127</td><td>NULL</td><td>NULL</td><td>NULL</td><td>2013-01-04 00:00:00.000</td><td>8677550</td><td>NULL</td><td>NULL</td><td>NULL</td><td>NULL</td><td>NULL</td><td>NULL</td></tr><tr><td>8677551</td><td>72057594042447345</td><td>c6752570-c219-491b-84d2-a6f7c449653c</td><td>458592903</td><td>Person</td><td>Individual</td><td>IND</td><td>DOREEN ROMERO</td><td>DOREEN</td><td>ROMERO</td><td>NULL</td><td>NULL</td><td>NULL</td><td>1973-06-18 00:00:00.000</td><td>46</td><td>HOMEMAKER</td><td>NULL</td><td>SOLOYA</td><td>PO BOX 717</td><td>NULL</td><td>WILLIS</td><td>TX</td><td>77378</td><td>NULL</td><td>2015-07-15 07:59:00.000</td><td>2019-11-26 03:59:07.420</td><td>0</td><td>N</td><td>20</td><td>NULL</td><td>NULL</td><td>Unknown</td><td>N</td><td>72057594042495880</td><td>2015-03-07 00:44:55.287</td><td>NULL</td><td>4262173</td><td>NULL</td><td>NULL</td><td>9368288377</td><td>NULL</td><td>NULL</td><td>NULL</td><td>2019-11-21 00:00:00.000</td><td>8677551</td><td>NULL</td><td>NULL</td><td>NULL</td><td>NULL</td><td>NULL</td><td>NULL</td></tr><tr><td>8677552</td><td>72057594038019367</td><td>303e6600-f554-4ca7-96a6-3f2af1b58355</td><td>413392723</td><td>Person</td><td>Individual</td><td>IND</td><td>NEAL B TOMLINSON</td><td>NEAL</td><td>TOMLINSON</td><td>B</td><td>NULL</td><td>NULL</td><td>1975-06-19 00:00:00.000</td><td>44</td><td>SPARKS BARLOW BARNETT</td><td>NULL</td><td>NEAL</td><td>12130 SPRING GROOVE</td><td>NULL</td><td>HOUSTON</td><td>TX</td><td>77099</td><td>NULL</td><td>2015-07-15 07:59:00.000</td><td>2019-11-26 03:59:07.420</td><td>0</td><td>N</td><td>105</td><td>NULL</td><td>NULL</td><td>Unknown</td><td>N</td><td>72057594038001635</td><td>2006-09-05 11:43:25.737</td><td>NULL</td><td>1140229</td><td>2817760624</td><td>7139659996</td><td>NULL</td><td>NULL</td><td>NULL</td><td>NULL</td><td>2005-07-22 00:00:00.000</td><td>8677552</td><td>NULL</td><td>NULL</td><td>NULL</td><td>NULL</td><td>NULL</td><td>NULL</td></tr><tr><td>8677553</td><td>72057594040056925</td><td>5594dfa7-f86f-4169-ae40-bc33a84fe757</td><td>355469109</td><td>Person</td><td>Individual</td><td>IND</td><td>MARCELLA C BUCKLEY</td><td>MARCELLA</td><td>BUCKLEY</td><td>C</td><td>NULL</td><td>NULL</td><td>1952-10-09 00:00:00.000</td><td>67</td><td>RETIRED</td><td>NULL</td><td>TOWNSEND</td><td>301 MARLA KAY DR</td><td>NULL</td><td>SWANSEA</td><td>IL</td><td>62226</td><td>NULL</td><td>2015-10-09 07:01:00.000</td><td>2019-11-26 03:59:07.420</td><td>0</td><td>N</td><td>504</td><td>NULL</td><td>NULL</td><td>Unknown</td><td>N</td><td>72057594039967829</td><td>2009-10-04 00:42:33.327</td><td>NULL</td><td>2694829</td><td>6182770439</td><td>NULL</td><td>6184776933</td><td>NULL</td><td>NULL</td><td>NULL</td><td>2009-10-29 00:00:00.000</td><td>8677553</td><td>NULL</td><td>NULL</td><td>NULL</td><td>NULL</td><td>NULL</td><td>NULL</td></tr><tr><td>8677554</td><td>72057594038789201</td><td>311d5566-9456-48ea-9107-ec974ea9800c</td><td>243173400</td><td>Person</td><td>Individual</td><td>IND</td><td>CONNIE T LORD</td><td>CONNIE</td><td>LORD</td><td>T</td><td>NULL</td><td>NULL</td><td>1963-10-06 00:00:00.000</td><td>56</td><td>BUTTERBALL</td><td>NULL</td><td>BLACKWELDER</td><td>104 EMMANUEL PL</td><td>NULL</td><td>DUDLEY</td><td>NC</td><td>28333</td><td>NULL</td><td>2015-10-06 07:02:00.000</td><td>2019-11-26 03:59:07.420</td><td>0</td><td>N</td><td>245</td><td>Teller</td><td>CL10061963@YAHOO.COM</td><td>Unknown</td><td>N</td><td>72057594038599618</td><td>2007-05-08 05:07:59.997</td><td>NULL</td><td>1746233</td><td>9192520776</td><td>9196583635</td><td>9192520776</td><td>NULL</td><td>NULL</td><td>NULL</td><td>2016-03-17 00:00:00.000</td><td>8677554</td><td>NULL</td><td>NULL</td><td>NULL</td><td>NULL</td><td>NULL</td><td>NULL</td></tr><tr><td>8677555</td><td>72057594039967313</td><td>45fdf4b1-55ee-4d39-8d6a-c5404f0fccc2</td><td>549376992</td><td>Person</td><td>Individual</td><td>IND</td><td>ROSALIND DODSON</td><td>ROSALIND</td><td>DODSON</td><td>NULL</td><td>NULL</td><td>NULL</td><td>1965-07-12 00:00:00.000</td><td>54</td><td>ALL STATE</td><td>NULL</td><td>HASKIN</td><td>APT 3094</td><td>2924 W ROYAL LN</td><td>IRVING</td><td>TX</td><td>75063</td><td>NULL</td><td>2015-07-15 07:59:00.000</td><td>2019-11-26 03:59:07.420</td><td>0</td><td>N</td><td>79</td><td>NULL</td><td>rosdod1@hotmail.com</td><td>Unknown</td><td>N</td><td>72057594039873589</td><td>2009-08-17 01:02:10.497</td><td>NULL</td><td>2632785</td><td>9724449854</td><td>9729155000</td><td>2142023986</td><td>NULL</td><td>NULL</td><td>NULL</td><td>2010-04-20 00:00:00.000</td><td>8677555</td><td>NULL</td><td>NULL</td><td>NULL</td><td>NULL</td><td>NULL</td><td>NULL</td></tr><tr><td>8677556</td><td>72057594041481729</td><td>fc2165e1-f2b9-4fac-b8bb-cd82ff05de96</td><td>221421559</td><td>Person</td><td>Individual</td><td>IND</td><td>RAYMOND MATTHEW TURNER JR</td><td>RAYMOND</td><td>TURNER</td><td>MATTHEW</td><td>NULL</td><td>JR</td><td>1956-05-22 00:00:00.000</td><td>63</td><td>WALMART</td><td>NULL</td><td>DENNIS</td><td>32086 FLOWER HILL CHURCH RD</td><td>NULL</td><td>EDEN</td><td>MD</td><td>21822</td><td>NULL</td><td>2015-07-15 07:59:00.000</td><td>2019-11-26 03:59:07.420</td><td>0</td><td>N</td><td>573</td><td>IVR</td><td>raymondturner522522@gmail.com</td><td>Unknown</td><td>N</td><td>72057594041496109</td><td>2012-11-18 02:21:57.870</td><td>NULL</td><td>3629876</td><td>4108600648</td><td>NULL</td><td>4104220649</td><td>NULL</td><td>NULL</td><td>NULL</td><td>2019-11-20 00:00:00.000</td><td>8677556</td><td>NULL</td><td>NULL</td><td>NULL</td><td>NULL</td><td>NULL</td><td>NULL</td></tr></table>"
                    },
                    "metadata": {}
                }
            ],
            "execution_count": 13
        }
    ]
}